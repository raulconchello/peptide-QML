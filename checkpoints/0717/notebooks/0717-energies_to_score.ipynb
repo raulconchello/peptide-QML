{
 "cells": [
  {
   "cell_type": "code",
   "execution_count": 59,
   "metadata": {},
   "outputs": [],
   "source": [
    "from pennylane import numpy as np"
   ]
  },
  {
   "cell_type": "code",
   "execution_count": 60,
   "metadata": {},
   "outputs": [],
   "source": [
    "type_map = {\n",
    "    'GLY': ['G', 0],\n",
    "    'ILE': ['I', 1],\n",
    "    'LEU': ['L', 2],\n",
    "    'MET': ['M', 3],\n",
    "    'PHE': ['F', 4],\n",
    "    'TRP': ['W', 5],\n",
    "    'TYR': ['Y', 6],\n",
    "    'VAL': ['V', 7],\n",
    "    'ARG': ['R', 8],\n",
    "    'LYS': ['K', 9],\n",
    "    'SER': ['S', 10],\n",
    "    'THR': ['T', 11],\n",
    "    'ASN': ['N', 12],\n",
    "    'GLN': ['Q', 13],\n",
    "    'HIE': ['H', 14],\n",
    "    'ALA': ['A', 15],\n",
    "    'CYS': ['C', 16],\n",
    "    'ASP': ['D', 17],\n",
    "    'GLU': ['E', 18],\n",
    "}\n",
    "code_map = {k: v[1] for k, v in type_map.items()}\n",
    "letter_map = {v[0]: v[1] for v in type_map.values()}"
   ]
  },
  {
   "cell_type": "markdown",
   "metadata": {},
   "source": [
    "# Single Energies"
   ]
  },
  {
   "cell_type": "code",
   "execution_count": 61,
   "metadata": {},
   "outputs": [],
   "source": [
    "# Read the data file\n",
    "with open('../data/energies/Trial/SingleEnergy.txt', 'r') as file:\n",
    "    lines = file.readlines()\n",
    "\n",
    "# Initialize an empty matrix\n",
    "h = np.zeros((12, 19), requires_grad=False)\n",
    "\n",
    "# Process each line in the file\n",
    "residue_idx = -1\n",
    "for line in lines:\n",
    "    if not line.startswith('#########'):\n",
    "        line = line.split()\n",
    "        residue_idx = int(line[1])-1\n",
    "        type_idx = code_map[line[3][-3:]]\n",
    "        value = float(line[-1])\n",
    "        h[residue_idx, type_idx] = value"
   ]
  },
  {
   "cell_type": "code",
   "execution_count": 62,
   "metadata": {},
   "outputs": [
    {
     "data": {
      "text/plain": [
       "tensor([[-4.56610e+01, -2.64410e+01, -4.72160e+01, -4.22150e+01,\n",
       "         -3.30510e+01, -3.24160e+01, -5.35900e+01, -4.82850e+01,\n",
       "         -1.02879e+02, -2.24530e+01, -5.24200e+01, -8.86210e+01,\n",
       "         -1.19555e+02, -1.22282e+02, -5.03670e+01, -2.88470e+01,\n",
       "         -2.03550e+01, -4.79500e+01, -3.52970e+01],\n",
       "        [ 1.74100e+01,  2.02760e+01,  2.50000e+02,  1.40990e+01,\n",
       "          9.39500e+00,  1.30410e+01, -9.11400e+00, -5.44000e-01,\n",
       "         -6.28440e+01,  1.76510e+01,  2.69500e+00, -4.83100e+00,\n",
       "         -5.42180e+01, -4.64050e+01,  5.54600e+00,  2.18190e+01,\n",
       "          2.18350e+01,  3.35290e+01,  3.17800e+01],\n",
       "        [ 1.64590e+01,  1.44050e+01, -1.31400e+00,  1.66750e+01,\n",
       "          1.93940e+01,  2.44280e+01,  3.85600e+00,  2.25000e+00,\n",
       "         -5.40310e+01,  1.94480e+01,  1.47460e+01, -3.90700e+00,\n",
       "         -5.64690e+01, -4.46660e+01,  1.27430e+01,  2.32350e+01,\n",
       "          2.50490e+01,  2.95670e+01,  2.92680e+01],\n",
       "        [ 1.31850e+01,  1.69370e+01,  2.81400e+00,  1.28810e+01,\n",
       "          1.50530e+01,  1.73000e+01, -4.29200e+00, -2.55800e+00,\n",
       "         -5.23290e+01,  2.15580e+01,  1.17230e+01, -8.72500e+00,\n",
       "         -6.03750e+01, -5.36820e+01,  5.11600e+00,  1.83860e+01,\n",
       "          1.85020e+01,  2.14720e+01,  1.81600e+01],\n",
       "        [ 1.47090e+01,  1.72690e+01, -4.69300e+00,  1.68290e+01,\n",
       "          1.71500e+01,  2.23130e+01,  3.77700e+00, -6.00000e-01,\n",
       "         -5.17440e+01,  2.07900e+01,  1.41600e+01, -6.82300e+00,\n",
       "         -5.81550e+01, -4.42390e+01,  9.57700e+00,  2.05290e+01,\n",
       "          2.32440e+01,  2.26190e+01,  2.03830e+01],\n",
       "        [ 1.49250e+01,  1.66820e+01, -2.87800e+00,  1.75950e+01,\n",
       "          2.24560e+01,  2.18380e+01,  2.70900e+00,  1.48900e+00,\n",
       "         -5.83320e+01,  1.78070e+01,  1.53950e+01, -6.86800e+00,\n",
       "         -5.88350e+01, -4.31190e+01,  8.17600e+00,  2.09760e+01,\n",
       "          2.41430e+01,  2.56360e+01,  2.68150e+01],\n",
       "        [ 1.65350e+01,  2.86850e+01,  2.23000e+00,  2.12630e+01,\n",
       "          2.78670e+01,  3.19870e+01,  1.05350e+01,  8.83400e+00,\n",
       "         -3.87690e+01,  3.29080e+01,  1.91160e+01, -1.32200e+00,\n",
       "         -5.51840e+01, -3.66120e+01,  1.67880e+01,  2.81480e+01,\n",
       "          2.98890e+01,  3.09010e+01,  3.02820e+01],\n",
       "        [ 1.34890e+01,  2.03390e+01,  2.50000e+02,  1.08050e+01,\n",
       "          9.70500e+00,  1.20240e+01, -1.11100e+01, -1.62800e+00,\n",
       "         -6.03760e+01,  1.57300e+01,  9.85600e+00, -4.15300e+00,\n",
       "         -6.30320e+01, -5.47440e+01, -2.41700e+00,  1.64160e+01,\n",
       "          1.61410e+01,  2.01110e+01,  2.07780e+01],\n",
       "        [ 1.40800e+01,  2.88770e+01,  5.08500e+00,  1.19060e+01,\n",
       "          1.81770e+01,  3.35400e+01,  1.28689e+02,  1.63000e-01,\n",
       "         -4.67030e+01,  2.50480e+01,  8.80400e+00, -1.13580e+01,\n",
       "         -6.20540e+01, -4.18560e+01,  1.58330e+01,  1.85900e+01,\n",
       "          2.03020e+01,  1.06480e+01,  1.51300e+01],\n",
       "        [ 1.59210e+01,  2.44920e+01,  2.00000e-02,  1.77130e+01,\n",
       "          2.52170e+01,  2.86150e+01,  5.73000e+00,  2.78700e+00,\n",
       "         -4.73220e+01,  2.68450e+01,  1.58950e+01, -1.11000e-01,\n",
       "         -5.60930e+01, -4.13060e+01,  1.16700e+01,  2.29310e+01,\n",
       "          2.82770e+01,  2.55470e+01,  2.28890e+01],\n",
       "        [ 1.78290e+01,  2.40760e+01,  5.27000e+00,  1.93990e+01,\n",
       "          2.49150e+01,  2.84960e+01,  1.50480e+01,  9.08500e+00,\n",
       "         -3.86780e+01,  3.00760e+01,  1.92930e+01,  8.41700e+00,\n",
       "         -5.06360e+01, -3.72530e+01,  1.80770e+01,  2.79470e+01,\n",
       "          3.12580e+01,  1.96450e+01,  3.57730e+01],\n",
       "        [-1.20970e+01, -1.20500e+01, -2.81100e+01, -9.02500e+00,\n",
       "          3.84700e+00,  5.97700e+00, -1.73580e+01, -3.46160e+01,\n",
       "         -1.04967e+02, -1.10280e+01, -1.34040e+01, -3.01640e+01,\n",
       "         -6.40000e+01, -5.02010e+01, -1.25500e+01,  8.01400e+00,\n",
       "          3.77400e+00,  3.15890e+01,  9.22000e+00]], requires_grad=False)"
      ]
     },
     "execution_count": 62,
     "metadata": {},
     "output_type": "execute_result"
    }
   ],
   "source": [
    "h"
   ]
  },
  {
   "cell_type": "markdown",
   "metadata": {},
   "source": [
    "# Pairwise Energies"
   ]
  },
  {
   "cell_type": "code",
   "execution_count": 63,
   "metadata": {},
   "outputs": [],
   "source": [
    "# Read the data file\n",
    "with open('../data/energies/Trial/PairwiseEnergy.txt', 'r') as file:\n",
    "    lines = file.readlines()\n",
    "\n",
    "# Initialize an empty matrix\n",
    "J = np.zeros((12, 12, 19, 19), requires_grad=False)\n",
    "\n",
    "# Process each line in the file\n",
    "residue_idx = -1\n",
    "for line in lines:\n",
    "    if not line.startswith('#########'):\n",
    "\n",
    "        line = line.split()\n",
    "\n",
    "        residue_1_idx = int(line[1])-1\n",
    "        residue_2_idx = int(line[5])-1\n",
    "        type_1_idx = code_map[line[3][-3:]]\n",
    "        type_2_idx = code_map[line[7][-3:]]\n",
    "        value = float(line[-1])\n",
    "        J[residue_1_idx, residue_2_idx, type_1_idx, type_2_idx] = value"
   ]
  },
  {
   "cell_type": "code",
   "execution_count": 64,
   "metadata": {},
   "outputs": [
    {
     "data": {
      "text/plain": [
       "tensor(-16.584, requires_grad=False)"
      ]
     },
     "execution_count": 64,
     "metadata": {},
     "output_type": "execute_result"
    }
   ],
   "source": [
    "J[0,1,1,5]"
   ]
  },
  {
   "cell_type": "markdown",
   "metadata": {},
   "source": [
    "# String to Energy"
   ]
  },
  {
   "cell_type": "code",
   "execution_count": 80,
   "metadata": {},
   "outputs": [
    {
     "data": {
      "text/plain": [
       "26.677"
      ]
     },
     "execution_count": 80,
     "metadata": {},
     "output_type": "execute_result"
    }
   ],
   "source": [
    "def string_to_energy(string, h, J):\n",
    "\n",
    "    vector = [letter_map[letter] for letter in string]\n",
    "\n",
    "    energy =    np.sum(h[np.arange(len(vector)), vector]) + \\\n",
    "                np.sum([J[i, j, vector[i], vector[j]] for i in range(len(vector)) for j in range(len(vector))])\n",
    "\n",
    "    return energy.item()\n",
    "\n",
    "\n",
    "string_to_energy('WVCAIMAIRGRV', h, J)\n"
   ]
  },
  {
   "cell_type": "code",
   "execution_count": null,
   "metadata": {},
   "outputs": [],
   "source": []
  }
 ],
 "metadata": {
  "kernelspec": {
   "display_name": "PennyLane",
   "language": "python",
   "name": "python3"
  },
  "language_info": {
   "codemirror_mode": {
    "name": "ipython",
    "version": 3
   },
   "file_extension": ".py",
   "mimetype": "text/x-python",
   "name": "python",
   "nbconvert_exporter": "python",
   "pygments_lexer": "ipython3",
   "version": "3.10.12"
  },
  "orig_nbformat": 4
 },
 "nbformat": 4,
 "nbformat_minor": 2
}
