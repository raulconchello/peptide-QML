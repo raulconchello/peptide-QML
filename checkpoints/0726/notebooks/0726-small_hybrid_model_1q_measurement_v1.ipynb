{
 "cells": [
  {
   "cell_type": "code",
   "execution_count": 1,
   "metadata": {},
   "outputs": [
    {
     "ename": "KeyboardInterrupt",
     "evalue": "",
     "output_type": "error",
     "traceback": [
      "\u001b[1;31m---------------------------------------------------------------------------\u001b[0m",
      "\u001b[1;31mKeyboardInterrupt\u001b[0m                         Traceback (most recent call last)",
      "Cell \u001b[1;32mIn[1], line 1\u001b[0m\n\u001b[1;32m----> 1\u001b[0m \u001b[39mimport\u001b[39;00m \u001b[39mtorch\u001b[39;00m\n\u001b[0;32m      2\u001b[0m \u001b[39mimport\u001b[39;00m \u001b[39mtorch\u001b[39;00m\u001b[39m.\u001b[39;00m\u001b[39mnn\u001b[39;00m \u001b[39mas\u001b[39;00m \u001b[39mnn\u001b[39;00m\n\u001b[0;32m      3\u001b[0m \u001b[39mimport\u001b[39;00m \u001b[39mtorch\u001b[39;00m\u001b[39m.\u001b[39;00m\u001b[39moptim\u001b[39;00m \u001b[39mas\u001b[39;00m \u001b[39moptim\u001b[39;00m\n",
      "File \u001b[1;32md:\\Raul\\Programs\\envs\\PennyLane\\lib\\site-packages\\torch\\__init__.py:117\u001b[0m\n\u001b[0;32m    115\u001b[0m is_loaded \u001b[39m=\u001b[39m \u001b[39mFalse\u001b[39;00m\n\u001b[0;32m    116\u001b[0m \u001b[39mif\u001b[39;00m with_load_library_flags:\n\u001b[1;32m--> 117\u001b[0m     res \u001b[39m=\u001b[39m kernel32\u001b[39m.\u001b[39;49mLoadLibraryExW(dll, \u001b[39mNone\u001b[39;49;00m, \u001b[39m0x00001100\u001b[39;49m)\n\u001b[0;32m    118\u001b[0m     last_error \u001b[39m=\u001b[39m ctypes\u001b[39m.\u001b[39mget_last_error()\n\u001b[0;32m    119\u001b[0m     \u001b[39mif\u001b[39;00m res \u001b[39mis\u001b[39;00m \u001b[39mNone\u001b[39;00m \u001b[39mand\u001b[39;00m last_error \u001b[39m!=\u001b[39m \u001b[39m126\u001b[39m:\n",
      "\u001b[1;31mKeyboardInterrupt\u001b[0m: "
     ]
    }
   ],
   "source": [
    "import torch\n",
    "import torch.nn as nn\n",
    "import torch.optim as optim"
   ]
  },
  {
   "cell_type": "code",
   "execution_count": null,
   "metadata": {},
   "outputs": [],
   "source": [
    "import numpy as np"
   ]
  },
  {
   "cell_type": "code",
   "execution_count": null,
   "metadata": {},
   "outputs": [],
   "source": [
    "import sys\n",
    "sys.path.append('..')\n",
    "\n",
    "from my_code import functions as f"
   ]
  },
  {
   "cell_type": "markdown",
   "metadata": {},
   "source": [
    "# Data"
   ]
  },
  {
   "cell_type": "code",
   "execution_count": null,
   "metadata": {},
   "outputs": [],
   "source": [
    "file_path = '../data/energies/Trial/Strings_Energies_4_aa.txt'  # Replace with the actual path to your 'data.txt' file\n",
    "string_list, number_list = f.read_data_file(file_path)\n",
    "score_list = np.array(number_list)/1000\n",
    "vector_list = np.array([f.string_to_vector(string) for string in string_list]) # one hot encoding"
   ]
  },
  {
   "cell_type": "code",
   "execution_count": null,
   "metadata": {},
   "outputs": [],
   "source": [
    "n_aminoacids = len(string_list[0])"
   ]
  },
  {
   "cell_type": "code",
   "execution_count": null,
   "metadata": {},
   "outputs": [],
   "source": [
    "X, Y, X_validation, Y_validation = f.create_validating_set(vector_list, score_list, percentage=0.1)"
   ]
  },
  {
   "cell_type": "code",
   "execution_count": null,
   "metadata": {},
   "outputs": [],
   "source": [
    "X = X.reshape(X.shape[0], X.shape[1]*X.shape[2]) # flatten\n",
    "X_validation = X_validation.reshape(X_validation.shape[0], X_validation.shape[1]*X_validation.shape[2]) # flatten"
   ]
  },
  {
   "cell_type": "code",
   "execution_count": null,
   "metadata": {},
   "outputs": [],
   "source": [
    "# Define the dataset\n",
    "input_data = torch.tensor(X, dtype=torch.float32)\n",
    "target_data = torch.tensor(Y, dtype=torch.float32).view(-1, 1)\n",
    "\n",
    "# Define the validation set\n",
    "input_validation = torch.tensor(X_validation, dtype=torch.float32)\n",
    "target_validation = torch.tensor(Y_validation, dtype=torch.float32).view(-1, 1)"
   ]
  },
  {
   "cell_type": "markdown",
   "metadata": {},
   "source": [
    "# Quantum node"
   ]
  },
  {
   "cell_type": "code",
   "execution_count": null,
   "metadata": {},
   "outputs": [],
   "source": [
    "import pennylane as qml"
   ]
  },
  {
   "cell_type": "code",
   "execution_count": null,
   "metadata": {},
   "outputs": [],
   "source": [
    "def qml_RZZ(params, wires):\n",
    "    \"\"\"\n",
    "    RZZ gate.\n",
    "    \"\"\"\n",
    "    qml.CNOT(wires=wires)\n",
    "    qml.RZ(params, wires=wires[1])\n",
    "    qml.CNOT(wires=wires)"
   ]
  },
  {
   "cell_type": "code",
   "execution_count": null,
   "metadata": {},
   "outputs": [],
   "source": [
    "n_qubits = n_aminoacids\n",
    "n_layers_block = 50\n",
    "n_layers_embedding = 3\n",
    "dev = qml.device(\"default.qubit\", wires=n_qubits)\n"
   ]
  },
  {
   "cell_type": "code",
   "execution_count": null,
   "metadata": {},
   "outputs": [],
   "source": [
    "shape_weights_embedding = (n_layers_embedding, n_qubits, 2)\n",
    "shape_weights_block_1 = (n_layers_block, n_qubits, 2)\n",
    "shape_weights_block_2 = (n_layers_block, n_qubits//2, 2)"
   ]
  },
  {
   "cell_type": "code",
   "execution_count": null,
   "metadata": {},
   "outputs": [],
   "source": [
    "# size_weights = np.product(shape_weights_embedding) + np.product(shape_weights_block_1) + np.product(shape_weights_block_2)\n",
    "size_weights = np.product(shape_weights_block_1) + np.product(shape_weights_block_2)"
   ]
  },
  {
   "cell_type": "code",
   "execution_count": null,
   "metadata": {},
   "outputs": [],
   "source": [
    "@qml.qnode(dev)\n",
    "def qnode(inputs, weights):\n",
    "\n",
    "    # weights\n",
    "    # weights_embedding = weights[:np.product(shape_weights_embedding)].reshape(shape_weights_embedding)\n",
    "    # weights_block_1 = weights[np.product(shape_weights_embedding):np.product(shape_weights_embedding)+np.product(shape_weights_block_1)].reshape(shape_weights_block_1)\n",
    "    # weights_block_2 = weights[np.product(shape_weights_embedding)+np.product(shape_weights_block_1):].reshape(shape_weights_block_2)\n",
    "\n",
    "    weights_block_1 = weights[:np.product(shape_weights_block_1)].reshape(shape_weights_block_1)\n",
    "    weights_block_2 = weights[np.product(shape_weights_block_1):].reshape(shape_weights_block_2)\n",
    "\n",
    "    # state preparation (we create an embedding with 3 layers, paper: 2001.03622)\n",
    "    # for i in range(n_layers_embedding):\n",
    "       \n",
    "    #     # angle embedding for each qubit\n",
    "    #     qml.AngleEmbedding(inputs, wires=range(n_qubits))\n",
    "\n",
    "    #     # ZZ rotation for neighboring qubits         \n",
    "    #     for x in range(2):\n",
    "    #         for j in range(x,n_qubits,2): \n",
    "    #             qml_RZZ(weights_embedding[i,j,0], wires=[j, (j+1)%n_qubits])\n",
    "\n",
    "    #     # rotations for each qubit\n",
    "    #     for j in range(n_qubits):\n",
    "    #         qml.RY(weights_embedding[i,j,1], wires=j)\n",
    "\n",
    "    #     # last angle embedding\n",
    "    qml.AngleEmbedding(inputs, wires=range(n_qubits))\n",
    "\n",
    "    #block\n",
    "    for i in range(n_layers_block):\n",
    "        # rotations for each qubit\n",
    "        for j in range(n_qubits):\n",
    "            qml.RY(weights_block_1[i,j,0], wires=j)\n",
    "            qml.RZ(weights_block_1[i,j,1], wires=j)\n",
    "\n",
    "        # ZZ rotation for neighboring qubits         \n",
    "        for j in range(0,n_qubits,2): \n",
    "            qml.CNOT(wires=[j, (j+1)])\n",
    "\n",
    "        # rotations for some qubits\n",
    "        for j, w in enumerate(range(1, n_qubits, 4)): \n",
    "            qml.RY(weights_block_2[i,j,0], wires=w)\n",
    "            qml.RZ(weights_block_2[i,j,1], wires=w)\n",
    "            qml.RY(weights_block_2[i,j+1,0], wires=w+1)\n",
    "            qml.RZ(weights_block_2[i,j+1,1], wires=w+1)\n",
    "            qml.CNOT(wires=[w, (w+1)])\n",
    "\n",
    "    # measurement\n",
    "    return [qml.expval(qml.PauliZ(wires=1))]"
   ]
  },
  {
   "cell_type": "code",
   "execution_count": null,
   "metadata": {},
   "outputs": [
    {
     "data": {
      "image/png": "[encoded data removed]",
      "text/plain": [
       "<Figure size 1600x300 with 1 Axes>"
      ]
     },
     "metadata": {},
     "output_type": "display_data"
    }
   ],
   "source": [
    "qml.drawer.use_style(\"black_white\")\n",
    "fig, ax = qml.draw_mpl(qnode, expansion_strategy=\"device\")([i for i in range(n_qubits)], np.zeros((size_weights,)))\n",
    "fig.set_size_inches((16,3))"
   ]
  },
  {
   "cell_type": "code",
   "execution_count": null,
   "metadata": {},
   "outputs": [],
   "source": [
    "weight_shapes = {\"weights\": (size_weights,)}"
   ]
  },
  {
   "cell_type": "code",
   "execution_count": null,
   "metadata": {},
   "outputs": [],
   "source": [
    "qlayer = qml.qnn.TorchLayer(qnode, weight_shapes)"
   ]
  },
  {
   "cell_type": "markdown",
   "metadata": {},
   "source": [
    "# Hybrid model"
   ]
  },
  {
   "cell_type": "code",
   "execution_count": null,
   "metadata": {},
   "outputs": [],
   "source": [
    "input_dim = input_data.size(1)"
   ]
  },
  {
   "cell_type": "code",
   "execution_count": null,
   "metadata": {},
   "outputs": [],
   "source": [
    "n_pre_classical_layers = 4\n",
    "layers_dim = np.linspace(n_qubits, input_dim, 4).astype(int)"
   ]
  },
  {
   "cell_type": "code",
   "execution_count": null,
   "metadata": {},
   "outputs": [],
   "source": [
    "layers = []\n",
    "for i in range(1, len(layers_dim)):\n",
    "    layers += [nn.Linear(layers_dim[-1*i], layers_dim[-1*(i+1)]), nn.ReLU()]\n",
    "layers += [nn.Linear(layers_dim[0], layers_dim[0])]\n",
    "layers += [qlayer]\n",
    "# layers += [nn.Linear(1, 1)]\n",
    "# layers += [nn.Linear(2, 4), nn.ReLU()]\n",
    "# layers += [nn.Linear(4, 1)]\n",
    "\n",
    "\n",
    "Net = nn.Sequential(*layers)"
   ]
  },
  {
   "cell_type": "code",
   "execution_count": null,
   "metadata": {},
   "outputs": [],
   "source": [
    "# Create an instance of the network\n",
    "model = Net"
   ]
  },
  {
   "cell_type": "code",
   "execution_count": null,
   "metadata": {},
   "outputs": [],
   "source": [
    "import time"
   ]
  },
  {
   "cell_type": "code",
   "execution_count": null,
   "metadata": {},
   "outputs": [
    {
     "name": "stdout",
     "output_type": "stream",
     "text": [
      "Epoch [0/25], Loss: 0.0566, Loss validation: 0.0534\n",
      "Epoch [1/25], Loss: 0.0342, Loss validation: 0.0075, Time remaining: ~1.0h 34.0m 17s\n",
      "Epoch [2/25], Loss: 0.0014, Loss validation: 0.0007, Time remaining: ~1.0h 25.0m 53s\n",
      "Epoch [3/25], Loss: 0.0006, Loss validation: 0.0004, Time remaining: ~1.0h 22.0m 11s\n",
      "Epoch [4/25], Loss: 0.0010, Loss validation: 0.0013, Time remaining: ~1.0h 18.0m 6s\n",
      "Epoch [5/25], Loss: 0.0005, Loss validation: 0.0002, Time remaining: ~1.0h 17.0m 41s\n",
      "Epoch [6/25], Loss: 0.1093, Loss validation: 0.0875, Time remaining: ~1.0h 15.0m 40s\n",
      "Epoch [7/25], Loss: 0.1495, Loss validation: 0.2737, Time remaining: ~1.0h 14.0m 45s\n",
      "Epoch [8/25], Loss: 0.1105, Loss validation: 0.0887, Time remaining: ~1.0h 11.0m 59s\n",
      "Epoch [9/25], Loss: 0.0988, Loss validation: 0.1012, Time remaining: ~1.0h 7.0m 29s\n",
      "Epoch [10/25], Loss: 0.1000, Loss validation: 0.0730, Time remaining: ~1.0h 3.0m 4s\n",
      "Epoch [11/25], Loss: 0.0987, Loss validation: 0.0956, Time remaining: ~0.0h 59.0m 1s\n",
      "Epoch [12/25], Loss: 0.1029, Loss validation: 0.1117, Time remaining: ~0.0h 55.0m 37s\n",
      "Epoch [13/25], Loss: 0.1063, Loss validation: 0.1059, Time remaining: ~0.0h 51.0m 26s\n",
      "Epoch [14/25], Loss: 0.1044, Loss validation: 0.0893, Time remaining: ~0.0h 47.0m 6s\n",
      "Epoch [15/25], Loss: 0.1068, Loss validation: 0.1098, Time remaining: ~0.0h 42.0m 48s\n",
      "Epoch [16/25], Loss: 0.1063, Loss validation: 0.1074, Time remaining: ~0.0h 38.0m 30s\n",
      "Epoch [17/25], Loss: 0.1068, Loss validation: 0.1097, Time remaining: ~0.0h 34.0m 13s\n",
      "Epoch [18/25], Loss: 0.1100, Loss validation: 0.0957, Time remaining: ~0.0h 29.0m 55s\n",
      "Epoch [19/25], Loss: 0.1094, Loss validation: 0.1178, Time remaining: ~0.0h 25.0m 39s\n",
      "Epoch [20/25], Loss: 0.1091, Loss validation: 0.1079, Time remaining: ~0.0h 21.0m 22s\n",
      "Epoch [21/25], Loss: 0.1082, Loss validation: 0.1107, Time remaining: ~0.0h 17.0m 5s\n",
      "Epoch [22/25], Loss: 0.1070, Loss validation: 0.1249, Time remaining: ~0.0h 12.0m 48s\n",
      "Epoch [23/25], Loss: 0.1078, Loss validation: 0.0889, Time remaining: ~0.0h 8.0m 32s\n",
      "Epoch [24/25], Loss: 0.1077, Loss validation: 0.1345, Time remaining: ~0.0h 4.0m 16s\n",
      "Epoch [25/25], Loss: 0.1053, Loss validation: 0.1106, Time remaining: ~0.0h 0.0m 0s\n"
     ]
    }
   ],
   "source": [
    "# time\n",
    "start_time = time.time()\n",
    "\n",
    "\n",
    "# Define the loss function and optimizer\n",
    "criterion = nn.MSELoss()  # Mean Squared Error loss\n",
    "optimizer = optim.Adam(model.parameters(), lr=0.05)  # Adam optimizer with learning rate 0.001\n",
    "# optimizer = optim.SGD(model.parameters(), lr=0.05)\n",
    "\n",
    "# Training loop\n",
    "num_epochs = 25\n",
    "batch_size = 32\n",
    "\n",
    "#validation data\n",
    "i_validation = input_validation[::10] #we take only 10% of the validation data, to speed up the process\n",
    "t_validation = target_validation[::10] \n",
    "\n",
    "losses = []\n",
    "losses_epochs = [0]\n",
    "losses_epochs_validation = [0]\n",
    "\n",
    "losses_epochs[-1] = criterion(model(input_data), target_data).item()\n",
    "losses_epochs_validation[-1] = criterion(model(i_validation), t_validation).item()\n",
    "print('Epoch [{}/{}], Loss: {:.4f}, Loss validation: {:.4f}'.format(0, num_epochs, losses_epochs[-1], losses_epochs_validation[-1]))\n",
    "\n",
    "for epoch in range(num_epochs):\n",
    "    # Shuffle the dataset\n",
    "    indices = torch.randperm(input_data.size(0))\n",
    "    input_data = input_data[indices]\n",
    "    target_data = target_data[indices]\n",
    "\n",
    "    losses_epochs.append(0)\n",
    "\n",
    "    # Mini-batch training\n",
    "    for i in range(0, input_data.size(0), batch_size):\n",
    "        inputs = input_data[i:i+batch_size]\n",
    "        targets = target_data[i:i+batch_size]\n",
    "\n",
    "        # Forward pass\n",
    "        outputs = model(inputs)\n",
    "\n",
    "        # Compute the loss\n",
    "        loss = criterion(outputs, targets)\n",
    "\n",
    "        # Backward pass and optimization\n",
    "        optimizer.zero_grad()\n",
    "        loss.backward()\n",
    "        optimizer.step()\n",
    "\n",
    "        # Store the loss\n",
    "        losses.append(loss.item())\n",
    "\n",
    "        print('- Epoch [{}/{}], i: [{}/{}], Loss: {:.4f}'.format(epoch+1, num_epochs, i, input_data.size(0), loss.item()), end='\\r')\n",
    "\n",
    "        # add to the epoch loss\n",
    "        losses_epochs[-1] += loss.item() \n",
    "\n",
    "    # divide the epoch loss by the number of batches, to get the average loss\n",
    "    losses_epochs[-1] /= (input_data.size(0)/batch_size)\n",
    "\n",
    "    # Validation\n",
    "    losses_epochs_validation.append(criterion(model(i_validation), t_validation).item())    \n",
    "\n",
    "    # time\n",
    "    # Compute elapsed time and remaining time\n",
    "    elapsed_time = time.time() - start_time\n",
    "    avg_time_per_epoch = elapsed_time / (epoch + 1)\n",
    "    remaining_epochs = num_epochs - (epoch + 1)\n",
    "    estimated_remaining_time = avg_time_per_epoch * remaining_epochs\n",
    "\n",
    "    # Convert remaining time to hours, minutes, and seconds for better readability\n",
    "    hours, remainder = divmod(estimated_remaining_time, 3600)\n",
    "    minutes, seconds = divmod(remainder, 60)\n",
    "\n",
    "    # Print the loss and remaining time for this epoch\n",
    "    print('Epoch [{}/{}], Loss: {:.4f}, Loss validation: {:.4f}, Time remaining: ~{}h {}m {:.0f}s'.format(\n",
    "        epoch+1, num_epochs, losses_epochs[-1], losses_epochs_validation[-1], hours, minutes, seconds))\n"
   ]
  },
  {
   "cell_type": "code",
   "execution_count": null,
   "metadata": {},
   "outputs": [
    {
     "data": {
      "image/png": "[encoded data removed]",
      "text/plain": [
       "<Figure size 640x480 with 1 Axes>"
      ]
     },
     "metadata": {},
     "output_type": "display_data"
    }
   ],
   "source": [
    "#plot the loss\n",
    "import matplotlib.pyplot as plt\n",
    "plt.plot(losses)\n",
    "plt.show()"
   ]
  },
  {
   "cell_type": "code",
   "execution_count": null,
   "metadata": {},
   "outputs": [
    {
     "data": {
      "image/png": "[encoded data removed]",
      "text/plain": [
       "<Figure size 640x480 with 1 Axes>"
      ]
     },
     "metadata": {},
     "output_type": "display_data"
    }
   ],
   "source": [
    "#plot the loss\n",
    "import matplotlib.pyplot as plt\n",
    "plt.plot(losses_epochs)\n",
    "plt.show()"
   ]
  },
  {
   "cell_type": "code",
   "execution_count": null,
   "metadata": {},
   "outputs": [
    {
     "name": "stdout",
     "output_type": "stream",
     "text": [
      "i: 0, \t target: -0.130, \t output: -0.277, \t loss: 0.022\n",
      "i: 1, \t target: -0.043, \t output: 0.149, \t loss: 0.037\n",
      "i: 2, \t target: -0.103, \t output: -0.197, \t loss: 0.009\n",
      "i: 3, \t target: -0.198, \t output: 0.323, \t loss: 0.271\n",
      "i: 4, \t target: -0.074, \t output: -0.182, \t loss: 0.012\n",
      "i: 5, \t target: 0.939, \t output: 0.054, \t loss: 0.784\n",
      "i: 6, \t target: -0.132, \t output: -0.311, \t loss: 0.032\n",
      "i: 7, \t target: -0.154, \t output: -0.321, \t loss: 0.028\n",
      "i: 8, \t target: -0.071, \t output: 0.076, \t loss: 0.022\n",
      "i: 9, \t target: -0.053, \t output: 0.096, \t loss: 0.022\n",
      "i: 10, \t target: -0.185, \t output: 0.256, \t loss: 0.195\n",
      "i: 11, \t target: -0.133, \t output: 0.336, \t loss: 0.220\n",
      "i: 12, \t target: 0.008, \t output: 0.000, \t loss: 0.000\n",
      "i: 13, \t target: -0.054, \t output: -0.249, \t loss: 0.038\n",
      "i: 14, \t target: -0.160, \t output: 0.412, \t loss: 0.327\n",
      "i: 15, \t target: 0.907, \t output: 0.060, \t loss: 0.718\n",
      "i: 16, \t target: -0.208, \t output: 0.024, \t loss: 0.054\n",
      "i: 17, \t target: -0.093, \t output: -0.295, \t loss: 0.041\n",
      "i: 18, \t target: -0.077, \t output: -0.120, \t loss: 0.002\n",
      "i: 19, \t target: -0.065, \t output: 0.246, \t loss: 0.097\n",
      "i: 20, \t target: -0.087, \t output: -0.052, \t loss: 0.001\n",
      "i: 21, \t target: -0.058, \t output: 0.187, \t loss: 0.060\n",
      "i: 22, \t target: -0.199, \t output: 0.010, \t loss: 0.044\n",
      "i: 23, \t target: -0.191, \t output: -0.252, \t loss: 0.004\n",
      "i: 24, \t target: -0.138, \t output: 0.337, \t loss: 0.225\n",
      "i: 25, \t target: -0.263, \t output: 0.100, \t loss: 0.132\n",
      "i: 26, \t target: -0.213, \t output: -0.602, \t loss: 0.151\n",
      "i: 27, \t target: -0.031, \t output: -0.314, \t loss: 0.080\n",
      "i: 28, \t target: -0.098, \t output: 0.296, \t loss: 0.155\n",
      "i: 29, \t target: -0.143, \t output: -0.262, \t loss: 0.014\n",
      "i: 30, \t target: -0.209, \t output: -0.014, \t loss: 0.038\n",
      "i: 31, \t target: -0.048, \t output: -0.322, \t loss: 0.075\n",
      "i: 32, \t target: -0.135, \t output: -0.309, \t loss: 0.030\n",
      "i: 33, \t target: -0.073, \t output: 0.110, \t loss: 0.033\n",
      "i: 34, \t target: -0.079, \t output: -0.080, \t loss: 0.000\n",
      "i: 35, \t target: -0.057, \t output: -0.160, \t loss: 0.011\n",
      "i: 36, \t target: -0.100, \t output: 0.066, \t loss: 0.028\n",
      "i: 37, \t target: -0.099, \t output: -0.109, \t loss: 0.000\n",
      "i: 38, \t target: -0.032, \t output: 0.298, \t loss: 0.109\n",
      "i: 39, \t target: -0.103, \t output: 0.289, \t loss: 0.154\n",
      "i: 40, \t target: -0.094, \t output: -0.045, \t loss: 0.002\n",
      "i: 41, \t target: -0.064, \t output: -0.298, \t loss: 0.055\n",
      "i: 42, \t target: -0.030, \t output: 0.428, \t loss: 0.209\n",
      "i: 43, \t target: 0.058, \t output: 0.020, \t loss: 0.001\n",
      "i: 44, \t target: -0.095, \t output: -0.068, \t loss: 0.001\n",
      "i: 45, \t target: -0.226, \t output: -0.067, \t loss: 0.025\n",
      "i: 46, \t target: -0.055, \t output: 0.176, \t loss: 0.053\n",
      "i: 47, \t target: -0.074, \t output: 0.154, \t loss: 0.052\n",
      "i: 48, \t target: -0.151, \t output: 0.046, \t loss: 0.039\n",
      "i: 49, \t target: -0.036, \t output: 0.373, \t loss: 0.168\n",
      "i: 50, \t target: -0.191, \t output: -0.089, \t loss: 0.011\n",
      "i: 51, \t target: -0.045, \t output: 0.123, \t loss: 0.028\n",
      "i: 52, \t target: -0.142, \t output: 0.452, \t loss: 0.353\n",
      "i: 53, \t target: -0.059, \t output: -0.054, \t loss: 0.000\n",
      "i: 54, \t target: -0.066, \t output: 0.315, \t loss: 0.145\n",
      "i: 55, \t target: -0.110, \t output: -0.129, \t loss: 0.000\n",
      "i: 56, \t target: -0.082, \t output: -0.028, \t loss: 0.003\n",
      "i: 57, \t target: -0.094, \t output: -0.303, \t loss: 0.044\n",
      "i: 58, \t target: -0.055, \t output: 0.228, \t loss: 0.080\n",
      "i: 59, \t target: -0.077, \t output: 0.007, \t loss: 0.007\n",
      "i: 60, \t target: 0.041, \t output: 0.029, \t loss: 0.000\n",
      "i: 61, \t target: -0.077, \t output: -0.108, \t loss: 0.001\n",
      "i: 62, \t target: -0.083, \t output: -0.205, \t loss: 0.015\n",
      "i: 63, \t target: 0.844, \t output: 0.093, \t loss: 0.564\n",
      "i: 64, \t target: -0.247, \t output: 0.062, \t loss: 0.096\n",
      "i: 65, \t target: -0.052, \t output: -0.209, \t loss: 0.025\n",
      "i: 66, \t target: -0.105, \t output: -0.101, \t loss: 0.000\n",
      "i: 67, \t target: -0.035, \t output: -0.032, \t loss: 0.000\n",
      "i: 68, \t target: -0.092, \t output: -0.020, \t loss: 0.005\n",
      "i: 69, \t target: -0.089, \t output: 0.231, \t loss: 0.103\n",
      "i: 70, \t target: -0.113, \t output: 0.186, \t loss: 0.089\n",
      "i: 71, \t target: -0.139, \t output: 0.086, \t loss: 0.051\n",
      "i: 72, \t target: -0.211, \t output: 0.171, \t loss: 0.146\n",
      "i: 73, \t target: -0.121, \t output: -0.101, \t loss: 0.000\n",
      "i: 74, \t target: -0.195, \t output: 0.159, \t loss: 0.125\n",
      "i: 75, \t target: -0.118, \t output: -0.126, \t loss: 0.000\n",
      "i: 76, \t target: -0.050, \t output: -0.118, \t loss: 0.005\n",
      "i: 77, \t target: -0.088, \t output: -0.509, \t loss: 0.177\n",
      "i: 78, \t target: -0.125, \t output: -0.387, \t loss: 0.069\n",
      "i: 79, \t target: 0.942, \t output: 0.013, \t loss: 0.862\n",
      "i: 80, \t target: -0.053, \t output: -0.161, \t loss: 0.012\n",
      "i: 81, \t target: -0.110, \t output: -0.011, \t loss: 0.010\n",
      "i: 82, \t target: -0.251, \t output: 0.057, \t loss: 0.095\n",
      "i: 83, \t target: -0.114, \t output: -0.085, \t loss: 0.001\n",
      "i: 84, \t target: -0.105, \t output: -0.023, \t loss: 0.007\n",
      "i: 85, \t target: -0.049, \t output: -0.166, \t loss: 0.014\n",
      "i: 86, \t target: -0.063, \t output: 0.108, \t loss: 0.029\n",
      "i: 87, \t target: -0.173, \t output: -0.053, \t loss: 0.014\n",
      "i: 88, \t target: -0.129, \t output: -0.276, \t loss: 0.022\n",
      "i: 89, \t target: -0.070, \t output: 0.310, \t loss: 0.144\n",
      "i: 90, \t target: -0.070, \t output: -0.140, \t loss: 0.005\n",
      "i: 91, \t target: -0.164, \t output: -0.208, \t loss: 0.002\n",
      "i: 92, \t target: -0.158, \t output: -0.103, \t loss: 0.003\n",
      "i: 93, \t target: -0.143, \t output: -0.241, \t loss: 0.010\n",
      "i: 94, \t target: -0.060, \t output: -0.098, \t loss: 0.001\n",
      "i: 95, \t target: -0.052, \t output: -0.293, \t loss: 0.058\n",
      "i: 96, \t target: -0.060, \t output: -0.215, \t loss: 0.024\n",
      "i: 97, \t target: -0.102, \t output: -0.224, \t loss: 0.015\n",
      "i: 98, \t target: -0.161, \t output: 0.014, \t loss: 0.030\n",
      "i: 99, \t target: -0.122, \t output: 0.327, \t loss: 0.202\n",
      "i: 100, \t target: -0.126, \t output: -0.107, \t loss: 0.000\n",
      "i: 101, \t target: -0.083, \t output: 0.533, \t loss: 0.379\n",
      "i: 102, \t target: -0.138, \t output: -0.171, \t loss: 0.001\n",
      "i: 103, \t target: 0.042, \t output: -0.345, \t loss: 0.150\n",
      "i: 104, \t target: -0.065, \t output: 0.060, \t loss: 0.016\n",
      "i: 105, \t target: -0.078, \t output: 0.263, \t loss: 0.116\n",
      "i: 106, \t target: -0.034, \t output: 0.460, \t loss: 0.244\n",
      "i: 107, \t target: 0.022, \t output: 0.201, \t loss: 0.032\n",
      "i: 108, \t target: -0.042, \t output: 0.219, \t loss: 0.068\n",
      "i: 109, \t target: -0.102, \t output: 0.154, \t loss: 0.065\n",
      "i: 110, \t target: -0.053, \t output: -0.121, \t loss: 0.005\n",
      "i: 111, \t target: 0.902, \t output: -0.180, \t loss: 1.170\n",
      "i: 112, \t target: -0.105, \t output: 0.223, \t loss: 0.108\n",
      "i: 113, \t target: -0.132, \t output: -0.019, \t loss: 0.013\n",
      "i: 114, \t target: 0.036, \t output: 0.021, \t loss: 0.000\n",
      "i: 115, \t target: -0.010, \t output: 0.214, \t loss: 0.050\n",
      "i: 116, \t target: -0.124, \t output: -0.275, \t loss: 0.023\n",
      "i: 117, \t target: -0.050, \t output: 0.129, \t loss: 0.032\n",
      "i: 118, \t target: -0.047, \t output: -0.107, \t loss: 0.004\n",
      "i: 119, \t target: -0.095, \t output: 0.101, \t loss: 0.038\n",
      "i: 120, \t target: -0.167, \t output: 0.045, \t loss: 0.045\n",
      "i: 121, \t target: -0.061, \t output: 0.241, \t loss: 0.091\n",
      "i: 122, \t target: -0.204, \t output: -0.032, \t loss: 0.030\n",
      "i: 123, \t target: -0.068, \t output: -0.322, \t loss: 0.064\n",
      "i: 124, \t target: -0.080, \t output: 0.124, \t loss: 0.041\n",
      "i: 125, \t target: -0.042, \t output: -0.248, \t loss: 0.043\n",
      "i: 126, \t target: -0.096, \t output: -0.228, \t loss: 0.017\n",
      "i: 127, \t target: -0.117, \t output: 0.261, \t loss: 0.143\n",
      "i: 128, \t target: 0.051, \t output: -0.399, \t loss: 0.202\n",
      "i: 129, \t target: -0.073, \t output: -0.420, \t loss: 0.120\n",
      "i: 130, \t target: -0.061, \t output: 0.242, \t loss: 0.092\n"
     ]
    }
   ],
   "source": [
    "avg_loss = 0\n",
    "for x, (i, t) in enumerate(zip((input_validation), target_validation)):\n",
    "    loss = criterion(model(i), t)\n",
    "    avg_loss += loss/len(target_validation)\n",
    "    print('i: {}, \\t target: {:.3f}, \\t output: {:.3f}, \\t loss: {:.3f}'.format(x, t.item(), model(i).item(), loss))\n",
    "\n",
    "print('Average loss: {:.3f}'.format(avg_loss))"
   ]
  },
  {
   "cell_type": "markdown",
   "metadata": {},
   "source": [
    "# Save the Notebook as a PDF"
   ]
  },
  {
   "cell_type": "code",
   "execution_count": null,
   "metadata": {},
   "outputs": [
    {
     "name": "stdout",
     "output_type": "stream",
     "text": [
      "The file results/0726/0726-small_hybrid_model_1q_measurement_0.pdf already exists\n",
      "Trying to save the file as results/0726/0726-small_hybrid_model_1q_measurement_1.pdf\n"
     ]
    },
    {
     "data": {
      "text/plain": [
       "CompletedProcess(args=['jupyter', 'nbconvert', '--to', 'pdf', '--output', 'results/0726/0726-small_hybrid_model_1q_measurement_1.pdf', '0726-small_hybrid_model_1q_measurement.ipynb'], returncode=0)"
      ]
     },
     "execution_count": 28,
     "metadata": {},
     "output_type": "execute_result"
    }
   ],
   "source": [
    "import subprocess\n",
    "import os\n",
    "\n",
    "name_notebook = \"0726-small_hybrid_model_1q_measurement_v1.ipynb\"  \n",
    "\n",
    "output_filename = \"results/\"+ name_notebook[:4] +\"/\" + name_notebook[:-6] + \"_0.pdf\"\n",
    "\n",
    "#check if the output file already exists\n",
    "while os.path.exists(output_filename):\n",
    "    print(\"The file {} already exists\".format(output_filename))\n",
    "    output_filename = output_filename[:-5] + str(int(output_filename[-5]) + 1) + \".pdf\"\n",
    "    print(\"Trying to save the file as {}\".format(output_filename))\n",
    "    \n",
    "\n",
    "subprocess.run([\"jupyter\", \"nbconvert\", \"--to\", \"pdf\", \"--output\", output_filename, name_notebook])\n",
    "\n",
    "\n"
   ]
  }
 ],
 "metadata": {
  "kernelspec": {
   "display_name": "Default (Python 3.8)",
   "language": "python",
   "name": "default"
  },
  "orig_nbformat": 4
 },
 "nbformat": 4,
 "nbformat_minor": 2
}
