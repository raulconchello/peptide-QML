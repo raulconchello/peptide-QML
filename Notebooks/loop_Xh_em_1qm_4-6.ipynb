{
 "cells": [
  {
   "cell_type": "code",
   "execution_count": 1,
   "metadata": {},
   "outputs": [],
   "source": [
    "initial_path = 'peptide-QML/'\n",
    "# initial_path = '../'"
   ]
  },
  {
   "cell_type": "code",
   "execution_count": 2,
   "metadata": {},
   "outputs": [
    {
     "name": "stderr",
     "output_type": "stream",
     "text": [
      "/usr/lib/python3/dist-packages/requests/__init__.py:89: RequestsDependencyWarning: urllib3 (2.0.4) or chardet (3.0.4) doesn't match a supported version!\n",
      "  warnings.warn(\"urllib3 ({}) or chardet ({}) doesn't match a supported \"\n"
     ]
    }
   ],
   "source": [
    "import numpy as np\n",
    "import sys\n",
    "sys.path.append(initial_path)\n",
    "\n",
    "%load_ext autoreload\n",
    "%autoreload 2\n",
    "from my_code import functions as f\n",
    "from my_code import pytorch_model as ptm\n",
    "from my_code import quantum_nodes as qn\n",
    "from my_code import pytorch_wrappers as pw"
   ]
  },
  {
   "cell_type": "code",
   "execution_count": 3,
   "metadata": {},
   "outputs": [
    {
     "name": "stdout",
     "output_type": "stream",
     "text": [
      "## --- Num:  4  --- ##\n",
      "\n",
      "\n",
      "0  # ------- block_n_layers:  1  ------- #\n",
      "\n",
      "\n",
      "Epoch [0/30], Loss: 2.9967, Loss validation: 3.1829\n",
      "- Epoch [1/30], i: [160/9000], Loss: 2.3378\r"
     ]
    },
    {
     "name": "stderr",
     "output_type": "stream",
     "text": [
      "/usr/lib/python3/dist-packages/torch/autograd/__init__.py:147: UserWarning: CUDA initialization: Unexpected error from cudaGetDeviceCount(). Did you run some cuda functions before calling NumCudaDevices() that might have already set an error? Error 804: forward compatibility was attempted on non supported HW (Triggered internally at  ../c10/cuda/CUDAFunctions.cpp:115.)\n",
      "  Variable._execution_engine.run_backward(\n"
     ]
    },
    {
     "name": "stdout",
     "output_type": "stream",
     "text": [
      "- Epoch [1/30], i: [4896/9000], Loss: 0.8867\r"
     ]
    },
    {
     "ename": "KeyboardInterrupt",
     "evalue": "",
     "output_type": "error",
     "traceback": [
      "\u001b[0;31m---------------------------------------------------------------------------\u001b[0m",
      "\u001b[0;31mKeyboardInterrupt\u001b[0m                         Traceback (most recent call last)",
      "\u001b[0;32m<ipython-input-3-75e18080188e>\u001b[0m in \u001b[0;36m<module>\u001b[0;34m\u001b[0m\n\u001b[1;32m     97\u001b[0m \u001b[0;34m\u001b[0m\u001b[0m\n\u001b[1;32m     98\u001b[0m                 \u001b[0;31m# train the model\u001b[0m\u001b[0;34m\u001b[0m\u001b[0;34m\u001b[0m\u001b[0;34m\u001b[0m\u001b[0m\n\u001b[0;32m---> 99\u001b[0;31m                 model.train(\n\u001b[0m\u001b[1;32m    100\u001b[0m                     \u001b[0moptimizer\u001b[0m\u001b[0;34m=\u001b[0m \u001b[0moptim\u001b[0m\u001b[0;34m.\u001b[0m\u001b[0mAdam\u001b[0m\u001b[0;34m,\u001b[0m\u001b[0;34m\u001b[0m\u001b[0;34m\u001b[0m\u001b[0m\n\u001b[1;32m    101\u001b[0m                     \u001b[0moptimizer_options\u001b[0m\u001b[0;34m=\u001b[0m\u001b[0;34m{\u001b[0m\u001b[0;34m'lr'\u001b[0m\u001b[0;34m:\u001b[0m \u001b[0;36m0.01\u001b[0m\u001b[0;34m}\u001b[0m\u001b[0;34m,\u001b[0m\u001b[0;34m\u001b[0m\u001b[0;34m\u001b[0m\u001b[0m\n",
      "\u001b[0;32m~/peptide-QML/my_code/pytorch_model.py\u001b[0m in \u001b[0;36mtrain\u001b[0;34m(self, loss_function, optimizer, optimizer_options, initialization_options, num_epochs, batch_size, print_batch, validation, n_validation, n_print_validation, time, stop_training_options)\u001b[0m\n\u001b[1;32m    166\u001b[0m                 \u001b[0;31m# Backward pass and optimization\u001b[0m\u001b[0;34m\u001b[0m\u001b[0;34m\u001b[0m\u001b[0;34m\u001b[0m\u001b[0m\n\u001b[1;32m    167\u001b[0m                 \u001b[0moptimizer\u001b[0m\u001b[0;34m.\u001b[0m\u001b[0mzero_grad\u001b[0m\u001b[0;34m(\u001b[0m\u001b[0;34m)\u001b[0m\u001b[0;34m\u001b[0m\u001b[0;34m\u001b[0m\u001b[0m\n\u001b[0;32m--> 168\u001b[0;31m                 \u001b[0mloss\u001b[0m\u001b[0;34m.\u001b[0m\u001b[0mbackward\u001b[0m\u001b[0;34m(\u001b[0m\u001b[0;34m)\u001b[0m\u001b[0;34m\u001b[0m\u001b[0;34m\u001b[0m\u001b[0m\n\u001b[0m\u001b[1;32m    169\u001b[0m                 \u001b[0moptimizer\u001b[0m\u001b[0;34m.\u001b[0m\u001b[0mstep\u001b[0m\u001b[0;34m(\u001b[0m\u001b[0;34m)\u001b[0m\u001b[0;34m\u001b[0m\u001b[0;34m\u001b[0m\u001b[0m\n\u001b[1;32m    170\u001b[0m \u001b[0;34m\u001b[0m\u001b[0m\n",
      "\u001b[0;32m/usr/lib/python3/dist-packages/torch/_tensor.py\u001b[0m in \u001b[0;36mbackward\u001b[0;34m(self, gradient, retain_graph, create_graph, inputs)\u001b[0m\n\u001b[1;32m    253\u001b[0m                 \u001b[0mcreate_graph\u001b[0m\u001b[0;34m=\u001b[0m\u001b[0mcreate_graph\u001b[0m\u001b[0;34m,\u001b[0m\u001b[0;34m\u001b[0m\u001b[0;34m\u001b[0m\u001b[0m\n\u001b[1;32m    254\u001b[0m                 inputs=inputs)\n\u001b[0;32m--> 255\u001b[0;31m         \u001b[0mtorch\u001b[0m\u001b[0;34m.\u001b[0m\u001b[0mautograd\u001b[0m\u001b[0;34m.\u001b[0m\u001b[0mbackward\u001b[0m\u001b[0;34m(\u001b[0m\u001b[0mself\u001b[0m\u001b[0;34m,\u001b[0m \u001b[0mgradient\u001b[0m\u001b[0;34m,\u001b[0m \u001b[0mretain_graph\u001b[0m\u001b[0;34m,\u001b[0m \u001b[0mcreate_graph\u001b[0m\u001b[0;34m,\u001b[0m \u001b[0minputs\u001b[0m\u001b[0;34m=\u001b[0m\u001b[0minputs\u001b[0m\u001b[0;34m)\u001b[0m\u001b[0;34m\u001b[0m\u001b[0;34m\u001b[0m\u001b[0m\n\u001b[0m\u001b[1;32m    256\u001b[0m \u001b[0;34m\u001b[0m\u001b[0m\n\u001b[1;32m    257\u001b[0m     \u001b[0;32mdef\u001b[0m \u001b[0mregister_hook\u001b[0m\u001b[0;34m(\u001b[0m\u001b[0mself\u001b[0m\u001b[0;34m,\u001b[0m \u001b[0mhook\u001b[0m\u001b[0;34m)\u001b[0m\u001b[0;34m:\u001b[0m\u001b[0;34m\u001b[0m\u001b[0;34m\u001b[0m\u001b[0m\n",
      "\u001b[0;32m/usr/lib/python3/dist-packages/torch/autograd/__init__.py\u001b[0m in \u001b[0;36mbackward\u001b[0;34m(tensors, grad_tensors, retain_graph, create_graph, grad_variables, inputs)\u001b[0m\n\u001b[1;32m    145\u001b[0m         \u001b[0mretain_graph\u001b[0m \u001b[0;34m=\u001b[0m \u001b[0mcreate_graph\u001b[0m\u001b[0;34m\u001b[0m\u001b[0;34m\u001b[0m\u001b[0m\n\u001b[1;32m    146\u001b[0m \u001b[0;34m\u001b[0m\u001b[0m\n\u001b[0;32m--> 147\u001b[0;31m     Variable._execution_engine.run_backward(\n\u001b[0m\u001b[1;32m    148\u001b[0m         \u001b[0mtensors\u001b[0m\u001b[0;34m,\u001b[0m \u001b[0mgrad_tensors_\u001b[0m\u001b[0;34m,\u001b[0m \u001b[0mretain_graph\u001b[0m\u001b[0;34m,\u001b[0m \u001b[0mcreate_graph\u001b[0m\u001b[0;34m,\u001b[0m \u001b[0minputs\u001b[0m\u001b[0;34m,\u001b[0m\u001b[0;34m\u001b[0m\u001b[0;34m\u001b[0m\u001b[0m\n\u001b[1;32m    149\u001b[0m         allow_unreachable=True, accumulate_grad=True)  # allow_unreachable flag\n",
      "\u001b[0;31mKeyboardInterrupt\u001b[0m: "
     ]
    }
   ],
   "source": [
    "# for num in [4, 6, 8, 10, 12]:\n",
    "for num in [4, 6]:\n",
    "    print(\"## --- Num: \", num, \" --- ##\")\n",
    "    print(\"\")\n",
    "    print(\"\")\n",
    "\n",
    "    for type_energy in ['', '_Single', '_Pair']:\n",
    "\n",
    "        # -- DATA -- #\n",
    "\n",
    "        # name of the notebook\n",
    "        day = \"0901\"\n",
    "        name_notebook = \"{}-{}h_em_1qm{}.ipynb\".format(day, num, type_energy)\n",
    "        # save the name of the notebook\n",
    "        with open('{}_notebooks_names.txt'.format(day), 'a') as file:\n",
    "            file.write(name_notebook + '\\n')\n",
    "\n",
    "        # load data\n",
    "        data_file_path = '{}data/Scores/PET/generated/bb14_Strings_Energies{}_10_000_{}_aa.txt'.format(initial_path, type_energy, num)  \n",
    "        string_list, number_list = f.read_data_file(data_file_path)\n",
    "        score_list = np.array(number_list)/1000\n",
    "        vector_list = np.array([f.string_to_numbers(string) for string in string_list]) \n",
    "        X, Y, X_validation, Y_validation = f.create_validating_set(vector_list, score_list, percentage=0.1)\n",
    "\n",
    "        # Define the dataset\n",
    "        input_data = ptm.torch.tensor(X) \n",
    "        target_data = ptm.torch.tensor(Y).view(-1, 1)\n",
    "\n",
    "        # Define the validation set\n",
    "        input_validation = ptm.torch.tensor(X_validation)\n",
    "        target_validation = ptm.torch.tensor(Y_validation).view(-1, 1)\n",
    "\n",
    "\n",
    "        # -- TRAINING LOOP -- #\n",
    "        for iii in range(5):\n",
    "\n",
    "            for block_n_layers in range(1, 21, 2):\n",
    "                print(iii, \" # ------- block_n_layers: \", block_n_layers, \" ------- #\")\n",
    "                print(\"\")\n",
    "                print(\"\")\n",
    "\n",
    "                # -- QUANTUM NODE -- #\n",
    "\n",
    "                n_aminoacids = len(string_list[0])\n",
    "\n",
    "                quantum_layer = qn.circuit(\n",
    "                    n_qubits = n_aminoacids, \n",
    "                    device = \"default.qubit.torch\",\n",
    "                    device_options = {'shots': None},\n",
    "                    embedding = qn.parts.AngleEmbedding, \n",
    "                    # embedding_ansatz = qn.parts.Ansatz_11,\n",
    "                    block_ansatz = qn.parts.Ansatz_11,\n",
    "                    final_ansatz = qn.parts.Ansatz_final_11,\n",
    "                    measurement = qn.parts.Measurement('Z', (n_aminoacids-1)//2),\n",
    "                    # embedding_n_layers = 4,\n",
    "                    # different_inputs_per_layer = True,\n",
    "                    block_n_layers = block_n_layers,\n",
    "                    # wrapper_qlayer = pw.QLayerEmpty,\n",
    "                )\n",
    "\n",
    "                # -- HYBRID MODEL -- #\n",
    "                input_dim = input_data.size(1)\n",
    "\n",
    "                n_pre_classical_layers = 4\n",
    "                layers_dim = np.linspace(n_aminoacids, input_dim, 4).astype(int)\n",
    "\n",
    "                import torch.nn as nn\n",
    "                import torch\n",
    "                    \n",
    "                class Reshape(nn.Module):\n",
    "                    def __init__(self):\n",
    "                        super(Reshape, self).__init__()\n",
    "\n",
    "                    def forward(self, x):\n",
    "                        dims = len(x.shape)\n",
    "                        return torch.transpose(x, dims-2, dims-1).reshape(x.shape[-3] if dims==3 else 1, x.shape[-2]*x.shape[-1]).squeeze()\n",
    "\n",
    "                layers =  [ptm.nn.Embedding(num_embeddings=19, embedding_dim=quantum_layer.input_shape[0]//n_aminoacids), Reshape()]\n",
    "                layers += [quantum_layer(), ptm.nn.Linear(1,1)]\n",
    "\n",
    "                # Create model and set data:\n",
    "                model = ptm.pytorch_model(\n",
    "                    layers,    \n",
    "                    save_options = {'initial_path': initial_path, 'name_notebook': name_notebook},\n",
    "                )\n",
    "                model.set_data(\n",
    "                    data_X=input_data, \n",
    "                    data_Y=target_data, \n",
    "                    data_X_validation=input_validation,\n",
    "                    data_Y_validation=target_validation\n",
    "                )\n",
    "                model.keep_track_params=False\n",
    "\n",
    "\n",
    "                # -- TRAINING -- #\n",
    "                import torch.optim as optim\n",
    "\n",
    "                # train the model\n",
    "                model.train(\n",
    "                    optimizer= optim.Adam,\n",
    "                    optimizer_options={'lr': 0.01},\n",
    "                    num_epochs = 30,                \n",
    "                    batch_size = 32,\n",
    "                    stop_training_options = {\n",
    "                        'lookback_epochs': 5, \n",
    "                        'threshold_slope': 0,\n",
    "                        'threshold_std_dev': 0.2\n",
    "                    },\n",
    "                )\n",
    "\n",
    "                # -- SAVE -- #\n",
    "\n",
    "                # dump the object\n",
    "                model.dump()\n",
    "\n",
    "                # save string of the model\n",
    "                model.save_str(\n",
    "                    metadata={\n",
    "                        \"data_file_path\": data_file_path,\n",
    "                        \"Quantum_circuit\": quantum_layer.__str__(),\n",
    "                    }\n",
    "                )\n",
    "\n",
    "                # plot the losses of the trainig loop and save the figures\n",
    "                model.plot_losses(save=True, save_txt=True)\n",
    "\n",
    "                #save all the parameters of the model and the intermediate parameters of the model\n",
    "                model.save_state_dict(intermediate=False)\n",
    "\n",
    "                # plot the validation and save it\n",
    "                model.plot_validation(save=True, fig_size=(9,9), percentatge=1)\n",
    "\n",
    "                # print validation and save it\n",
    "                model.str_validation(save=True, precision=4, percentatge=1, printing=False)"
   ]
  },
  {
   "cell_type": "code",
   "execution_count": null,
   "metadata": {},
   "outputs": [],
   "source": [
    "# push changes to git\n",
    "if initial_path != '../':\n",
    "    !cd peptide-QML && git add . && git commit -m \"data trained model\" && git push"
   ]
  },
  {
   "cell_type": "code",
   "execution_count": null,
   "metadata": {},
   "outputs": [],
   "source": []
  }
 ],
 "metadata": {
  "kernelspec": {
   "display_name": "JL_Pennylane",
   "language": "python",
   "name": "jl_pennylane"
  },
  "language_info": {
   "codemirror_mode": {
    "name": "ipython",
    "version": 3
   },
   "file_extension": ".py",
   "mimetype": "text/x-python",
   "name": "python",
   "nbconvert_exporter": "python",
   "pygments_lexer": "ipython3",
   "version": "3.8.10"
  }
 },
 "nbformat": 4,
 "nbformat_minor": 4
}
