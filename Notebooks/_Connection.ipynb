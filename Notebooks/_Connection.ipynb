{
 "cells": [
  {
   "cell_type": "code",
   "execution_count": 7,
   "metadata": {},
   "outputs": [
    {
     "name": "stdout",
     "output_type": "stream",
     "text": [
      "\u001b[?1h\u001b=\u001b[H\u001b[2J\u001b[mtop - 14:01:04 up 206 days, 22:31,  1 user,  load average: 23.67, 33.31, 28.92\u001b[m\u001b[m\u001b[m\u001b[m\u001b[K\n",
      "Tasks:\u001b[m\u001b[m\u001b[1m 553 \u001b[m\u001b[mtotal,\u001b[m\u001b[m\u001b[1m   1 \u001b[m\u001b[mrunning,\u001b[m\u001b[m\u001b[1m 547 \u001b[m\u001b[msleeping,\u001b[m\u001b[m\u001b[1m   4 \u001b[m\u001b[mstopped,\u001b[m\u001b[m\u001b[1m   1 \u001b[m\u001b[mzombie\u001b[m\u001b[m\u001b[m\u001b[m\u001b[K\n",
      "%Cpu(s):\u001b[m\u001b[m\u001b[1m  0.7 \u001b[m\u001b[mus,\u001b[m\u001b[m\u001b[1m  0.7 \u001b[m\u001b[msy,\u001b[m\u001b[m\u001b[1m  0.0 \u001b[m\u001b[mni,\u001b[m\u001b[m\u001b[1m 98.7 \u001b[m\u001b[mid,\u001b[m\u001b[m\u001b[1m  0.0 \u001b[m\u001b[mwa,\u001b[m\u001b[m\u001b[1m  0.0 \u001b[m\u001b[mhi,\u001b[m\u001b[m\u001b[1m  0.0 \u001b[m\u001b[msi,\u001b[m\u001b[m\u001b[1m  0.0 \u001b[m\u001b[mst\u001b[m\u001b[m\u001b[m\u001b[m\u001b[K\n",
      "MiB Mem :\u001b[m\u001b[m\u001b[1m 257430.5 \u001b[m\u001b[mtotal,\u001b[m\u001b[m\u001b[1m 169805.5 \u001b[m\u001b[mfree,\u001b[m\u001b[m\u001b[1m  86100.8 \u001b[m\u001b[mused,\u001b[m\u001b[m\u001b[1m   1524.1 \u001b[m\u001b[mbuff/cache\u001b[m\u001b[m\u001b[m\u001b[m\u001b[K\n",
      "MiB Swap:\u001b[m\u001b[m\u001b[1m   2048.0 \u001b[m\u001b[mtotal,\u001b[m\u001b[m\u001b[1m    613.1 \u001b[m\u001b[mfree,\u001b[m\u001b[m\u001b[1m   1434.9 \u001b[m\u001b[mused.\u001b[m\u001b[m\u001b[1m 169262.7 \u001b[m\u001b[mavail Mem \u001b[m\u001b[m\u001b[m\u001b[m\u001b[K\n",
      "\u001b[K\n",
      "\u001b[7m    PID USER      PR  NI    VIRT    RES    SHR S  %CPU  %MEM     TIME+ COMMAND  \u001b[m\u001b[m\u001b[K\n",
      "\u001b[m\u001b[1m1719137 raul      20   0    9652   4176   3140 R  11.8   0.0   0:00.03 top      \u001b[m\u001b[m\u001b[K\n",
      "\u001b[m     14 root      20   0       0      0      0 I   5.9   0.0 615:25.45 rcu_sch+ \u001b[m\u001b[m\u001b[K\n",
      "\u001b[m      1 root      20   0  172652  10360   4020 S   0.0   0.0   5:14.68 systemd  \u001b[m\u001b[m\u001b[K\n",
      "\u001b[m      2 root      20   0       0      0      0 S   0.0   0.0   0:02.45 kthreadd \u001b[m\u001b[m\u001b[K\n",
      "\u001b[m      3 root       0 -20       0      0      0 I   0.0   0.0   0:00.00 rcu_gp   \u001b[m\u001b[m\u001b[K\n",
      "\u001b[m      4 root       0 -20       0      0      0 I   0.0   0.0   0:00.00 rcu_par+ \u001b[m\u001b[m\u001b[K\n",
      "\u001b[m      5 root       0 -20       0      0      0 I   0.0   0.0   0:00.00 slub_fl+ \u001b[m\u001b[m\u001b[K\n",
      "\u001b[m      6 root       0 -20       0      0      0 I   0.0   0.0   0:00.00 netns    \u001b[m\u001b[m\u001b[K\n",
      "\u001b[m      8 root       0 -20       0      0      0 I   0.0   0.0   0:00.00 kworker+ \u001b[m\u001b[m\u001b[K\n",
      "\u001b[m     10 root       0 -20       0      0      0 I   0.0   0.0   0:00.00 mm_perc+ \u001b[m\u001b[m\u001b[K\n",
      "\u001b[m     11 root      20   0       0      0      0 S   0.0   0.0   0:00.00 rcu_tas+ \u001b[m\u001b[m\u001b[K\n",
      "\u001b[m     12 root      20   0       0      0      0 S   0.0   0.0   0:00.00 rcu_tas+ \u001b[m\u001b[m\u001b[K\n",
      "\u001b[m     13 root      20   0       0      0      0 S   0.0   0.0   2:46.06 ksoftir+ \u001b[m\u001b[m\u001b[K\n",
      "\u001b[m     15 root      rt   0       0      0      0 S   0.0   0.0   1:15.72 migrati+ \u001b[m\u001b[m\u001b[K\n",
      "\u001b[m     16 root     -51   0       0      0      0 S   0.0   0.0   0:00.00 idle_in+ \u001b[m\u001b[m\u001b[K\n",
      "\u001b[m     18 root      20   0       0      0      0 S   0.0   0.0   0:00.00 cpuhp/0  \u001b[m\u001b[m\u001b[K\n",
      "\u001b[m     19 root      20   0       0      0      0 S   0.0   0.0   0:00.00 cpuhp/1  \u001b[m\u001b[m\u001b[K\u001b[H\u001b[mtop - 14:01:07 up 206 days, 22:31,  1 user,  load average: 21.77, 32.76, 28.76\u001b[m\u001b[m\u001b[m\u001b[m\u001b[K\n",
      "\n",
      "%Cpu(s):\u001b[m\u001b[m\u001b[1m  0.3 \u001b[m\u001b[mus,\u001b[m\u001b[m\u001b[1m  0.3 \u001b[m\u001b[msy,\u001b[m\u001b[m\u001b[1m  0.0 \u001b[m\u001b[mni,\u001b[m\u001b[m\u001b[1m 99.4 \u001b[m\u001b[mid,\u001b[m\u001b[m\u001b[1m  0.0 \u001b[m\u001b[mwa,\u001b[m\u001b[m\u001b[1m  0.0 \u001b[m\u001b[mhi,\u001b[m\u001b[m\u001b[1m  0.0 \u001b[m\u001b[msi,\u001b[m\u001b[m\u001b[1m  0.0 \u001b[m\u001b[mst\u001b[m\u001b[m\u001b[m\u001b[m\u001b[K\n",
      "MiB Mem :\u001b[m\u001b[m\u001b[1m 257430.5 \u001b[m\u001b[mtotal,\u001b[m\u001b[m\u001b[1m 169804.8 \u001b[m\u001b[mfree,\u001b[m\u001b[m\u001b[1m  86101.5 \u001b[m\u001b[mused,\u001b[m\u001b[m\u001b[1m   1524.1 \u001b[m\u001b[mbuff/cache\u001b[m\u001b[m\u001b[m\u001b[m\u001b[K\n",
      "MiB Swap:\u001b[m\u001b[m\u001b[1m   2048.0 \u001b[m\u001b[mtotal,\u001b[m\u001b[m\u001b[1m    613.1 \u001b[m\u001b[mfree,\u001b[m\u001b[m\u001b[1m   1434.9 \u001b[m\u001b[mused.\u001b[m\u001b[m\u001b[1m 169262.0 \u001b[m\u001b[mavail Mem \u001b[m\u001b[m\u001b[m\u001b[m\u001b[K\n",
      "\u001b[K\n",
      "\n",
      "\u001b[m1718590 raul      20   0  530524  62240  15488 S   2.6   0.0   0:02.00 python   \u001b[m\u001b[m\u001b[K\n",
      "\u001b[m 317369 abdul     20   0   28592  18296    804 S   1.3   0.0   2568:34 nvtop    \u001b[m\u001b[m\u001b[K\n",
      "\u001b[m 328079 abdul     20   0   27948  15280     72 S   1.0   0.0   2551:44 nvtop    \u001b[m\u001b[m\u001b[K\n",
      "\u001b[m 372165 abdul     20   0   28788  18416    744 S   1.0   0.0   2510:45 nvtop    \u001b[m\u001b[m\u001b[K\n",
      "\u001b[m 607233 abdul     20   0   29556  20036   1616 S   1.0   0.0   2224:29 nvtop    \u001b[m\u001b[m\u001b[K\n",
      "\u001b[m1564018 raul      20   0    9928   1320      0 S   1.0   0.0 284:42.13 top      \u001b[m\u001b[m\u001b[K\n",
      "\u001b[m   1126 root      20   0  243208  24788   5764 S   0.7   0.0 240:07.47 Xorg     \u001b[m\u001b[m\u001b[K\n",
      "\u001b[m 256242 benjamin  20   0 1339924 859308   3836 S   0.7   0.3   2824:45 jupyter+ \u001b[m\u001b[m\u001b[K\n",
      "\u001b[m 302243 abdul     20   0   25800  15608    996 S   0.7   0.0   2502:19 nvtop    \u001b[m\u001b[m\u001b[K\n",
      "\u001b[m1559869 raul      20   0   11.2g  10.8g   8672 S   0.7   4.3 350:56.00 jupyter+ \u001b[m\u001b[m\u001b[K\n",
      "\u001b[m1608552 gdm       20   0 4896648   5728    560 S   0.7   0.0 178:56.54 anydesk  \u001b[m\u001b[m\u001b[K\n",
      "\u001b[m1697864 benjamin  20   0 2453676  98024      0 S   0.7   0.0  19:02.65 wandb-s+ \u001b[m\u001b[m\u001b[K\n",
      "\u001b[m1713226 raul      20   0    9812   1836    568 S   0.7   0.0   6:59.89 top      \u001b[m\u001b[m\u001b[K\n",
      "\u001b[m1716813 raul      20   0    9816   4136   3056 S   0.7   0.0   1:12.10 top      \u001b[m\u001b[m\u001b[K\n",
      "\u001b[m   8361 abdul     20   0   11.5g  10.8g   4548 S   0.3   4.3 502:16.95 jupyter+ \u001b[m\u001b[m\u001b[K\n",
      "\u001b[m1641915 benjamin  20   0 2452648  96660      0 S   0.3   0.0  47:36.56 wandb-s+ \u001b[m\u001b[m\u001b[K\n",
      "\u001b[m1718981 root      20   0       0      0      0 I   0.3   0.0   0:00.08 kworker+ \u001b[m\u001b[m\u001b[K\u001b[H\u001b[mtop - 14:01:10 up 206 days, 22:31,  1 user,  load average: 21.77, 32.76, 28.76\u001b[m\u001b[m\u001b[m\u001b[m\u001b[K\n",
      "\n",
      "%Cpu(s):\u001b[m\u001b[m\u001b[1m  0.3 \u001b[m\u001b[mus,\u001b[m\u001b[m\u001b[1m  0.4 \u001b[m\u001b[msy,\u001b[m\u001b[m\u001b[1m  0.0 \u001b[m\u001b[mni,\u001b[m\u001b[m\u001b[1m 99.4 \u001b[m\u001b[mid,\u001b[m\u001b[m\u001b[1m  0.0 \u001b[m\u001b[mwa,\u001b[m\u001b[m\u001b[1m  0.0 \u001b[m\u001b[mhi,\u001b[m\u001b[m\u001b[1m  0.0 \u001b[m\u001b[msi,\u001b[m\u001b[m\u001b[1m  0.0 \u001b[m\u001b[mst\u001b[m\u001b[m\u001b[m\u001b[m\u001b[K\n",
      "\n",
      "\n",
      "\u001b[K\n",
      "\n",
      "\u001b[m1718590 raul      20   0  530524  62240  15488 S   2.3   0.0   0:02.07 python   \u001b[m\u001b[m\u001b[K\n",
      "\u001b[m 328079 abdul     20   0   27948  15280     72 S   1.3   0.0   2551:44 nvtop    \u001b[m\u001b[m\u001b[K\n",
      "\u001b[m  52427 akshay    20   0 8425384 280032  21860 S   1.0   0.1 171:42.24 gnome-s+ \u001b[m\u001b[m\u001b[K\n",
      "\u001b[m 302243 abdul     20   0   25800  15608    996 S   1.0   0.0   2502:19 nvtop    \u001b[m\u001b[m\u001b[K\n",
      "\u001b[m 317369 abdul     20   0   28592  18296    804 S   1.0   0.0   2568:34 nvtop    \u001b[m\u001b[m\u001b[K\n",
      "\u001b[m 372165 abdul     20   0   28788  18416    744 S   1.0   0.0   2510:45 nvtop    \u001b[m\u001b[m\u001b[K\n",
      "\u001b[m1559869 raul      20   0   11.2g  10.8g   8672 S   1.0   4.3 350:56.03 jupyter+ \u001b[m\u001b[m\u001b[K\n",
      "\u001b[m\u001b[1m1719137 raul      20   0    9652   4176   3140 R   1.0   0.0   0:00.07 top      \u001b[m\u001b[m\u001b[K\n",
      "\u001b[m   1434 gdm       20   0 6655176 131928  21920 S   0.7   0.1 165:02.39 gnome-s+ \u001b[m\u001b[m\u001b[K\n",
      "\u001b[m 256242 benjamin  20   0 1339924 859308   3836 S   0.7   0.3   2824:45 jupyter+ \u001b[m\u001b[m\u001b[K\n",
      "\u001b[m 607233 abdul     20   0   29556  20036   1616 S   0.7   0.0   2224:29 nvtop    \u001b[m\u001b[m\u001b[K\n",
      "\u001b[m1564018 raul      20   0    9928   1320      0 S   0.7   0.0 284:42.15 top      \u001b[m\u001b[m\u001b[K\n",
      "\u001b[m1716813 raul      20   0    9816   4136   3056 S   0.7   0.0   1:12.12 top      \u001b[m\u001b[m\u001b[K\n",
      "\u001b[m     14 root      20   0       0      0      0 I   0.3   0.0 615:25.46 rcu_sch+ \u001b[m\u001b[m\u001b[K\n",
      "\u001b[m   8361 abdul     20   0   11.5g  10.8g   4548 S   0.3   4.3 502:16.96 jupyter+ \u001b[m\u001b[m\u001b[K\n",
      "\u001b[m 520129 root      19  -1  236776  63264  60680 S   0.3   0.0  47:54.41 systemd+ \u001b[m\u001b[m\u001b[K\n",
      "\u001b[m1608552 gdm       20   0 4896648   5728    560 S   0.3   0.0 178:56.55 anydesk  \u001b[m\u001b[m\u001b[K\u001b[?1l\u001b>\u001b[25;1H\n",
      "\u001b[K"
     ]
    }
   ],
   "source": [
    "!top"
   ]
  },
  {
   "cell_type": "code",
   "execution_count": 5,
   "metadata": {},
   "outputs": [
    {
     "name": "stdout",
     "output_type": "stream",
     "text": [
      "peptide-QML\n"
     ]
    }
   ],
   "source": [
    "!ls"
   ]
  },
  {
   "cell_type": "code",
   "execution_count": 4,
   "metadata": {},
   "outputs": [
    {
     "name": "stdout",
     "output_type": "stream",
     "text": [
      "Already up to date.\n"
     ]
    }
   ],
   "source": [
    "# pull changes (git) <-> from git to JupyterLab\n",
    "!cd peptide-QML && git fetch && git pull && cd .."
   ]
  },
  {
   "cell_type": "code",
   "execution_count": 5,
   "metadata": {},
   "outputs": [
    {
     "name": "stdout",
     "output_type": "stream",
     "text": [
      "On branch main\n",
      "Your branch is ahead of 'origin/main' by 3 commits.\n",
      "  (use \"git push\" to publish your local commits)\n",
      "\n",
      "nothing to commit, working tree clean\n"
     ]
    }
   ],
   "source": [
    "# push changes (git) <-> from JupyterLab to git\n",
    "!cd peptide-QML && git add . && git commit -m \"data trained model\" && git push && cd .."
   ]
  },
  {
   "cell_type": "code",
   "execution_count": null,
   "metadata": {},
   "outputs": [],
   "source": []
  }
 ],
 "metadata": {
  "kernelspec": {
   "display_name": "JL_Pennylane",
   "language": "python",
   "name": "jl_pennylane"
  },
  "language_info": {
   "codemirror_mode": {
    "name": "ipython",
    "version": 3
   },
   "file_extension": ".py",
   "mimetype": "text/x-python",
   "name": "python",
   "nbconvert_exporter": "python",
   "pygments_lexer": "ipython3",
   "version": "3.8.10"
  },
  "orig_nbformat": 4
 },
 "nbformat": 4,
 "nbformat_minor": 2
}
