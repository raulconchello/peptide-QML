{
 "cells": [
  {
   "cell_type": "code",
   "execution_count": 17,
   "metadata": {},
   "outputs": [
    {
     "name": "stdout",
     "output_type": "stream",
     "text": [
      "\u001b[?1h\u001b=\u001b[H\u001b[2J\u001b[mtop - 18:25:35 up 14 days,  3:06,  1 user,  load average: 3.48, 3.34, 3.46\u001b[m\u001b[m\u001b[m\u001b[m\u001b[K\n",
      "Tasks:\u001b[m\u001b[m\u001b[1m 519 \u001b[m\u001b[mtotal,\u001b[m\u001b[m\u001b[1m   3 \u001b[m\u001b[mrunning,\u001b[m\u001b[m\u001b[1m 514 \u001b[m\u001b[msleeping,\u001b[m\u001b[m\u001b[1m   0 \u001b[m\u001b[mstopped,\u001b[m\u001b[m\u001b[1m   2 \u001b[m\u001b[mzombie\u001b[m\u001b[m\u001b[m\u001b[m\u001b[K\n",
      "%Cpu(s):\u001b[m\u001b[m\u001b[1m 10.7 \u001b[m\u001b[mus,\u001b[m\u001b[m\u001b[1m  0.5 \u001b[m\u001b[msy,\u001b[m\u001b[m\u001b[1m  0.0 \u001b[m\u001b[mni,\u001b[m\u001b[m\u001b[1m 88.9 \u001b[m\u001b[mid,\u001b[m\u001b[m\u001b[1m  0.0 \u001b[m\u001b[mwa,\u001b[m\u001b[m\u001b[1m  0.0 \u001b[m\u001b[mhi,\u001b[m\u001b[m\u001b[1m  0.0 \u001b[m\u001b[msi,\u001b[m\u001b[m\u001b[1m  0.0 \u001b[m\u001b[mst\u001b[m\u001b[m\u001b[m\u001b[m\u001b[K\n",
      "MiB Mem :\u001b[m\u001b[m\u001b[1m 257418.2 \u001b[m\u001b[mtotal,\u001b[m\u001b[m\u001b[1m 103042.1 \u001b[m\u001b[mfree,\u001b[m\u001b[m\u001b[1m 153300.8 \u001b[m\u001b[mused,\u001b[m\u001b[m\u001b[1m   1075.4 \u001b[m\u001b[mbuff/cache\u001b[m\u001b[m\u001b[m\u001b[m\u001b[K\n",
      "MiB Swap:\u001b[m\u001b[m\u001b[1m   2048.0 \u001b[m\u001b[mtotal,\u001b[m\u001b[m\u001b[1m      0.0 \u001b[m\u001b[mfree,\u001b[m\u001b[m\u001b[1m   2048.0 \u001b[m\u001b[mused.\u001b[m\u001b[m\u001b[1m 102074.9 \u001b[m\u001b[mavail Mem \u001b[m\u001b[m\u001b[m\u001b[m\u001b[K\n",
      "\u001b[K\n",
      "\u001b[7m    PID USER      PR  NI    VIRT    RES    SHR S  %CPU  %MEM     TIME+ COMMAND  \u001b[m\u001b[m\u001b[K\n",
      "\u001b[m\u001b[1m  67115 raul      20   0   62.7g  43.2g  30860 R 125.0  17.2  13952:17 python   \u001b[m\u001b[m\u001b[K\n",
      "\u001b[m\u001b[1m  86256 raul      20   0   21.2g   2.0g 183356 R 106.2   0.8  67:36.39 python   \u001b[m\u001b[m\u001b[K\n",
      "\u001b[m   3795 raul      20   0 2264632   1.8g   8248 S   6.2   0.7 438:01.04 jupyter+ \u001b[m\u001b[m\u001b[K\n",
      "\u001b[m  62155 gdm       20   0 2433392  27468   2776 S   6.2   0.0  36:58.80 anydesk  \u001b[m\u001b[m\u001b[K\n",
      "\u001b[m\u001b[1m  86451 raul      20   0    9648   4168   3252 R   6.2   0.0   0:00.02 top      \u001b[m\u001b[m\u001b[K\n",
      "\u001b[m      1 root      20   0  171400   8592   4164 S   0.0   0.0   0:17.35 systemd  \u001b[m\u001b[m\u001b[K\n",
      "\u001b[m      2 root      20   0       0      0      0 S   0.0   0.0   0:00.13 kthreadd \u001b[m\u001b[m\u001b[K\n",
      "\u001b[m      3 root       0 -20       0      0      0 I   0.0   0.0   0:00.00 rcu_gp   \u001b[m\u001b[m\u001b[K\n",
      "\u001b[m      4 root       0 -20       0      0      0 I   0.0   0.0   0:00.00 rcu_par+ \u001b[m\u001b[m\u001b[K\n",
      "\u001b[m      5 root       0 -20       0      0      0 I   0.0   0.0   0:00.00 slub_fl+ \u001b[m\u001b[m\u001b[K\n",
      "\u001b[m      6 root       0 -20       0      0      0 I   0.0   0.0   0:00.00 netns    \u001b[m\u001b[m\u001b[K\n",
      "\u001b[m      8 root       0 -20       0      0      0 I   0.0   0.0   0:00.00 kworker+ \u001b[m\u001b[m\u001b[K\n",
      "\u001b[m     10 root       0 -20       0      0      0 I   0.0   0.0   0:00.00 mm_perc+ \u001b[m\u001b[m\u001b[K\n",
      "\u001b[m     11 root      20   0       0      0      0 S   0.0   0.0   0:00.00 rcu_tas+ \u001b[m\u001b[m\u001b[K\n",
      "\u001b[m     12 root      20   0       0      0      0 S   0.0   0.0   0:00.00 rcu_tas+ \u001b[m\u001b[m\u001b[K\n",
      "\u001b[m     13 root      20   0       0      0      0 S   0.0   0.0   0:01.38 ksoftir+ \u001b[m\u001b[m\u001b[K\n",
      "\u001b[m     14 root      20   0       0      0      0 I   0.0   0.0  31:29.02 rcu_sch+ \u001b[m\u001b[m\u001b[K\u001b[H\u001b[mtop - 18:25:38 up 14 days,  3:06,  1 user,  load average: 3.36, 3.32, 3.45\u001b[m\u001b[m\u001b[m\u001b[m\u001b[K\n",
      "\n",
      "%Cpu(s):\u001b[m\u001b[m\u001b[1m 13.6 \u001b[m\u001b[mus,\u001b[m\u001b[m\u001b[1m  0.1 \u001b[m\u001b[msy,\u001b[m\u001b[m\u001b[1m  0.0 \u001b[m\u001b[mni,\u001b[m\u001b[m\u001b[1m 86.3 \u001b[m\u001b[mid,\u001b[m\u001b[m\u001b[1m  0.0 \u001b[m\u001b[mwa,\u001b[m\u001b[m\u001b[1m  0.0 \u001b[m\u001b[mhi,\u001b[m\u001b[m\u001b[1m  0.0 \u001b[m\u001b[msi,\u001b[m\u001b[m\u001b[1m  0.0 \u001b[m\u001b[mst\u001b[m\u001b[m\u001b[m\u001b[m\u001b[K\n",
      "MiB Mem :\u001b[m\u001b[m\u001b[1m 257418.2 \u001b[m\u001b[mtotal,\u001b[m\u001b[m\u001b[1m 103041.2 \u001b[m\u001b[mfree,\u001b[m\u001b[m\u001b[1m 153301.4 \u001b[m\u001b[mused,\u001b[m\u001b[m\u001b[1m   1075.7 \u001b[m\u001b[mbuff/cache\u001b[m\u001b[m\u001b[m\u001b[m\u001b[K\n",
      "MiB Swap:\u001b[m\u001b[m\u001b[1m   2048.0 \u001b[m\u001b[mtotal,\u001b[m\u001b[m\u001b[1m      0.0 \u001b[m\u001b[mfree,\u001b[m\u001b[m\u001b[1m   2048.0 \u001b[m\u001b[mused.\u001b[m\u001b[m\u001b[1m 102074.3 \u001b[m\u001b[mavail Mem \u001b[m\u001b[m\u001b[m\u001b[m\u001b[K\n",
      "\u001b[K\n",
      "\n",
      "\u001b[m\u001b[1m  67115 raul      20   0   62.7g  43.2g  30860 R 225.8  17.2  13952:23 python   \u001b[m\u001b[m\u001b[K\n",
      "\u001b[m\u001b[1m  86256 raul      20   0   21.2g   2.0g 183356 R 100.3   0.8  67:39.42 python   \u001b[m\u001b[m\u001b[K\n",
      "\u001b[m   3795 raul      20   0 2264632   1.8g   8248 S   2.6   0.7 438:01.12 jupyter+ \u001b[m\u001b[m\u001b[K\n",
      "\u001b[m  62647 raul      20   0  530528  54956   8024 S   2.3   0.0   0:19.54 python   \u001b[m\u001b[m\u001b[K\n",
      "\u001b[m\u001b[1m  86451 raul      20   0    9648   4168   3252 R   0.7   0.0   0:00.04 top      \u001b[m\u001b[m\u001b[K\n",
      "\u001b[m     14 root      20   0       0      0      0 I   0.3   0.0  31:29.03 rcu_sch+ \u001b[m\u001b[m\u001b[K\n",
      "\u001b[m   1373 root      20   0  609016  51288  10416 S   0.3   0.0  41:19.05 node     \u001b[m\u001b[m\u001b[K\n",
      "\u001b[m   3372 tianhong  20   0 5451356      0      0 S   0.3   0.0   0:51.28 python   \u001b[m\u001b[m\u001b[K\n",
      "\u001b[m      1 root      20   0  171400   8592   4164 S   0.0   0.0   0:17.35 systemd  \u001b[m\u001b[m\u001b[K\n",
      "\u001b[m      2 root      20   0       0      0      0 S   0.0   0.0   0:00.13 kthreadd \u001b[m\u001b[m\u001b[K\n",
      "\u001b[m      3 root       0 -20       0      0      0 I   0.0   0.0   0:00.00 rcu_gp   \u001b[m\u001b[m\u001b[K\n",
      "\u001b[m      4 root       0 -20       0      0      0 I   0.0   0.0   0:00.00 rcu_par+ \u001b[m\u001b[m\u001b[K\n",
      "\u001b[m      5 root       0 -20       0      0      0 I   0.0   0.0   0:00.00 slub_fl+ \u001b[m\u001b[m\u001b[K\n",
      "\u001b[m      6 root       0 -20       0      0      0 I   0.0   0.0   0:00.00 netns    \u001b[m\u001b[m\u001b[K\n",
      "\u001b[m      8 root       0 -20       0      0      0 I   0.0   0.0   0:00.00 kworker+ \u001b[m\u001b[m\u001b[K\n",
      "\u001b[m     10 root       0 -20       0      0      0 I   0.0   0.0   0:00.00 mm_perc+ \u001b[m\u001b[m\u001b[K\n",
      "\u001b[m     11 root      20   0       0      0      0 S   0.0   0.0   0:00.00 rcu_tas+ \u001b[m\u001b[m\u001b[K\u001b[?1l\u001b>\u001b[25;1H\n",
      "\u001b[K"
     ]
    }
   ],
   "source": [
    "!top"
   ]
  },
  {
   "cell_type": "code",
   "execution_count": null,
   "metadata": {},
   "outputs": [],
   "source": [
    "!ls"
   ]
  },
  {
   "cell_type": "code",
   "execution_count": 32,
   "metadata": {},
   "outputs": [
    {
     "name": "stdout",
     "output_type": "stream",
     "text": [
      "remote: Enumerating objects: 22, done.\u001b[K\n",
      "remote: Counting objects: 100% (22/22), done.\u001b[K\n",
      "remote: Compressing objects: 100% (5/5), done.\u001b[K\n",
      "remote: Total 13 (delta 9), reused 12 (delta 8), pack-reused 0\u001b[K\n",
      "Unpacking objects: 100% (13/13), 324.97 KiB | 3.53 MiB/s, done.\n",
      "From github.com:raulconchello/peptide-QML\n",
      "   c7cd4b597..410938e76  main       -> origin/main\n",
      "Updating c7cd4b597..410938e76\n",
      "Fast-forward\n",
      " Notebooks/+tests.ipynb             |   16 \u001b[32m+\u001b[m\n",
      " Notebooks/_Connection.ipynb        |   66 \u001b[32m+\u001b[m\u001b[31m-\u001b[m\n",
      " Notebooks/_nomenclature.ipynb      |    8 \u001b[32m+\u001b[m\u001b[31m-\u001b[m\n",
      " Notebooks/optimize input.ipynb     |   31 \u001b[32m+\u001b[m\u001b[31m-\u001b[m\n",
      " Notebooks/sweep_6h_e_1qm_oi.ipynb  | 7283 \u001b[32m+++\u001b[m\u001b[31m---------------------------------\u001b[m\n",
      " Notebooks/sweep_6h_er_1qm_oi.ipynb |  279 \u001b[32m++\u001b[m\n",
      " my_code/helper_functions.py        |    4 \u001b[32m+\u001b[m\n",
      " 7 files changed, 795 insertions(+), 6892 deletions(-)\n",
      " create mode 100644 Notebooks/sweep_6h_er_1qm_oi.ipynb\n"
     ]
    }
   ],
   "source": [
    "# pull changes (git) <-> from git to JupyterLab\n",
    "!cd peptide-QML && git fetch && git pull && cd .."
   ]
  },
  {
   "cell_type": "code",
   "execution_count": 3,
   "metadata": {},
   "outputs": [
    {
     "name": "stdout",
     "output_type": "stream",
     "text": [
      "On branch main\n",
      "Your branch is up to date with 'origin/main'.\n",
      "\n",
      "nothing to commit, working tree clean\n"
     ]
    }
   ],
   "source": [
    "# push changes (git) <-> from JupyterLab to git\n",
    "!cd peptide-QML && git add . && git commit -m \"data trained model\" && git push && cd .."
   ]
  },
  {
   "cell_type": "code",
   "execution_count": null,
   "metadata": {},
   "outputs": [],
   "source": []
  }
 ],
 "metadata": {
  "kernelspec": {
   "display_name": "JL_Pennylane",
   "language": "python",
   "name": "jl_pennylane"
  },
  "orig_nbformat": 4
 },
 "nbformat": 4,
 "nbformat_minor": 2
}
