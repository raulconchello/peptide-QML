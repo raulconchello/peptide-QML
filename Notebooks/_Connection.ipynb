{
 "cells": [
  {
   "cell_type": "code",
   "execution_count": 24,
   "metadata": {},
   "outputs": [
    {
     "name": "stdout",
     "output_type": "stream",
     "text": [
      "\u001b[?1h\u001b=\u001b[H\u001b[2J\u001b[mtop - 16:50:04 up 187 days,  1:20,  1 user,  load average: 21.52, 10.46, 5.76\u001b[m\u001b[m\u001b[m\u001b[m\u001b[K\n",
      "Tasks:\u001b[m\u001b[m\u001b[1m 548 \u001b[m\u001b[mtotal,\u001b[m\u001b[m\u001b[1m   4 \u001b[m\u001b[mrunning,\u001b[m\u001b[m\u001b[1m 539 \u001b[m\u001b[msleeping,\u001b[m\u001b[m\u001b[1m   4 \u001b[m\u001b[mstopped,\u001b[m\u001b[m\u001b[1m   1 \u001b[m\u001b[mzombie\u001b[m\u001b[m\u001b[m\u001b[m\u001b[K\n",
      "%Cpu(s):\u001b[m\u001b[m\u001b[1m 48.3 \u001b[m\u001b[mus,\u001b[m\u001b[m\u001b[1m 51.2 \u001b[m\u001b[msy,\u001b[m\u001b[m\u001b[1m  0.0 \u001b[m\u001b[mni,\u001b[m\u001b[m\u001b[1m  0.5 \u001b[m\u001b[mid,\u001b[m\u001b[m\u001b[1m  0.0 \u001b[m\u001b[mwa,\u001b[m\u001b[m\u001b[1m  0.0 \u001b[m\u001b[mhi,\u001b[m\u001b[m\u001b[1m  0.0 \u001b[m\u001b[msi,\u001b[m\u001b[m\u001b[1m  0.0 \u001b[m\u001b[mst\u001b[m\u001b[m\u001b[m\u001b[m\u001b[K\n",
      "MiB Mem :\u001b[m\u001b[m\u001b[1m 257430.5 \u001b[m\u001b[mtotal,\u001b[m\u001b[m\u001b[1m  16537.2 \u001b[m\u001b[mfree,\u001b[m\u001b[m\u001b[1m 240216.3 \u001b[m\u001b[mused,\u001b[m\u001b[m\u001b[1m    676.9 \u001b[m\u001b[mbuff/cache\u001b[m\u001b[m\u001b[m\u001b[m\u001b[K\n",
      "MiB Swap:\u001b[m\u001b[m\u001b[1m   2048.0 \u001b[m\u001b[mtotal,\u001b[m\u001b[m\u001b[1m      0.0 \u001b[m\u001b[mfree,\u001b[m\u001b[m\u001b[1m   2048.0 \u001b[m\u001b[mused.\u001b[m\u001b[m\u001b[1m  15253.2 \u001b[m\u001b[mavail Mem \u001b[m\u001b[m\u001b[m\u001b[m\u001b[K\n",
      "\u001b[K\n",
      "\u001b[7m    PID USER      PR  NI    VIRT    RES    SHR S  %CPU  %MEM     TIME+ COMMAND  \u001b[m\u001b[m\u001b[K\n",
      "\u001b[m\u001b[1m1631325 raul      20   0   62.7g  52.0g  28848 R  1269  20.7  11:28.86 python   \u001b[m\u001b[m\u001b[K\n",
      "\u001b[m\u001b[1m1631398 raul      20   0  116.2g 105.1g 175344 R 687.5  41.8   3:54.59 python   \u001b[m\u001b[m\u001b[K\n",
      "\u001b[m\u001b[1m1629713 raul      20   0   12.8g   2.0g  25796 R 381.2   0.8 242:15.12 python   \u001b[m\u001b[m\u001b[K\n",
      "\u001b[m   1119 root      20   0  721848 142464   7772 S   6.2   0.1 183:06.82 node     \u001b[m\u001b[m\u001b[K\n",
      "\u001b[m1559869 raul      20   0 4114700   3.6g   8096 S   6.2   1.4  68:30.16 jupyter+ \u001b[m\u001b[m\u001b[K\n",
      "\u001b[m1564018 raul      20   0    9928   2120    800 S   6.2   0.0 111:04.47 top      \u001b[m\u001b[m\u001b[K\n",
      "\u001b[m1587590 raul      20   0   16.1g   5.5g   5760 S   6.2   2.2 144:44.80 python   \u001b[m\u001b[m\u001b[K\n",
      "\u001b[m\u001b[1m1631469 raul      20   0    9652   4168   3132 R   6.2   0.0   0:00.01 top      \u001b[m\u001b[m\u001b[K\n",
      "\u001b[m      1 root      20   0  172652   8136   1796 S   0.0   0.0   4:50.03 systemd  \u001b[m\u001b[m\u001b[K\n",
      "\u001b[m      2 root      20   0       0      0      0 S   0.0   0.0   0:02.27 kthreadd \u001b[m\u001b[m\u001b[K\n",
      "\u001b[m      3 root       0 -20       0      0      0 I   0.0   0.0   0:00.00 rcu_gp   \u001b[m\u001b[m\u001b[K\n",
      "\u001b[m      4 root       0 -20       0      0      0 I   0.0   0.0   0:00.00 rcu_par+ \u001b[m\u001b[m\u001b[K\n",
      "\u001b[m      5 root       0 -20       0      0      0 I   0.0   0.0   0:00.00 slub_fl+ \u001b[m\u001b[m\u001b[K\n",
      "\u001b[m      6 root       0 -20       0      0      0 I   0.0   0.0   0:00.00 netns    \u001b[m\u001b[m\u001b[K\n",
      "\u001b[m      8 root       0 -20       0      0      0 I   0.0   0.0   0:00.00 kworker+ \u001b[m\u001b[m\u001b[K\n",
      "\u001b[m     10 root       0 -20       0      0      0 I   0.0   0.0   0:00.00 mm_perc+ \u001b[m\u001b[m\u001b[K\n",
      "\u001b[m     11 root      20   0       0      0      0 S   0.0   0.0   0:00.00 rcu_tas+ \u001b[m\u001b[m\u001b[K\u001b[H\u001b[mtop - 16:50:07 up 187 days,  1:20,  1 user,  load average: 21.52, 10.46, 5.76\u001b[m\u001b[m\u001b[m\u001b[m\u001b[K\n",
      "Tasks:\u001b[m\u001b[m\u001b[1m 548 \u001b[m\u001b[mtotal,\u001b[m\u001b[m\u001b[1m   2 \u001b[m\u001b[mrunning,\u001b[m\u001b[m\u001b[1m 541 \u001b[m\u001b[msleeping,\u001b[m\u001b[m\u001b[1m   4 \u001b[m\u001b[mstopped,\u001b[m\u001b[m\u001b[1m   1 \u001b[m\u001b[mzombie\u001b[m\u001b[m\u001b[m\u001b[m\u001b[K\n",
      "%Cpu(s):\u001b[m\u001b[m\u001b[1m 47.3 \u001b[m\u001b[mus,\u001b[m\u001b[m\u001b[1m 43.4 \u001b[m\u001b[msy,\u001b[m\u001b[m\u001b[1m  0.0 \u001b[m\u001b[mni,\u001b[m\u001b[m\u001b[1m  8.1 \u001b[m\u001b[mid,\u001b[m\u001b[m\u001b[1m  1.2 \u001b[m\u001b[mwa,\u001b[m\u001b[m\u001b[1m  0.0 \u001b[m\u001b[mhi,\u001b[m\u001b[m\u001b[1m  0.0 \u001b[m\u001b[msi,\u001b[m\u001b[m\u001b[1m  0.0 \u001b[m\u001b[mst\u001b[m\u001b[m\u001b[m\u001b[m\u001b[K\n",
      "MiB Mem :\u001b[m\u001b[m\u001b[1m 257430.5 \u001b[m\u001b[mtotal,\u001b[m\u001b[m\u001b[1m   1107.4 \u001b[m\u001b[mfree,\u001b[m\u001b[m\u001b[1m 256068.5 \u001b[m\u001b[mused,\u001b[m\u001b[m\u001b[1m    254.5 \u001b[m\u001b[mbuff/cache\u001b[m\u001b[m\u001b[m\u001b[m\u001b[K\n",
      "MiB Swap:\u001b[m\u001b[m\u001b[1m   2048.0 \u001b[m\u001b[mtotal,\u001b[m\u001b[m\u001b[1m      0.0 \u001b[m\u001b[mfree,\u001b[m\u001b[m\u001b[1m   2048.0 \u001b[m\u001b[mused.\u001b[m\u001b[m\u001b[1m   1141.4 \u001b[m\u001b[mavail Mem \u001b[m\u001b[m\u001b[m\u001b[m\u001b[K\n",
      "\u001b[K\n",
      "\n",
      "\u001b[m1631325 raul      20   0   65.4g  54.7g      0 D  1101  21.8  12:02.34 python   \u001b[m\u001b[m\u001b[K\n",
      "\u001b[m1631398 raul      20   0  128.8g 117.6g      0 D 879.6  46.8   4:21.33 python   \u001b[m\u001b[m\u001b[K\n",
      "\u001b[m1629713 raul      20   0   12.8g   2.0g      0 D 304.9   0.8 242:24.39 python   \u001b[m\u001b[m\u001b[K\n",
      "\u001b[m\u001b[1m    227 root      20   0       0      0      0 R  11.5   0.0   0:35.57 kswapd0  \u001b[m\u001b[m\u001b[K\n",
      "\u001b[m1587590 raul      20   0   16.1g   5.5g      0 D   3.0   2.2 144:44.89 python   \u001b[m\u001b[m\u001b[K\n",
      "\u001b[m 787118 peese     20   0  200660  33364      0 D   1.3   0.0  89:50.26 ipython  \u001b[m\u001b[m\u001b[K\n",
      "\u001b[m1559869 raul      20   0 4114700   3.6g      0 D   1.3   1.4  68:30.20 jupyter+ \u001b[m\u001b[m\u001b[K\n",
      "\u001b[m\u001b[1m1631469 raul      20   0    9652   1164      0 R   1.3   0.0   0:00.05 top      \u001b[m\u001b[m\u001b[K\n",
      "\u001b[m   1126 root      20   0  243208  25344   4612 D   1.0   0.0 177:25.68 Xorg     \u001b[m\u001b[m\u001b[K\n",
      "\u001b[m 256242 benjamin  20   0 1339844 770232      0 D   1.0   0.3   2648:00 jupyter+ \u001b[m\u001b[m\u001b[K\n",
      "\u001b[m1564018 raul      20   0    9928   1320      0 D   1.0   0.0 111:04.50 top      \u001b[m\u001b[m\u001b[K\n",
      "\u001b[m   1119 root      20   0  721848 133340      0 D   0.7   0.1 183:06.84 node     \u001b[m\u001b[m\u001b[K\n",
      "\u001b[m 302243 abdul     20   0   25800  14568      0 S   0.7   0.0   2235:43 nvtop    \u001b[m\u001b[m\u001b[K\n",
      "\u001b[m 317369 abdul     20   0   28592  17468      0 S   0.7   0.0   2293:51 nvtop    \u001b[m\u001b[m\u001b[K\n",
      "\u001b[m 328079 abdul     20   0   27948  15180      0 S   0.7   0.0   2277:24 nvtop    \u001b[m\u001b[m\u001b[K\n",
      "\u001b[m 372165 abdul     20   0   28788  17616      0 S   0.7   0.0   2236:31 nvtop    \u001b[m\u001b[m\u001b[K\n",
      "\u001b[m 607233 abdul     20   0   29556  18268      0 S   0.7   0.0   1952:56 nvtop    \u001b[m\u001b[m\u001b[K\u001b[H\u001b[mtop - 16:50:11 up 187 days,  1:20,  1 user,  load average: 22.60, 10.86, 5.92\u001b[m\u001b[m\u001b[m\u001b[m\u001b[K\n",
      "Tasks:\u001b[m\u001b[m\u001b[1m 548 \u001b[m\u001b[mtotal,\u001b[m\u001b[m\u001b[1m   5 \u001b[m\u001b[mrunning,\u001b[m\u001b[m\u001b[1m 537 \u001b[m\u001b[msleeping,\u001b[m\u001b[m\u001b[1m   4 \u001b[m\u001b[mstopped,\u001b[m\u001b[m\u001b[1m   2 \u001b[m\u001b[mzombie\u001b[m\u001b[m\u001b[m\u001b[m\u001b[K\n",
      "%Cpu(s):\u001b[m\u001b[m\u001b[1m 43.2 \u001b[m\u001b[mus,\u001b[m\u001b[m\u001b[1m 45.8 \u001b[m\u001b[msy,\u001b[m\u001b[m\u001b[1m  0.0 \u001b[m\u001b[mni,\u001b[m\u001b[m\u001b[1m  9.5 \u001b[m\u001b[mid,\u001b[m\u001b[m\u001b[1m  1.5 \u001b[m\u001b[mwa,\u001b[m\u001b[m\u001b[1m  0.0 \u001b[m\u001b[mhi,\u001b[m\u001b[m\u001b[1m  0.0 \u001b[m\u001b[msi,\u001b[m\u001b[m\u001b[1m  0.0 \u001b[m\u001b[mst\u001b[m\u001b[m\u001b[m\u001b[m\u001b[K\n",
      "MiB Mem :\u001b[m\u001b[m\u001b[1m 257430.5 \u001b[m\u001b[mtotal,\u001b[m\u001b[m\u001b[1m  68072.4 \u001b[m\u001b[mfree,\u001b[m\u001b[m\u001b[1m 189003.1 \u001b[m\u001b[mused,\u001b[m\u001b[m\u001b[1m    355.0 \u001b[m\u001b[mbuff/cache\u001b[m\u001b[m\u001b[m\u001b[m\u001b[K\n",
      "MiB Swap:\u001b[m\u001b[m\u001b[1m   2048.0 \u001b[m\u001b[mtotal,\u001b[m\u001b[m\u001b[1m      0.0 \u001b[m\u001b[mfree,\u001b[m\u001b[m\u001b[1m   2048.0 \u001b[m\u001b[mused.\u001b[m\u001b[m\u001b[1m  66626.4 \u001b[m\u001b[mavail Mem \u001b[m\u001b[m\u001b[m\u001b[m\u001b[K\n",
      "\u001b[K\n",
      "\n",
      "\u001b[m\u001b[1m1631325 raul      20   0   69.6g  58.9g  11780 R  1543  23.4  12:52.64 python   \u001b[m\u001b[m\u001b[K\n",
      "\u001b[m\u001b[1m1629713 raul      20   0   12.8g   2.0g  20788 R 296.3   0.8 242:34.05 python   \u001b[m\u001b[m\u001b[K\n",
      "\u001b[m1631398 raul      20   0       0      0      0 Z  95.7   0.0   4:24.45 python   \u001b[m\u001b[m\u001b[K\n",
      "\u001b[m\u001b[1m    162 root      20   0       0      0      0 R  31.9   0.0   0:05.36 oom_rea+ \u001b[m\u001b[m\u001b[K\n",
      "\u001b[m    227 root      20   0       0      0      0 S  12.9   0.0   0:35.99 kswapd0  \u001b[m\u001b[m\u001b[K\n",
      "\u001b[m\u001b[1m    164 root      20   0       0      0      0 R   4.0   0.0  12:30.22 kcompac+ \u001b[m\u001b[m\u001b[K\n",
      "\u001b[m1587590 raul      20   0   16.1g   5.5g   2336 S   3.1   2.2 144:44.99 python   \u001b[m\u001b[m\u001b[K\n",
      "\u001b[m 256242 benjamin  20   0 1339844 772520   2288 S   2.5   0.3   2648:00 jupyter+ \u001b[m\u001b[m\u001b[K\n",
      "\u001b[m1559869 raul      20   0 4114700   3.6g   5908 S   1.8   1.4  68:30.26 jupyter+ \u001b[m\u001b[m\u001b[K\n",
      "\u001b[m   1119 root      20   0  721848 139896   6496 S   1.2   0.1 183:06.88 node     \u001b[m\u001b[m\u001b[K\n",
      "\u001b[m 520129 root      19  -1  474512  15892  13300 S   1.2   0.0  41:27.35 systemd+ \u001b[m\u001b[m\u001b[K\n",
      "\u001b[m1608552 gdm       20   0 1905928   4092    480 S   1.2   0.0  23:18.37 anydesk  \u001b[m\u001b[m\u001b[K\n",
      "\u001b[m\u001b[1m1631469 raul      20   0    9652   1768    604 R   1.2   0.0   0:00.09 top      \u001b[m\u001b[m\u001b[K\n",
      "\u001b[m   1434 gdm       20   0 6655176 122356   5356 S   0.9   0.0 149:57.10 gnome-s+ \u001b[m\u001b[m\u001b[K\n",
      "\u001b[m  40887 nathan    20   0  534748   8796      0 S   0.9   0.0 102:56.16 jupyter+ \u001b[m\u001b[m\u001b[K\n",
      "\u001b[m 302243 abdul     20   0   25800  14568      0 S   0.9   0.0   2235:43 nvtop    \u001b[m\u001b[m\u001b[K\n",
      "\u001b[m 328079 abdul     20   0   27948  15420    240 S   0.9   0.0   2277:25 nvtop    \u001b[m\u001b[m\u001b[K\u001b[H\u001b[mtop - 16:50:14 up 187 days,  1:20,  1 user,  load average: 23.83, 11.32, 6.09\u001b[m\u001b[m\u001b[m\u001b[m\u001b[K\n",
      "Tasks:\u001b[m\u001b[m\u001b[1m 548 \u001b[m\u001b[mtotal,\u001b[m\u001b[m\u001b[1m   4 \u001b[m\u001b[mrunning,\u001b[m\u001b[m\u001b[1m 538 \u001b[m\u001b[msleeping,\u001b[m\u001b[m\u001b[1m   4 \u001b[m\u001b[mstopped,\u001b[m\u001b[m\u001b[1m   2 \u001b[m\u001b[mzombie\u001b[m\u001b[m\u001b[m\u001b[m\u001b[K\n",
      "%Cpu(s):\u001b[m\u001b[m\u001b[1m 45.6 \u001b[m\u001b[mus,\u001b[m\u001b[m\u001b[1m 52.3 \u001b[m\u001b[msy,\u001b[m\u001b[m\u001b[1m  0.0 \u001b[m\u001b[mni,\u001b[m\u001b[m\u001b[1m  2.1 \u001b[m\u001b[mid,\u001b[m\u001b[m\u001b[1m  0.0 \u001b[m\u001b[mwa,\u001b[m\u001b[m\u001b[1m  0.0 \u001b[m\u001b[mhi,\u001b[m\u001b[m\u001b[1m  0.0 \u001b[m\u001b[msi,\u001b[m\u001b[m\u001b[1m  0.0 \u001b[m\u001b[mst\u001b[m\u001b[m\u001b[m\u001b[m\u001b[K\n",
      "MiB Mem :\u001b[m\u001b[m\u001b[1m 257430.5 \u001b[m\u001b[mtotal,\u001b[m\u001b[m\u001b[1m 113362.0 \u001b[m\u001b[mfree,\u001b[m\u001b[m\u001b[1m 143707.6 \u001b[m\u001b[mused,\u001b[m\u001b[m\u001b[1m    360.8 \u001b[m\u001b[mbuff/cache\u001b[m\u001b[m\u001b[m\u001b[m\u001b[K\n",
      "MiB Swap:\u001b[m\u001b[m\u001b[1m   2048.0 \u001b[m\u001b[mtotal,\u001b[m\u001b[m\u001b[1m      0.0 \u001b[m\u001b[mfree,\u001b[m\u001b[m\u001b[1m   2048.0 \u001b[m\u001b[mused.\u001b[m\u001b[m\u001b[1m 111918.9 \u001b[m\u001b[mavail Mem \u001b[m\u001b[m\u001b[m\u001b[m\u001b[K\n",
      "\u001b[K\n",
      "\n",
      "\u001b[m\u001b[1m1631325 raul      20   0   73.5g  62.8g  11780 R  1843  25.0  13:48.29 python   \u001b[m\u001b[m\u001b[K\n",
      "\u001b[m\u001b[1m1629713 raul      20   0   12.8g   2.0g  23328 R 276.2   0.8 242:42.39 python   \u001b[m\u001b[m\u001b[K\n",
      "\u001b[m\u001b[1m    164 root      20   0       0      0      0 R  99.7   0.0  12:33.23 kcompac+ \u001b[m\u001b[m\u001b[K\n",
      "\u001b[m1631398 raul      20   0       0      0      0 Z  60.6   0.0   4:26.28 python   \u001b[m\u001b[m\u001b[K\n",
      "\u001b[m    162 root      20   0       0      0      0 S  58.9   0.0   0:07.14 oom_rea+ \u001b[m\u001b[m\u001b[K\n",
      "\u001b[m1587590 raul      20   0   16.1g   5.5g   3348 S   1.3   2.2 144:45.03 python   \u001b[m\u001b[m\u001b[K\n",
      "\u001b[m 607233 abdul     20   0   29556  18616    348 S   1.0   0.0   1952:56 nvtop    \u001b[m\u001b[m\u001b[K\n",
      "\u001b[m 256242 benjamin  20   0 1339844 772520   2288 S   0.7   0.3   2648:00 jupyter+ \u001b[m\u001b[m\u001b[K\n",
      "\u001b[m 302243 abdul     20   0   25800  14568      0 S   0.7   0.0   2235:43 nvtop    \u001b[m\u001b[m\u001b[K\n",
      "\u001b[m 317369 abdul     20   0   28592  19068   1600 S   0.7   0.0   2293:51 nvtop    \u001b[m\u001b[m\u001b[K\n",
      "\u001b[m 328079 abdul     20   0   27948  15420    240 S   0.7   0.0   2277:25 nvtop    \u001b[m\u001b[m\u001b[K\n",
      "\u001b[m 372165 abdul     20   0   28788  19644   2028 S   0.7   0.0   2236:31 nvtop    \u001b[m\u001b[m\u001b[K\n",
      "\u001b[m1559869 raul      20   0 4114700   3.6g   5912 S   0.7   1.4  68:30.28 jupyter+ \u001b[m\u001b[m\u001b[K\n",
      "\u001b[m     14 root      20   0       0      0      0 I   0.3   0.0 551:53.92 rcu_sch+ \u001b[m\u001b[m\u001b[K\n",
      "\u001b[m  52066 akshay    20   0   19112   2236      0 S   0.3   0.0  13:54.18 systemd  \u001b[m\u001b[m\u001b[K\n",
      "\u001b[m 722026 akshay    20   0 2222752  83908   4156 S   0.3   0.0  85:13.73 megasync \u001b[m\u001b[m\u001b[K\n",
      "\u001b[m1564018 raul      20   0    9928   1320      0 S   0.3   0.0 111:04.53 top      \u001b[m\u001b[m\u001b[K\u001b[?1l\u001b>\u001b[25;1H\n",
      "\u001b[K"
     ]
    }
   ],
   "source": [
    "!top"
   ]
  },
  {
   "cell_type": "code",
   "execution_count": 5,
   "metadata": {},
   "outputs": [
    {
     "name": "stdout",
     "output_type": "stream",
     "text": [
      "peptide-QML\n"
     ]
    }
   ],
   "source": [
    "!ls"
   ]
  },
  {
   "cell_type": "code",
   "execution_count": 23,
   "metadata": {},
   "outputs": [
    {
     "name": "stdout",
     "output_type": "stream",
     "text": [
      "remote: Enumerating objects: 35, done.\u001b[K\n",
      "remote: Counting objects: 100% (35/35), done.\u001b[K\n",
      "remote: Compressing objects: 100% (14/14), done.\u001b[K\n",
      "remote: Total 22 (delta 7), reused 22 (delta 7), pack-reused 0\u001b[K\n",
      "Unpacking objects: 100% (22/22), 858.11 KiB | 5.14 MiB/s, done.\n",
      "From github.com:raulconchello/peptide-QML\n",
      "   598c5ba6..10a053e4  main       -> origin/main\n",
      "Updating 598c5ba6..10a053e4\n",
      "Fast-forward\n",
      " Notebooks/Connection.ipynb                         |   163 \u001b[31m-\u001b[m\n",
      " ...h checkpoints.ipynb => _Checkpoints Push.ipynb} |     0\n",
      " Notebooks/_Connection.ipynb                        |   200 \u001b[32m+\u001b[m\n",
      " Notebooks/generate_data.ipynb                      |    55 \u001b[32m+\u001b[m\n",
      " Notebooks/mh_em_1qm.ipynb                          |   665 \u001b[32m++\u001b[m\n",
      " Notebooks/nh_em_1qm.ipynb                          |   695 \u001b[32m++\u001b[m\n",
      " Notebooks/nomenclature.ipynb                       |     3 \u001b[32m+\u001b[m\u001b[31m-\u001b[m\n",
      " .../0810/notebooks/0810-sh_em_1qm_v2.ipynb         |   276 \u001b[32m+\u001b[m\u001b[31m-\u001b[m\n",
      " checkpoints/0810/versions/0810-mh_em_1qm.version   |     1 \u001b[32m+\u001b[m\n",
      " .../bb14_Strings_Energies_10_000_12_aa.txt         | 10000 \u001b[32m+++++++++++++++++++\u001b[m\n",
      " .../bb14_Strings_Energies_10_000_8_aa.txt          | 10000 \u001b[32m+++++++++++++++++++\u001b[m\n",
      " data/{ => Scores}/mock_file.txt                    |     0\n",
      " my_code/quantum_nodes.py                           |    98 \u001b[32m+\u001b[m\u001b[31m-\u001b[m\n",
      " 13 files changed, 21808 insertions(+), 348 deletions(-)\n",
      " delete mode 100644 Notebooks/Connection.ipynb\n",
      " rename Notebooks/{push checkpoints.ipynb => _Checkpoints Push.ipynb} (100%)\n",
      " create mode 100644 Notebooks/_Connection.ipynb\n",
      " create mode 100644 Notebooks/generate_data.ipynb\n",
      " create mode 100644 Notebooks/mh_em_1qm.ipynb\n",
      " create mode 100644 Notebooks/nh_em_1qm.ipynb\n",
      " rename Notebooks/sh_em_1qm.ipynb => checkpoints/0810/notebooks/0810-sh_em_1qm_v2.ipynb (55%)\n",
      " create mode 100644 checkpoints/0810/versions/0810-mh_em_1qm.version\n",
      " create mode 100644 data/Scores/PET/generated/bb14_Strings_Energies_10_000_12_aa.txt\n",
      " create mode 100644 data/Scores/PET/generated/bb14_Strings_Energies_10_000_8_aa.txt\n",
      " rename data/{ => Scores}/mock_file.txt (100%)\n"
     ]
    }
   ],
   "source": [
    "# pull changes (git) <-> from git to JupyterLab\n",
    "!cd peptide-QML && git fetch && git pull && cd .."
   ]
  },
  {
   "cell_type": "code",
   "execution_count": 87,
   "metadata": {},
   "outputs": [
    {
     "name": "stdout",
     "output_type": "stream",
     "text": [
      "[main 598c5ba6] data trained model\n",
      " 29 files changed, 144 insertions(+), 1 deletion(-)\n",
      " create mode 100644 checkpoints/0809/plots/0809-sh_em_1qm_v2_losses_batches_4.png\n",
      " create mode 100644 checkpoints/0809/plots/0809-sh_em_1qm_v2_losses_epoch_4.png\n",
      " create mode 100644 checkpoints/0809/plots/0809-sh_em_1qm_v2_losses_epoch_validation_4.png\n",
      " create mode 100644 checkpoints/0809/plots/0809-sh_em_1qm_v2_parameter_0.weight_None_4.png\n",
      " create mode 100644 checkpoints/0809/plots/0809-sh_em_1qm_v2_parameter_2.block_weights_None_4.png\n",
      " create mode 100644 checkpoints/0809/plots/0809-sh_em_1qm_v2_parameter_2.embedding_weights_None_4.png\n",
      " create mode 100644 checkpoints/0809/plots/0809-sh_em_1qm_v2_parameter_3.bias_None_4.png\n",
      " create mode 100644 checkpoints/0809/plots/0809-sh_em_1qm_v2_parameter_3.weight_None_4.png\n",
      " create mode 100644 checkpoints/0809/plots/0809-sh_em_1qm_v2_validation_4.png\n",
      " create mode 100644 checkpoints/0809/txts/0809-sh_em_1qm_v2_model_str_4.txt\n",
      " create mode 100644 checkpoints/0809/txts/0809-sh_em_1qm_v2_validation_4.txt\n",
      " create mode 100644 checkpoints/0810/models/.gitkeep\n",
      " create mode 100644 checkpoints/0810/models/0810-sh_em_1qm_v2_4.pth\n",
      " create mode 100644 checkpoints/0810/notebooks/.gitkeep\n",
      " create mode 100644 checkpoints/0810/pdfs/.gitkeep\n",
      " create mode 100644 checkpoints/0810/plots/.gitkeep\n",
      " create mode 100644 checkpoints/0810/plots/0810-sh_em_1qm_v2_losses_batches_4.png\n",
      " create mode 100644 checkpoints/0810/plots/0810-sh_em_1qm_v2_losses_epoch_4.png\n",
      " create mode 100644 checkpoints/0810/plots/0810-sh_em_1qm_v2_losses_epoch_validation_4.png\n",
      " create mode 100644 checkpoints/0810/plots/0810-sh_em_1qm_v2_parameter_0.weight_None_4.png\n",
      " create mode 100644 checkpoints/0810/plots/0810-sh_em_1qm_v2_parameter_2.block_weights_None_4.png\n",
      " create mode 100644 checkpoints/0810/plots/0810-sh_em_1qm_v2_parameter_2.embedding_weights_None_4.png\n",
      " create mode 100644 checkpoints/0810/plots/0810-sh_em_1qm_v2_parameter_3.bias_None_4.png\n",
      " create mode 100644 checkpoints/0810/plots/0810-sh_em_1qm_v2_parameter_3.weight_None_4.png\n",
      " create mode 100644 checkpoints/0810/txts/.gitkeep\n",
      " create mode 100644 checkpoints/0810/txts/0810-sh_em_1qm_v2_model_str_4.txt\n",
      " create mode 100644 checkpoints/0810/versions/.gitkeep\n",
      " create mode 100644 checkpoints/0810/versions/0810-sh_em_1qm_v2.version\n",
      "Enumerating objects: 42, done.\n",
      "Counting objects: 100% (42/42), done.\n",
      "Delta compression using up to 24 threads\n",
      "Compressing objects: 100% (33/33), done.\n",
      "Writing objects: 100% (35/35), 338.97 KiB | 9.16 MiB/s, done.\n",
      "Total 35 (delta 6), reused 1 (delta 0)\n",
      "remote: Resolving deltas: 100% (6/6), completed with 5 local objects.\u001b[K\n",
      "To github.com:raulconchello/peptide-QML.git\n",
      "   1d8d007c..598c5ba6  main -> main\n"
     ]
    }
   ],
   "source": [
    "# push changes (git) <-> from JupyterLab to git\n",
    "!cd peptide-QML && git add . && git commit -m \"data trained model\" && git push && cd .."
   ]
  }
 ],
 "metadata": {
  "kernelspec": {
   "display_name": "JL_Pennylane",
   "language": "python",
   "name": "jl_pennylane"
  },
  "language_info": {
   "codemirror_mode": {
    "name": "ipython",
    "version": 3
   },
   "file_extension": ".py",
   "mimetype": "text/x-python",
   "name": "python",
   "nbconvert_exporter": "python",
   "pygments_lexer": "ipython3",
   "version": "3.8.10"
  },
  "orig_nbformat": 4
 },
 "nbformat": 4,
 "nbformat_minor": 2
}
