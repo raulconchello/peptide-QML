{
 "cells": [
  {
   "cell_type": "code",
   "execution_count": 1,
   "metadata": {},
   "outputs": [
    {
     "name": "stdout",
     "output_type": "stream",
     "text": [
      "\u001b[?1h\u001b=\u001b[H\u001b[2J\u001b[mtop - 17:07:15 up  1:47,  1 user,  load average: 0.10, 0.11, 0.07\u001b[m\u001b[m\u001b[m\u001b[m\u001b[K\n",
      "Tasks:\u001b[m\u001b[m\u001b[1m 450 \u001b[m\u001b[mtotal,\u001b[m\u001b[m\u001b[1m   1 \u001b[m\u001b[mrunning,\u001b[m\u001b[m\u001b[1m 449 \u001b[m\u001b[msleeping,\u001b[m\u001b[m\u001b[1m   0 \u001b[m\u001b[mstopped,\u001b[m\u001b[m\u001b[1m   0 \u001b[m\u001b[mzombie\u001b[m\u001b[m\u001b[m\u001b[m\u001b[K\n",
      "%Cpu(s):\u001b[m\u001b[m\u001b[1m  0.5 \u001b[m\u001b[mus,\u001b[m\u001b[m\u001b[1m  0.5 \u001b[m\u001b[msy,\u001b[m\u001b[m\u001b[1m  0.0 \u001b[m\u001b[mni,\u001b[m\u001b[m\u001b[1m 99.1 \u001b[m\u001b[mid,\u001b[m\u001b[m\u001b[1m  0.0 \u001b[m\u001b[mwa,\u001b[m\u001b[m\u001b[1m  0.0 \u001b[m\u001b[mhi,\u001b[m\u001b[m\u001b[1m  0.0 \u001b[m\u001b[msi,\u001b[m\u001b[m\u001b[1m  0.0 \u001b[m\u001b[mst\u001b[m\u001b[m\u001b[m\u001b[m\u001b[K\n",
      "MiB Mem :\u001b[m\u001b[m\u001b[1m 257418.2 \u001b[m\u001b[mtotal,\u001b[m\u001b[m\u001b[1m 252964.5 \u001b[m\u001b[mfree,\u001b[m\u001b[m\u001b[1m   2505.8 \u001b[m\u001b[mused,\u001b[m\u001b[m\u001b[1m   1948.0 \u001b[m\u001b[mbuff/cache\u001b[m\u001b[m\u001b[m\u001b[m\u001b[K\n",
      "MiB Swap:\u001b[m\u001b[m\u001b[1m   2048.0 \u001b[m\u001b[mtotal,\u001b[m\u001b[m\u001b[1m   2048.0 \u001b[m\u001b[mfree,\u001b[m\u001b[m\u001b[1m      0.0 \u001b[m\u001b[mused.\u001b[m\u001b[m\u001b[1m 252923.6 \u001b[m\u001b[mavail Mem \u001b[m\u001b[m\u001b[m\u001b[m\u001b[K\n",
      "\u001b[K\n",
      "\u001b[7m    PID USER      PR  NI    VIRT    RES    SHR S  %CPU  %MEM     TIME+ COMMAND  \u001b[m\u001b[m\u001b[K\n",
      "\u001b[m   3795 raul      20   0  443144 103760  15796 S   5.9   0.0   0:05.58 jupyter+ \u001b[m\u001b[m\u001b[K\n",
      "\u001b[m\u001b[1m   4214 raul      20   0    9656   4232   3204 R   5.9   0.0   0:00.02 top      \u001b[m\u001b[m\u001b[K\n",
      "\u001b[m      1 root      20   0  168200  11636   8476 S   0.0   0.0   0:01.22 systemd  \u001b[m\u001b[m\u001b[K\n",
      "\u001b[m      2 root      20   0       0      0      0 S   0.0   0.0   0:00.00 kthreadd \u001b[m\u001b[m\u001b[K\n",
      "\u001b[m      3 root       0 -20       0      0      0 I   0.0   0.0   0:00.00 rcu_gp   \u001b[m\u001b[m\u001b[K\n",
      "\u001b[m      4 root       0 -20       0      0      0 I   0.0   0.0   0:00.00 rcu_par+ \u001b[m\u001b[m\u001b[K\n",
      "\u001b[m      5 root       0 -20       0      0      0 I   0.0   0.0   0:00.00 slub_fl+ \u001b[m\u001b[m\u001b[K\n",
      "\u001b[m      6 root       0 -20       0      0      0 I   0.0   0.0   0:00.00 netns    \u001b[m\u001b[m\u001b[K\n",
      "\u001b[m      8 root       0 -20       0      0      0 I   0.0   0.0   0:00.00 kworker+ \u001b[m\u001b[m\u001b[K\n",
      "\u001b[m     10 root       0 -20       0      0      0 I   0.0   0.0   0:00.00 mm_perc+ \u001b[m\u001b[m\u001b[K\n",
      "\u001b[m     11 root      20   0       0      0      0 S   0.0   0.0   0:00.00 rcu_tas+ \u001b[m\u001b[m\u001b[K\n",
      "\u001b[m     12 root      20   0       0      0      0 S   0.0   0.0   0:00.00 rcu_tas+ \u001b[m\u001b[m\u001b[K\n",
      "\u001b[m     13 root      20   0       0      0      0 S   0.0   0.0   0:00.03 ksoftir+ \u001b[m\u001b[m\u001b[K\n",
      "\u001b[m     14 root      20   0       0      0      0 I   0.0   0.0   0:11.42 rcu_sch+ \u001b[m\u001b[m\u001b[K\n",
      "\u001b[m     15 root      rt   0       0      0      0 S   0.0   0.0   0:00.02 migrati+ \u001b[m\u001b[m\u001b[K\n",
      "\u001b[m     16 root     -51   0       0      0      0 S   0.0   0.0   0:00.00 idle_in+ \u001b[m\u001b[m\u001b[K\n",
      "\u001b[m     18 root      20   0       0      0      0 S   0.0   0.0   0:00.00 cpuhp/0  \u001b[m\u001b[m\u001b[K\u001b[H\u001b[mtop - 17:07:18 up  1:47,  1 user,  load average: 0.10, 0.11, 0.07\u001b[m\u001b[m\u001b[m\u001b[m\u001b[K\n",
      "\n",
      "%Cpu(s):\u001b[m\u001b[m\u001b[1m  0.1 \u001b[m\u001b[mus,\u001b[m\u001b[m\u001b[1m  0.1 \u001b[m\u001b[msy,\u001b[m\u001b[m\u001b[1m  0.0 \u001b[m\u001b[mni,\u001b[m\u001b[m\u001b[1m 99.8 \u001b[m\u001b[mid,\u001b[m\u001b[m\u001b[1m  0.0 \u001b[m\u001b[mwa,\u001b[m\u001b[m\u001b[1m  0.0 \u001b[m\u001b[mhi,\u001b[m\u001b[m\u001b[1m  0.0 \u001b[m\u001b[msi,\u001b[m\u001b[m\u001b[1m  0.0 \u001b[m\u001b[mst\u001b[m\u001b[m\u001b[m\u001b[m\u001b[K\n",
      "\n",
      "\n",
      "\u001b[K\n",
      "\n",
      "\u001b[m   4203 raul      20   0  530272  61976  15816 S   2.7   0.0   0:00.79 python   \u001b[m\u001b[m\u001b[K\n",
      "\u001b[m   2209 tianhong  20   0 2217768  60464  30664 S   0.7   0.0   1:38.40 anydesk  \u001b[m\u001b[m\u001b[K\n",
      "\u001b[m     14 root      20   0       0      0      0 I   0.3   0.0   0:11.43 rcu_sch+ \u001b[m\u001b[m\u001b[K\n",
      "\u001b[m   3320 tianhong  20   0  419444  34400  24900 S   0.3   0.0   0:00.30 update-+ \u001b[m\u001b[m\u001b[K\n",
      "\u001b[m\u001b[1m   4214 raul      20   0    9624   4252   3204 R   0.3   0.0   0:00.03 top      \u001b[m\u001b[m\u001b[K\n",
      "\u001b[m      1 root      20   0  168200  11636   8476 S   0.0   0.0   0:01.22 systemd  \u001b[m\u001b[m\u001b[K\n",
      "\u001b[m      2 root      20   0       0      0      0 S   0.0   0.0   0:00.00 kthreadd \u001b[m\u001b[m\u001b[K\n",
      "\u001b[m      3 root       0 -20       0      0      0 I   0.0   0.0   0:00.00 rcu_gp   \u001b[m\u001b[m\u001b[K\n",
      "\u001b[m      4 root       0 -20       0      0      0 I   0.0   0.0   0:00.00 rcu_par+ \u001b[m\u001b[m\u001b[K\n",
      "\u001b[m      5 root       0 -20       0      0      0 I   0.0   0.0   0:00.00 slub_fl+ \u001b[m\u001b[m\u001b[K\n",
      "\u001b[m      6 root       0 -20       0      0      0 I   0.0   0.0   0:00.00 netns    \u001b[m\u001b[m\u001b[K\n",
      "\u001b[m      8 root       0 -20       0      0      0 I   0.0   0.0   0:00.00 kworker+ \u001b[m\u001b[m\u001b[K\n",
      "\u001b[m     10 root       0 -20       0      0      0 I   0.0   0.0   0:00.00 mm_perc+ \u001b[m\u001b[m\u001b[K\n",
      "\u001b[m     11 root      20   0       0      0      0 S   0.0   0.0   0:00.00 rcu_tas+ \u001b[m\u001b[m\u001b[K\n",
      "\u001b[m     12 root      20   0       0      0      0 S   0.0   0.0   0:00.00 rcu_tas+ \u001b[m\u001b[m\u001b[K\n",
      "\u001b[m     13 root      20   0       0      0      0 S   0.0   0.0   0:00.03 ksoftir+ \u001b[m\u001b[m\u001b[K\n",
      "\u001b[m     15 root      rt   0       0      0      0 S   0.0   0.0   0:00.02 migrati+ \u001b[m\u001b[m\u001b[K\u001b[H\u001b[mtop - 17:07:21 up  1:47,  1 user,  load average: 0.09, 0.11, 0.07\u001b[m\u001b[m\u001b[m\u001b[m\u001b[K\n",
      "\n",
      "%Cpu(s):\u001b[m\u001b[m\u001b[1m  0.2 \u001b[m\u001b[mus,\u001b[m\u001b[m\u001b[1m  0.1 \u001b[m\u001b[msy,\u001b[m\u001b[m\u001b[1m  0.0 \u001b[m\u001b[mni,\u001b[m\u001b[m\u001b[1m 99.7 \u001b[m\u001b[mid,\u001b[m\u001b[m\u001b[1m  0.0 \u001b[m\u001b[mwa,\u001b[m\u001b[m\u001b[1m  0.0 \u001b[m\u001b[mhi,\u001b[m\u001b[m\u001b[1m  0.0 \u001b[m\u001b[msi,\u001b[m\u001b[m\u001b[1m  0.0 \u001b[m\u001b[mst\u001b[m\u001b[m\u001b[m\u001b[m\u001b[K\n",
      "MiB Mem :\u001b[m\u001b[m\u001b[1m 257418.2 \u001b[m\u001b[mtotal,\u001b[m\u001b[m\u001b[1m 252964.3 \u001b[m\u001b[mfree,\u001b[m\u001b[m\u001b[1m   2505.7 \u001b[m\u001b[mused,\u001b[m\u001b[m\u001b[1m   1948.2 \u001b[m\u001b[mbuff/cache\u001b[m\u001b[m\u001b[m\u001b[m\u001b[K\n",
      "\n",
      "\u001b[K\n",
      "\n",
      "\u001b[m   4203 raul      20   0  530272  61976  15816 S   2.6   0.0   0:00.87 python   \u001b[m\u001b[m\u001b[K\n",
      "\u001b[m\u001b[1m   4214 raul      20   0    9624   4252   3204 R   1.0   0.0   0:00.06 top      \u001b[m\u001b[m\u001b[K\n",
      "\u001b[m   3795 raul      20   0  443144 103768  15796 S   0.7   0.0   0:05.60 jupyter+ \u001b[m\u001b[m\u001b[K\n",
      "\u001b[m    488 root      19  -1  250136  48852  47180 S   0.3   0.0   0:01.17 systemd+ \u001b[m\u001b[m\u001b[K\n",
      "\u001b[m    867 root      20   0   81992   3616   3320 S   0.3   0.0   0:01.01 irqbala+ \u001b[m\u001b[m\u001b[K\n",
      "\u001b[m   1373 root      20   0  589700  57884  27240 S   0.3   0.0   0:04.17 node     \u001b[m\u001b[m\u001b[K\n",
      "\u001b[m   2076 root      20   0  281888  88996  49840 S   0.3   0.0   1:04.35 Xorg     \u001b[m\u001b[m\u001b[K\n",
      "\u001b[m   2209 tianhong  20   0 2217768  60464  30664 S   0.3   0.0   1:38.41 anydesk  \u001b[m\u001b[m\u001b[K\n",
      "\u001b[m   3249 tianhong  20   0  444328 104076  15556 S   0.3   0.0   0:05.44 jupyter+ \u001b[m\u001b[m\u001b[K\n",
      "\u001b[m   3317 tianhong  20   0 1279564 129880  96716 S   0.3   0.0   0:02.79 megasync \u001b[m\u001b[m\u001b[K\n",
      "\u001b[m   4187 root      20   0       0      0      0 S   0.3   0.0   0:00.02 nv_queue \u001b[m\u001b[m\u001b[K\n",
      "\u001b[m      1 root      20   0  168200  11636   8476 S   0.0   0.0   0:01.22 systemd  \u001b[m\u001b[m\u001b[K\n",
      "\u001b[m      2 root      20   0       0      0      0 S   0.0   0.0   0:00.00 kthreadd \u001b[m\u001b[m\u001b[K\n",
      "\u001b[m      3 root       0 -20       0      0      0 I   0.0   0.0   0:00.00 rcu_gp   \u001b[m\u001b[m\u001b[K\n",
      "\u001b[m      4 root       0 -20       0      0      0 I   0.0   0.0   0:00.00 rcu_par+ \u001b[m\u001b[m\u001b[K\n",
      "\u001b[m      5 root       0 -20       0      0      0 I   0.0   0.0   0:00.00 slub_fl+ \u001b[m\u001b[m\u001b[K\n",
      "\u001b[m      6 root       0 -20       0      0      0 I   0.0   0.0   0:00.00 netns    \u001b[m\u001b[m\u001b[K\u001b[H\u001b[mtop - 17:07:24 up  1:48,  1 user,  load average: 0.09, 0.11, 0.07\u001b[m\u001b[m\u001b[m\u001b[m\u001b[K\n",
      "\n",
      "%Cpu(s):\u001b[m\u001b[m\u001b[1m  0.1 \u001b[m\u001b[mus,\u001b[m\u001b[m\u001b[1m  0.1 \u001b[m\u001b[msy,\u001b[m\u001b[m\u001b[1m  0.0 \u001b[m\u001b[mni,\u001b[m\u001b[m\u001b[1m 99.8 \u001b[m\u001b[mid,\u001b[m\u001b[m\u001b[1m  0.0 \u001b[m\u001b[mwa,\u001b[m\u001b[m\u001b[1m  0.0 \u001b[m\u001b[mhi,\u001b[m\u001b[m\u001b[1m  0.0 \u001b[m\u001b[msi,\u001b[m\u001b[m\u001b[1m  0.0 \u001b[m\u001b[mst\u001b[m\u001b[m\u001b[m\u001b[m\u001b[K\n",
      "MiB Mem :\u001b[m\u001b[m\u001b[1m 257418.2 \u001b[m\u001b[mtotal,\u001b[m\u001b[m\u001b[1m 252964.0 \u001b[m\u001b[mfree,\u001b[m\u001b[m\u001b[1m   2505.9 \u001b[m\u001b[mused,\u001b[m\u001b[m\u001b[1m   1948.3 \u001b[m\u001b[mbuff/cache\u001b[m\u001b[m\u001b[m\u001b[m\u001b[K\n",
      "MiB Swap:\u001b[m\u001b[m\u001b[1m   2048.0 \u001b[m\u001b[mtotal,\u001b[m\u001b[m\u001b[1m   2048.0 \u001b[m\u001b[mfree,\u001b[m\u001b[m\u001b[1m      0.0 \u001b[m\u001b[mused.\u001b[m\u001b[m\u001b[1m 252923.5 \u001b[m\u001b[mavail Mem \u001b[m\u001b[m\u001b[m\u001b[m\u001b[K\n",
      "\u001b[K\n",
      "\n",
      "\u001b[m   4203 raul      20   0  530272  61976  15816 S   2.3   0.0   0:00.94 python   \u001b[m\u001b[m\u001b[K\n",
      "\u001b[m   2209 tianhong  20   0 2217768  60464  30664 S   0.7   0.0   1:38.43 anydesk  \u001b[m\u001b[m\u001b[K\n",
      "\u001b[m     14 root      20   0       0      0      0 I   0.3   0.0   0:11.44 rcu_sch+ \u001b[m\u001b[m\u001b[K\n",
      "\u001b[m   2076 root      20   0  281888  88996  49840 S   0.3   0.0   1:04.36 Xorg     \u001b[m\u001b[m\u001b[K\n",
      "\u001b[m   3795 raul      20   0  443144 103768  15796 S   0.3   0.0   0:05.61 jupyter+ \u001b[m\u001b[m\u001b[K\n",
      "\u001b[m\u001b[1m   4214 raul      20   0    9624   4252   3204 R   0.3   0.0   0:00.07 top      \u001b[m\u001b[m\u001b[K\n",
      "\u001b[m      1 root      20   0  168200  11636   8476 S   0.0   0.0   0:01.22 systemd  \u001b[m\u001b[m\u001b[K\n",
      "\u001b[m      2 root      20   0       0      0      0 S   0.0   0.0   0:00.00 kthreadd \u001b[m\u001b[m\u001b[K\n",
      "\u001b[m      3 root       0 -20       0      0      0 I   0.0   0.0   0:00.00 rcu_gp   \u001b[m\u001b[m\u001b[K\n",
      "\u001b[m      4 root       0 -20       0      0      0 I   0.0   0.0   0:00.00 rcu_par+ \u001b[m\u001b[m\u001b[K\n",
      "\u001b[m      5 root       0 -20       0      0      0 I   0.0   0.0   0:00.00 slub_fl+ \u001b[m\u001b[m\u001b[K\n",
      "\u001b[m      6 root       0 -20       0      0      0 I   0.0   0.0   0:00.00 netns    \u001b[m\u001b[m\u001b[K\n",
      "\u001b[m      8 root       0 -20       0      0      0 I   0.0   0.0   0:00.00 kworker+ \u001b[m\u001b[m\u001b[K\n",
      "\u001b[m     10 root       0 -20       0      0      0 I   0.0   0.0   0:00.00 mm_perc+ \u001b[m\u001b[m\u001b[K\n",
      "\u001b[m     11 root      20   0       0      0      0 S   0.0   0.0   0:00.00 rcu_tas+ \u001b[m\u001b[m\u001b[K\n",
      "\u001b[m     12 root      20   0       0      0      0 S   0.0   0.0   0:00.00 rcu_tas+ \u001b[m\u001b[m\u001b[K\n",
      "\u001b[m     13 root      20   0       0      0      0 S   0.0   0.0   0:00.03 ksoftir+ \u001b[m\u001b[m\u001b[K\u001b[?1l\u001b>\u001b[25;1H\n",
      "\u001b[K"
     ]
    }
   ],
   "source": [
    "!top"
   ]
  },
  {
   "cell_type": "code",
   "execution_count": null,
   "metadata": {},
   "outputs": [],
   "source": [
    "!ls"
   ]
  },
  {
   "cell_type": "code",
   "execution_count": 10,
   "metadata": {},
   "outputs": [
    {
     "name": "stdout",
     "output_type": "stream",
     "text": [
      "remote: Enumerating objects: 22, done.\u001b[K\n",
      "remote: Counting objects: 100% (22/22), done.\u001b[K\n",
      "remote: Compressing objects: 100% (7/7), done.\u001b[K\n",
      "remote: Total 14 (delta 7), reused 14 (delta 7), pack-reused 0\u001b[K\n",
      "Unpacking objects: 100% (14/14), 654.05 KiB | 5.54 MiB/s, done.\n",
      "From github.com:raulconchello/peptide-QML\n",
      "   1279c5cb8..0eead819d  main       -> origin/main\n",
      "Updating 1279c5cb8..0eead819d\n",
      "Fast-forward\n",
      " Notebooks/{ => Plots}/Plot_sweep_12X_e.ipynb |   0\n",
      " Notebooks/Plots/Plot_sweep_12X_er_Xqm.ipynb  | 305 \u001b[32m+++++++++++++++++++++++++++\u001b[m\n",
      " Notebooks/sweep_12h_er_Xqm.ipynb             | 219 \u001b[32m++++++++++++++\u001b[m\u001b[31m-----\u001b[m\n",
      " Notebooks/sweep_12h_er_Xqm_v2.ipynb          | 216 \u001b[32m+++++++++++++++++++\u001b[m\n",
      " Notebooks/sweep_12h_er_Xqm_v3.ipynb          | 264 \u001b[32m+++++++++++++++++++++++\u001b[m\n",
      " Notebooks/test quantum circuit.ipynb         | 115 \u001b[32m++++++++\u001b[m\u001b[31m--\u001b[m\n",
      " my_code/helper_classes.py                    |  35 \u001b[32m++\u001b[m\u001b[31m-\u001b[m\n",
      " my_code/helper_functions.py                  |  36 \u001b[32m++++\u001b[m\n",
      " 8 files changed, 1113 insertions(+), 77 deletions(-)\n",
      " rename Notebooks/{ => Plots}/Plot_sweep_12X_e.ipynb (100%)\n",
      " create mode 100644 Notebooks/Plots/Plot_sweep_12X_er_Xqm.ipynb\n",
      " create mode 100644 Notebooks/sweep_12h_er_Xqm_v2.ipynb\n",
      " create mode 100644 Notebooks/sweep_12h_er_Xqm_v3.ipynb\n"
     ]
    }
   ],
   "source": [
    "# pull changes (git) <-> from git to JupyterLab\n",
    "!cd peptide-QML && git fetch && git pull && cd .."
   ]
  },
  {
   "cell_type": "code",
   "execution_count": 3,
   "metadata": {},
   "outputs": [
    {
     "name": "stdout",
     "output_type": "stream",
     "text": [
      "On branch main\n",
      "Your branch is up to date with 'origin/main'.\n",
      "\n",
      "nothing to commit, working tree clean\n"
     ]
    }
   ],
   "source": [
    "# push changes (git) <-> from JupyterLab to git\n",
    "!cd peptide-QML && git add . && git commit -m \"data trained model\" && git push && cd .."
   ]
  },
  {
   "cell_type": "code",
   "execution_count": null,
   "metadata": {},
   "outputs": [],
   "source": []
  }
 ],
 "metadata": {
  "kernelspec": {
   "display_name": "JL_Pennylane",
   "language": "python",
   "name": "jl_pennylane"
  },
  "language_info": {
   "codemirror_mode": {
    "name": "ipython",
    "version": 3
   },
   "file_extension": ".py",
   "mimetype": "text/x-python",
   "name": "python",
   "nbconvert_exporter": "python",
   "pygments_lexer": "ipython3",
   "version": "3.8.10"
  },
  "orig_nbformat": 4
 },
 "nbformat": 4,
 "nbformat_minor": 2
}
