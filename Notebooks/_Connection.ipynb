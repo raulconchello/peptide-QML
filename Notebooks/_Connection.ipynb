{
 "cells": [
  {
   "cell_type": "code",
   "execution_count": 27,
   "metadata": {},
   "outputs": [
    {
     "name": "stdout",
     "output_type": "stream",
     "text": [
      "\u001b[?1h\u001b=\u001b[H\u001b[2J\u001b[mtop - 16:52:57 up 206 days,  1:23,  1 user,  load average: 0.01, 0.05, 0.01\u001b[m\u001b[m\u001b[m\u001b[m\u001b[K\n",
      "Tasks:\u001b[m\u001b[m\u001b[1m 558 \u001b[m\u001b[mtotal,\u001b[m\u001b[m\u001b[1m   1 \u001b[m\u001b[mrunning,\u001b[m\u001b[m\u001b[1m 551 \u001b[m\u001b[msleeping,\u001b[m\u001b[m\u001b[1m   4 \u001b[m\u001b[mstopped,\u001b[m\u001b[m\u001b[1m   2 \u001b[m\u001b[mzombie\u001b[m\u001b[m\u001b[m\u001b[m\u001b[K\n",
      "%Cpu(s):\u001b[m\u001b[m\u001b[1m  0.2 \u001b[m\u001b[mus,\u001b[m\u001b[m\u001b[1m  0.9 \u001b[m\u001b[msy,\u001b[m\u001b[m\u001b[1m  0.0 \u001b[m\u001b[mni,\u001b[m\u001b[m\u001b[1m 98.9 \u001b[m\u001b[mid,\u001b[m\u001b[m\u001b[1m  0.0 \u001b[m\u001b[mwa,\u001b[m\u001b[m\u001b[1m  0.0 \u001b[m\u001b[mhi,\u001b[m\u001b[m\u001b[1m  0.0 \u001b[m\u001b[msi,\u001b[m\u001b[m\u001b[1m  0.0 \u001b[m\u001b[mst\u001b[m\u001b[m\u001b[m\u001b[m\u001b[K\n",
      "MiB Mem :\u001b[m\u001b[m\u001b[1m 257430.5 \u001b[m\u001b[mtotal,\u001b[m\u001b[m\u001b[1m  70951.6 \u001b[m\u001b[mfree,\u001b[m\u001b[m\u001b[1m 179952.2 \u001b[m\u001b[mused,\u001b[m\u001b[m\u001b[1m   6526.6 \u001b[m\u001b[mbuff/cache\u001b[m\u001b[m\u001b[m\u001b[m\u001b[K\n",
      "MiB Swap:\u001b[m\u001b[m\u001b[1m   2048.0 \u001b[m\u001b[mtotal,\u001b[m\u001b[m\u001b[1m     83.1 \u001b[m\u001b[mfree,\u001b[m\u001b[m\u001b[1m   1964.9 \u001b[m\u001b[mused.\u001b[m\u001b[m\u001b[1m  75324.5 \u001b[m\u001b[mavail Mem \u001b[m\u001b[m\u001b[m\u001b[m\u001b[K\n",
      "\u001b[K\n",
      "\u001b[7m    PID USER      PR  NI    VIRT    RES    SHR S  %CPU  %MEM     TIME+ COMMAND  \u001b[m\u001b[m\u001b[K\n",
      "\u001b[m1559869 raul      20   0   10.7g  10.4g   8432 S   6.2   4.1 330:22.32 jupyter+ \u001b[m\u001b[m\u001b[K\n",
      "\u001b[m\u001b[1m1713104 raul      20   0    9652   4156   3120 R   6.2   0.0   0:00.02 top      \u001b[m\u001b[m\u001b[K\n",
      "\u001b[m      1 root      20   0  172652  10960   4620 S   0.0   0.0   5:13.67 systemd  \u001b[m\u001b[m\u001b[K\n",
      "\u001b[m      2 root      20   0       0      0      0 S   0.0   0.0   0:02.44 kthreadd \u001b[m\u001b[m\u001b[K\n",
      "\u001b[m      3 root       0 -20       0      0      0 I   0.0   0.0   0:00.00 rcu_gp   \u001b[m\u001b[m\u001b[K\n",
      "\u001b[m      4 root       0 -20       0      0      0 I   0.0   0.0   0:00.00 rcu_par+ \u001b[m\u001b[m\u001b[K\n",
      "\u001b[m      5 root       0 -20       0      0      0 I   0.0   0.0   0:00.00 slub_fl+ \u001b[m\u001b[m\u001b[K\n",
      "\u001b[m      6 root       0 -20       0      0      0 I   0.0   0.0   0:00.00 netns    \u001b[m\u001b[m\u001b[K\n",
      "\u001b[m      8 root       0 -20       0      0      0 I   0.0   0.0   0:00.00 kworker+ \u001b[m\u001b[m\u001b[K\n",
      "\u001b[m     10 root       0 -20       0      0      0 I   0.0   0.0   0:00.00 mm_perc+ \u001b[m\u001b[m\u001b[K\n",
      "\u001b[m     11 root      20   0       0      0      0 S   0.0   0.0   0:00.00 rcu_tas+ \u001b[m\u001b[m\u001b[K\n",
      "\u001b[m     12 root      20   0       0      0      0 S   0.0   0.0   0:00.00 rcu_tas+ \u001b[m\u001b[m\u001b[K\n",
      "\u001b[m     13 root      20   0       0      0      0 S   0.0   0.0   2:45.03 ksoftir+ \u001b[m\u001b[m\u001b[K\n",
      "\u001b[m     14 root      20   0       0      0      0 I   0.0   0.0 613:15.06 rcu_sch+ \u001b[m\u001b[m\u001b[K\n",
      "\u001b[m     15 root      rt   0       0      0      0 S   0.0   0.0   1:15.48 migrati+ \u001b[m\u001b[m\u001b[K\n",
      "\u001b[m     16 root     -51   0       0      0      0 S   0.0   0.0   0:00.00 idle_in+ \u001b[m\u001b[m\u001b[K\n",
      "\u001b[m     18 root      20   0       0      0      0 S   0.0   0.0   0:00.00 cpuhp/0  \u001b[m\u001b[m\u001b[K\u001b[H\u001b[mtop - 16:53:00 up 206 days,  1:23,  1 user,  load average: 0.01, 0.04, 0.01\u001b[m\u001b[m\u001b[m\u001b[m\u001b[K\n",
      "\n",
      "%Cpu(s):\u001b[m\u001b[m\u001b[1m  0.2 \u001b[m\u001b[mus,\u001b[m\u001b[m\u001b[1m  0.3 \u001b[m\u001b[msy,\u001b[m\u001b[m\u001b[1m  0.0 \u001b[m\u001b[mni,\u001b[m\u001b[m\u001b[1m 99.4 \u001b[m\u001b[mid,\u001b[m\u001b[m\u001b[1m  0.0 \u001b[m\u001b[mwa,\u001b[m\u001b[m\u001b[1m  0.0 \u001b[m\u001b[mhi,\u001b[m\u001b[m\u001b[1m  0.0 \u001b[m\u001b[msi,\u001b[m\u001b[m\u001b[1m  0.0 \u001b[m\u001b[mst\u001b[m\u001b[m\u001b[m\u001b[m\u001b[K\n",
      "\n",
      "\n",
      "\u001b[K\n",
      "\n",
      "\u001b[m1694592 raul      20   0 9900.9m 369716 171160 S   2.3   0.1   0:31.93 python   \u001b[m\u001b[m\u001b[K\n",
      "\u001b[m 317369 abdul     20   0   28592  19684   2212 S   1.0   0.0   2557:12 nvtop    \u001b[m\u001b[m\u001b[K\n",
      "\u001b[m 328079 abdul     20   0   27948  15184      0 S   1.0   0.0   2540:24 nvtop    \u001b[m\u001b[m\u001b[K\n",
      "\u001b[m 372165 abdul     20   0   28788  18632    988 S   1.0   0.0   2499:25 nvtop    \u001b[m\u001b[m\u001b[K\n",
      "\u001b[m1559869 raul      20   0   10.7g  10.4g   8432 S   1.0   4.1 330:22.35 jupyter+ \u001b[m\u001b[m\u001b[K\n",
      "\u001b[m\u001b[1m1713104 raul      20   0    9652   4156   3120 R   1.0   0.0   0:00.05 top      \u001b[m\u001b[m\u001b[K\n",
      "\u001b[m 256242 benjamin  20   0 1339924 865320   9856 S   0.7   0.3   2818:29 jupyter+ \u001b[m\u001b[m\u001b[K\n",
      "\u001b[m 302243 abdul     20   0   25800  15748   1180 S   0.7   0.0   2491:15 nvtop    \u001b[m\u001b[m\u001b[K\n",
      "\u001b[m 607233 abdul     20   0   29556  19668   1376 S   0.7   0.0   2213:15 nvtop    \u001b[m\u001b[m\u001b[K\n",
      "\u001b[m1564018 raul      20   0    9928   2672   1352 S   0.7   0.0 277:35.14 top      \u001b[m\u001b[m\u001b[K\n",
      "\u001b[m1608552 gdm       20   0 4597576   6780   1612 S   0.7   0.0 173:23.32 anydesk  \u001b[m\u001b[m\u001b[K\n",
      "\u001b[m   1434 gdm       20   0 6655176 149212  32168 S   0.3   0.1 164:29.36 gnome-s+ \u001b[m\u001b[m\u001b[K\n",
      "\u001b[m  52427 akshay    20   0 8425384 294328  36156 S   0.3   0.1 171:02.82 gnome-s+ \u001b[m\u001b[m\u001b[K\n",
      "\u001b[m  53850 akshay    20   0  451976  62224   2944 S   0.3   0.0 112:31.07 jupyter+ \u001b[m\u001b[m\u001b[K\n",
      "\u001b[m 263089 akshay    20   0   20.0g   3.8g   9720 S   0.3   1.5 115:33.90 python   \u001b[m\u001b[m\u001b[K\n",
      "\u001b[m 722026 akshay    20   0 2222784  84288  17112 S   0.3   0.0  96:21.36 megasync \u001b[m\u001b[m\u001b[K\n",
      "\u001b[m1196507 avahi     20   0    9656   3204   1644 S   0.3   0.0  64:53.62 avahi-d+ \u001b[m\u001b[m\u001b[K"
     ]
    }
   ],
   "source": [
    "!top"
   ]
  },
  {
   "cell_type": "code",
   "execution_count": 5,
   "metadata": {},
   "outputs": [
    {
     "name": "stdout",
     "output_type": "stream",
     "text": [
      "peptide-QML\n"
     ]
    }
   ],
   "source": [
    "!ls"
   ]
  },
  {
   "cell_type": "code",
   "execution_count": 1,
   "metadata": {},
   "outputs": [
    {
     "name": "stdout",
     "output_type": "stream",
     "text": [
      "remote: Enumerating objects: 20, done.\u001b[K\n",
      "remote: Counting objects: 100% (20/20), done.\u001b[K\n",
      "remote: Compressing objects: 100% (5/5), done.\u001b[K\n",
      "remote: Total 20 (delta 15), reused 20 (delta 15), pack-reused 0\u001b[K\n",
      "Unpacking objects: 100% (20/20), 271.08 KiB | 2.32 MiB/s, done.\n",
      "From github.com:raulconchello/peptide-QML\n",
      "   ca2d5a89..bc70d4d0  main       -> origin/main\n",
      "Updating ca2d5a89..bc70d4d0\n",
      "Fast-forward\n",
      " Notebooks/sh_em_1qm_loop.ipynb | 3478 \u001b[32m++++++++++++++++++++++++++++++++++++++\u001b[m\u001b[31m--\u001b[m\n",
      " my_code/pytorch_model.py       |    7 \u001b[32m+\u001b[m\u001b[31m-\u001b[m\n",
      " 2 files changed, 3340 insertions(+), 145 deletions(-)\n"
     ]
    }
   ],
   "source": [
    "# pull changes (git) <-> from git to JupyterLab\n",
    "!cd peptide-QML && git fetch && git pull && cd .."
   ]
  },
  {
   "cell_type": "code",
   "execution_count": 16,
   "metadata": {},
   "outputs": [
    {
     "name": "stdout",
     "output_type": "stream",
     "text": [
      "On branch main\n",
      "Your branch is up to date with 'origin/main'.\n",
      "\n",
      "nothing to commit, working tree clean\n"
     ]
    }
   ],
   "source": [
    "# push changes (git) <-> from JupyterLab to git\n",
    "!cd peptide-QML && git add . && git commit -m \"data trained model\" && git push && cd .."
   ]
  },
  {
   "cell_type": "code",
   "execution_count": null,
   "metadata": {},
   "outputs": [],
   "source": []
  }
 ],
 "metadata": {
  "kernelspec": {
   "display_name": "JL_Pennylane",
   "language": "python",
   "name": "jl_pennylane"
  },
  "language_info": {
   "codemirror_mode": {
    "name": "ipython",
    "version": 3
   },
   "file_extension": ".py",
   "mimetype": "text/x-python",
   "name": "python",
   "nbconvert_exporter": "python",
   "pygments_lexer": "ipython3",
   "version": "3.8.10"
  },
  "orig_nbformat": 4
 },
 "nbformat": 4,
 "nbformat_minor": 2
}
