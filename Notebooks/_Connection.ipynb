{
 "cells": [
  {
   "cell_type": "code",
   "execution_count": 74,
   "metadata": {},
   "outputs": [
    {
     "name": "stdout",
     "output_type": "stream",
     "text": [
      "\u001b[?1h\u001b=\u001b[H\u001b[2J\u001b[mtop - 15:05:18 up 186 days, 23:35,  1 user,  load average: 4.28, 3.78, 1.90\u001b[m\u001b[m\u001b[m\u001b[m\u001b[K\n",
      "Tasks:\u001b[m\u001b[m\u001b[1m 548 \u001b[m\u001b[mtotal,\u001b[m\u001b[m\u001b[1m   2 \u001b[m\u001b[mrunning,\u001b[m\u001b[m\u001b[1m 541 \u001b[m\u001b[msleeping,\u001b[m\u001b[m\u001b[1m   4 \u001b[m\u001b[mstopped,\u001b[m\u001b[m\u001b[1m   1 \u001b[m\u001b[mzombie\u001b[m\u001b[m\u001b[m\u001b[m\u001b[K\n",
      "%Cpu(s):\u001b[m\u001b[m\u001b[1m 10.6 \u001b[m\u001b[mus,\u001b[m\u001b[m\u001b[1m  0.5 \u001b[m\u001b[msy,\u001b[m\u001b[m\u001b[1m  0.0 \u001b[m\u001b[mni,\u001b[m\u001b[m\u001b[1m 88.9 \u001b[m\u001b[mid,\u001b[m\u001b[m\u001b[1m  0.0 \u001b[m\u001b[mwa,\u001b[m\u001b[m\u001b[1m  0.0 \u001b[m\u001b[mhi,\u001b[m\u001b[m\u001b[1m  0.0 \u001b[m\u001b[msi,\u001b[m\u001b[m\u001b[1m  0.0 \u001b[m\u001b[mst\u001b[m\u001b[m\u001b[m\u001b[m\u001b[K\n",
      "MiB Mem :\u001b[m\u001b[m\u001b[1m 257430.5 \u001b[m\u001b[mtotal,\u001b[m\u001b[m\u001b[1m  25659.4 \u001b[m\u001b[mfree,\u001b[m\u001b[m\u001b[1m 101377.4 \u001b[m\u001b[mused,\u001b[m\u001b[m\u001b[1m 130393.6 \u001b[m\u001b[mbuff/cache\u001b[m\u001b[m\u001b[m\u001b[m\u001b[K\n",
      "MiB Swap:\u001b[m\u001b[m\u001b[1m   2048.0 \u001b[m\u001b[mtotal,\u001b[m\u001b[m\u001b[1m   2043.0 \u001b[m\u001b[mfree,\u001b[m\u001b[m\u001b[1m      5.0 \u001b[m\u001b[mused.\u001b[m\u001b[m\u001b[1m 153753.3 \u001b[m\u001b[mavail Mem \u001b[m\u001b[m\u001b[m\u001b[m\u001b[K\n",
      "\u001b[K\n",
      "\u001b[7m    PID USER      PR  NI    VIRT    RES    SHR S  %CPU  %MEM     TIME+ COMMAND  \u001b[m\u001b[m\u001b[K\n",
      "\u001b[m\u001b[1m1629713 raul      20   0   11.3g 646928 182364 R 262.5   0.2   8:30.82 python   \u001b[m\u001b[m\u001b[K\n",
      "\u001b[m\u001b[1m1629786 raul      20   0    9652   4272   3236 R   6.2   0.0   0:00.01 top      \u001b[m\u001b[m\u001b[K\n",
      "\u001b[m      1 root      20   0  172652  14200   7860 S   0.0   0.0   4:49.93 systemd  \u001b[m\u001b[m\u001b[K\n",
      "\u001b[m      2 root      20   0       0      0      0 S   0.0   0.0   0:02.27 kthreadd \u001b[m\u001b[m\u001b[K\n",
      "\u001b[m      3 root       0 -20       0      0      0 I   0.0   0.0   0:00.00 rcu_gp   \u001b[m\u001b[m\u001b[K\n",
      "\u001b[m      4 root       0 -20       0      0      0 I   0.0   0.0   0:00.00 rcu_par+ \u001b[m\u001b[m\u001b[K\n",
      "\u001b[m      5 root       0 -20       0      0      0 I   0.0   0.0   0:00.00 slub_fl+ \u001b[m\u001b[m\u001b[K\n",
      "\u001b[m      6 root       0 -20       0      0      0 I   0.0   0.0   0:00.00 netns    \u001b[m\u001b[m\u001b[K\n",
      "\u001b[m      8 root       0 -20       0      0      0 I   0.0   0.0   0:00.00 kworker+ \u001b[m\u001b[m\u001b[K\n",
      "\u001b[m     10 root       0 -20       0      0      0 I   0.0   0.0   0:00.00 mm_perc+ \u001b[m\u001b[m\u001b[K\n",
      "\u001b[m     11 root      20   0       0      0      0 S   0.0   0.0   0:00.00 rcu_tas+ \u001b[m\u001b[m\u001b[K\n",
      "\u001b[m     12 root      20   0       0      0      0 S   0.0   0.0   0:00.00 rcu_tas+ \u001b[m\u001b[m\u001b[K\n",
      "\u001b[m     13 root      20   0       0      0      0 S   0.0   0.0   2:34.36 ksoftir+ \u001b[m\u001b[m\u001b[K\n",
      "\u001b[m     14 root      20   0       0      0      0 I   0.0   0.0 551:44.12 rcu_sch+ \u001b[m\u001b[m\u001b[K\n",
      "\u001b[m     15 root      rt   0       0      0      0 S   0.0   0.0   1:08.17 migrati+ \u001b[m\u001b[m\u001b[K\n",
      "\u001b[m     16 root     -51   0       0      0      0 S   0.0   0.0   0:00.00 idle_in+ \u001b[m\u001b[m\u001b[K\n",
      "\u001b[m     18 root      20   0       0      0      0 S   0.0   0.0   0:00.00 cpuhp/0  \u001b[m\u001b[m\u001b[K\u001b[H\u001b[mtop - 15:05:21 up 186 days, 23:35,  1 user,  load average: 4.28, 3.78, 1.90\u001b[m\u001b[m\u001b[m\u001b[m\u001b[K\n",
      "\n",
      "%Cpu(s):\u001b[m\u001b[m\u001b[1m  9.8 \u001b[m\u001b[mus,\u001b[m\u001b[m\u001b[1m  0.3 \u001b[m\u001b[msy,\u001b[m\u001b[m\u001b[1m  0.0 \u001b[m\u001b[mni,\u001b[m\u001b[m\u001b[1m 89.9 \u001b[m\u001b[mid,\u001b[m\u001b[m\u001b[1m  0.0 \u001b[m\u001b[mwa,\u001b[m\u001b[m\u001b[1m  0.0 \u001b[m\u001b[mhi,\u001b[m\u001b[m\u001b[1m  0.0 \u001b[m\u001b[msi,\u001b[m\u001b[m\u001b[1m  0.0 \u001b[m\u001b[mst\u001b[m\u001b[m\u001b[m\u001b[m\u001b[K\n",
      "MiB Mem :\u001b[m\u001b[m\u001b[1m 257430.5 \u001b[m\u001b[mtotal,\u001b[m\u001b[m\u001b[1m  25658.7 \u001b[m\u001b[mfree,\u001b[m\u001b[m\u001b[1m 101378.0 \u001b[m\u001b[mused,\u001b[m\u001b[m\u001b[1m 130393.7 \u001b[m\u001b[mbuff/cache\u001b[m\u001b[m\u001b[m\u001b[m\u001b[K\n",
      "MiB Swap:\u001b[m\u001b[m\u001b[1m   2048.0 \u001b[m\u001b[mtotal,\u001b[m\u001b[m\u001b[1m   2043.0 \u001b[m\u001b[mfree,\u001b[m\u001b[m\u001b[1m      5.0 \u001b[m\u001b[mused.\u001b[m\u001b[m\u001b[1m 153752.7 \u001b[m\u001b[mavail Mem \u001b[m\u001b[m\u001b[m\u001b[m\u001b[K\n",
      "\u001b[K\n",
      "\n",
      "\u001b[m\u001b[1m1629713 raul      20   0   11.3g 646928 182364 R 229.8   0.2   8:37.76 python   \u001b[m\u001b[m\u001b[K\n",
      "\u001b[m1586465 raul      20   0   21.3g  11.0g 182272 S   2.0   4.4 223:49.38 python   \u001b[m\u001b[m\u001b[K\n",
      "\u001b[m1559869 raul      20   0 4082452   3.6g  15648 S   1.7   1.4  67:19.11 jupyter+ \u001b[m\u001b[m\u001b[K\n",
      "\u001b[m 302243 abdul     20   0   25800  18508   3804 S   1.3   0.0   2234:49 nvtop    \u001b[m\u001b[m\u001b[K\n",
      "\u001b[m 328079 abdul     20   0   27948  20388   3672 S   1.3   0.0   2276:29 nvtop    \u001b[m\u001b[m\u001b[K\n",
      "\u001b[m 607233 abdul     20   0   29556  22132   3832 S   1.3   0.0   1952:01 nvtop    \u001b[m\u001b[m\u001b[K\n",
      "\u001b[m 317369 abdul     20   0   28592  21352   3800 S   1.0   0.0   2292:56 nvtop    \u001b[m\u001b[m\u001b[K\n",
      "\u001b[m 372165 abdul     20   0   28788  21468   3800 S   1.0   0.0   2235:36 nvtop    \u001b[m\u001b[m\u001b[K\n",
      "\u001b[m\u001b[1m1629786 raul      20   0    9652   4272   3236 R   0.7   0.0   0:00.03 top      \u001b[m\u001b[m\u001b[K\n",
      "\u001b[m     14 root      20   0       0      0      0 I   0.3   0.0 551:44.13 rcu_sch+ \u001b[m\u001b[m\u001b[K\n",
      "\u001b[m   1119 root      20   0  720996 186752  26032 S   0.3   0.1 182:55.83 node     \u001b[m\u001b[m\u001b[K\n",
      "\u001b[m 256242 benjamin  20   0 1339844 954064  13280 S   0.3   0.4   2647:33 jupyter+ \u001b[m\u001b[m\u001b[K\n",
      "\u001b[m 787118 peese     20   0  200660  46180  11080 S   0.3   0.0  89:47.08 ipython  \u001b[m\u001b[m\u001b[K\n",
      "\u001b[m1564018 raul      20   0    9928   4240   3012 S   0.3   0.0 110:31.35 top      \u001b[m\u001b[m\u001b[K\n",
      "\u001b[m1608552 gdm       20   0 1905928  23168  19588 S   0.3   0.0  22:54.01 anydesk  \u001b[m\u001b[m\u001b[K\n",
      "\u001b[m      1 root      20   0  172652  14200   7860 S   0.0   0.0   4:49.93 systemd  \u001b[m\u001b[m\u001b[K\n",
      "\u001b[m      2 root      20   0       0      0      0 S   0.0   0.0   0:02.27 kthreadd \u001b[m\u001b[m\u001b[K\u001b[?1l\u001b>\u001b[25;1H\n",
      "\u001b[K"
     ]
    }
   ],
   "source": [
    "!top"
   ]
  },
  {
   "cell_type": "code",
   "execution_count": 5,
   "metadata": {},
   "outputs": [
    {
     "name": "stdout",
     "output_type": "stream",
     "text": [
      "peptide-QML\n"
     ]
    }
   ],
   "source": [
    "!ls"
   ]
  },
  {
   "cell_type": "code",
   "execution_count": 86,
   "metadata": {},
   "outputs": [
    {
     "name": "stdout",
     "output_type": "stream",
     "text": [
      "remote: Enumerating objects: 15, done.\u001b[K\n",
      "remote: Counting objects: 100% (15/15), done.\u001b[K\n",
      "remote: Compressing objects: 100% (2/2), done.\u001b[K\n",
      "remote: Total 9 (delta 7), reused 9 (delta 7), pack-reused 0\u001b[K\n",
      "Unpacking objects: 100% (9/9), 211.89 KiB | 2.46 MiB/s, done.\n",
      "From github.com:raulconchello/peptide-QML\n",
      "   d1ce32d9..1d8d007c  main       -> origin/main\n",
      "Updating d1ce32d9..1d8d007c\n",
      "Fast-forward\n",
      " Notebooks/nomenclature.ipynb |     1 \u001b[32m+\u001b[m\n",
      " Notebooks/sh_e_1qm.ipynb     |  1903 \u001b[31m-----\u001b[m\n",
      " Notebooks/sh_e_1qm_v2.ipynb  |  1685 \u001b[31m-----\u001b[m\n",
      " Notebooks/sh_em_1qm.ipynb    |  1455 \u001b[32m+\u001b[m\u001b[31m---\u001b[m\n",
      " Notebooks/sh_em_1qm_v2.ipynb |  1256 \u001b[32m+\u001b[m\u001b[31m---\u001b[m\n",
      " Notebooks/sq_1qm.ipynb       | 15821 \u001b[31m-----------------------------------------\u001b[m\n",
      " my_code/pytorch_model.py     |     3 \u001b[32m+\u001b[m\n",
      " 7 files changed, 471 insertions(+), 21653 deletions(-)\n",
      " delete mode 100644 Notebooks/sh_e_1qm.ipynb\n",
      " delete mode 100644 Notebooks/sh_e_1qm_v2.ipynb\n",
      " delete mode 100644 Notebooks/sq_1qm.ipynb\n"
     ]
    }
   ],
   "source": [
    "# pull changes (git) <-> from git to JupyterLab\n",
    "!cd peptide-QML && git fetch && git pull && cd .."
   ]
  },
  {
   "cell_type": "code",
   "execution_count": 87,
   "metadata": {},
   "outputs": [
    {
     "name": "stdout",
     "output_type": "stream",
     "text": [
      "[main 598c5ba6] data trained model\n",
      " 29 files changed, 144 insertions(+), 1 deletion(-)\n",
      " create mode 100644 checkpoints/0809/plots/0809-sh_em_1qm_v2_losses_batches_4.png\n",
      " create mode 100644 checkpoints/0809/plots/0809-sh_em_1qm_v2_losses_epoch_4.png\n",
      " create mode 100644 checkpoints/0809/plots/0809-sh_em_1qm_v2_losses_epoch_validation_4.png\n",
      " create mode 100644 checkpoints/0809/plots/0809-sh_em_1qm_v2_parameter_0.weight_None_4.png\n",
      " create mode 100644 checkpoints/0809/plots/0809-sh_em_1qm_v2_parameter_2.block_weights_None_4.png\n",
      " create mode 100644 checkpoints/0809/plots/0809-sh_em_1qm_v2_parameter_2.embedding_weights_None_4.png\n",
      " create mode 100644 checkpoints/0809/plots/0809-sh_em_1qm_v2_parameter_3.bias_None_4.png\n",
      " create mode 100644 checkpoints/0809/plots/0809-sh_em_1qm_v2_parameter_3.weight_None_4.png\n",
      " create mode 100644 checkpoints/0809/plots/0809-sh_em_1qm_v2_validation_4.png\n",
      " create mode 100644 checkpoints/0809/txts/0809-sh_em_1qm_v2_model_str_4.txt\n",
      " create mode 100644 checkpoints/0809/txts/0809-sh_em_1qm_v2_validation_4.txt\n",
      " create mode 100644 checkpoints/0810/models/.gitkeep\n",
      " create mode 100644 checkpoints/0810/models/0810-sh_em_1qm_v2_4.pth\n",
      " create mode 100644 checkpoints/0810/notebooks/.gitkeep\n",
      " create mode 100644 checkpoints/0810/pdfs/.gitkeep\n",
      " create mode 100644 checkpoints/0810/plots/.gitkeep\n",
      " create mode 100644 checkpoints/0810/plots/0810-sh_em_1qm_v2_losses_batches_4.png\n",
      " create mode 100644 checkpoints/0810/plots/0810-sh_em_1qm_v2_losses_epoch_4.png\n",
      " create mode 100644 checkpoints/0810/plots/0810-sh_em_1qm_v2_losses_epoch_validation_4.png\n",
      " create mode 100644 checkpoints/0810/plots/0810-sh_em_1qm_v2_parameter_0.weight_None_4.png\n",
      " create mode 100644 checkpoints/0810/plots/0810-sh_em_1qm_v2_parameter_2.block_weights_None_4.png\n",
      " create mode 100644 checkpoints/0810/plots/0810-sh_em_1qm_v2_parameter_2.embedding_weights_None_4.png\n",
      " create mode 100644 checkpoints/0810/plots/0810-sh_em_1qm_v2_parameter_3.bias_None_4.png\n",
      " create mode 100644 checkpoints/0810/plots/0810-sh_em_1qm_v2_parameter_3.weight_None_4.png\n",
      " create mode 100644 checkpoints/0810/txts/.gitkeep\n",
      " create mode 100644 checkpoints/0810/txts/0810-sh_em_1qm_v2_model_str_4.txt\n",
      " create mode 100644 checkpoints/0810/versions/.gitkeep\n",
      " create mode 100644 checkpoints/0810/versions/0810-sh_em_1qm_v2.version\n",
      "Enumerating objects: 42, done.\n",
      "Counting objects: 100% (42/42), done.\n",
      "Delta compression using up to 24 threads\n",
      "Compressing objects: 100% (33/33), done.\n",
      "Writing objects: 100% (35/35), 338.97 KiB | 9.16 MiB/s, done.\n",
      "Total 35 (delta 6), reused 1 (delta 0)\n",
      "remote: Resolving deltas: 100% (6/6), completed with 5 local objects.\u001b[K\n",
      "To github.com:raulconchello/peptide-QML.git\n",
      "   1d8d007c..598c5ba6  main -> main\n"
     ]
    }
   ],
   "source": [
    "# push changes (git) <-> from JupyterLab to git\n",
    "!cd peptide-QML && git add . && git commit -m \"data trained model\" && git push && cd .."
   ]
  }
 ],
 "metadata": {
  "kernelspec": {
   "display_name": "JL_Pennylane",
   "language": "python",
   "name": "jl_pennylane"
  },
  "language_info": {
   "codemirror_mode": {
    "name": "ipython",
    "version": 3
   },
   "file_extension": ".py",
   "mimetype": "text/x-python",
   "name": "python",
   "nbconvert_exporter": "python",
   "pygments_lexer": "ipython3",
   "version": "3.8.10"
  },
  "orig_nbformat": 4
 },
 "nbformat": 4,
 "nbformat_minor": 2
}
