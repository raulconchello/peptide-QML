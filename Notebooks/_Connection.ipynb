{
 "cells": [
  {
   "cell_type": "code",
   "execution_count": 1,
   "metadata": {},
   "outputs": [
    {
     "name": "stdout",
     "output_type": "stream",
     "text": [
      "\u001b[?1h\u001b=\u001b[H\u001b[2J\u001b[mtop - 09:48:24 up 2 days, 18:29,  1 user,  load average: 12.93, 8.37, 3.51\u001b[m\u001b[m\u001b[m\u001b[m\u001b[K\n",
      "Tasks:\u001b[m\u001b[m\u001b[1m 477 \u001b[m\u001b[mtotal,\u001b[m\u001b[m\u001b[1m   2 \u001b[m\u001b[mrunning,\u001b[m\u001b[m\u001b[1m 475 \u001b[m\u001b[msleeping,\u001b[m\u001b[m\u001b[1m   0 \u001b[m\u001b[mstopped,\u001b[m\u001b[m\u001b[1m   0 \u001b[m\u001b[mzombie\u001b[m\u001b[m\u001b[m\u001b[m\u001b[K\n",
      "%Cpu(s):\u001b[m\u001b[m\u001b[1m  8.6 \u001b[m\u001b[mus,\u001b[m\u001b[m\u001b[1m  0.7 \u001b[m\u001b[msy,\u001b[m\u001b[m\u001b[1m  0.0 \u001b[m\u001b[mni,\u001b[m\u001b[m\u001b[1m 90.7 \u001b[m\u001b[mid,\u001b[m\u001b[m\u001b[1m  0.0 \u001b[m\u001b[mwa,\u001b[m\u001b[m\u001b[1m  0.0 \u001b[m\u001b[mhi,\u001b[m\u001b[m\u001b[1m  0.0 \u001b[m\u001b[msi,\u001b[m\u001b[m\u001b[1m  0.0 \u001b[m\u001b[mst\u001b[m\u001b[m\u001b[m\u001b[m\u001b[K\n",
      "MiB Mem :\u001b[m\u001b[m\u001b[1m 257418.2 \u001b[m\u001b[mtotal,\u001b[m\u001b[m\u001b[1m 252408.2 \u001b[m\u001b[mfree,\u001b[m\u001b[m\u001b[1m   4769.4 \u001b[m\u001b[mused,\u001b[m\u001b[m\u001b[1m    240.6 \u001b[m\u001b[mbuff/cache\u001b[m\u001b[m\u001b[m\u001b[m\u001b[K\n",
      "MiB Swap:\u001b[m\u001b[m\u001b[1m   2048.0 \u001b[m\u001b[mtotal,\u001b[m\u001b[m\u001b[1m   1015.4 \u001b[m\u001b[mfree,\u001b[m\u001b[m\u001b[1m   1032.6 \u001b[m\u001b[mused.\u001b[m\u001b[m\u001b[1m 250923.4 \u001b[m\u001b[mavail Mem \u001b[m\u001b[m\u001b[m\u001b[m\u001b[K\n",
      "\u001b[K\n",
      "\u001b[7m    PID USER      PR  NI    VIRT    RES    SHR S  %CPU  %MEM     TIME+ COMMAND  \u001b[m\u001b[m\u001b[K\n",
      "\u001b[m\u001b[1m  34294 raul      20   0   22.9g   3.6g  27308 R 205.9   1.4  22:09.62 python   \u001b[m\u001b[m\u001b[K\n",
      "\u001b[m\u001b[1m  34464 raul      20   0    9652   4156   3124 R  11.8   0.0   0:00.03 top      \u001b[m\u001b[m\u001b[K\n",
      "\u001b[m  34453 raul      20   0  530272  61864  15708 S   5.9   0.0   0:00.65 python   \u001b[m\u001b[m\u001b[K\n",
      "\u001b[m      1 root      20   0  171084   4428      0 S   0.0   0.0   0:04.60 systemd  \u001b[m\u001b[m\u001b[K\n",
      "\u001b[m      2 root      20   0       0      0      0 S   0.0   0.0   0:00.03 kthreadd \u001b[m\u001b[m\u001b[K\n",
      "\u001b[m      3 root       0 -20       0      0      0 I   0.0   0.0   0:00.00 rcu_gp   \u001b[m\u001b[m\u001b[K\n",
      "\u001b[m      4 root       0 -20       0      0      0 I   0.0   0.0   0:00.00 rcu_par+ \u001b[m\u001b[m\u001b[K\n",
      "\u001b[m      5 root       0 -20       0      0      0 I   0.0   0.0   0:00.00 slub_fl+ \u001b[m\u001b[m\u001b[K\n",
      "\u001b[m      6 root       0 -20       0      0      0 I   0.0   0.0   0:00.00 netns    \u001b[m\u001b[m\u001b[K\n",
      "\u001b[m      8 root       0 -20       0      0      0 I   0.0   0.0   0:00.00 kworker+ \u001b[m\u001b[m\u001b[K\n",
      "\u001b[m     10 root       0 -20       0      0      0 I   0.0   0.0   0:00.00 mm_perc+ \u001b[m\u001b[m\u001b[K\n",
      "\u001b[m     11 root      20   0       0      0      0 S   0.0   0.0   0:00.00 rcu_tas+ \u001b[m\u001b[m\u001b[K\n",
      "\u001b[m     12 root      20   0       0      0      0 S   0.0   0.0   0:00.00 rcu_tas+ \u001b[m\u001b[m\u001b[K\n",
      "\u001b[m     13 root      20   0       0      0      0 S   0.0   0.0   0:00.42 ksoftir+ \u001b[m\u001b[m\u001b[K\n",
      "\u001b[m     14 root      20   0       0      0      0 I   0.0   0.0   6:12.17 rcu_sch+ \u001b[m\u001b[m\u001b[K\n",
      "\u001b[m     15 root      rt   0       0      0      0 S   0.0   0.0   0:00.44 migrati+ \u001b[m\u001b[m\u001b[K\n",
      "\u001b[m     16 root     -51   0       0      0      0 S   0.0   0.0   0:00.00 idle_in+ \u001b[m\u001b[m\u001b[K\u001b[H\u001b[mtop - 09:48:27 up 2 days, 18:29,  1 user,  load average: 12.78, 8.42, 3.55\u001b[m\u001b[m\u001b[m\u001b[m\u001b[K\n",
      "Tasks:\u001b[m\u001b[m\u001b[1m 476 \u001b[m\u001b[mtotal,\u001b[m\u001b[m\u001b[1m   2 \u001b[m\u001b[mrunning,\u001b[m\u001b[m\u001b[1m 474 \u001b[m\u001b[msleeping,\u001b[m\u001b[m\u001b[1m   0 \u001b[m\u001b[mstopped,\u001b[m\u001b[m\u001b[1m   0 \u001b[m\u001b[mzombie\u001b[m\u001b[m\u001b[m\u001b[m\u001b[K\n",
      "%Cpu(s):\u001b[m\u001b[m\u001b[1m 11.0 \u001b[m\u001b[mus,\u001b[m\u001b[m\u001b[1m  0.1 \u001b[m\u001b[msy,\u001b[m\u001b[m\u001b[1m  0.0 \u001b[m\u001b[mni,\u001b[m\u001b[m\u001b[1m 88.8 \u001b[m\u001b[mid,\u001b[m\u001b[m\u001b[1m  0.1 \u001b[m\u001b[mwa,\u001b[m\u001b[m\u001b[1m  0.0 \u001b[m\u001b[mhi,\u001b[m\u001b[m\u001b[1m  0.0 \u001b[m\u001b[msi,\u001b[m\u001b[m\u001b[1m  0.0 \u001b[m\u001b[mst\u001b[m\u001b[m\u001b[m\u001b[m\u001b[K\n",
      "MiB Mem :\u001b[m\u001b[m\u001b[1m 257418.2 \u001b[m\u001b[mtotal,\u001b[m\u001b[m\u001b[1m 252408.0 \u001b[m\u001b[mfree,\u001b[m\u001b[m\u001b[1m   4769.5 \u001b[m\u001b[mused,\u001b[m\u001b[m\u001b[1m    240.8 \u001b[m\u001b[mbuff/cache\u001b[m\u001b[m\u001b[m\u001b[m\u001b[K\n",
      "MiB Swap:\u001b[m\u001b[m\u001b[1m   2048.0 \u001b[m\u001b[mtotal,\u001b[m\u001b[m\u001b[1m   1015.7 \u001b[m\u001b[mfree,\u001b[m\u001b[m\u001b[1m   1032.3 \u001b[m\u001b[mused.\u001b[m\u001b[m\u001b[1m 250923.3 \u001b[m\u001b[mavail Mem \u001b[m\u001b[m\u001b[m\u001b[m\u001b[K\n",
      "\u001b[K\n",
      "\n",
      "\u001b[m\u001b[1m  34294 raul      20   0   22.9g   3.6g  27308 R 258.9   1.4  22:17.44 python   \u001b[m\u001b[m\u001b[K\n",
      "\u001b[m  34453 raul      20   0  530272  61888  15708 S   2.0   0.0   0:00.71 python   \u001b[m\u001b[m\u001b[K\n",
      "\u001b[m   3795 raul      20   0  520584 100108   8188 S   1.7   0.0  68:01.73 jupyter+ \u001b[m\u001b[m\u001b[K\n",
      "\u001b[m     14 root      20   0       0      0      0 I   0.3   0.0   6:12.18 rcu_sch+ \u001b[m\u001b[m\u001b[K\n",
      "\u001b[m   1373 root      20   0  600684  35020   6652 S   0.3   0.0   9:13.00 node     \u001b[m\u001b[m\u001b[K\n",
      "\u001b[m   2209 tianhong  20   0 2217768  19256   2012 S   0.3   0.0  18:02.29 anydesk  \u001b[m\u001b[m\u001b[K\n",
      "\u001b[m\u001b[1m  34464 raul      20   0    9652   4156   3124 R   0.3   0.0   0:00.04 top      \u001b[m\u001b[m\u001b[K\n",
      "\u001b[m      1 root      20   0  171084   4428      0 S   0.0   0.0   0:04.60 systemd  \u001b[m\u001b[m\u001b[K\n",
      "\u001b[m      2 root      20   0       0      0      0 S   0.0   0.0   0:00.03 kthreadd \u001b[m\u001b[m\u001b[K\n",
      "\u001b[m      3 root       0 -20       0      0      0 I   0.0   0.0   0:00.00 rcu_gp   \u001b[m\u001b[m\u001b[K\n",
      "\u001b[m      4 root       0 -20       0      0      0 I   0.0   0.0   0:00.00 rcu_par+ \u001b[m\u001b[m\u001b[K\n",
      "\u001b[m      5 root       0 -20       0      0      0 I   0.0   0.0   0:00.00 slub_fl+ \u001b[m\u001b[m\u001b[K\n",
      "\u001b[m      6 root       0 -20       0      0      0 I   0.0   0.0   0:00.00 netns    \u001b[m\u001b[m\u001b[K\n",
      "\u001b[m      8 root       0 -20       0      0      0 I   0.0   0.0   0:00.00 kworker+ \u001b[m\u001b[m\u001b[K\n",
      "\u001b[m     10 root       0 -20       0      0      0 I   0.0   0.0   0:00.00 mm_perc+ \u001b[m\u001b[m\u001b[K\n",
      "\u001b[m     11 root      20   0       0      0      0 S   0.0   0.0   0:00.00 rcu_tas+ \u001b[m\u001b[m\u001b[K\n",
      "\u001b[m     12 root      20   0       0      0      0 S   0.0   0.0   0:00.00 rcu_tas+ \u001b[m\u001b[m\u001b[K\u001b[?1l\u001b>\u001b[25;1H\n",
      "\u001b[K"
     ]
    }
   ],
   "source": [
    "!top"
   ]
  },
  {
   "cell_type": "code",
   "execution_count": null,
   "metadata": {},
   "outputs": [],
   "source": [
    "!ls"
   ]
  },
  {
   "cell_type": "code",
   "execution_count": 4,
   "metadata": {},
   "outputs": [
    {
     "name": "stdout",
     "output_type": "stream",
     "text": [
      "remote: Enumerating objects: 18, done.\u001b[K\n",
      "remote: Counting objects: 100% (18/18), done.\u001b[K\n",
      "remote: Compressing objects: 100% (5/5), done.\u001b[K\n",
      "remote: Total 13 (delta 8), reused 13 (delta 8), pack-reused 0\u001b[K\n",
      "Unpacking objects: 100% (13/13), 858.33 KiB | 9.54 MiB/s, done.\n",
      "From github.com:raulconchello/peptide-QML\n",
      "   6e5352d09..cada10e64  main       -> origin/main\n",
      "Updating 6e5352d09..cada10e64\n",
      "Fast-forward\n",
      " Notebooks/-data_create_object.ipynb  |   44 \u001b[32m+\u001b[m\u001b[31m-\u001b[m\n",
      " Notebooks/Plot_sweep_6h_er_Aqm.ipynb | 1067 \u001b[32m++++++++++++++++++++++++++++++++\u001b[m\n",
      " Notebooks/sweep_6c_linear.ipynb      | 1121 \u001b[32m++++++++++++++++++++++++++++++++++\u001b[m\n",
      " Notebooks/sweep_6h_er_Aqm_.ipynb     | 1121 \u001b[32m++++++++++++++++++++++++++++++++++\u001b[m\n",
      " my_code/helper_classes.py            |    7 \u001b[32m+\u001b[m\u001b[31m-\u001b[m\n",
      " 5 files changed, 3343 insertions(+), 17 deletions(-)\n",
      " create mode 100644 Notebooks/Plot_sweep_6h_er_Aqm.ipynb\n",
      " create mode 100644 Notebooks/sweep_6c_linear.ipynb\n",
      " create mode 100644 Notebooks/sweep_6h_er_Aqm_.ipynb\n"
     ]
    }
   ],
   "source": [
    "# pull changes (git) <-> from git to JupyterLab\n",
    "!cd peptide-QML && git fetch && git pull && cd .."
   ]
  },
  {
   "cell_type": "code",
   "execution_count": 3,
   "metadata": {},
   "outputs": [
    {
     "name": "stdout",
     "output_type": "stream",
     "text": [
      "On branch main\n",
      "Your branch is up to date with 'origin/main'.\n",
      "\n",
      "nothing to commit, working tree clean\n"
     ]
    }
   ],
   "source": [
    "# push changes (git) <-> from JupyterLab to git\n",
    "!cd peptide-QML && git add . && git commit -m \"data trained model\" && git push && cd .."
   ]
  },
  {
   "cell_type": "code",
   "execution_count": null,
   "metadata": {},
   "outputs": [],
   "source": []
  }
 ],
 "metadata": {
  "kernelspec": {
   "display_name": "JL_Pennylane",
   "language": "python",
   "name": "jl_pennylane"
  },
  "language_info": {
   "codemirror_mode": {
    "name": "ipython",
    "version": 3
   },
   "file_extension": ".py",
   "mimetype": "text/x-python",
   "name": "python",
   "nbconvert_exporter": "python",
   "pygments_lexer": "ipython3",
   "version": "3.8.10"
  },
  "orig_nbformat": 4
 },
 "nbformat": 4,
 "nbformat_minor": 2
}
