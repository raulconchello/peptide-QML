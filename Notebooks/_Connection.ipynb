{
 "cells": [
  {
   "cell_type": "code",
   "execution_count": 9,
   "metadata": {},
   "outputs": [
    {
     "name": "stdout",
     "output_type": "stream",
     "text": [
      "\u001b[?1h\u001b=\u001b[H\u001b[2J\u001b[mtop - 18:05:44 up 7 days, 19:59,  1 user,  load average: 1.07, 1.18, 1.21\u001b[m\u001b[m\u001b[m\u001b[m\u001b[K\n",
      "Tasks:\u001b[m\u001b[m\u001b[1m 485 \u001b[m\u001b[mtotal,\u001b[m\u001b[m\u001b[1m   2 \u001b[m\u001b[mrunning,\u001b[m\u001b[m\u001b[1m 483 \u001b[m\u001b[msleeping,\u001b[m\u001b[m\u001b[1m   0 \u001b[m\u001b[mstopped,\u001b[m\u001b[m\u001b[1m   0 \u001b[m\u001b[mzombie\u001b[m\u001b[m\u001b[m\u001b[m\u001b[K\n",
      "%Cpu(s):\u001b[m\u001b[m\u001b[1m  4.9 \u001b[m\u001b[mus,\u001b[m\u001b[m\u001b[1m  0.7 \u001b[m\u001b[msy,\u001b[m\u001b[m\u001b[1m  0.0 \u001b[m\u001b[mni,\u001b[m\u001b[m\u001b[1m 94.4 \u001b[m\u001b[mid,\u001b[m\u001b[m\u001b[1m  0.0 \u001b[m\u001b[mwa,\u001b[m\u001b[m\u001b[1m  0.0 \u001b[m\u001b[mhi,\u001b[m\u001b[m\u001b[1m  0.0 \u001b[m\u001b[msi,\u001b[m\u001b[m\u001b[1m  0.0 \u001b[m\u001b[mst\u001b[m\u001b[m\u001b[m\u001b[m\u001b[K\n",
      "MiB Mem :\u001b[m\u001b[m\u001b[1m 257418.2 \u001b[m\u001b[mtotal,\u001b[m\u001b[m\u001b[1m 216760.3 \u001b[m\u001b[mfree,\u001b[m\u001b[m\u001b[1m  18379.4 \u001b[m\u001b[mused,\u001b[m\u001b[m\u001b[1m  22278.6 \u001b[m\u001b[mbuff/cache\u001b[m\u001b[m\u001b[m\u001b[m\u001b[K\n",
      "MiB Swap:\u001b[m\u001b[m\u001b[1m   2048.0 \u001b[m\u001b[mtotal,\u001b[m\u001b[m\u001b[1m    126.3 \u001b[m\u001b[mfree,\u001b[m\u001b[m\u001b[1m   1921.7 \u001b[m\u001b[mused.\u001b[m\u001b[m\u001b[1m 236694.8 \u001b[m\u001b[mavail Mem \u001b[m\u001b[m\u001b[m\u001b[m\u001b[K\n",
      "\u001b[K\n",
      "\u001b[7m    PID USER      PR  NI    VIRT    RES    SHR S  %CPU  %MEM     TIME+ COMMAND  \u001b[m\u001b[m\u001b[K\n",
      "\u001b[m\u001b[1m1487885 raul      20   0   22.7g   3.6g 185168 R 100.0   1.4 169:34.57 python   \u001b[m\u001b[m\u001b[K\n",
      "\u001b[m1487812 raul      20   0  530268  62504  16016 S   6.2   0.0   0:01.50 python   \u001b[m\u001b[m\u001b[K\n",
      "\u001b[m\u001b[1m1488516 raul      20   0    9652   4192   3156 R   6.2   0.0   0:00.02 top      \u001b[m\u001b[m\u001b[K\n",
      "\u001b[m      1 root      20   0  171464   9404   4856 S   0.0   0.0   0:28.19 systemd  \u001b[m\u001b[m\u001b[K\n",
      "\u001b[m      2 root      20   0       0      0      0 S   0.0   0.0   0:00.19 kthreadd \u001b[m\u001b[m\u001b[K\n",
      "\u001b[m      3 root       0 -20       0      0      0 I   0.0   0.0   0:00.00 rcu_gp   \u001b[m\u001b[m\u001b[K\n",
      "\u001b[m      4 root       0 -20       0      0      0 I   0.0   0.0   0:00.00 rcu_par+ \u001b[m\u001b[m\u001b[K\n",
      "\u001b[m      5 root       0 -20       0      0      0 I   0.0   0.0   0:00.00 slub_fl+ \u001b[m\u001b[m\u001b[K\n",
      "\u001b[m      6 root       0 -20       0      0      0 I   0.0   0.0   0:00.00 netns    \u001b[m\u001b[m\u001b[K\n",
      "\u001b[m      8 root       0 -20       0      0      0 I   0.0   0.0   0:00.00 kworker+ \u001b[m\u001b[m\u001b[K\n",
      "\u001b[m     10 root       0 -20       0      0      0 I   0.0   0.0   0:00.00 mm_perc+ \u001b[m\u001b[m\u001b[K\n",
      "\u001b[m     11 root      20   0       0      0      0 S   0.0   0.0   0:00.00 rcu_tas+ \u001b[m\u001b[m\u001b[K\n",
      "\u001b[m     12 root      20   0       0      0      0 S   0.0   0.0   0:00.00 rcu_tas+ \u001b[m\u001b[m\u001b[K\n",
      "\u001b[m     13 root      20   0       0      0      0 S   0.0   0.0   0:03.84 ksoftir+ \u001b[m\u001b[m\u001b[K\n",
      "\u001b[m     14 root      20   0       0      0      0 I   0.0   0.0  16:54.27 rcu_sch+ \u001b[m\u001b[m\u001b[K\n",
      "\u001b[m     15 root      rt   0       0      0      0 S   0.0   0.0   0:02.23 migrati+ \u001b[m\u001b[m\u001b[K\n",
      "\u001b[m     16 root     -51   0       0      0      0 S   0.0   0.0   0:00.00 idle_in+ \u001b[m\u001b[m\u001b[K\u001b[H\u001b[mtop - 18:05:47 up 7 days, 19:59,  1 user,  load average: 1.06, 1.18, 1.21\u001b[m\u001b[m\u001b[m\u001b[m\u001b[K\n",
      "\n",
      "%Cpu(s):\u001b[m\u001b[m\u001b[1m  4.6 \u001b[m\u001b[mus,\u001b[m\u001b[m\u001b[1m  0.1 \u001b[m\u001b[msy,\u001b[m\u001b[m\u001b[1m  0.0 \u001b[m\u001b[mni,\u001b[m\u001b[m\u001b[1m 95.3 \u001b[m\u001b[mid,\u001b[m\u001b[m\u001b[1m  0.0 \u001b[m\u001b[mwa,\u001b[m\u001b[m\u001b[1m  0.0 \u001b[m\u001b[mhi,\u001b[m\u001b[m\u001b[1m  0.0 \u001b[m\u001b[msi,\u001b[m\u001b[m\u001b[1m  0.0 \u001b[m\u001b[mst\u001b[m\u001b[m\u001b[m\u001b[m\u001b[K\n",
      "MiB Mem :\u001b[m\u001b[m\u001b[1m 257418.2 \u001b[m\u001b[mtotal,\u001b[m\u001b[m\u001b[1m 216759.8 \u001b[m\u001b[mfree,\u001b[m\u001b[m\u001b[1m  18379.8 \u001b[m\u001b[mused,\u001b[m\u001b[m\u001b[1m  22278.6 \u001b[m\u001b[mbuff/cache\u001b[m\u001b[m\u001b[m\u001b[m\u001b[K\n",
      "MiB Swap:\u001b[m\u001b[m\u001b[1m   2048.0 \u001b[m\u001b[mtotal,\u001b[m\u001b[m\u001b[1m    126.3 \u001b[m\u001b[mfree,\u001b[m\u001b[m\u001b[1m   1921.7 \u001b[m\u001b[mused.\u001b[m\u001b[m\u001b[1m 236694.3 \u001b[m\u001b[mavail Mem \u001b[m\u001b[m\u001b[m\u001b[m\u001b[K\n",
      "\u001b[K\n",
      "\n",
      "\u001b[m\u001b[1m1487885 raul      20   0   22.7g   3.6g 185168 R 100.3   1.4 169:37.60 python   \u001b[m\u001b[m\u001b[K\n",
      "\u001b[m   6924 raul      20   0   19.1g 556948 158464 S   6.3   0.2 665:06.55 python   \u001b[m\u001b[m\u001b[K\n",
      "\u001b[m1487812 raul      20   0  530268  62504  16016 S   2.0   0.0   0:01.56 python   \u001b[m\u001b[m\u001b[K\n",
      "\u001b[m   3679 raul      20   0  520864 166336   8500 S   1.7   0.1  55:09.00 jupyter+ \u001b[m\u001b[m\u001b[K\n",
      "\u001b[m1487501 gdm       20   0 2421836 182120  31564 S   0.7   0.1   2:52.04 anydesk  \u001b[m\u001b[m\u001b[K\n",
      "\u001b[m\u001b[1m1488516 raul      20   0    9652   4192   3156 R   0.7   0.0   0:00.04 top      \u001b[m\u001b[m\u001b[K\n",
      "\u001b[m     14 root      20   0       0      0      0 I   0.3   0.0  16:54.28 rcu_sch+ \u001b[m\u001b[m\u001b[K\n",
      "\u001b[m   1153 root      20   0  264936  41412  12044 S   0.3   0.0  17:57.97 Xorg     \u001b[m\u001b[m\u001b[K\n",
      "\u001b[m   1233 root      20   0  608340  60140  11032 S   0.3   0.0  12:32.42 node     \u001b[m\u001b[m\u001b[K\n",
      "\u001b[m   6743 raul      20   0   18.5g     76     76 S   0.3   0.0   0:27.39 python   \u001b[m\u001b[m\u001b[K\n",
      "\u001b[m1487811 raul      20   0    9652   4164   3132 S   0.3   0.0   0:46.74 top      \u001b[m\u001b[m\u001b[K\n",
      "\u001b[m      1 root      20   0  171464   9404   4856 S   0.0   0.0   0:28.19 systemd  \u001b[m\u001b[m\u001b[K\n",
      "\u001b[m      2 root      20   0       0      0      0 S   0.0   0.0   0:00.19 kthreadd \u001b[m\u001b[m\u001b[K\n",
      "\u001b[m      3 root       0 -20       0      0      0 I   0.0   0.0   0:00.00 rcu_gp   \u001b[m\u001b[m\u001b[K\n",
      "\u001b[m      4 root       0 -20       0      0      0 I   0.0   0.0   0:00.00 rcu_par+ \u001b[m\u001b[m\u001b[K\n",
      "\u001b[m      5 root       0 -20       0      0      0 I   0.0   0.0   0:00.00 slub_fl+ \u001b[m\u001b[m\u001b[K\n",
      "\u001b[m      6 root       0 -20       0      0      0 I   0.0   0.0   0:00.00 netns    \u001b[m\u001b[m\u001b[K\u001b[?1l\u001b>\u001b[25;1H\n",
      "\u001b[K"
     ]
    }
   ],
   "source": [
    "!top"
   ]
  },
  {
   "cell_type": "code",
   "execution_count": null,
   "metadata": {},
   "outputs": [],
   "source": [
    "!ls"
   ]
  },
  {
   "cell_type": "code",
   "execution_count": 10,
   "metadata": {},
   "outputs": [
    {
     "name": "stdout",
     "output_type": "stream",
     "text": [
      "remote: Enumerating objects: 7, done.\u001b[K\n",
      "remote: Counting objects: 100% (7/7), done.\u001b[K\n",
      "remote: Compressing objects: 100% (1/1), done.\u001b[K\n",
      "remote: Total 4 (delta 3), reused 4 (delta 3), pack-reused 0\u001b[K\n",
      "Unpacking objects: 100% (4/4), 520 bytes | 260.00 KiB/s, done.\n",
      "From github.com:raulconchello/peptide-QML\n",
      "   e63925eff..1690daf9e  main       -> origin/main\n",
      "Updating e63925eff..1690daf9e\n",
      "Fast-forward\n",
      " my_code/helper_classes.py | 9 \u001b[32m+++++++++\u001b[m\n",
      " 1 file changed, 9 insertions(+)\n"
     ]
    }
   ],
   "source": [
    "# pull changes (git) <-> from git to JupyterLab\n",
    "!cd peptide-QML && git fetch && git pull && cd .."
   ]
  },
  {
   "cell_type": "code",
   "execution_count": 3,
   "metadata": {},
   "outputs": [
    {
     "name": "stdout",
     "output_type": "stream",
     "text": [
      "On branch main\n",
      "Your branch is up to date with 'origin/main'.\n",
      "\n",
      "nothing to commit, working tree clean\n"
     ]
    }
   ],
   "source": [
    "# push changes (git) <-> from JupyterLab to git\n",
    "!cd peptide-QML && git add . && git commit -m \"data trained model\" && git push && cd .."
   ]
  },
  {
   "cell_type": "code",
   "execution_count": null,
   "metadata": {},
   "outputs": [],
   "source": []
  }
 ],
 "metadata": {
  "kernelspec": {
   "display_name": "JL_Pennylane",
   "language": "python",
   "name": "jl_pennylane"
  },
  "language_info": {
   "codemirror_mode": {
    "name": "ipython",
    "version": 3
   },
   "file_extension": ".py",
   "mimetype": "text/x-python",
   "name": "python",
   "nbconvert_exporter": "python",
   "pygments_lexer": "ipython3",
   "version": "3.8.10"
  },
  "orig_nbformat": 4
 },
 "nbformat": 4,
 "nbformat_minor": 2
}
