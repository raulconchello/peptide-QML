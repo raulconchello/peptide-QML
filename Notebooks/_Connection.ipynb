{
 "cells": [
  {
   "cell_type": "code",
   "execution_count": 7,
   "metadata": {},
   "outputs": [
    {
     "name": "stdout",
     "output_type": "stream",
     "text": [
      "\u001b[?1h\u001b=\u001b[H\u001b[2J\u001b[mtop - 10:06:54 up 13 days, 18:47,  1 user,  load average: 3.82, 3.70, 3.80\u001b[m\u001b[m\u001b[m\u001b[m\u001b[K\n",
      "Tasks:\u001b[m\u001b[m\u001b[1m 515 \u001b[m\u001b[mtotal,\u001b[m\u001b[m\u001b[1m   3 \u001b[m\u001b[mrunning,\u001b[m\u001b[m\u001b[1m 510 \u001b[m\u001b[msleeping,\u001b[m\u001b[m\u001b[1m   0 \u001b[m\u001b[mstopped,\u001b[m\u001b[m\u001b[1m   2 \u001b[m\u001b[mzombie\u001b[m\u001b[m\u001b[m\u001b[m\u001b[K\n",
      "%Cpu(s):\u001b[m\u001b[m\u001b[1m 17.6 \u001b[m\u001b[mus,\u001b[m\u001b[m\u001b[1m  0.7 \u001b[m\u001b[msy,\u001b[m\u001b[m\u001b[1m  0.0 \u001b[m\u001b[mni,\u001b[m\u001b[m\u001b[1m 81.7 \u001b[m\u001b[mid,\u001b[m\u001b[m\u001b[1m  0.0 \u001b[m\u001b[mwa,\u001b[m\u001b[m\u001b[1m  0.0 \u001b[m\u001b[mhi,\u001b[m\u001b[m\u001b[1m  0.0 \u001b[m\u001b[msi,\u001b[m\u001b[m\u001b[1m  0.0 \u001b[m\u001b[mst\u001b[m\u001b[m\u001b[m\u001b[m\u001b[K\n",
      "MiB Mem :\u001b[m\u001b[m\u001b[1m 257418.2 \u001b[m\u001b[mtotal,\u001b[m\u001b[m\u001b[1m  44794.7 \u001b[m\u001b[mfree,\u001b[m\u001b[m\u001b[1m 210389.6 \u001b[m\u001b[mused,\u001b[m\u001b[m\u001b[1m   2234.0 \u001b[m\u001b[mbuff/cache\u001b[m\u001b[m\u001b[m\u001b[m\u001b[K\n",
      "MiB Swap:\u001b[m\u001b[m\u001b[1m   2048.0 \u001b[m\u001b[mtotal,\u001b[m\u001b[m\u001b[1m      0.2 \u001b[m\u001b[mfree,\u001b[m\u001b[m\u001b[1m   2047.8 \u001b[m\u001b[mused.\u001b[m\u001b[m\u001b[1m  44967.4 \u001b[m\u001b[mavail Mem \u001b[m\u001b[m\u001b[m\u001b[m\u001b[K\n",
      "\u001b[K\n",
      "\u001b[7m    PID USER      PR  NI    VIRT    RES    SHR S  %CPU  %MEM     TIME+ COMMAND  \u001b[m\u001b[m\u001b[K\n",
      "\u001b[m\u001b[1m  67115 raul      20   0   62.7g  43.2g  32492 R 264.7  17.2  12840:55 python   \u001b[m\u001b[m\u001b[K\n",
      "\u001b[m\u001b[1m  67819 raul      20   0   77.4g  57.9g  32600 R 170.6  23.0  11181:03 python   \u001b[m\u001b[m\u001b[K\n",
      "\u001b[m   3795 raul      20   0 2172084   1.7g   8432 S   5.9   0.7 427:36.07 jupyter+ \u001b[m\u001b[m\u001b[K\n",
      "\u001b[m\u001b[1m  84911 raul      20   0    9648   4112   3192 R   5.9   0.0   0:00.03 top      \u001b[m\u001b[m\u001b[K\n",
      "\u001b[m      1 root      20   0  171400   8972   4544 S   0.0   0.0   0:17.01 systemd  \u001b[m\u001b[m\u001b[K\n",
      "\u001b[m      2 root      20   0       0      0      0 S   0.0   0.0   0:00.13 kthreadd \u001b[m\u001b[m\u001b[K\n",
      "\u001b[m      3 root       0 -20       0      0      0 I   0.0   0.0   0:00.00 rcu_gp   \u001b[m\u001b[m\u001b[K\n",
      "\u001b[m      4 root       0 -20       0      0      0 I   0.0   0.0   0:00.00 rcu_par+ \u001b[m\u001b[m\u001b[K\n",
      "\u001b[m      5 root       0 -20       0      0      0 I   0.0   0.0   0:00.00 slub_fl+ \u001b[m\u001b[m\u001b[K\n",
      "\u001b[m      6 root       0 -20       0      0      0 I   0.0   0.0   0:00.00 netns    \u001b[m\u001b[m\u001b[K\n",
      "\u001b[m      8 root       0 -20       0      0      0 I   0.0   0.0   0:00.00 kworker+ \u001b[m\u001b[m\u001b[K\n",
      "\u001b[m     10 root       0 -20       0      0      0 I   0.0   0.0   0:00.00 mm_perc+ \u001b[m\u001b[m\u001b[K\n",
      "\u001b[m     11 root      20   0       0      0      0 S   0.0   0.0   0:00.00 rcu_tas+ \u001b[m\u001b[m\u001b[K\n",
      "\u001b[m     12 root      20   0       0      0      0 S   0.0   0.0   0:00.00 rcu_tas+ \u001b[m\u001b[m\u001b[K\n",
      "\u001b[m     13 root      20   0       0      0      0 S   0.0   0.0   0:01.34 ksoftir+ \u001b[m\u001b[m\u001b[K\n",
      "\u001b[m     14 root      20   0       0      0      0 I   0.0   0.0  30:41.79 rcu_sch+ \u001b[m\u001b[m\u001b[K\n",
      "\u001b[m     15 root      rt   0       0      0      0 S   0.0   0.0   0:02.23 migrati+ \u001b[m\u001b[m\u001b[K\u001b[H\u001b[mtop - 10:06:57 up 13 days, 18:47,  1 user,  load average: 3.67, 3.68, 3.79\u001b[m\u001b[m\u001b[m\u001b[m\u001b[K\n",
      "\n",
      "%Cpu(s):\u001b[m\u001b[m\u001b[1m 17.5 \u001b[m\u001b[mus,\u001b[m\u001b[m\u001b[1m  0.1 \u001b[m\u001b[msy,\u001b[m\u001b[m\u001b[1m  0.0 \u001b[m\u001b[mni,\u001b[m\u001b[m\u001b[1m 82.3 \u001b[m\u001b[mid,\u001b[m\u001b[m\u001b[1m  0.0 \u001b[m\u001b[mwa,\u001b[m\u001b[m\u001b[1m  0.0 \u001b[m\u001b[mhi,\u001b[m\u001b[m\u001b[1m  0.0 \u001b[m\u001b[msi,\u001b[m\u001b[m\u001b[1m  0.0 \u001b[m\u001b[mst\u001b[m\u001b[m\u001b[m\u001b[m\u001b[K\n",
      "MiB Mem :\u001b[m\u001b[m\u001b[1m 257418.2 \u001b[m\u001b[mtotal,\u001b[m\u001b[m\u001b[1m  44794.2 \u001b[m\u001b[mfree,\u001b[m\u001b[m\u001b[1m 210389.6 \u001b[m\u001b[mused,\u001b[m\u001b[m\u001b[1m   2234.5 \u001b[m\u001b[mbuff/cache\u001b[m\u001b[m\u001b[m\u001b[m\u001b[K\n",
      "MiB Swap:\u001b[m\u001b[m\u001b[1m   2048.0 \u001b[m\u001b[mtotal,\u001b[m\u001b[m\u001b[1m      0.2 \u001b[m\u001b[mfree,\u001b[m\u001b[m\u001b[1m   2047.8 \u001b[m\u001b[mused.\u001b[m\u001b[m\u001b[1m  44967.3 \u001b[m\u001b[mavail Mem \u001b[m\u001b[m\u001b[m\u001b[m\u001b[K\n",
      "\u001b[K\n",
      "\n",
      "\u001b[m\u001b[1m  67115 raul      20   0   62.7g  43.2g  32492 R 270.1  17.2  12841:03 python   \u001b[m\u001b[m\u001b[K\n",
      "\u001b[m\u001b[1m  67819 raul      20   0   77.4g  57.9g  32600 R 146.8  23.0  11181:08 python   \u001b[m\u001b[m\u001b[K\n",
      "\u001b[m  62647 raul      20   0  530272  52908   6364 S   2.3   0.0   0:17.79 python   \u001b[m\u001b[m\u001b[K\n",
      "\u001b[m   3795 raul      20   0 2172084   1.7g   8432 S   2.0   0.7 427:36.13 jupyter+ \u001b[m\u001b[m\u001b[K\n",
      "\u001b[m   1177 root      20   0  275432  35528   7412 S   0.3   0.0  27:55.88 Xorg     \u001b[m\u001b[m\u001b[K\n",
      "\u001b[m  62155 gdm       20   0 2433392  27200   2508 S   0.3   0.0  35:00.68 anydesk  \u001b[m\u001b[m\u001b[K\n",
      "\u001b[m\u001b[1m  84911 raul      20   0    9648   4112   3192 R   0.3   0.0   0:00.04 top      \u001b[m\u001b[m\u001b[K\n",
      "\u001b[m      1 root      20   0  171400   8972   4544 S   0.0   0.0   0:17.01 systemd  \u001b[m\u001b[m\u001b[K\n",
      "\u001b[m      2 root      20   0       0      0      0 S   0.0   0.0   0:00.13 kthreadd \u001b[m\u001b[m\u001b[K\n",
      "\u001b[m      3 root       0 -20       0      0      0 I   0.0   0.0   0:00.00 rcu_gp   \u001b[m\u001b[m\u001b[K\n",
      "\u001b[m      4 root       0 -20       0      0      0 I   0.0   0.0   0:00.00 rcu_par+ \u001b[m\u001b[m\u001b[K\n",
      "\u001b[m      5 root       0 -20       0      0      0 I   0.0   0.0   0:00.00 slub_fl+ \u001b[m\u001b[m\u001b[K\n",
      "\u001b[m      6 root       0 -20       0      0      0 I   0.0   0.0   0:00.00 netns    \u001b[m\u001b[m\u001b[K\n",
      "\u001b[m      8 root       0 -20       0      0      0 I   0.0   0.0   0:00.00 kworker+ \u001b[m\u001b[m\u001b[K\n",
      "\u001b[m     10 root       0 -20       0      0      0 I   0.0   0.0   0:00.00 mm_perc+ \u001b[m\u001b[m\u001b[K\n",
      "\u001b[m     11 root      20   0       0      0      0 S   0.0   0.0   0:00.00 rcu_tas+ \u001b[m\u001b[m\u001b[K\n",
      "\u001b[m     12 root      20   0       0      0      0 S   0.0   0.0   0:00.00 rcu_tas+ \u001b[m\u001b[m\u001b[K\u001b[?1l\u001b>\u001b[25;1H\n",
      "\u001b[K"
     ]
    }
   ],
   "source": [
    "!top"
   ]
  },
  {
   "cell_type": "code",
   "execution_count": null,
   "metadata": {},
   "outputs": [],
   "source": [
    "!ls"
   ]
  },
  {
   "cell_type": "code",
   "execution_count": 14,
   "metadata": {},
   "outputs": [
    {
     "name": "stdout",
     "output_type": "stream",
     "text": [
      "remote: Enumerating objects: 7, done.\u001b[K\n",
      "remote: Counting objects: 100% (7/7), done.\u001b[K\n",
      "remote: Compressing objects: 100% (1/1), done.\u001b[K\n",
      "remote: Total 4 (delta 3), reused 4 (delta 3), pack-reused 0\u001b[K\n",
      "Unpacking objects: 100% (4/4), 368 bytes | 52.00 KiB/s, done.\n",
      "From github.com:raulconchello/peptide-QML\n",
      "   c81c4a114..ab55e28ef  main       -> origin/main\n",
      "Updating c81c4a114..ab55e28ef\n",
      "Fast-forward\n",
      " my_code/pytorch_model.py | 5 \u001b[32m+\u001b[m\u001b[31m----\u001b[m\n",
      " 1 file changed, 1 insertion(+), 4 deletions(-)\n"
     ]
    }
   ],
   "source": [
    "# pull changes (git) <-> from git to JupyterLab\n",
    "!cd peptide-QML && git fetch && git pull && cd .."
   ]
  },
  {
   "cell_type": "code",
   "execution_count": 3,
   "metadata": {},
   "outputs": [
    {
     "name": "stdout",
     "output_type": "stream",
     "text": [
      "On branch main\n",
      "Your branch is up to date with 'origin/main'.\n",
      "\n",
      "nothing to commit, working tree clean\n"
     ]
    }
   ],
   "source": [
    "# push changes (git) <-> from JupyterLab to git\n",
    "!cd peptide-QML && git add . && git commit -m \"data trained model\" && git push && cd .."
   ]
  },
  {
   "cell_type": "code",
   "execution_count": null,
   "metadata": {},
   "outputs": [],
   "source": []
  }
 ],
 "metadata": {
  "kernelspec": {
   "display_name": "JL_Pennylane",
   "language": "python",
   "name": "jl_pennylane"
  },
  "language_info": {
   "codemirror_mode": {
    "name": "ipython",
    "version": 3
   },
   "file_extension": ".py",
   "mimetype": "text/x-python",
   "name": "python",
   "nbconvert_exporter": "python",
   "pygments_lexer": "ipython3",
   "version": "3.8.10"
  },
  "orig_nbformat": 4
 },
 "nbformat": 4,
 "nbformat_minor": 2
}
