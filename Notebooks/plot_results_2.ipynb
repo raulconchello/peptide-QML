{
 "cells": [
  {
   "cell_type": "code",
   "execution_count": 8,
   "metadata": {},
   "outputs": [],
   "source": [
    "import numpy as np\n",
    "import matplotlib.pyplot as plt"
   ]
  },
  {
   "cell_type": "code",
   "execution_count": 9,
   "metadata": {},
   "outputs": [],
   "source": [
    "initial_path = 'peptide-QML/'\n",
    "initial_path = '../'"
   ]
  },
  {
   "cell_type": "code",
   "execution_count": 10,
   "metadata": {},
   "outputs": [
    {
     "name": "stdout",
     "output_type": "stream",
     "text": [
      "The autoreload extension is already loaded. To reload it, use:\n",
      "  %reload_ext autoreload\n"
     ]
    }
   ],
   "source": [
    "import sys\n",
    "sys.path.append(initial_path)\n",
    "\n",
    "%load_ext autoreload\n",
    "%autoreload 2\n",
    "from my_code import pytorch_model as ptm"
   ]
  },
  {
   "cell_type": "code",
   "execution_count": 11,
   "metadata": {},
   "outputs": [],
   "source": [
    "day = '0902'\n",
    "dim = 6\n",
    "\n",
    "# type_network = 'c'\n",
    "type_network = 'h'\n",
    "\n",
    "embbeding = 'h'\n",
    "\n",
    "energies = ''\n",
    "# energies = '_Single'\n",
    "# energies = '_Pair'\n",
    "\n",
    "# version = '_v2'\n",
    "version = ''"
   ]
  },
  {
   "cell_type": "code",
   "execution_count": 12,
   "metadata": {},
   "outputs": [],
   "source": [
    "name_notebook = '{}-{}{}_{}_1qm{}{}'.format(day, dim, type_network, embbeding, energies, version) "
   ]
  },
  {
   "cell_type": "code",
   "execution_count": 13,
   "metadata": {},
   "outputs": [],
   "source": [
    "# return last line of the file\n",
    "def read_version(name_notebook):\n",
    "    day = name_notebook.split('-')[0]\n",
    "    file = open(initial_path + \"checkpoints/\" + day + \"/versions/\" + name_notebook + \".version\", \"r\")\n",
    "    version = int(file.readlines()[-1])\n",
    "    return version\n"
   ]
  },
  {
   "cell_type": "code",
   "execution_count": 14,
   "metadata": {},
   "outputs": [
    {
     "ename": "FileNotFoundError",
     "evalue": "[Errno 2] No such file or directory: '../checkpoints/0902/versions/0902-6h_h_1qm.version'",
     "output_type": "error",
     "traceback": [
      "\u001b[1;31m---------------------------------------------------------------------------\u001b[0m",
      "\u001b[1;31mFileNotFoundError\u001b[0m                         Traceback (most recent call last)",
      "Cell \u001b[1;32mIn[14], line 1\u001b[0m\n\u001b[1;32m----> 1\u001b[0m version \u001b[39m=\u001b[39m read_version(name_notebook)\n\u001b[0;32m      3\u001b[0m losses \u001b[39m=\u001b[39m []\n\u001b[0;32m      4\u001b[0m n_qubits \u001b[39m=\u001b[39m []\n",
      "Cell \u001b[1;32mIn[13], line 4\u001b[0m, in \u001b[0;36mread_version\u001b[1;34m(name_notebook)\u001b[0m\n\u001b[0;32m      2\u001b[0m \u001b[39mdef\u001b[39;00m \u001b[39mread_version\u001b[39m(name_notebook):\n\u001b[0;32m      3\u001b[0m     day \u001b[39m=\u001b[39m name_notebook\u001b[39m.\u001b[39msplit(\u001b[39m'\u001b[39m\u001b[39m-\u001b[39m\u001b[39m'\u001b[39m)[\u001b[39m0\u001b[39m]\n\u001b[1;32m----> 4\u001b[0m     file \u001b[39m=\u001b[39m \u001b[39mopen\u001b[39;49m(initial_path \u001b[39m+\u001b[39;49m \u001b[39m\"\u001b[39;49m\u001b[39mcheckpoints/\u001b[39;49m\u001b[39m\"\u001b[39;49m \u001b[39m+\u001b[39;49m day \u001b[39m+\u001b[39;49m \u001b[39m\"\u001b[39;49m\u001b[39m/versions/\u001b[39;49m\u001b[39m\"\u001b[39;49m \u001b[39m+\u001b[39;49m name_notebook \u001b[39m+\u001b[39;49m \u001b[39m\"\u001b[39;49m\u001b[39m.version\u001b[39;49m\u001b[39m\"\u001b[39;49m, \u001b[39m\"\u001b[39;49m\u001b[39mr\u001b[39;49m\u001b[39m\"\u001b[39;49m)\n\u001b[0;32m      5\u001b[0m     version \u001b[39m=\u001b[39m \u001b[39mint\u001b[39m(file\u001b[39m.\u001b[39mreadlines()[\u001b[39m-\u001b[39m\u001b[39m1\u001b[39m])\n\u001b[0;32m      6\u001b[0m     \u001b[39mreturn\u001b[39;00m version\n",
      "File \u001b[1;32md:\\Raul\\Programs\\envs\\PennyLane\\lib\\site-packages\\IPython\\core\\interactiveshell.py:284\u001b[0m, in \u001b[0;36m_modified_open\u001b[1;34m(file, *args, **kwargs)\u001b[0m\n\u001b[0;32m    277\u001b[0m \u001b[39mif\u001b[39;00m file \u001b[39min\u001b[39;00m {\u001b[39m0\u001b[39m, \u001b[39m1\u001b[39m, \u001b[39m2\u001b[39m}:\n\u001b[0;32m    278\u001b[0m     \u001b[39mraise\u001b[39;00m \u001b[39mValueError\u001b[39;00m(\n\u001b[0;32m    279\u001b[0m         \u001b[39mf\u001b[39m\u001b[39m\"\u001b[39m\u001b[39mIPython won\u001b[39m\u001b[39m'\u001b[39m\u001b[39mt let you open fd=\u001b[39m\u001b[39m{\u001b[39;00mfile\u001b[39m}\u001b[39;00m\u001b[39m by default \u001b[39m\u001b[39m\"\u001b[39m\n\u001b[0;32m    280\u001b[0m         \u001b[39m\"\u001b[39m\u001b[39mas it is likely to crash IPython. If you know what you are doing, \u001b[39m\u001b[39m\"\u001b[39m\n\u001b[0;32m    281\u001b[0m         \u001b[39m\"\u001b[39m\u001b[39myou can use builtins\u001b[39m\u001b[39m'\u001b[39m\u001b[39m open.\u001b[39m\u001b[39m\"\u001b[39m\n\u001b[0;32m    282\u001b[0m     )\n\u001b[1;32m--> 284\u001b[0m \u001b[39mreturn\u001b[39;00m io_open(file, \u001b[39m*\u001b[39margs, \u001b[39m*\u001b[39m\u001b[39m*\u001b[39mkwargs)\n",
      "\u001b[1;31mFileNotFoundError\u001b[0m: [Errno 2] No such file or directory: '../checkpoints/0902/versions/0902-6h_h_1qm.version'"
     ]
    }
   ],
   "source": [
    "version = read_version(name_notebook)\n",
    "\n",
    "losses = []\n",
    "n_qubits = []\n",
    "n_layers = []\n",
    "\n",
    "for i in range(1, version + 1):\n",
    "    day = name_notebook.split('-')[0]\n",
    "\n",
    "    # load trained model  \n",
    "    file_path = initial_path + \"checkpoints/\" + day + \"/pickled_objects/\" + name_notebook + \"_\" + str(i)+  \".pickle\"\n",
    "    try: \n",
    "        model = ptm.pytorch_model.load(file_path)\n",
    "    except:\n",
    "        print(\"File not found: \" + file_path)\n",
    "        continue\n",
    "    \n",
    "    \n",
    "    # loss\n",
    "    loss = min(model.losses_epochs)\n",
    "\n",
    "    # number of layers and qubits\n",
    "    if type_network == 'c':\n",
    "        layers = len(str(model).split('Linear(in_features={}, out_features={}, bias=True)'.format(dim, dim))) - 1\n",
    "        qubits = None\n",
    "    else:\n",
    "        file_path = initial_path + \"checkpoints/\" + day + \"/txts/\" + name_notebook + \"_model_str_\" + str(i) + \".txt\"\n",
    "        lines = [line.replace('\\t', '').replace('\\n', '') for line in open(file_path, \"r\").readlines()]\n",
    "        layers = int([line for line in lines if 'block_n_layers' in line][0].split(' ')[-1])\n",
    "        qubits = int([line for line in lines if 'n_qubits' in line][0].split(' ')[-1])\n",
    "\n",
    "    # append data\n",
    "    losses.append(loss)\n",
    "    n_qubits.append(qubits)\n",
    "    n_layers.append(layers)\n"
   ]
  },
  {
   "cell_type": "code",
   "execution_count": null,
   "metadata": {},
   "outputs": [
    {
     "name": "stdout",
     "output_type": "stream",
     "text": [
      "[42.43871436 -7.73049049 15.28009765  2.64800799]\n"
     ]
    },
    {
     "data": {
      "image/png": "[encoded data removed]",
      "text/plain": [
       "<Figure size 432x288 with 1 Axes>"
      ]
     },
     "metadata": {
      "needs_background": "light"
     },
     "output_type": "display_data"
    }
   ],
   "source": [
    "import numpy as np\n",
    "from scipy.optimize import curve_fit\n",
    "\n",
    "def piecewise_function(x, a, b, c, d):\n",
    "    y = np.zeros_like(x)\n",
    "\n",
    "    y[x < b] = a\n",
    "    y[(x >= b) & (x < d)] = x[(x >= b) & (x < d)] * (a - c) / (b - d + 0.000000001) + (b * c - a * d) / (b - d + 0.000000001)\n",
    "    y[x >= d] = c\n",
    "\n",
    "    return y\n",
    "\n",
    "# Given data\n",
    "y = np.array(losses)\n",
    "x = np.array(n_layers)\n",
    "\n",
    "# Order the data by x values\n",
    "sorted_indices = np.argsort(x)\n",
    "x = x[sorted_indices]\n",
    "y = y[sorted_indices]\n",
    "\n",
    "# Average the loss for the same number of layers\n",
    "x_avg = np.array(list(set(x)))\n",
    "y_avg = np.array([np.mean(y[x == xi]) for xi in x_avg])\n",
    "y_std = np.array([np.std(y[x == xi]) for xi in x_avg])  # Standard deviation for error bars\n",
    "\n",
    "# Polynomial Regression data\n",
    "degree = 2\n",
    "\n",
    "params, covariance = curve_fit(piecewise_function, x_avg, y_avg, p0=(7.5, 8, 25, 10))\n",
    "print(params)\n",
    "x_pred = np.linspace(x.min(), x.max(), 100)\n",
    "y_pred = piecewise_function(x_pred, *params)\n",
    "\n",
    "# Plot\n",
    "plt.plot(x, y, 'o', label=\"Data points\", alpha=0.5, color='grey', markersize=3)        # Data points\n",
    "plt.errorbar(x_avg, y_avg, yerr=y_std, fmt='o', label=\"Average data points\", capsize=5)  # Data points with error bars\n",
    "plt.plot(x_pred, y_pred, '-', label=\"Degree {} Regression\".format(degree))  # Regression line\n",
    "plt.xlabel('Number of layers')\n",
    "plt.ylabel('Loss')\n",
    "# plt.title('Layers vs Loss ('+ str(n_qubits[0]) + ' qubits)')\n",
    "plt.title('Layers vs Loss')\n",
    "plt.legend(bbox_to_anchor=(1.05, 1), loc='upper left', borderaxespad=0.)\n",
    "plt.grid(True)\n",
    "plt.show()"
   ]
  },
  {
   "cell_type": "code",
   "execution_count": null,
   "metadata": {},
   "outputs": [
    {
     "data": {
      "image/png": "[encoded data removed]",
      "text/plain": [
       "<Figure size 432x288 with 1 Axes>"
      ]
     },
     "metadata": {
      "needs_background": "light"
     },
     "output_type": "display_data"
    }
   ],
   "source": [
    "# Given data\n",
    "y = np.array(losses)\n",
    "x = np.array(n_layers)\n",
    "\n",
    "# Order the data by x values\n",
    "sorted_indices = np.argsort(x)\n",
    "x = x[sorted_indices]\n",
    "y = y[sorted_indices]\n",
    "\n",
    "# Average the loss for the same number of layers\n",
    "x_avg = np.array(list(set(x)))\n",
    "y_avg = np.array([np.mean(y[x == xi]) for xi in x_avg])\n",
    "y_std = np.array([np.std(y[x == xi]) for xi in x_avg])  # Standard deviation for error bars\n",
    "\n",
    "# Polynomial Regression data\n",
    "degree = 2\n",
    "coefficients = np.polyfit(x, y, degree)\n",
    "x_pred = np.linspace(x.min(), x.max(), 100)\n",
    "y_pred = np.polyval(coefficients, x_pred)\n",
    "\n",
    "# Plot\n",
    "plt.plot(x, y, 'o', label=\"Data points\", alpha=0.5, color='grey', markersize=3)        # Data points\n",
    "plt.errorbar(x_avg, y_avg, yerr=y_std, fmt='o', label=\"Average data points\", capsize=5)  # Data points with error bars\n",
    "plt.plot(x_pred, y_pred, '-', label=\"Degree {} Regression\".format(degree))  # Regression line\n",
    "plt.xlabel('Number of layers')\n",
    "plt.ylabel('Loss')\n",
    "plt.title('Layers vs Loss ('+ str(n_qubits[0]) + ' qubits)')\n",
    "plt.legend(bbox_to_anchor=(1.05, 1), loc='upper left', borderaxespad=0.)\n",
    "plt.grid(True)\n",
    "plt.show()\n",
    "\n"
   ]
  }
 ],
 "metadata": {
  "kernelspec": {
   "display_name": "PennyLane",
   "language": "python",
   "name": "python3"
  },
  "language_info": {
   "codemirror_mode": {
    "name": "ipython",
    "version": 3
   },
   "file_extension": ".py",
   "mimetype": "text/x-python",
   "name": "python",
   "nbconvert_exporter": "python",
   "pygments_lexer": "ipython3",
   "version": "3.10.12"
  }
 },
 "nbformat": 4,
 "nbformat_minor": 4
}
