{
 "cells": [
  {
   "cell_type": "markdown",
   "metadata": {},
   "source": [
    "# ab_c_x.ipynb\n",
    "\n",
    "a ->\n",
    "\n",
    "    - s: small\n",
    "    - n: normal (12)\n",
    "\n",
    "b -> \n",
    "\n",
    "    - c: classic\n",
    "    - h: hybrid\n",
    "    - q: quantum\n",
    "\n",
    "c ->\n",
    "\n",
    "    - _Nothing_\n",
    "    - e: embedding\n",
    "\n",
    "x ->\n",
    "\n",
    "    - 1qm: 1-qubit measurement\n",
    "    - Aqm: All-qubit measurement"
   ]
  }
 ],
 "metadata": {
  "language_info": {
   "name": "python"
  },
  "orig_nbformat": 4
 },
 "nbformat": 4,
 "nbformat_minor": 2
}
