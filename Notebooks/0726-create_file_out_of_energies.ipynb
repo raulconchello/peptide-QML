{
 "cells": [
  {
   "cell_type": "code",
   "execution_count": 1,
   "metadata": {},
   "outputs": [],
   "source": [
    "import sys\n",
    "sys.path.append('..')"
   ]
  },
  {
   "cell_type": "code",
   "execution_count": 2,
   "metadata": {},
   "outputs": [],
   "source": [
    "%load_ext autoreload\n",
    "%autoreload 2\n",
    "from my_code.functions import generate_random_data_from_energies"
   ]
  },
  {
   "cell_type": "code",
   "execution_count": 3,
   "metadata": {},
   "outputs": [],
   "source": [
    "generate_random_data_from_energies(\n",
    "    file_single_path='../data/energies/PET/data/bb14/SingleEnergy.txt',\n",
    "    file_pair_path='../data/energies/PET/data/bb14/PairwiseEnergy.txt',\n",
    "    file_out_path='../data/energies/PET/generated/bb14_Strings_Energies_10_000_4_aa.txt',\n",
    "    n_samples=10000,\n",
    "    max_score=1000,\n",
    ")"
   ]
  }
 ],
 "metadata": {
  "kernelspec": {
   "display_name": "PennyLane",
   "language": "python",
   "name": "python3"
  },
  "language_info": {
   "codemirror_mode": {
    "name": "ipython",
    "version": 3
   },
   "file_extension": ".py",
   "mimetype": "text/x-python",
   "name": "python",
   "nbconvert_exporter": "python",
   "pygments_lexer": "ipython3",
   "version": "3.10.12"
  },
  "orig_nbformat": 4
 },
 "nbformat": 4,
 "nbformat_minor": 2
}
