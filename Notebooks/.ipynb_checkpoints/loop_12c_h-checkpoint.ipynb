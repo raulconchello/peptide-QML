{
 "cells": [
  {
   "cell_type": "code",
   "execution_count": 10,
   "metadata": {},
   "outputs": [],
   "source": [
    "initial_path = 'peptide-QML/'\n",
    "# initial_path = '../'"
   ]
  },
  {
   "cell_type": "code",
   "execution_count": 11,
   "metadata": {},
   "outputs": [
    {
     "name": "stdout",
     "output_type": "stream",
     "text": [
      "The autoreload extension is already loaded. To reload it, use:\n",
      "  %reload_ext autoreload\n"
     ]
    }
   ],
   "source": [
    "import numpy as np\n",
    "import sys\n",
    "sys.path.append(initial_path)\n",
    "\n",
    "%load_ext autoreload\n",
    "%autoreload 2\n",
    "from my_code import functions as f\n",
    "from my_code import pytorch_model as ptm\n",
    "from my_code import quantum_nodes as qn\n",
    "from my_code import pytorch_wrappers as pw"
   ]
  },
  {
   "cell_type": "code",
   "execution_count": 12,
   "metadata": {},
   "outputs": [
    {
     "name": "stdout",
     "output_type": "stream",
     "text": [
      "## --- Num:  4  --- ##\n",
      "\n",
      "\n",
      "0  # ------- block_n_layers:  1  ------- #\n",
      "\n",
      "\n",
      "76.0 1.0\n"
     ]
    },
    {
     "ename": "TypeError",
     "evalue": "empty() received an invalid combination of arguments - got (tuple, dtype=NoneType, device=NoneType), but expected one of:\n * (tuple of ints size, *, tuple of names names, torch.memory_format memory_format, torch.dtype dtype, torch.layout layout, torch.device device, bool pin_memory, bool requires_grad)\n * (tuple of ints size, *, torch.memory_format memory_format, Tensor out, torch.dtype dtype, torch.layout layout, torch.device device, bool pin_memory, bool requires_grad)\n",
     "output_type": "error",
     "traceback": [
      "\u001b[1;31m---------------------------------------------------------------------------\u001b[0m",
      "\u001b[1;31mTypeError\u001b[0m                                 Traceback (most recent call last)",
      "Cell \u001b[1;32mIn[12], line 49\u001b[0m\n\u001b[0;32m     47\u001b[0m \u001b[39mfor\u001b[39;00m i, o \u001b[39min\u001b[39;00m \u001b[39mzip\u001b[39m(layers_dim[:\u001b[39m-\u001b[39m\u001b[39m1\u001b[39m], layers_dim[\u001b[39m1\u001b[39m:]):\n\u001b[0;32m     48\u001b[0m     \u001b[39mprint\u001b[39m(i, o)\n\u001b[1;32m---> 49\u001b[0m     layers \u001b[39m+\u001b[39m\u001b[39m=\u001b[39m [ptm\u001b[39m.\u001b[39;49mnn\u001b[39m.\u001b[39;49mLinear(i, o), ptm\u001b[39m.\u001b[39mnn\u001b[39m.\u001b[39mSigmoid()]    \u001b[39m# activation function RELU didn't work well  \u001b[39;00m\n\u001b[0;32m     50\u001b[0m layers \u001b[39m+\u001b[39m\u001b[39m=\u001b[39m [ptm\u001b[39m.\u001b[39mnn\u001b[39m.\u001b[39mLinear(\u001b[39m1\u001b[39m,\u001b[39m1\u001b[39m)]\n\u001b[0;32m     52\u001b[0m \u001b[39m# Create model and set data:\u001b[39;00m\n",
      "File \u001b[1;32md:\\Raul\\Programs\\envs\\PennyLane\\lib\\site-packages\\torch\\nn\\modules\\linear.py:96\u001b[0m, in \u001b[0;36mLinear.__init__\u001b[1;34m(self, in_features, out_features, bias, device, dtype)\u001b[0m\n\u001b[0;32m     94\u001b[0m \u001b[39mself\u001b[39m\u001b[39m.\u001b[39min_features \u001b[39m=\u001b[39m in_features\n\u001b[0;32m     95\u001b[0m \u001b[39mself\u001b[39m\u001b[39m.\u001b[39mout_features \u001b[39m=\u001b[39m out_features\n\u001b[1;32m---> 96\u001b[0m \u001b[39mself\u001b[39m\u001b[39m.\u001b[39mweight \u001b[39m=\u001b[39m Parameter(torch\u001b[39m.\u001b[39mempty((out_features, in_features), \u001b[39m*\u001b[39m\u001b[39m*\u001b[39mfactory_kwargs))\n\u001b[0;32m     97\u001b[0m \u001b[39mif\u001b[39;00m bias:\n\u001b[0;32m     98\u001b[0m     \u001b[39mself\u001b[39m\u001b[39m.\u001b[39mbias \u001b[39m=\u001b[39m Parameter(torch\u001b[39m.\u001b[39mempty(out_features, \u001b[39m*\u001b[39m\u001b[39m*\u001b[39mfactory_kwargs))\n",
      "\u001b[1;31mTypeError\u001b[0m: empty() received an invalid combination of arguments - got (tuple, dtype=NoneType, device=NoneType), but expected one of:\n * (tuple of ints size, *, tuple of names names, torch.memory_format memory_format, torch.dtype dtype, torch.layout layout, torch.device device, bool pin_memory, bool requires_grad)\n * (tuple of ints size, *, torch.memory_format memory_format, Tensor out, torch.dtype dtype, torch.layout layout, torch.device device, bool pin_memory, bool requires_grad)\n"
     ]
    }
   ],
   "source": [
    "dim = 12\n",
    "day = \"0905\"\n",
    "\n",
    "\n",
    "# -- DATA -- #\n",
    "\n",
    "# name of the notebook\n",
    "name_notebook = \"{}-{}c_h{}.ipynb\".format(day, dim)\n",
    "\n",
    "# load data\n",
    "data_file_path = '{}data/Scores/PET/PET_SCORES'.format(initial_path)\n",
    "string_list, number_list = f.read_data_file(\n",
    "    data_file_path,\n",
    "    skip_first_line=True, \n",
    "    delimiter=',', \n",
    "    columns_to_return=[1, 2],\n",
    "    which_columns_are_numbers=[2]\n",
    "    )\n",
    "score_list = np.array(number_list)/100\n",
    "vector_list = np.array([f.string_to_vector(string) for string in string_list]) \n",
    "X, Y, X_validation, Y_validation = f.create_validating_set(vector_list, score_list, percentage=0.1)\n",
    "\n",
    "# Define the dataset\n",
    "input_data = ptm.torch.tensor(X) \n",
    "target_data = ptm.torch.tensor(Y).view(-1, 1)\n",
    "\n",
    "# Define the validation set\n",
    "input_validation = ptm.torch.tensor(X_validation)\n",
    "target_validation = ptm.torch.tensor(Y_validation).view(-1, 1)\n",
    "\n",
    "\n",
    "# -- TRAINING LOOP -- #\n",
    "for iii in range(5):\n",
    "\n",
    "    for block_n_layers in range(1, 21):\n",
    "        print(iii, \" # ------- block_n_layers: \", block_n_layers, \" ------- #\")\n",
    "        print(\"\")\n",
    "        print(\"\")\n",
    "\n",
    "        # -- CLASSICAL MODEL -- #\n",
    "        n_aminoacids = len(string_list[0])\n",
    "        input_dim = input_data.shape[1]\n",
    "\n",
    "        layers_dim = np.linspace(input_dim, 1, block_n_layers+1).astype(int)\n",
    "        layers = []\n",
    "        for i, o in zip(layers_dim[:-1], layers_dim[1:]):\n",
    "            print(i, o)\n",
    "            layers += [ptm.nn.Linear(i, o), ptm.nn.Sigmoid()]    # activation function RELU didn't work well  \n",
    "        layers += [ptm.nn.Linear(1,1)]\n",
    "\n",
    "        # Create model and set data:\n",
    "        model = ptm.pytorch_model(\n",
    "            layers,    \n",
    "            save_options = {'initial_path': initial_path, 'name_notebook': name_notebook},\n",
    "        )\n",
    "        model.set_data(\n",
    "            data_X=input_data, \n",
    "            data_Y=target_data, \n",
    "            data_X_validation=input_validation,\n",
    "            data_Y_validation=target_validation\n",
    "        )\n",
    "        model.keep_track_params=False\n",
    "\n",
    "\n",
    "        # -- TRAINING -- #\n",
    "        import torch.optim as optim\n",
    "\n",
    "        # train the model\n",
    "        model.train(\n",
    "            optimizer= optim.Adam,\n",
    "            optimizer_options={'lr': 0.02},\n",
    "            num_epochs = 100,                \n",
    "            batch_size = 32,\n",
    "            stop_training_options = {\n",
    "                'lookback_epochs': 5, \n",
    "                'threshold_slope': 0.001,\n",
    "                'threshold_std_dev': 0.2\n",
    "            },\n",
    "        )\n",
    "\n",
    "        # -- SAVE -- #\n",
    "\n",
    "        # dump the object\n",
    "        model.dump()\n",
    "\n",
    "        # save string of the model\n",
    "        model.save_str(\n",
    "            metadata={\n",
    "                \"data_file_path\": data_file_path,\n",
    "                \"n_aminoacids\": n_aminoacids,\n",
    "                \"block_n_layers\": block_n_layers,\n",
    "            }\n",
    "        )\n",
    "\n",
    "        # plot the losses of the trainig loop and save the figures\n",
    "        model.plot_losses(save=True, save_txt=True)\n",
    "\n",
    "        #save all the parameters of the model and the intermediate parameters of the model\n",
    "        model.save_state_dict(intermediate=False)\n",
    "\n",
    "        # plot the validation and save it\n",
    "        model.plot_validation(save=True, fig_size=(9,9), percentatge=1)\n",
    "\n",
    "        # print validation and save it\n",
    "        model.str_validation(save=True, precision=4, percentatge=1, printing=False)"
   ]
  },
  {
   "cell_type": "code",
   "execution_count": null,
   "metadata": {},
   "outputs": [],
   "source": [
    "# push changes to git\n",
    "if initial_path != '../':\n",
    "    !cd peptide-QML && git add . && git commit -m \"data trained model\" && git push"
   ]
  },
  {
   "cell_type": "code",
   "execution_count": null,
   "metadata": {},
   "outputs": [],
   "source": []
  }
 ],
 "metadata": {
  "kernelspec": {
   "display_name": "PennyLane",
   "language": "python",
   "name": "python3"
  },
  "language_info": {
   "codemirror_mode": {
    "name": "ipython",
    "version": 3
   },
   "file_extension": ".py",
   "mimetype": "text/x-python",
   "name": "python",
   "nbconvert_exporter": "python",
   "pygments_lexer": "ipython3",
   "version": "3.10.12"
  }
 },
 "nbformat": 4,
 "nbformat_minor": 4
}
