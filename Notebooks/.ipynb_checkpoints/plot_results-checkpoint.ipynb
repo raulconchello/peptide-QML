{
 "cells": [
  {
   "cell_type": "code",
   "execution_count": 39,
   "metadata": {},
   "outputs": [],
   "source": [
    "import numpy as np\n",
    "import matplotlib.pyplot as plt"
   ]
  },
  {
   "cell_type": "code",
   "execution_count": 40,
   "metadata": {},
   "outputs": [],
   "source": [
    "initial_path = 'peptide-QML/'\n",
    "# initial_path = '../'"
   ]
  },
  {
   "cell_type": "code",
   "execution_count": 41,
   "metadata": {},
   "outputs": [],
   "source": [
    "name_notebook = '0831-6h_em_1qm_Single'"
   ]
  },
  {
   "cell_type": "code",
   "execution_count": 42,
   "metadata": {},
   "outputs": [],
   "source": [
    "# return last line of the file\n",
    "def read_version(name_notebook):\n",
    "    day = name_notebook.split('-')[0]\n",
    "    file = open(initial_path + \"checkpoints/\" + day + \"/versions/\" + name_notebook + \".version\", \"r\")\n",
    "    version = int(file.readlines()[-1])\n",
    "    return version\n"
   ]
  },
  {
   "cell_type": "code",
   "execution_count": 43,
   "metadata": {},
   "outputs": [
    {
     "name": "stdout",
     "output_type": "stream",
     "text": [
      "File not found: peptide-QML/checkpoints/0831/txts/0831-6h_em_1qm_Single_validation_6.txt\n"
     ]
    }
   ],
   "source": [
    "version = read_version(name_notebook)\n",
    "\n",
    "losses = []\n",
    "n_qubits = []\n",
    "n_layers = []\n",
    "\n",
    "for i in range(1, version + 1):\n",
    "    day = name_notebook.split('-')[0]\n",
    "\n",
    "    # loss\n",
    "    file_path = initial_path + \"checkpoints/\" + day + \"/txts/\" + name_notebook + \"_validation_\" + str(i) + \".txt\"\n",
    "    try: \n",
    "        file = open(file_path, \"r\")\n",
    "    except:\n",
    "        print(\"File not found: \" + file_path)\n",
    "        continue\n",
    "    loss = float(file.readlines()[-1].split()[-1])\n",
    "\n",
    "    # number of layers and qubits\n",
    "    file_path = initial_path + \"checkpoints/\" + day + \"/txts/\" + name_notebook + \"_model_str_\" + str(i) + \".txt\"\n",
    "    lines = [line.replace('\\t', '').replace('\\n', '') for line in open(file_path, \"r\").readlines()]\n",
    "    layers = int([line for line in lines if 'block_n_layers' in line][0].split(' ')[-1])\n",
    "    qubits = int([line for line in lines if 'n_qubits' in line][0].split(' ')[-1])\n",
    "\n",
    "    # append data\n",
    "    losses.append(loss)\n",
    "    n_qubits.append(qubits)\n",
    "    n_layers.append(layers)\n"
   ]
  },
  {
   "cell_type": "code",
   "execution_count": 44,
   "metadata": {},
   "outputs": [
    {
     "data": {
      "image/png": "[encoded data removed]",
      "text/plain": [
       "<Figure size 432x288 with 1 Axes>"
      ]
     },
     "metadata": {
      "needs_background": "light"
     },
     "output_type": "display_data"
    }
   ],
   "source": [
    "# Given data\n",
    "y = np.array(losses)\n",
    "x = np.array(n_layers)\n",
    "\n",
    "# Order the data by x values\n",
    "sorted_indices = np.argsort(x)\n",
    "x = x[sorted_indices]\n",
    "y = y[sorted_indices]\n",
    "\n",
    "# Average the loss for the same number of layers\n",
    "x_avg = np.array(list(set(x)))\n",
    "y_avg = np.array([np.mean(y[x == xi]) for xi in x_avg])\n",
    "y_std = np.array([np.std(y[x == xi]) for xi in x_avg])  # Standard deviation for error bars\n",
    "\n",
    "# Polynomial Regression data\n",
    "degree = 2\n",
    "coefficients = np.polyfit(x, y, degree)\n",
    "x_pred = np.linspace(x.min(), x.max(), 100)\n",
    "y_pred = np.polyval(coefficients, x_pred)\n",
    "\n",
    "# Plot\n",
    "plt.plot(x, y, 'o', label=\"Data points\", alpha=0.5, color='grey', markersize=3)        # Data points\n",
    "plt.errorbar(x_avg, y_avg, yerr=y_std, fmt='o', label=\"Average data points\", capsize=5)  # Data points with error bars\n",
    "plt.plot(x_pred, y_pred, '-', label=\"Degree {} Regression\".format(degree))  # Regression line\n",
    "plt.xlabel('Number of layers')\n",
    "plt.ylabel('Loss')\n",
    "plt.title('Layers vs Loss ('+ str(n_qubits[0]) + ' qubits)')\n",
    "plt.legend(bbox_to_anchor=(1.05, 1), loc='upper left', borderaxespad=0.)\n",
    "plt.grid(True)\n",
    "plt.show()\n",
    "\n"
   ]
  }
 ],
 "metadata": {
  "kernelspec": {
   "display_name": "JL_Pennylane",
   "language": "python",
   "name": "jl_pennylane"
  },
  "language_info": {
   "codemirror_mode": {
    "name": "ipython",
    "version": 3
   },
   "file_extension": ".py",
   "mimetype": "text/x-python",
   "name": "python",
   "nbconvert_exporter": "python",
   "pygments_lexer": "ipython3",
   "version": "3.8.10"
  },
  "orig_nbformat": 4
 },
 "nbformat": 4,
 "nbformat_minor": 2
}
