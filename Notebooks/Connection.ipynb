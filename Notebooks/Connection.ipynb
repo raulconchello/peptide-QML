{
 "cells": [
  {
   "cell_type": "code",
   "execution_count": 1,
   "metadata": {},
   "outputs": [
    {
     "name": "stdout",
     "output_type": "stream",
     "text": [
      "\u001b[?1h\u001b=\u001b[H\u001b[2J\u001b[mtop - 11:26:11 up 179 days, 19:56,  1 user,  load average: 3.95, 1.01, 0.34\u001b[m\u001b[m\u001b[m\u001b[m\u001b[K\n",
      "Tasks:\u001b[m\u001b[m\u001b[1m 541 \u001b[m\u001b[mtotal,\u001b[m\u001b[m\u001b[1m   1 \u001b[m\u001b[mrunning,\u001b[m\u001b[m\u001b[1m 535 \u001b[m\u001b[msleeping,\u001b[m\u001b[m\u001b[1m   4 \u001b[m\u001b[mstopped,\u001b[m\u001b[m\u001b[1m   1 \u001b[m\u001b[mzombie\u001b[m\u001b[m\u001b[m\u001b[m\u001b[K\n",
      "%Cpu(s):\u001b[m\u001b[m\u001b[1m  0.2 \u001b[m\u001b[mus,\u001b[m\u001b[m\u001b[1m  0.7 \u001b[m\u001b[msy,\u001b[m\u001b[m\u001b[1m  0.0 \u001b[m\u001b[mni,\u001b[m\u001b[m\u001b[1m 99.1 \u001b[m\u001b[mid,\u001b[m\u001b[m\u001b[1m  0.0 \u001b[m\u001b[mwa,\u001b[m\u001b[m\u001b[1m  0.0 \u001b[m\u001b[mhi,\u001b[m\u001b[m\u001b[1m  0.0 \u001b[m\u001b[msi,\u001b[m\u001b[m\u001b[1m  0.0 \u001b[m\u001b[mst\u001b[m\u001b[m\u001b[m\u001b[m\u001b[K\n",
      "MiB Mem :\u001b[m\u001b[m\u001b[1m 257430.5 \u001b[m\u001b[mtotal,\u001b[m\u001b[m\u001b[1m  51261.7 \u001b[m\u001b[mfree,\u001b[m\u001b[m\u001b[1m  46991.0 \u001b[m\u001b[mused,\u001b[m\u001b[m\u001b[1m 159177.8 \u001b[m\u001b[mbuff/cache\u001b[m\u001b[m\u001b[m\u001b[m\u001b[K\n",
      "MiB Swap:\u001b[m\u001b[m\u001b[1m   2048.0 \u001b[m\u001b[mtotal,\u001b[m\u001b[m\u001b[1m   2044.5 \u001b[m\u001b[mfree,\u001b[m\u001b[m\u001b[1m      3.5 \u001b[m\u001b[mused.\u001b[m\u001b[m\u001b[1m 208142.6 \u001b[m\u001b[mavail Mem \u001b[m\u001b[m\u001b[m\u001b[m\u001b[K\n",
      "\u001b[K\n",
      "\u001b[7m    PID USER      PR  NI    VIRT    RES    SHR S  %CPU  %MEM     TIME+ COMMAND  \u001b[m\u001b[m\u001b[K\n",
      "\u001b[m\u001b[1m1586362 raul      20   0    9648   4308   3260 R  12.5   0.0   0:00.03 top      \u001b[m\u001b[m\u001b[K\n",
      "\u001b[m 302243 abdul     20   0   25800  18680   3976 S   6.2   0.0   2138:51 nvtop    \u001b[m\u001b[m\u001b[K\n",
      "\u001b[m1559869 raul      20   0 1768084   1.4g  16048 S   6.2   0.5  27:53.94 jupyter+ \u001b[m\u001b[m\u001b[K\n",
      "\u001b[m1586351 raul      20   0  530272  61912  15772 S   6.2   0.0   0:00.68 python   \u001b[m\u001b[m\u001b[K\n",
      "\u001b[m      1 root      20   0  172652  14324   7984 S   0.0   0.0   4:40.60 systemd  \u001b[m\u001b[m\u001b[K\n",
      "\u001b[m      2 root      20   0       0      0      0 S   0.0   0.0   0:02.21 kthreadd \u001b[m\u001b[m\u001b[K\n",
      "\u001b[m      3 root       0 -20       0      0      0 I   0.0   0.0   0:00.00 rcu_gp   \u001b[m\u001b[m\u001b[K\n",
      "\u001b[m      4 root       0 -20       0      0      0 I   0.0   0.0   0:00.00 rcu_par+ \u001b[m\u001b[m\u001b[K\n",
      "\u001b[m      5 root       0 -20       0      0      0 I   0.0   0.0   0:00.00 slub_fl+ \u001b[m\u001b[m\u001b[K\n",
      "\u001b[m      6 root       0 -20       0      0      0 I   0.0   0.0   0:00.00 netns    \u001b[m\u001b[m\u001b[K\n",
      "\u001b[m      8 root       0 -20       0      0      0 I   0.0   0.0   0:00.00 kworker+ \u001b[m\u001b[m\u001b[K\n",
      "\u001b[m     10 root       0 -20       0      0      0 I   0.0   0.0   0:00.00 mm_perc+ \u001b[m\u001b[m\u001b[K\n",
      "\u001b[m     11 root      20   0       0      0      0 S   0.0   0.0   0:00.00 rcu_tas+ \u001b[m\u001b[m\u001b[K\n",
      "\u001b[m     12 root      20   0       0      0      0 S   0.0   0.0   0:00.00 rcu_tas+ \u001b[m\u001b[m\u001b[K\n",
      "\u001b[m     13 root      20   0       0      0      0 S   0.0   0.0   2:31.26 ksoftir+ \u001b[m\u001b[m\u001b[K\n",
      "\u001b[m     14 root      20   0       0      0      0 I   0.0   0.0 529:51.16 rcu_sch+ \u001b[m\u001b[m\u001b[K\n",
      "\u001b[m     15 root      rt   0       0      0      0 S   0.0   0.0   1:05.50 migrati+ \u001b[m\u001b[m\u001b[K\u001b[H\u001b[mtop - 11:26:14 up 179 days, 19:56,  1 user,  load average: 3.63, 0.99, 0.34\u001b[m\u001b[m\u001b[m\u001b[m\u001b[K\n",
      "\n",
      "%Cpu(s):\u001b[m\u001b[m\u001b[1m  0.2 \u001b[m\u001b[mus,\u001b[m\u001b[m\u001b[1m  0.3 \u001b[m\u001b[msy,\u001b[m\u001b[m\u001b[1m  0.0 \u001b[m\u001b[mni,\u001b[m\u001b[m\u001b[1m 99.5 \u001b[m\u001b[mid,\u001b[m\u001b[m\u001b[1m  0.0 \u001b[m\u001b[mwa,\u001b[m\u001b[m\u001b[1m  0.0 \u001b[m\u001b[mhi,\u001b[m\u001b[m\u001b[1m  0.0 \u001b[m\u001b[msi,\u001b[m\u001b[m\u001b[1m  0.0 \u001b[m\u001b[mst\u001b[m\u001b[m\u001b[m\u001b[m\u001b[K\n",
      "MiB Mem :\u001b[m\u001b[m\u001b[1m 257430.5 \u001b[m\u001b[mtotal,\u001b[m\u001b[m\u001b[1m  51260.7 \u001b[m\u001b[mfree,\u001b[m\u001b[m\u001b[1m  46992.0 \u001b[m\u001b[mused,\u001b[m\u001b[m\u001b[1m 159177.8 \u001b[m\u001b[mbuff/cache\u001b[m\u001b[m\u001b[m\u001b[m\u001b[K\n",
      "MiB Swap:\u001b[m\u001b[m\u001b[1m   2048.0 \u001b[m\u001b[mtotal,\u001b[m\u001b[m\u001b[1m   2044.5 \u001b[m\u001b[mfree,\u001b[m\u001b[m\u001b[1m      3.5 \u001b[m\u001b[mused.\u001b[m\u001b[m\u001b[1m 208141.6 \u001b[m\u001b[mavail Mem \u001b[m\u001b[m\u001b[m\u001b[m\u001b[K\n",
      "\u001b[K\n",
      "\n",
      "\u001b[m1586351 raul      20   0  530272  61920  15772 S   2.3   0.0   0:00.75 python   \u001b[m\u001b[m\u001b[K\n",
      "\u001b[m 372165 abdul     20   0   28788  21644   3976 S   1.3   0.0   2136:53 nvtop    \u001b[m\u001b[m\u001b[K\n",
      "\u001b[m 302243 abdul     20   0   25800  18680   3976 S   1.0   0.0   2138:51 nvtop    \u001b[m\u001b[m\u001b[K\n",
      "\u001b[m 317369 abdul     20   0   28592  21476   3924 S   1.0   0.0   2194:04 nvtop    \u001b[m\u001b[m\u001b[K\n",
      "\u001b[m 328079 abdul     20   0   27948  20548   3832 S   1.0   0.0   2177:44 nvtop    \u001b[m\u001b[m\u001b[K\n",
      "\u001b[m 607233 abdul     20   0   29556  22320   4020 S   1.0   0.0   1854:17 nvtop    \u001b[m\u001b[m\u001b[K\n",
      "\u001b[m1559825 gdm       20   0 2356316  45728  29800 S   0.7   0.0  51:07.06 anydesk  \u001b[m\u001b[m\u001b[K\n",
      "\u001b[m1564018 raul      20   0    9796   4412   3184 S   0.7   0.0  48:50.62 top      \u001b[m\u001b[m\u001b[K\n",
      "\u001b[m\u001b[1m1586362 raul      20   0    9648   4308   3260 R   0.7   0.0   0:00.05 top      \u001b[m\u001b[m\u001b[K\n",
      "\u001b[m     14 root      20   0       0      0      0 I   0.3   0.0 529:51.17 rcu_sch+ \u001b[m\u001b[m\u001b[K\n",
      "\u001b[m    907 root      20   0  232028  64924  11936 S   0.3   0.0 148:58.36 jupyter+ \u001b[m\u001b[m\u001b[K\n",
      "\u001b[m   8361 abdul     20   0   10.5g  10.2g  14924 S   0.3   4.1 431:09.60 jupyter+ \u001b[m\u001b[m\u001b[K\n",
      "\u001b[m 256242 benjamin  20   0 1339844 955336  14552 S   0.3   0.4   2587:46 jupyter+ \u001b[m\u001b[m\u001b[K\n",
      "\u001b[m 706065 peese     20   0  294200  98880  13164 S   0.3   0.0   2:44.66 jupyter+ \u001b[m\u001b[m\u001b[K\n",
      "\u001b[m1580455 raul      20   0  517604  48964  15192 S   0.3   0.0   0:04.35 python   \u001b[m\u001b[m\u001b[K\n",
      "\u001b[m      1 root      20   0  172652  14324   7984 S   0.0   0.0   4:40.60 systemd  \u001b[m\u001b[m\u001b[K\n",
      "\u001b[m      2 root      20   0       0      0      0 S   0.0   0.0   0:02.21 kthreadd \u001b[m\u001b[m\u001b[K\u001b[?1l\u001b>\u001b[25;1H\n",
      "\u001b[K"
     ]
    }
   ],
   "source": [
    "!top"
   ]
  },
  {
   "cell_type": "code",
   "execution_count": 5,
   "metadata": {},
   "outputs": [
    {
     "name": "stdout",
     "output_type": "stream",
     "text": [
      "peptide-QML\n"
     ]
    }
   ],
   "source": [
    "!ls"
   ]
  },
  {
   "cell_type": "code",
   "execution_count": 8,
   "metadata": {},
   "outputs": [
    {
     "name": "stdout",
     "output_type": "stream",
     "text": [
      "remote: Enumerating objects: 37, done.\u001b[K\n",
      "remote: Counting objects: 100% (37/37), done.\u001b[K\n",
      "remote: Compressing objects: 100% (18/18), done.\u001b[K\n",
      "remote: Total 26 (delta 7), reused 26 (delta 7), pack-reused 0\u001b[K\n",
      "Unpacking objects: 100% (26/26), 1.04 MiB | 6.08 MiB/s, done.\n",
      "From github.com:raulconchello/peptide-QML\n",
      "   29382eb..399e5f6  main       -> origin/main\n",
      "Updating 29382eb..399e5f6\n",
      "Fast-forward\n",
      " Notebooks/.png                                     | Bin \u001b[31m0\u001b[m -> \u001b[32m20704\u001b[m bytes\n",
      " Notebooks/Connection.ipynb                         | 177 \u001b[32m+++\u001b[m\u001b[31m----\u001b[m\n",
      " Notebooks/sh_1qm.ipynb                             | 516 \u001b[32m++++++++++\u001b[m\u001b[31m-----------\u001b[m\n",
      " checkpoints/0802/models/0802-sh_1qm_1.pth          | Bin \u001b[31m0\u001b[m -> \u001b[32m50253\u001b[m bytes\n",
      " checkpoints/0802/models/0802-sh_1qm_3.pth          | Bin \u001b[31m0\u001b[m -> \u001b[32m50253\u001b[m bytes\n",
      " .../{0802-sh_1qm.ipynb => 0802-sh_1qm_1.ipynb}     | 375 \u001b[32m+++++\u001b[m\u001b[31m----------\u001b[m\n",
      " .../0802/plots/0802-sh_1qm_losses_batches_1.png    | Bin \u001b[31m0\u001b[m -> \u001b[32m67452\u001b[m bytes\n",
      " .../0802/plots/0802-sh_1qm_losses_batches_3.png    | Bin \u001b[31m0\u001b[m -> \u001b[32m57822\u001b[m bytes\n",
      " .../0802/plots/0802-sh_1qm_losses_epoch_1.png      | Bin \u001b[31m0\u001b[m -> \u001b[32m19049\u001b[m bytes\n",
      " .../0802/plots/0802-sh_1qm_losses_epoch_3.png      | Bin \u001b[31m0\u001b[m -> \u001b[32m19187\u001b[m bytes\n",
      " .../0802-sh_1qm_losses_epoch_validation_1.png      | Bin \u001b[31m0\u001b[m -> \u001b[32m19855\u001b[m bytes\n",
      " .../0802-sh_1qm_losses_epoch_validation_3.png      | Bin \u001b[31m0\u001b[m -> \u001b[32m21915\u001b[m bytes\n",
      " checkpoints/0802/txts/0802-sh_1qm_validation_1.txt |  22 \u001b[32m+\u001b[m\n",
      " checkpoints/0802/txts/0802-sh_1qm_validation_3.txt |  22 \u001b[32m+\u001b[m\n",
      " my_code/functions.py                               |  29 \u001b[32m+\u001b[m\u001b[31m-\u001b[m\n",
      " my_code/pytorch_model.py                           | 111 \u001b[32m++++\u001b[m\u001b[31m-\u001b[m\n",
      " 16 files changed, 605 insertions(+), 647 deletions(-)\n",
      " create mode 100644 Notebooks/.png\n",
      " create mode 100644 checkpoints/0802/models/0802-sh_1qm_1.pth\n",
      " create mode 100644 checkpoints/0802/models/0802-sh_1qm_3.pth\n",
      " rename checkpoints/0802/notebooks/{0802-sh_1qm.ipynb => 0802-sh_1qm_1.ipynb} (69%)\n",
      " create mode 100644 checkpoints/0802/plots/0802-sh_1qm_losses_batches_1.png\n",
      " create mode 100644 checkpoints/0802/plots/0802-sh_1qm_losses_batches_3.png\n",
      " create mode 100644 checkpoints/0802/plots/0802-sh_1qm_losses_epoch_1.png\n",
      " create mode 100644 checkpoints/0802/plots/0802-sh_1qm_losses_epoch_3.png\n",
      " create mode 100644 checkpoints/0802/plots/0802-sh_1qm_losses_epoch_validation_1.png\n",
      " create mode 100644 checkpoints/0802/plots/0802-sh_1qm_losses_epoch_validation_3.png\n",
      " create mode 100644 checkpoints/0802/txts/0802-sh_1qm_validation_1.txt\n",
      " create mode 100644 checkpoints/0802/txts/0802-sh_1qm_validation_3.txt\n"
     ]
    }
   ],
   "source": [
    "# pull changes (git)\n",
    "!cd peptide-QML && git fetch && git pull && cd .."
   ]
  },
  {
   "cell_type": "code",
   "execution_count": 2,
   "metadata": {},
   "outputs": [
    {
     "name": "stdout",
     "output_type": "stream",
     "text": [
      "[main d4fecb1] data trained model\n",
      " 1 file changed, 22 insertions(+), 22 deletions(-)\n",
      " rewrite checkpoints/0802/txts/0802-sh_1qm_validation_1.txt (98%)\n",
      "Enumerating objects: 11, done.\n",
      "Counting objects: 100% (11/11), done.\n",
      "Delta compression using up to 24 threads\n",
      "Compressing objects: 100% (6/6), done.\n",
      "Writing objects: 100% (6/6), 777 bytes | 777.00 KiB/s, done.\n",
      "Total 6 (delta 3), reused 0 (delta 0)\n",
      "remote: Resolving deltas: 100% (3/3), completed with 3 local objects.\u001b[K\n",
      "To github.com:raulconchello/peptide-QML.git\n",
      "   083ab78..d4fecb1  main -> main\n"
     ]
    }
   ],
   "source": [
    "# push changes (git)\n",
    "!cd peptide-QML && git add . && git commit -m \"data trained model\" && git push && cd .."
   ]
  }
 ],
 "metadata": {
  "kernelspec": {
   "display_name": "JL_Pennylane",
   "language": "python",
   "name": "jl_pennylane"
  },
  "orig_nbformat": 4
 },
 "nbformat": 4,
 "nbformat_minor": 2
}
