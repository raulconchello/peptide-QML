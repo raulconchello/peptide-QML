{
 "cells": [
  {
   "cell_type": "code",
   "execution_count": 1,
   "metadata": {},
   "outputs": [
    {
     "name": "stdout",
     "output_type": "stream",
     "text": [
      "\u001b[?1h\u001b=\u001b[H\u001b[2J\u001b[mtop - 12:08:35 up 178 days, 20:38,  1 user,  load average: 24.84, 23.37, 22.19\u001b[m\u001b[m\u001b[m\u001b[m\u001b[K\n",
      "Tasks:\u001b[m\u001b[m\u001b[1m 544 \u001b[m\u001b[mtotal,\u001b[m\u001b[m\u001b[1m   2 \u001b[m\u001b[mrunning,\u001b[m\u001b[m\u001b[1m 537 \u001b[m\u001b[msleeping,\u001b[m\u001b[m\u001b[1m   4 \u001b[m\u001b[mstopped,\u001b[m\u001b[m\u001b[1m   1 \u001b[m\u001b[mzombie\u001b[m\u001b[m\u001b[m\u001b[m\u001b[K\n",
      "%Cpu(s):\u001b[m\u001b[m\u001b[1m 28.6 \u001b[m\u001b[mus,\u001b[m\u001b[m\u001b[1m 70.1 \u001b[m\u001b[msy,\u001b[m\u001b[m\u001b[1m  0.0 \u001b[m\u001b[mni,\u001b[m\u001b[m\u001b[1m  1.2 \u001b[m\u001b[mid,\u001b[m\u001b[m\u001b[1m  0.0 \u001b[m\u001b[mwa,\u001b[m\u001b[m\u001b[1m  0.0 \u001b[m\u001b[mhi,\u001b[m\u001b[m\u001b[1m  0.0 \u001b[m\u001b[msi,\u001b[m\u001b[m\u001b[1m  0.0 \u001b[m\u001b[mst\u001b[m\u001b[m\u001b[m\u001b[m\u001b[K\n",
      "MiB Mem :\u001b[m\u001b[m\u001b[1m 257430.5 \u001b[m\u001b[mtotal,\u001b[m\u001b[m\u001b[1m  52764.7 \u001b[m\u001b[mfree,\u001b[m\u001b[m\u001b[1m  45721.2 \u001b[m\u001b[mused,\u001b[m\u001b[m\u001b[1m 158944.5 \u001b[m\u001b[mbuff/cache\u001b[m\u001b[m\u001b[m\u001b[m\u001b[K\n",
      "MiB Swap:\u001b[m\u001b[m\u001b[1m   2048.0 \u001b[m\u001b[mtotal,\u001b[m\u001b[m\u001b[1m   2044.5 \u001b[m\u001b[mfree,\u001b[m\u001b[m\u001b[1m      3.5 \u001b[m\u001b[mused.\u001b[m\u001b[m\u001b[1m 209408.8 \u001b[m\u001b[mavail Mem \u001b[m\u001b[m\u001b[m\u001b[m\u001b[K\n",
      "\u001b[K\n",
      "\u001b[7m    PID USER      PR  NI    VIRT    RES    SHR S  %CPU  %MEM     TIME+ COMMAND  \u001b[m\u001b[m\u001b[K\n",
      "\u001b[m\u001b[1m1580356 vikram    20   0 5586096 714860 159644 R  2362   0.3   1682:58 python   \u001b[m\u001b[m\u001b[K\n",
      "\u001b[m\u001b[1m1580521 raul      20   0    9652   4292   3256 R   6.2   0.0   0:00.01 top      \u001b[m\u001b[m\u001b[K\n",
      "\u001b[m      1 root      20   0  172652  14324   7984 S   0.0   0.0   4:39.33 systemd  \u001b[m\u001b[m\u001b[K\n",
      "\u001b[m      2 root      20   0       0      0      0 S   0.0   0.0   0:02.21 kthreadd \u001b[m\u001b[m\u001b[K\n",
      "\u001b[m      3 root       0 -20       0      0      0 I   0.0   0.0   0:00.00 rcu_gp   \u001b[m\u001b[m\u001b[K\n",
      "\u001b[m      4 root       0 -20       0      0      0 I   0.0   0.0   0:00.00 rcu_par+ \u001b[m\u001b[m\u001b[K\n",
      "\u001b[m      5 root       0 -20       0      0      0 I   0.0   0.0   0:00.00 slub_fl+ \u001b[m\u001b[m\u001b[K\n",
      "\u001b[m      6 root       0 -20       0      0      0 I   0.0   0.0   0:00.00 netns    \u001b[m\u001b[m\u001b[K\n",
      "\u001b[m      8 root       0 -20       0      0      0 I   0.0   0.0   0:00.00 kworker+ \u001b[m\u001b[m\u001b[K\n",
      "\u001b[m     10 root       0 -20       0      0      0 I   0.0   0.0   0:00.00 mm_perc+ \u001b[m\u001b[m\u001b[K\n",
      "\u001b[m     11 root      20   0       0      0      0 S   0.0   0.0   0:00.00 rcu_tas+ \u001b[m\u001b[m\u001b[K\n",
      "\u001b[m     12 root      20   0       0      0      0 S   0.0   0.0   0:00.00 rcu_tas+ \u001b[m\u001b[m\u001b[K\n",
      "\u001b[m     13 root      20   0       0      0      0 S   0.0   0.0   2:30.80 ksoftir+ \u001b[m\u001b[m\u001b[K\n",
      "\u001b[m     14 root      20   0       0      0      0 I   0.0   0.0 526:51.15 rcu_sch+ \u001b[m\u001b[m\u001b[K\n",
      "\u001b[m     15 root      rt   0       0      0      0 S   0.0   0.0   1:05.13 migrati+ \u001b[m\u001b[m\u001b[K\n",
      "\u001b[m     16 root     -51   0       0      0      0 S   0.0   0.0   0:00.00 idle_in+ \u001b[m\u001b[m\u001b[K\n",
      "\u001b[m     18 root      20   0       0      0      0 S   0.0   0.0   0:00.00 cpuhp/0  \u001b[m\u001b[m\u001b[K\u001b[H\u001b[mtop - 12:08:38 up 178 days, 20:38,  1 user,  load average: 25.65, 23.57, 22.26\u001b[m\u001b[m\u001b[m\u001b[m\u001b[K\n",
      "\n",
      "%Cpu(s):\u001b[m\u001b[m\u001b[1m 24.7 \u001b[m\u001b[mus,\u001b[m\u001b[m\u001b[1m 58.4 \u001b[m\u001b[msy,\u001b[m\u001b[m\u001b[1m  0.0 \u001b[m\u001b[mni,\u001b[m\u001b[m\u001b[1m 16.9 \u001b[m\u001b[mid,\u001b[m\u001b[m\u001b[1m  0.0 \u001b[m\u001b[mwa,\u001b[m\u001b[m\u001b[1m  0.0 \u001b[m\u001b[mhi,\u001b[m\u001b[m\u001b[1m  0.0 \u001b[m\u001b[msi,\u001b[m\u001b[m\u001b[1m  0.0 \u001b[m\u001b[mst\u001b[m\u001b[m\u001b[m\u001b[m\u001b[K\n",
      "MiB Mem :\u001b[m\u001b[m\u001b[1m 257430.5 \u001b[m\u001b[mtotal,\u001b[m\u001b[m\u001b[1m  52838.7 \u001b[m\u001b[mfree,\u001b[m\u001b[m\u001b[1m  45647.1 \u001b[m\u001b[mused,\u001b[m\u001b[m\u001b[1m 158944.6 \u001b[m\u001b[mbuff/cache\u001b[m\u001b[m\u001b[m\u001b[m\u001b[K\n",
      "MiB Swap:\u001b[m\u001b[m\u001b[1m   2048.0 \u001b[m\u001b[mtotal,\u001b[m\u001b[m\u001b[1m   2044.5 \u001b[m\u001b[mfree,\u001b[m\u001b[m\u001b[1m      3.5 \u001b[m\u001b[mused.\u001b[m\u001b[m\u001b[1m 209482.8 \u001b[m\u001b[mavail Mem \u001b[m\u001b[m\u001b[m\u001b[m\u001b[K\n",
      "\u001b[K\n",
      "\n",
      "\u001b[m\u001b[1m1580356 vikram    20   0 5520832 649724 159644 R  1984   0.2   1683:57 python   \u001b[m\u001b[m\u001b[K\n",
      "\u001b[m 328079 abdul     20   0   27948  20548   3832 S   1.3   0.0   2164:17 nvtop    \u001b[m\u001b[m\u001b[K\n",
      "\u001b[m1580510 raul      20   0  530192  61968  15900 S   1.3   0.0   0:00.97 python   \u001b[m\u001b[m\u001b[K\n",
      "\u001b[m 302243 abdul     20   0   25800  18680   3976 S   1.0   0.0   2125:46 nvtop    \u001b[m\u001b[m\u001b[K\n",
      "\u001b[m 317369 abdul     20   0   28592  21476   3924 S   1.0   0.0   2180:35 nvtop    \u001b[m\u001b[m\u001b[K\n",
      "\u001b[m 372165 abdul     20   0   28788  21644   3976 S   1.0   0.0   2123:26 nvtop    \u001b[m\u001b[m\u001b[K\n",
      "\u001b[m 607233 abdul     20   0   29556  22320   4020 S   1.0   0.0   1840:58 nvtop    \u001b[m\u001b[m\u001b[K\n",
      "\u001b[m   1126 root      20   0  261644  68932  42688 S   0.3   0.0 152:04.60 Xorg     \u001b[m\u001b[m\u001b[K\n",
      "\u001b[m   8361 abdul     20   0   10.5g  10.2g  14924 S   0.3   4.0 428:37.20 jupyter+ \u001b[m\u001b[m\u001b[K\n",
      "\u001b[m1559825 gdm       20   0 2356316  45728  29800 S   0.3   0.0  43:27.21 anydesk  \u001b[m\u001b[m\u001b[K\n",
      "\u001b[m1559869 raul      20   0 1768084   1.4g  16048 S   0.3   0.5  23:28.14 jupyter+ \u001b[m\u001b[m\u001b[K\n",
      "\u001b[m1564018 raul      20   0    9796   4412   3184 S   0.3   0.0  40:27.40 top      \u001b[m\u001b[m\u001b[K\n",
      "\u001b[m\u001b[1m1580521 raul      20   0    9652   4292   3256 R   0.3   0.0   0:00.02 top      \u001b[m\u001b[m\u001b[K\n",
      "\u001b[m2595974 vikram    20   0  447788 107608  14776 S   0.3   0.0  35:03.89 jupyter+ \u001b[m\u001b[m\u001b[K\n",
      "\u001b[m      1 root      20   0  172652  14324   7984 S   0.0   0.0   4:39.33 systemd  \u001b[m\u001b[m\u001b[K\n",
      "\u001b[m      2 root      20   0       0      0      0 S   0.0   0.0   0:02.21 kthreadd \u001b[m\u001b[m\u001b[K\n",
      "\u001b[m      3 root       0 -20       0      0      0 I   0.0   0.0   0:00.00 rcu_gp   \u001b[m\u001b[m\u001b[K\u001b[H\u001b[mtop - 12:08:41 up 178 days, 20:38,  1 user,  load average: 25.65, 23.57, 22.26\u001b[m\u001b[m\u001b[m\u001b[m\u001b[K\n",
      "\n",
      "%Cpu(s):\u001b[m\u001b[m\u001b[1m 24.3 \u001b[m\u001b[mus,\u001b[m\u001b[m\u001b[1m 62.4 \u001b[m\u001b[msy,\u001b[m\u001b[m\u001b[1m  0.0 \u001b[m\u001b[mni,\u001b[m\u001b[m\u001b[1m 13.3 \u001b[m\u001b[mid,\u001b[m\u001b[m\u001b[1m  0.0 \u001b[m\u001b[mwa,\u001b[m\u001b[m\u001b[1m  0.0 \u001b[m\u001b[mhi,\u001b[m\u001b[m\u001b[1m  0.0 \u001b[m\u001b[msi,\u001b[m\u001b[m\u001b[1m  0.0 \u001b[m\u001b[mst\u001b[m\u001b[m\u001b[m\u001b[m\u001b[K\n",
      "MiB Mem :\u001b[m\u001b[m\u001b[1m 257430.5 \u001b[m\u001b[mtotal,\u001b[m\u001b[m\u001b[1m  52783.8 \u001b[m\u001b[mfree,\u001b[m\u001b[m\u001b[1m  45702.0 \u001b[m\u001b[mused,\u001b[m\u001b[m\u001b[1m 158944.6 \u001b[m\u001b[mbuff/cache\u001b[m\u001b[m\u001b[m\u001b[m\u001b[K\n",
      "MiB Swap:\u001b[m\u001b[m\u001b[1m   2048.0 \u001b[m\u001b[mtotal,\u001b[m\u001b[m\u001b[1m   2044.5 \u001b[m\u001b[mfree,\u001b[m\u001b[m\u001b[1m      3.5 \u001b[m\u001b[mused.\u001b[m\u001b[m\u001b[1m 209428.0 \u001b[m\u001b[mavail Mem \u001b[m\u001b[m\u001b[m\u001b[m\u001b[K\n",
      "\u001b[K\n",
      "\n",
      "\u001b[m\u001b[1m1580356 vikram    20   0 5618728 718696 159644 R  2076   0.3   1685:00 python   \u001b[m\u001b[m\u001b[K\n",
      "\u001b[m1580510 raul      20   0  530192  61968  15900 S   1.3   0.0   0:01.01 python   \u001b[m\u001b[m\u001b[K\n",
      "\u001b[m 302243 abdul     20   0   25800  18680   3976 S   1.0   0.0   2125:46 nvtop    \u001b[m\u001b[m\u001b[K\n",
      "\u001b[m 328079 abdul     20   0   27948  20548   3832 S   1.0   0.0   2164:17 nvtop    \u001b[m\u001b[m\u001b[K\n",
      "\u001b[m 372165 abdul     20   0   28788  21644   3976 S   1.0   0.0   2123:26 nvtop    \u001b[m\u001b[m\u001b[K\n",
      "\u001b[m 317369 abdul     20   0   28592  21476   3924 S   0.7   0.0   2180:35 nvtop    \u001b[m\u001b[m\u001b[K\n",
      "\u001b[m 607233 abdul     20   0   29556  22320   4020 S   0.7   0.0   1840:58 nvtop    \u001b[m\u001b[m\u001b[K\n",
      "\u001b[m 256242 benjamin  20   0 1339844 955336  14552 S   0.3   0.4   2579:33 jupyter+ \u001b[m\u001b[m\u001b[K\n",
      "\u001b[m1559825 gdm       20   0 2356316  45728  29800 S   0.3   0.0  43:27.22 anydesk  \u001b[m\u001b[m\u001b[K\n",
      "\u001b[m1564018 raul      20   0    9796   4412   3184 S   0.3   0.0  40:27.41 top      \u001b[m\u001b[m\u001b[K\n",
      "\u001b[m\u001b[1m1580521 raul      20   0    9652   4292   3256 R   0.3   0.0   0:00.03 top      \u001b[m\u001b[m\u001b[K\n",
      "\u001b[m      1 root      20   0  172652  14324   7984 S   0.0   0.0   4:39.33 systemd  \u001b[m\u001b[m\u001b[K\n",
      "\u001b[m      2 root      20   0       0      0      0 S   0.0   0.0   0:02.21 kthreadd \u001b[m\u001b[m\u001b[K\n",
      "\u001b[m      3 root       0 -20       0      0      0 I   0.0   0.0   0:00.00 rcu_gp   \u001b[m\u001b[m\u001b[K\n",
      "\u001b[m      4 root       0 -20       0      0      0 I   0.0   0.0   0:00.00 rcu_par+ \u001b[m\u001b[m\u001b[K\n",
      "\u001b[m      5 root       0 -20       0      0      0 I   0.0   0.0   0:00.00 slub_fl+ \u001b[m\u001b[m\u001b[K\n",
      "\u001b[m      6 root       0 -20       0      0      0 I   0.0   0.0   0:00.00 netns    \u001b[m\u001b[m\u001b[K\u001b[H\u001b[mtop - 12:08:44 up 178 days, 20:38,  1 user,  load average: 25.60, 23.59, 22.27\u001b[m\u001b[m\u001b[m\u001b[m\u001b[K\n",
      "\n",
      "%Cpu(s):\u001b[m\u001b[m\u001b[1m 24.4 \u001b[m\u001b[mus,\u001b[m\u001b[m\u001b[1m 59.5 \u001b[m\u001b[msy,\u001b[m\u001b[m\u001b[1m  0.0 \u001b[m\u001b[mni,\u001b[m\u001b[m\u001b[1m 16.1 \u001b[m\u001b[mid,\u001b[m\u001b[m\u001b[1m  0.0 \u001b[m\u001b[mwa,\u001b[m\u001b[m\u001b[1m  0.0 \u001b[m\u001b[mhi,\u001b[m\u001b[m\u001b[1m  0.0 \u001b[m\u001b[msi,\u001b[m\u001b[m\u001b[1m  0.0 \u001b[m\u001b[mst\u001b[m\u001b[m\u001b[m\u001b[m\u001b[K\n",
      "MiB Mem :\u001b[m\u001b[m\u001b[1m 257430.5 \u001b[m\u001b[mtotal,\u001b[m\u001b[m\u001b[1m  52777.5 \u001b[m\u001b[mfree,\u001b[m\u001b[m\u001b[1m  45708.3 \u001b[m\u001b[mused,\u001b[m\u001b[m\u001b[1m 158944.6 \u001b[m\u001b[mbuff/cache\u001b[m\u001b[m\u001b[m\u001b[m\u001b[K\n",
      "MiB Swap:\u001b[m\u001b[m\u001b[1m   2048.0 \u001b[m\u001b[mtotal,\u001b[m\u001b[m\u001b[1m   2044.5 \u001b[m\u001b[mfree,\u001b[m\u001b[m\u001b[1m      3.5 \u001b[m\u001b[mused.\u001b[m\u001b[m\u001b[1m 209421.7 \u001b[m\u001b[mavail Mem \u001b[m\u001b[m\u001b[m\u001b[m\u001b[K\n",
      "\u001b[K\n",
      "\n",
      "\u001b[m\u001b[1m1580356 vikram    20   0 5586096 714860 159644 R  1998   0.3   1686:00 python   \u001b[m\u001b[m\u001b[K\n",
      "\u001b[m 372165 abdul     20   0   28788  21644   3976 S   1.3   0.0   2123:26 nvtop    \u001b[m\u001b[m\u001b[K\n",
      "\u001b[m1580510 raul      20   0  530192  61968  15900 S   1.3   0.0   0:01.05 python   \u001b[m\u001b[m\u001b[K\n",
      "\u001b[m 302243 abdul     20   0   25800  18680   3976 S   1.0   0.0   2125:46 nvtop    \u001b[m\u001b[m\u001b[K\n",
      "\u001b[m 317369 abdul     20   0   28592  21476   3924 S   1.0   0.0   2180:35 nvtop    \u001b[m\u001b[m\u001b[K\n",
      "\u001b[m   1119 root      20   0  720776 195924  26452 S   0.7   0.1 173:12.63 node     \u001b[m\u001b[m\u001b[K\n",
      "\u001b[m 328079 abdul     20   0   27948  20548   3832 S   0.7   0.0   2164:17 nvtop    \u001b[m\u001b[m\u001b[K\n",
      "\u001b[m 607233 abdul     20   0   29556  22320   4020 S   0.7   0.0   1840:58 nvtop    \u001b[m\u001b[m\u001b[K\n",
      "\u001b[m    907 root      20   0  232028  64880  11936 S   0.3   0.0 147:58.63 jupyter+ \u001b[m\u001b[m\u001b[K\n",
      "\u001b[m 256242 benjamin  20   0 1339844 955336  14552 S   0.3   0.4   2579:33 jupyter+ \u001b[m\u001b[m\u001b[K\n",
      "\u001b[m 722026 akshay    20   0 2220760 160468  93736 S   0.3   0.1  63:15.99 megasync \u001b[m\u001b[m\u001b[K\n",
      "\u001b[m 787118 peese     20   0  200660  46180  11080 S   0.3   0.0  84:21.82 ipython  \u001b[m\u001b[m\u001b[K\n",
      "\u001b[m1196507 avahi     20   0    9348   4996   3568 S   0.3   0.0  39:16.02 avahi-d+ \u001b[m\u001b[m\u001b[K\n",
      "\u001b[m1559825 gdm       20   0 2356316  45728  29800 S   0.3   0.0  43:27.23 anydesk  \u001b[m\u001b[m\u001b[K\n",
      "\u001b[m1559869 raul      20   0 1768084   1.4g  16048 S   0.3   0.5  23:28.15 jupyter+ \u001b[m\u001b[m\u001b[K\n",
      "\u001b[m1564018 raul      20   0    9796   4412   3184 S   0.3   0.0  40:27.42 top      \u001b[m\u001b[m\u001b[K\n",
      "\u001b[m\u001b[1m1580521 raul      20   0    9652   4292   3256 R   0.3   0.0   0:00.04 top      \u001b[m\u001b[m\u001b[K\u001b[?1l\u001b>\u001b[25;1H\n",
      "\u001b[K"
     ]
    }
   ],
   "source": [
    "!top"
   ]
  },
  {
   "cell_type": "code",
   "execution_count": 5,
   "metadata": {},
   "outputs": [
    {
     "name": "stdout",
     "output_type": "stream",
     "text": [
      "peptide-QML\n"
     ]
    }
   ],
   "source": [
    "!ls"
   ]
  },
  {
   "cell_type": "code",
   "execution_count": 4,
   "metadata": {},
   "outputs": [
    {
     "name": "stdout",
     "output_type": "stream",
     "text": [
      "Already up to date.\n"
     ]
    }
   ],
   "source": [
    "# pull changes (git)\n",
    "!cd peptide-QML && git fetch && git pull && cd .."
   ]
  },
  {
   "cell_type": "code",
   "execution_count": null,
   "metadata": {},
   "outputs": [],
   "source": [
    "# push changes (git)\n",
    "!cd peptide-QML && git add . && git commit -m \"data trained model\" && git push && cd .."
   ]
  }
 ],
 "metadata": {
  "kernelspec": {
   "display_name": "JL_Pennylane",
   "language": "python",
   "name": "jl_pennylane"
  },
  "language_info": {
   "codemirror_mode": {
    "name": "ipython",
    "version": 3
   },
   "file_extension": ".py",
   "mimetype": "text/x-python",
   "name": "python",
   "nbconvert_exporter": "python",
   "pygments_lexer": "ipython3",
   "version": "3.8.10"
  },
  "orig_nbformat": 4
 },
 "nbformat": 4,
 "nbformat_minor": 2
}
