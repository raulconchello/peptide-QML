{
 "cells": [
  {
   "cell_type": "code",
   "execution_count": 19,
   "metadata": {},
   "outputs": [],
   "source": [
    "import numpy as np\n",
    "import matplotlib.pyplot as plt"
   ]
  },
  {
   "cell_type": "code",
   "execution_count": 20,
   "metadata": {},
   "outputs": [],
   "source": [
    "initial_path = 'peptide-QML/'\n",
    "initial_path = '../'"
   ]
  },
  {
   "cell_type": "code",
   "execution_count": 21,
   "metadata": {},
   "outputs": [],
   "source": [
    "name_notebook = '0830-nh_em_1qm_loop'"
   ]
  },
  {
   "cell_type": "code",
   "execution_count": 22,
   "metadata": {},
   "outputs": [],
   "source": [
    "# return last line of the file\n",
    "def read_version(name_notebook):\n",
    "    day = name_notebook.split('-')[0]\n",
    "    file = open(initial_path + \"checkpoints/\" + day + \"/versions/\" + name_notebook + \".version\", \"r\")\n",
    "    version = int(file.readlines()[-1])\n",
    "    return version\n"
   ]
  },
  {
   "cell_type": "code",
   "execution_count": 23,
   "metadata": {},
   "outputs": [
    {
     "name": "stdout",
     "output_type": "stream",
     "text": [
      "File not found: ../checkpoints/0830/txts/0830-nh_em_1qm_loop_validation_1.txt\n"
     ]
    }
   ],
   "source": [
    "version = read_version(name_notebook)\n",
    "\n",
    "losses = []\n",
    "n_qubits = []\n",
    "n_layers = []\n",
    "\n",
    "for i in range(1, version + 1):\n",
    "    day = name_notebook.split('-')[0]\n",
    "\n",
    "    # loss\n",
    "    file_path = initial_path + \"checkpoints/\" + day + \"/txts/\" + name_notebook + \"_validation_\" + str(i) + \".txt\"\n",
    "    try: \n",
    "        file = open(file_path, \"r\")\n",
    "    except:\n",
    "        print(\"File not found: \" + file_path)\n",
    "        continue\n",
    "    loss = float(file.readlines()[-1].split()[-1])\n",
    "\n",
    "    # number of layers and qubits\n",
    "    file_path = initial_path + \"checkpoints/\" + day + \"/txts/\" + name_notebook + \"_model_str_\" + str(i) + \".txt\"\n",
    "    lines = [line.replace('\\t', '').replace('\\n', '') for line in open(file_path, \"r\").readlines()]\n",
    "    layers = int([line for line in lines if 'block_n_layers' in line][0].split(' ')[-1])\n",
    "    qubits = int([line for line in lines if 'n_qubits' in line][0].split(' ')[-1])\n",
    "\n",
    "    # append data\n",
    "    losses.append(loss)\n",
    "    n_qubits.append(qubits)\n",
    "    n_layers.append(layers)\n"
   ]
  },
  {
   "cell_type": "code",
   "execution_count": 24,
   "metadata": {},
   "outputs": [
    {
     "ename": "TypeError",
     "evalue": "expected non-empty vector for x",
     "output_type": "error",
     "traceback": [
      "\u001b[1;31m---------------------------------------------------------------------------\u001b[0m",
      "\u001b[1;31mTypeError\u001b[0m                                 Traceback (most recent call last)",
      "Cell \u001b[1;32mIn[24], line 17\u001b[0m\n\u001b[0;32m     15\u001b[0m \u001b[39m# Polynomial Regression data\u001b[39;00m\n\u001b[0;32m     16\u001b[0m degree \u001b[39m=\u001b[39m \u001b[39m2\u001b[39m\n\u001b[1;32m---> 17\u001b[0m coefficients \u001b[39m=\u001b[39m np\u001b[39m.\u001b[39;49mpolyfit(x, y, degree)\n\u001b[0;32m     18\u001b[0m x_pred \u001b[39m=\u001b[39m np\u001b[39m.\u001b[39mlinspace(x\u001b[39m.\u001b[39mmin(), x\u001b[39m.\u001b[39mmax(), \u001b[39m100\u001b[39m)\n\u001b[0;32m     19\u001b[0m y_pred \u001b[39m=\u001b[39m np\u001b[39m.\u001b[39mpolyval(coefficients, x_pred)\n",
      "File \u001b[1;32md:\\Raul\\Programs\\envs\\PennyLane\\lib\\site-packages\\numpy\\lib\\polynomial.py:639\u001b[0m, in \u001b[0;36mpolyfit\u001b[1;34m(x, y, deg, rcond, full, w, cov)\u001b[0m\n\u001b[0;32m    637\u001b[0m     \u001b[39mraise\u001b[39;00m \u001b[39mTypeError\u001b[39;00m(\u001b[39m\"\u001b[39m\u001b[39mexpected 1D vector for x\u001b[39m\u001b[39m\"\u001b[39m)\n\u001b[0;32m    638\u001b[0m \u001b[39mif\u001b[39;00m x\u001b[39m.\u001b[39msize \u001b[39m==\u001b[39m \u001b[39m0\u001b[39m:\n\u001b[1;32m--> 639\u001b[0m     \u001b[39mraise\u001b[39;00m \u001b[39mTypeError\u001b[39;00m(\u001b[39m\"\u001b[39m\u001b[39mexpected non-empty vector for x\u001b[39m\u001b[39m\"\u001b[39m)\n\u001b[0;32m    640\u001b[0m \u001b[39mif\u001b[39;00m y\u001b[39m.\u001b[39mndim \u001b[39m<\u001b[39m \u001b[39m1\u001b[39m \u001b[39mor\u001b[39;00m y\u001b[39m.\u001b[39mndim \u001b[39m>\u001b[39m \u001b[39m2\u001b[39m:\n\u001b[0;32m    641\u001b[0m     \u001b[39mraise\u001b[39;00m \u001b[39mTypeError\u001b[39;00m(\u001b[39m\"\u001b[39m\u001b[39mexpected 1D or 2D array for y\u001b[39m\u001b[39m\"\u001b[39m)\n",
      "\u001b[1;31mTypeError\u001b[0m: expected non-empty vector for x"
     ]
    }
   ],
   "source": [
    "# Given data\n",
    "y = np.array(losses)\n",
    "x = np.array(n_layers)\n",
    "\n",
    "# Order the data by x values\n",
    "sorted_indices = np.argsort(x)\n",
    "x = x[sorted_indices]\n",
    "y = y[sorted_indices]\n",
    "\n",
    "# Average the loss for the same number of layers\n",
    "x_avg = np.array(list(set(x)))\n",
    "y_avg = np.array([np.mean(y[x == xi]) for xi in x_avg])\n",
    "y_std = np.array([np.std(y[x == xi]) for xi in x_avg])  # Standard deviation for error bars\n",
    "\n",
    "# Polynomial Regression data\n",
    "degree = 2\n",
    "coefficients = np.polyfit(x, y, degree)\n",
    "x_pred = np.linspace(x.min(), x.max(), 100)\n",
    "y_pred = np.polyval(coefficients, x_pred)\n",
    "\n",
    "# Plot\n",
    "plt.plot(x, y, 'o', label=\"Data points\", alpha=0.5, color='grey', markersize=3)        # Data points\n",
    "plt.errorbar(x_avg, y_avg, yerr=y_std, fmt='o', label=\"Average data points\", capsize=5)  # Data points with error bars\n",
    "plt.plot(x_pred, y_pred, '-', label=\"Degree {} Regression\".format(degree))  # Regression line\n",
    "plt.xlabel('Number of layers')\n",
    "plt.ylabel('Loss')\n",
    "plt.title('Layers vs Loss ('+ str(n_qubits[0]) + ' qubits)')\n",
    "plt.legend(bbox_to_anchor=(1.05, 1), loc='upper left', borderaxespad=0.)\n",
    "plt.grid(True)\n",
    "plt.show()\n",
    "\n"
   ]
  }
 ],
 "metadata": {
  "kernelspec": {
   "display_name": "PennyLane",
   "language": "python",
   "name": "python3"
  },
  "language_info": {
   "codemirror_mode": {
    "name": "ipython",
    "version": 3
   },
   "file_extension": ".py",
   "mimetype": "text/x-python",
   "name": "python",
   "nbconvert_exporter": "python",
   "pygments_lexer": "ipython3",
   "version": "3.10.12"
  },
  "orig_nbformat": 4
 },
 "nbformat": 4,
 "nbformat_minor": 2
}
