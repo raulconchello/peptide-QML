{
 "cells": [
  {
   "cell_type": "code",
   "execution_count": 1,
   "metadata": {},
   "outputs": [],
   "source": [
    "initial_path = 'peptide-QML'\n",
    "# initial_path = '..'"
   ]
  },
  {
   "cell_type": "code",
   "execution_count": 2,
   "metadata": {},
   "outputs": [
    {
     "name": "stderr",
     "output_type": "stream",
     "text": [
      "/usr/lib/python3/dist-packages/requests/__init__.py:89: RequestsDependencyWarning: urllib3 (2.0.4) or chardet (3.0.4) doesn't match a supported version!\n",
      "  warnings.warn(\"urllib3 ({}) or chardet ({}) doesn't match a supported \"\n"
     ]
    }
   ],
   "source": [
    "import numpy as np\n",
    "import sys\n",
    "sys.path.append(initial_path)\n",
    "\n",
    "%load_ext autoreload\n",
    "%autoreload 2\n",
    "from my_code import helper_functions as f\n",
    "from my_code import helper_classes as c"
   ]
  },
  {
   "cell_type": "code",
   "execution_count": 3,
   "metadata": {},
   "outputs": [],
   "source": [
    "data_file_path = '{}/data/Scores/PET/PET_SCORES.csv'.format(initial_path)\n",
    "string_list, number_list = f.read_data_file(\n",
    "    data_file_path,\n",
    "    skip_first_line=True, \n",
    "    delimiter=', ', \n",
    "    columns_to_return=[1, 2],\n",
    "    which_columns_are_numbers=[2]\n",
    "    )\n",
    "score_list = np.array(number_list)/100\n",
    "vector_list = np.array([f.string_to_numbers(string) for string in string_list]) \n",
    "\n",
    "# Create data object\n",
    "data = c.Data(\n",
    "    x=vector_list,\n",
    "    y=score_list,\n",
    "    split_options={\n",
    "        'test_size': 0.1, 'random_state': 42, 'shuffle': True\n",
    "    },\n",
    "    tensors_type_x = 'int',\n",
    "    tensors_type_y = 'float64',\n",
    "    description='PET Scores for 12 amino acids; no geometry fixed',\n",
    "    original_data_file='PET/PET_SCORES.csv',\n",
    "    n_aminoacids=12,\n",
    ")"
   ]
  },
  {
   "cell_type": "code",
   "execution_count": 4,
   "metadata": {},
   "outputs": [
    {
     "data": {
      "text/plain": [
       "(UUID('ddc287f5-506b-441f-a903-6f2f336e69cd'),\n",
       " torch.Size([397780, 12]),\n",
       " torch.Size([397780, 1]),\n",
       " torch.Size([44198, 12]),\n",
       " torch.Size([44198, 1]))"
      ]
     },
     "execution_count": 4,
     "metadata": {},
     "output_type": "execute_result"
    }
   ],
   "source": [
    "data.uuid, data.x_train.shape, data.y_train.shape, data.x_test.shape, data.y_test.shape"
   ]
  },
  {
   "cell_type": "code",
   "execution_count": 5,
   "metadata": {},
   "outputs": [],
   "source": [
    "data.save(initial_path=initial_path, file_name='PET_SCORES_12_Numbers_int')"
   ]
  },
  {
   "cell_type": "code",
   "execution_count": 6,
   "metadata": {},
   "outputs": [],
   "source": [
    "new_data = c.Data.load(initial_path=initial_path, file_name='PET_SCORES_12_Numbers_int')"
   ]
  },
  {
   "cell_type": "code",
   "execution_count": 7,
   "metadata": {},
   "outputs": [
    {
     "data": {
      "text/plain": [
       "UUID('ddc287f5-506b-441f-a903-6f2f336e69cd')"
      ]
     },
     "execution_count": 7,
     "metadata": {},
     "output_type": "execute_result"
    }
   ],
   "source": [
    "new_data.uuid"
   ]
  },
  {
   "cell_type": "code",
   "execution_count": 10,
   "metadata": {},
   "outputs": [
    {
     "data": {
      "text/plain": [
       "tensor([[15, 10, 13,  ...,  3, 12,  9],\n",
       "        [ 5, 10,  9,  ...,  7, 11,  1],\n",
       "        [ 5,  5, 11,  ...,  2, 13, 12],\n",
       "        ...,\n",
       "        [ 4,  4, 12,  ..., 12,  0,  3],\n",
       "        [18,  6,  4,  ...,  3,  0,  9],\n",
       "        [ 8, 13, 13,  ..., 18,  8, 13]], dtype=torch.int32)"
      ]
     },
     "execution_count": 10,
     "metadata": {},
     "output_type": "execute_result"
    }
   ],
   "source": [
    "new_data.x_train"
   ]
  }
 ],
 "metadata": {
  "kernelspec": {
   "display_name": "JL_Pennylane",
   "language": "python",
   "name": "jl_pennylane"
  },
  "language_info": {
   "codemirror_mode": {
    "name": "ipython",
    "version": 3
   },
   "file_extension": ".py",
   "mimetype": "text/x-python",
   "name": "python",
   "nbconvert_exporter": "python",
   "pygments_lexer": "ipython3",
   "version": "3.8.10"
  }
 },
 "nbformat": 4,
 "nbformat_minor": 4
}
