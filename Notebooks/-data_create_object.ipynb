{
 "cells": [
  {
   "cell_type": "code",
   "execution_count": 4,
   "metadata": {},
   "outputs": [],
   "source": [
    "initial_path = 'peptide-QML'\n",
    "# initial_path = '..'"
   ]
  },
  {
   "cell_type": "code",
   "execution_count": 5,
   "metadata": {},
   "outputs": [
    {
     "name": "stdout",
     "output_type": "stream",
     "text": [
      "The autoreload extension is already loaded. To reload it, use:\n",
      "  %reload_ext autoreload\n"
     ]
    }
   ],
   "source": [
    "import numpy as np\n",
    "import sys\n",
    "sys.path.append(initial_path)\n",
    "\n",
    "%load_ext autoreload\n",
    "%autoreload 2\n",
    "from my_code import helper_functions as f\n",
    "from my_code import helper_classes as c"
   ]
  },
  {
   "cell_type": "code",
   "execution_count": 6,
   "metadata": {},
   "outputs": [],
   "source": [
    "data_file_path = '{}/data/Scores/PE/PE_6AA_SCORES_polished.csv'.format(initial_path)\n",
    "string_list, number_list = f.read_data_file(\n",
    "    data_file_path,\n",
    "    skip_first_line=True, \n",
    "    delimiter=',', \n",
    "    columns_to_return=[1, 2],\n",
    "    which_columns_are_numbers=[2]\n",
    "    )\n",
    "score_list = np.array(number_list)\n",
    "vector_list = np.array([f.string_to_numbers(string) for string in string_list]) \n",
    "\n",
    "# Create data object\n",
    "n_aminoacids = 6\n",
    "data = c.Data(\n",
    "    x=vector_list,\n",
    "    y=score_list,\n",
    "    split_options={\n",
    "        'test_size': 0.1, 'random_state': 42, 'shuffle': True\n",
    "    },\n",
    "    tensors_type_x = 'int',\n",
    "    tensors_type_y = 'float64',\n",
    "    description=f'PE Scores for {n_aminoacids} amino acids; no geometry fixed',\n",
    "    original_data_file=f'PE/PE_{n_aminoacids}AA_SCORES_polished.csv',\n",
    "    n_aminoacids=n_aminoacids,\n",
    ")"
   ]
  },
  {
   "cell_type": "code",
   "execution_count": 7,
   "metadata": {},
   "outputs": [
    {
     "data": {
      "text/plain": [
       "(UUID('d33f26cf-dd5b-4712-8e44-62df3529f5ff'),\n",
       " torch.Size([4779, 4]),\n",
       " torch.Size([4779, 1]),\n",
       " torch.Size([531, 4]),\n",
       " torch.Size([531, 1]))"
      ]
     },
     "execution_count": 7,
     "metadata": {},
     "output_type": "execute_result"
    }
   ],
   "source": [
    "data.uuid, data.x_train.shape, data.y_train.shape, data.x_test.shape, data.y_test.shape"
   ]
  },
  {
   "cell_type": "code",
   "execution_count": 8,
   "metadata": {},
   "outputs": [],
   "source": [
    "data.save(initial_path=initial_path, file_name='PE_SCORES_4_Numbers')"
   ]
  },
  {
   "cell_type": "code",
   "execution_count": 9,
   "metadata": {},
   "outputs": [],
   "source": [
    "new_data = c.Data.load(initial_path=initial_path, file_name='PE_SCORES_4_Numbers')"
   ]
  },
  {
   "cell_type": "code",
   "execution_count": 10,
   "metadata": {},
   "outputs": [
    {
     "data": {
      "text/plain": [
       "UUID('d33f26cf-dd5b-4712-8e44-62df3529f5ff')"
      ]
     },
     "execution_count": 10,
     "metadata": {},
     "output_type": "execute_result"
    }
   ],
   "source": [
    "new_data.uuid"
   ]
  },
  {
   "cell_type": "code",
   "execution_count": 11,
   "metadata": {},
   "outputs": [
    {
     "data": {
      "text/plain": [
       "tensor([[10, 13, 18, 10],\n",
       "        [ 9, 10, 14, 13],\n",
       "        [14, 10,  4, 12],\n",
       "        ...,\n",
       "        [ 5, 13, 13, 10],\n",
       "        [ 5, 11, 12, 13],\n",
       "        [14, 12, 11,  7]], dtype=torch.int32)"
      ]
     },
     "execution_count": 11,
     "metadata": {},
     "output_type": "execute_result"
    }
   ],
   "source": [
    "new_data.x_train"
   ]
  }
 ],
 "metadata": {
  "kernelspec": {
   "display_name": "JL_Pennylane",
   "language": "python",
   "name": "jl_pennylane"
  }
 },
 "nbformat": 4,
 "nbformat_minor": 4
}
