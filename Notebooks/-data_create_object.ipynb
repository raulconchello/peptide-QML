{
 "cells": [
  {
   "cell_type": "code",
   "execution_count": 25,
   "metadata": {},
   "outputs": [],
   "source": [
    "initial_path = 'peptide-QML'\n",
    "# initial_path = '..'"
   ]
  },
  {
   "cell_type": "code",
   "execution_count": 26,
   "metadata": {},
   "outputs": [
    {
     "name": "stdout",
     "output_type": "stream",
     "text": [
      "The autoreload extension is already loaded. To reload it, use:\n",
      "  %reload_ext autoreload\n"
     ]
    }
   ],
   "source": [
    "import numpy as np\n",
    "import sys\n",
    "sys.path.append(initial_path)\n",
    "\n",
    "%load_ext autoreload\n",
    "%autoreload 2\n",
    "from my_code import helper_functions as f\n",
    "from my_code import helper_classes as c"
   ]
  },
  {
   "cell_type": "code",
   "execution_count": 27,
   "metadata": {},
   "outputs": [],
   "source": [
    "data_file_path = '{}/data/Scores/PE/PE_6AA_SCORES_polished.csv'.format(initial_path)\n",
    "string_list, number_list = f.read_data_file(\n",
    "    data_file_path,\n",
    "    skip_first_line=True, \n",
    "    delimiter=',', \n",
    "    columns_to_return=[1, 2],\n",
    "    which_columns_are_numbers=[2]\n",
    "    )\n",
    "score_list = np.array(number_list)\n",
    "vector_list = np.array([f.string_to_numbers(string) for string in string_list]) \n",
    "\n",
    "# Create data object\n",
    "n_aminoacids = 6\n",
    "data = c.Data(\n",
    "    x=vector_list,\n",
    "    y=score_list,\n",
    "    split_options={\n",
    "        'test_size': 0.1, 'random_state': 42, 'shuffle': True\n",
    "    },\n",
    "    tensors_type_x = 'int',\n",
    "    tensors_type_y = 'float64',\n",
    "    description=f'PE Scores for {n_aminoacids} amino acids; no geometry fixed',\n",
    "    original_data_file=f'PE/PE_{n_aminoacids}AA_SCORES_polished.csv',\n",
    "    n_aminoacids=n_aminoacids,\n",
    ")"
   ]
  },
  {
   "cell_type": "code",
   "execution_count": 28,
   "metadata": {},
   "outputs": [
    {
     "data": {
      "text/plain": [
       "(UUID('d509cd07-d269-4efa-a709-4f2e2d410194'),\n",
       " torch.Size([11284, 6]),\n",
       " torch.Size([11284, 1]),\n",
       " torch.Size([1254, 6]),\n",
       " torch.Size([1254, 1]))"
      ]
     },
     "execution_count": 28,
     "metadata": {},
     "output_type": "execute_result"
    }
   ],
   "source": [
    "data.uuid, data.x_train.shape, data.y_train.shape, data.x_test.shape, data.y_test.shape"
   ]
  },
  {
   "cell_type": "code",
   "execution_count": 29,
   "metadata": {},
   "outputs": [],
   "source": [
    "data.save(initial_path=initial_path, file_name='PE_SCORES_6_Numbers')"
   ]
  },
  {
   "cell_type": "code",
   "execution_count": 30,
   "metadata": {},
   "outputs": [],
   "source": [
    "new_data = c.Data.load(initial_path=initial_path, file_name='PE_SCORES_6_Numbers')"
   ]
  },
  {
   "cell_type": "code",
   "execution_count": 31,
   "metadata": {},
   "outputs": [
    {
     "data": {
      "text/plain": [
       "UUID('d509cd07-d269-4efa-a709-4f2e2d410194')"
      ]
     },
     "execution_count": 31,
     "metadata": {},
     "output_type": "execute_result"
    }
   ],
   "source": [
    "new_data.uuid"
   ]
  },
  {
   "cell_type": "code",
   "execution_count": 32,
   "metadata": {},
   "outputs": [
    {
     "data": {
      "text/plain": [
       "tensor([[ 9, 13, 10, 14,  5,  2],\n",
       "        [14,  1,  5, 13, 14,  5],\n",
       "        [ 2,  4, 12, 14, 14,  5],\n",
       "        ...,\n",
       "        [ 2, 10, 11, 11,  5,  4],\n",
       "        [18,  5, 13, 10, 11,  4],\n",
       "        [13, 12,  5, 13,  9,  5]], dtype=torch.int32)"
      ]
     },
     "execution_count": 32,
     "metadata": {},
     "output_type": "execute_result"
    }
   ],
   "source": [
    "new_data.x_train"
   ]
  }
 ],
 "metadata": {
  "kernelspec": {
   "display_name": "JL_Pennylane",
   "language": "python",
   "name": "jl_pennylane"
  },
  "language_info": {
   "codemirror_mode": {
    "name": "ipython",
    "version": 3
   },
   "file_extension": ".py",
   "mimetype": "text/x-python",
   "name": "python",
   "nbconvert_exporter": "python",
   "pygments_lexer": "ipython3",
   "version": "3.8.10"
  }
 },
 "nbformat": 4,
 "nbformat_minor": 4
}
