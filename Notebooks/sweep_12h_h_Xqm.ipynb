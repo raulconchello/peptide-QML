{
 "cells": [
  {
   "cell_type": "code",
   "execution_count": 1,
   "metadata": {},
   "outputs": [],
   "source": [
    "initial_path = 'peptide-QML'\n",
    "# initial_path = '..'"
   ]
  },
  {
   "cell_type": "code",
   "execution_count": 2,
   "metadata": {},
   "outputs": [
    {
     "name": "stderr",
     "output_type": "stream",
     "text": [
      "/usr/lib/python3/dist-packages/requests/__init__.py:89: RequestsDependencyWarning: urllib3 (2.0.4) or chardet (3.0.4) doesn't match a supported version!\n",
      "  warnings.warn(\"urllib3 ({}) or chardet ({}) doesn't match a supported \"\n"
     ]
    }
   ],
   "source": [
    "import sys\n",
    "sys.path.append(initial_path)\n",
    "\n",
    "%load_ext autoreload\n",
    "%autoreload 2\n",
    "from my_code import helper_classes as c\n",
    "from my_code import pytorch_model as m\n",
    "from my_code import quantum_nodes as q"
   ]
  },
  {
   "cell_type": "code",
   "execution_count": 3,
   "metadata": {},
   "outputs": [],
   "source": [
    "# name of the notebook\n",
    "name_notebook = \"sweep_12h_h_Xqm\""
   ]
  },
  {
   "cell_type": "code",
   "execution_count": 4,
   "metadata": {},
   "outputs": [],
   "source": [
    "sweep = c.Sweep(\n",
    "    name_notebook, \n",
    "    initial_path=initial_path,\n",
    "    description=\"Try to find the best measurement and number of layers for the quantum block.\",\n",
    "    qubits_measurement=[1, 'A'],\n",
    "    n_layers_quantum_block=[1,2,5,12,20],\n",
    "    repetitions=list(range(1, 3)),\n",
    ")"
   ]
  },
  {
   "cell_type": "code",
   "execution_count": 5,
   "metadata": {},
   "outputs": [],
   "source": [
    "sweep.save()"
   ]
  },
  {
   "cell_type": "code",
   "execution_count": 6,
   "metadata": {},
   "outputs": [
    {
     "name": "stdout",
     "output_type": "stream",
     "text": [
      " --- SWEEP POINT 0/20 --- \n"
     ]
    },
    {
     "ename": "KeyError",
     "evalue": "'optimizer'",
     "output_type": "error",
     "traceback": [
      "\u001b[0;31m---------------------------------------------------------------------------\u001b[0m",
      "\u001b[0;31mKeyError\u001b[0m                                  Traceback (most recent call last)",
      "\u001b[0;32m<ipython-input-6-714f255861e1>\u001b[0m in \u001b[0;36m<module>\u001b[0;34m\u001b[0m\n\u001b[1;32m     55\u001b[0m         \u001b[0mdata\u001b[0m\u001b[0;34m=\u001b[0m\u001b[0mc\u001b[0m\u001b[0;34m.\u001b[0m\u001b[0mData\u001b[0m\u001b[0;34m.\u001b[0m\u001b[0mload\u001b[0m\u001b[0;34m(\u001b[0m\u001b[0minitial_path\u001b[0m\u001b[0;34m=\u001b[0m\u001b[0minitial_path\u001b[0m\u001b[0;34m,\u001b[0m \u001b[0mfile_name\u001b[0m\u001b[0;34m=\u001b[0m\u001b[0;34m'PET_SCORES_12'\u001b[0m\u001b[0;34m)\u001b[0m\u001b[0;34m,\u001b[0m\u001b[0;34m\u001b[0m\u001b[0;34m\u001b[0m\u001b[0m\n\u001b[1;32m     56\u001b[0m         \u001b[0;31m# train options\u001b[0m\u001b[0;34m\u001b[0m\u001b[0;34m\u001b[0m\u001b[0;34m\u001b[0m\u001b[0m\n\u001b[0;32m---> 57\u001b[0;31m         \u001b[0moptimizer\u001b[0m \u001b[0;34m=\u001b[0m \u001b[0msweep_point\u001b[0m\u001b[0;34m[\u001b[0m\u001b[0;34m'optimizer'\u001b[0m\u001b[0;34m]\u001b[0m\u001b[0;34m,\u001b[0m\u001b[0;34m\u001b[0m\u001b[0;34m\u001b[0m\u001b[0m\n\u001b[0m\u001b[1;32m     58\u001b[0m         \u001b[0moptimizer_options\u001b[0m \u001b[0;34m=\u001b[0m \u001b[0;34m{\u001b[0m\u001b[0;34m'lr'\u001b[0m\u001b[0;34m:\u001b[0m \u001b[0msweep_point\u001b[0m\u001b[0;34m[\u001b[0m\u001b[0;34m'lr'\u001b[0m\u001b[0;34m]\u001b[0m\u001b[0;34m}\u001b[0m\u001b[0;34m,\u001b[0m\u001b[0;34m\u001b[0m\u001b[0;34m\u001b[0m\u001b[0m\n\u001b[1;32m     59\u001b[0m         \u001b[0mnum_epochs\u001b[0m \u001b[0;34m=\u001b[0m \u001b[0;36m2\u001b[0m\u001b[0;34m,\u001b[0m\u001b[0;34m\u001b[0m\u001b[0;34m\u001b[0m\u001b[0m\n",
      "\u001b[0;31mKeyError\u001b[0m: 'optimizer'"
     ]
    }
   ],
   "source": [
    "for sweep_point in sweep:\n",
    "\n",
    "    # print the point of the sweep\n",
    "    sweep.print_sweep_status(sweep_point['idx'])\n",
    "\n",
    "    # -- QUANTUM BLOCK -- #\n",
    "    n_qubits = 12\n",
    "    quantum_layer = q.circuit(\n",
    "        n_qubits = n_qubits, \n",
    "        device = \"default.qubit.torch\",\n",
    "        device_options = {'shots': None},\n",
    "        embedding = q.parts.AngleEmbedding, \n",
    "        # embedding_ansatz = q.parts.Ansatz_11,\n",
    "        block_ansatz = q.parts.Ansatz_11,\n",
    "        final_ansatz = q.parts.Ansatz_11,\n",
    "        measurement = q.parts.Measurement('Z', sweep_point['qubits_measurement']),\n",
    "        # embedding_n_layers = 4,\n",
    "        # different_inputs_per_layer = True,\n",
    "        block_n_layers = sweep_point['n_layers_quantum_block'],\n",
    "        # wrapper_qlayer = pw.QLayerEmpty,\n",
    "    )\n",
    "\n",
    "    # -- MODEL -- #\n",
    "    class Model(m.Model):\n",
    "        def __init__(self):\n",
    "            super(Model, self).__init__()\n",
    "            self.fc1 = m.nn.Linear(228, 228//2)\n",
    "            self.fc2 = m.nn.Linear(228//2, 12)\n",
    "            self.quantum_block = ''\n",
    "            self.fc3 = m.nn.Linear(12, 1)\n",
    "\n",
    "        def forward(self, x):\n",
    "            x = m.torch.sigmoid(self.fc1(x))\n",
    "            x = m.torch.sigmoid(self.fc2(x))\n",
    "            x = self.fc3(x)\n",
    "            return x\n",
    "\n",
    "    model = Model()\n",
    "\n",
    "    # set the name and path of the model\n",
    "    model.set_name_and_path(name_notebook, initial_path)\n",
    "\n",
    "    #set sweep point\n",
    "    model.set_sweep_point(\n",
    "        sweep_uuid = sweep.uuid,\n",
    "        sweep_point = sweep_point\n",
    "    )\n",
    "\n",
    "    # -- TRAIN -- #\n",
    "    model.optimize_params(\n",
    "        #save info\n",
    "        save_model_info = True,\n",
    "        description = 'sweep test with 12 amino acids and clasical QML',    \n",
    "        #data\n",
    "        data=c.Data.load(initial_path=initial_path, file_name='PET_SCORES_12'),\n",
    "        # train options\n",
    "        optimizer = m.optim.Adam,\n",
    "        optimizer_options = {'lr': 0.01},\n",
    "        num_epochs = 2,                \n",
    "        batch_size = 32,\n",
    "        # early stopping options\n",
    "        stop_training_options = {\n",
    "            'lookback_epochs': 5, \n",
    "            'threshold_slope': 0.001,\n",
    "            'threshold_std_dev': 0.2\n",
    "        },\n",
    "        # metadata\n",
    "        metadata = {}\n",
    "    )\n",
    "\n",
    "    # -- VALIDATION and PLOTS -- #\n",
    "    model.plot_losses(fig_size=(6,6))\n",
    "    model.validate(\n",
    "        pct=1,\n",
    "        add_to_results=True,\n",
    "        plot=True,\n",
    "        print_items=False\n",
    "    )\n",
    "\n",
    "    # -- SAVE RESULTS -- #\n",
    "    model.save_results()\n",
    "\n",
    "    # -- ADD DATA GENERATED TO SWEEP -- #\n",
    "    sweep.add_data(\n",
    "        idx=sweep_point['idx'],\n",
    "        model_uuid=model.uuid,\n",
    "        best_loss_train=model.results.loss_epoch.best,\n",
    "        best_loss_test=model.results.loss_validation_epoch.best,\n",
    "        loss_validation=model.mean_loss_validation,\n",
    "        time_train=model.results.time_epoch.last,\n",
    "    )\n",
    "    sweep.save(csv=False) #TODO: save csv=False automatically when sweep is already saved ion csv\n",
    "\n",
    "    "
   ]
  }
 ],
 "metadata": {
  "kernelspec": {
   "display_name": "JL_Pennylane",
   "language": "python",
   "name": "jl_pennylane"
  },
  "language_info": {
   "codemirror_mode": {
    "name": "ipython",
    "version": 3
   },
   "file_extension": ".py",
   "mimetype": "text/x-python",
   "name": "python",
   "nbconvert_exporter": "python",
   "pygments_lexer": "ipython3",
   "version": "3.8.10"
  }
 },
 "nbformat": 4,
 "nbformat_minor": 4
}
