{
 "cells": [
  {
   "cell_type": "code",
   "execution_count": 7,
   "metadata": {},
   "outputs": [],
   "source": [
    "initial_path = 'peptide-QML'\n",
    "# initial_path = '..'"
   ]
  },
  {
   "cell_type": "code",
   "execution_count": 8,
   "metadata": {},
   "outputs": [
    {
     "name": "stdout",
     "output_type": "stream",
     "text": [
      "The autoreload extension is already loaded. To reload it, use:\n",
      "  %reload_ext autoreload\n"
     ]
    }
   ],
   "source": [
    "import sys\n",
    "sys.path.append(initial_path)\n",
    "\n",
    "%load_ext autoreload\n",
    "%autoreload 2\n",
    "from my_code import helper_classes as c\n",
    "from my_code import pytorch_model as m\n",
    "from my_code import quantum_nodes as q"
   ]
  },
  {
   "cell_type": "code",
   "execution_count": 9,
   "metadata": {},
   "outputs": [],
   "source": [
    "# name of the notebook\n",
    "name_notebook = \"sweep_6h_er_1qm_oi\""
   ]
  },
  {
   "cell_type": "code",
   "execution_count": 10,
   "metadata": {},
   "outputs": [],
   "source": [
    "sweep = c.Sweep.load(file_name=name_notebook+\"-1\", day='1002', initial_path=initial_path)"
   ]
  },
  {
   "cell_type": "code",
   "execution_count": 11,
   "metadata": {},
   "outputs": [
    {
     "name": "stdout",
     "output_type": "stream",
     "text": [
      "\n",
      "\n",
      " --- SWEEP POINT 1/72: (1, 2, 3) ---\n",
      " --- parameters sweeping: ['repetitions', 'embedding_dim', 'block_n_layers'] \n",
      "\n",
      "Loaded results with uuid 95cf42c6-3d4e-4a46-a01a-247ffbbc25c8.\n",
      "Loaded best state_dict from results.\n",
      "3 -15.553541763281045\r"
     ]
    },
    {
     "name": "stdout",
     "output_type": "stream",
     "text": [
      "Best score: -20.481258412586012 \t\t\t\t\t\t                   20/20 peptides generated. Score -17.06491532196551. \t Time remaining: 0.11 min \t\t\t \t \n",
      "\n",
      "\n",
      " --- SWEEP POINT 2/72: (1, 2, 5) ---\n",
      " --- time reamining: 3518:10:19.81 \n",
      "\n",
      "Loaded results with uuid d2e68efe-2b12-42eb-b759-bcd0cc3bce8a.\n",
      "Loaded best state_dict from results.\n",
      "Best score: -19.787385490421514 \t\t\t\t\t\t                    20/20 peptides generated. Score -16.33545946558982. \t Time remaining: 0.15 min \t\t\t  \n",
      "\n",
      "\n",
      " --- SWEEP POINT 3/72: (1, 2, 7) ---\n",
      " --- time reamining: 1736:03:19.77 \n",
      "\n",
      "Loaded results with uuid d591d620-4ac4-4d6a-bb99-f2f2f7d75fbd.\n",
      "Loaded best state_dict from results.\n",
      "Best score: -17.041859430368053 \t\t\t\t\t\t                 20/20 peptides generated. Score -9.18980028980488. \t Time remaining: 0.18 min \t\t\t  \t\t\t  \n",
      "\n",
      "\n",
      " --- SWEEP POINT 4/72: (1, 2, 9) ---\n",
      " --- time reamining: 1142:14:38.81 \n",
      "\n",
      "Loaded results with uuid 80ecd4cb-19f4-43b0-a5dd-27b89285ccf2.\n",
      "Loaded best state_dict from results.\n",
      "Best score: -18.526346524977185 \t\t\t\t\t\t                    20/20 peptides generated. Score -13.783193347936592. \t Time remaining: 0.22 min \t\t\t \t \n",
      "\n",
      "\n",
      " --- SWEEP POINT 5/72: (1, 2, 11) ---\n",
      " --- time reamining: 845:31:33.52 \n",
      "\n",
      "Loaded results with uuid b0a3b44d-807a-4bb5-92af-c4ce0d05fe35.\n",
      "Loaded best state_dict from results.\n",
      "38 -17.018668741484703\r"
     ]
    }
   ],
   "source": [
    "for sweep_point in sweep.points_w_data:\n",
    "\n",
    "    # print the point of the sweep\n",
    "    sweep.print_sweep_status(sweep_point['idx'])\n",
    "\n",
    "    # -- QUANTUM BLOCK -- #\n",
    "    n_qubits = 6\n",
    "    quantum_layer = q.circuit(\n",
    "        n_qubits = n_qubits, \n",
    "        device = \"default.qubit.torch\",\n",
    "        device_options = {'shots': None},\n",
    "        embedding = q.parts.AngleEmbedding,\n",
    "        embedding_ansatz = q.parts.Ansatz_11,\n",
    "        block_ansatz = q.parts.Ansatz_11,\n",
    "        final_ansatz = q.parts.Ansatz_11, \n",
    "        measurement = q.parts.Measurement('Z', 1),\n",
    "        embedding_n_layers = sweep_point['embedding_dim']-1,\n",
    "        different_inputs_per_layer = True,\n",
    "        block_n_layers = sweep_point['block_n_layers'],\n",
    "        # wrapper_qlayer = pw.QLayerEmpty,\n",
    "    )\n",
    "\n",
    "    # -- MODEL -- #                    \n",
    "    class Model(m.Model):\n",
    "        def __init__(self):\n",
    "            super(Model, self).__init__()\n",
    "            self.fc1 = m.nn.Embedding(num_embeddings=19, embedding_dim=sweep_point['embedding_dim'])\n",
    "            self.fc2 = m.Reshape()\n",
    "            self.fc3 = quantum_layer()            \n",
    "            self.fc4 = m.nn.Linear(1, 1)\n",
    "\n",
    "        def forward(self, x):\n",
    "            for i in [1,2,3,4]:\n",
    "                x = getattr(self, 'fc{}'.format(i))(x)\n",
    "            return x\n",
    "\n",
    "    model = Model()\n",
    "\n",
    "    # set quantum layer\n",
    "    model.set_quantum_layer(quantum_layer)\n",
    "\n",
    "    # set the name and path of the model\n",
    "    model.set_name_and_path(name_notebook, initial_path)\n",
    "\n",
    "    #set sweep point\n",
    "    model.set_sweep_point(\n",
    "        sweep_uuid = sweep.uuid,\n",
    "        sweep_point = sweep_point,\n",
    "        day=sweep.day\n",
    "    )\n",
    "    \n",
    "    # load results\n",
    "    model.load_results(uuid=sweep_point['model_uuid'])\n",
    "\n",
    "    # load best model\n",
    "    model.load_state_dict_from_results(state_dict_name=\"parameters_epoch\", rule=\"best\")\n",
    "\n",
    "    # -- GENERATE PEPTIDES and SAVE THEM -- #    \n",
    "    oi_time = m.t.time()\n",
    "    n_peptides = 20\n",
    "    for i in range(n_peptides):\n",
    "        model.get_input_with_low_score(\n",
    "            layers_to_use = ['fc3', 'fc4'],\n",
    "            n_iter = 1000,\n",
    "            optimizer = m.torch.optim.Adam,\n",
    "            optimizer_options = {'lr': 0.1},\n",
    "            stop_criterion = 1e-3,\n",
    "            initialization_seed = i,\n",
    "            k_closest=2,\n",
    "        )\n",
    "        print(\"{}/{} peptides generated. Score {}. \\t Time remaining: {:.2f} min \\t\\t\\t \".format(\n",
    "            i+1, n_peptides, model.optimized_inputs[-1][1], (n_peptides-i)*(m.t.time() - oi_time)/(i+1)/60\n",
    "        ), end='\\r')\n",
    "    oi_time = m.t.time() - oi_time\n",
    "    model.save_input_optimization_results()\n",
    "    best_oi, best_oi_score = model.best_optimized_input\n",
    "    print(\"Best score: {} \\t\\t\\t\\t\\t\\t  \".format(best_oi_score))\n",
    "\n",
    "    # -- ADD DATA GENERATED TO SWEEP -- #\n",
    "    sweep.add_data(\n",
    "        idx=sweep_point['idx'],\n",
    "        new_best_oi=best_oi,\n",
    "        new_best_oi_score=best_oi_score,\n",
    "        new_oi_time=oi_time,\n",
    "    )\n",
    "    sweep.save(csv=False) #TODO: save csv=False automatically when sweep is already saved ion csv\n",
    "\n",
    "    "
   ]
  }
 ],
 "metadata": {
  "kernelspec": {
   "display_name": "JL_Pennylane",
   "language": "python",
   "name": "jl_pennylane"
  }
 },
 "nbformat": 4,
 "nbformat_minor": 4
}
