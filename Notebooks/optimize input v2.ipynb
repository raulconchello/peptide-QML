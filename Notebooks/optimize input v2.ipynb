{
 "cells": [
  {
   "cell_type": "code",
   "execution_count": 1,
   "metadata": {},
   "outputs": [],
   "source": [
    "initial_path = 'peptide-QML'\n",
    "# initial_path = '..'"
   ]
  },
  {
   "cell_type": "code",
   "execution_count": 2,
   "metadata": {},
   "outputs": [],
   "source": [
    "import numpy as np\n",
    "import sys\n",
    "import matplotlib.pyplot as plt\n",
    "sys.path.append(initial_path)\n",
    "\n",
    "%load_ext autoreload\n",
    "%autoreload 2\n",
    "from my_code import helper_classes as c\n",
    "from my_code import pytorch_model as m\n",
    "from my_code import quantum_nodes as q"
   ]
  },
  {
   "cell_type": "code",
   "execution_count": 5,
   "metadata": {},
   "outputs": [
    {
     "data": {
      "text/plain": [
       "dict_keys(['idx', 'repetitions', 'block_n_layers', 'embedding_n_layers', 'ansatz', 'model_uuid', 'best_loss_train', 'best_loss_test', 'loss_validation', 'n_parameters', 'time_train'])"
      ]
     },
     "execution_count": 5,
     "metadata": {},
     "output_type": "execute_result"
    }
   ],
   "source": [
    "sweep = c.Sweep.load(\n",
    "    initial_path=initial_path,\n",
    "    day='0926',\n",
    "    file_name='sweep_6h_er_Aqm-2',\n",
    ")\n",
    "sweep.lists.keys()"
   ]
  },
  {
   "cell_type": "code",
   "execution_count": 13,
   "metadata": {},
   "outputs": [
    {
     "data": {
      "image/png": "[encoded data removed]",
      "text/plain": [
       "<Figure size 720x432 with 1 Axes>"
      ]
     },
     "metadata": {
      "needs_background": "light"
     },
     "output_type": "display_data"
    }
   ],
   "source": [
    "sweep.plot(\n",
    "    x_key='n_parameters',\n",
    "    y_key='loss_validation',\n",
    "    legend_keys=['ansatz'],\n",
    "    fit_degree=2,\n",
    "    replace=[(\"<class 'my_code.quantum_nodes.parts.Ansatz_full_conn'>\", 'full_conn'), (\"<class 'my_code.quantum_nodes.parts.Ansatz_11'>\", '11')],\n",
    "    fix = [],\n",
    "    to_string = ['ansatz'],\n",
    "    colors = [ 'c', 'm', 'y', 'k', 'w'],\n",
    ")"
   ]
  },
  {
   "cell_type": "code",
   "execution_count": 9,
   "metadata": {},
   "outputs": [],
   "source": [
    "point = sweep.get_point_min('loss_validation', fix=[('ansatz', \"<class 'my_code.quantum_nodes.parts.Ansatz_11'>\")], to_string=['ansatz'])"
   ]
  },
  {
   "cell_type": "code",
   "execution_count": 10,
   "metadata": {},
   "outputs": [
    {
     "data": {
      "text/plain": [
       "{'idx': 13,\n",
       " 'repetitions': 1,\n",
       " 'block_n_layers': 3,\n",
       " 'embedding_n_layers': 1,\n",
       " 'ansatz': my_code.quantum_nodes.parts.Ansatz_11,\n",
       " 'model_uuid': UUID('9e7bf383-1a45-4389-ba0b-fded42603e51'),\n",
       " 'best_loss_train': 17.497654696775257,\n",
       " 'best_loss_test': 13.340163834008262,\n",
       " 'loss_validation': 16.496774137435654,\n",
       " 'n_parameters': 126,\n",
       " 'time_train': 694.4912073612213}"
      ]
     },
     "execution_count": 10,
     "metadata": {},
     "output_type": "execute_result"
    }
   ],
   "source": [
    "point"
   ]
  },
  {
   "cell_type": "code",
   "execution_count": 11,
   "metadata": {},
   "outputs": [],
   "source": [
    "import csv\n",
    "\n",
    "def get_results_from_uuid(uuid, file_path):\n",
    "    with open(file_path, mode='r') as csv_file:\n",
    "        reader = csv.DictReader(csv_file)\n",
    "        for row in reader:\n",
    "            if row['model_uuid'] == uuid:\n",
    "                day, file_name = row['day'], row['file_name']\n",
    "                return c.Results.load(\n",
    "                    initial_path=initial_path,\n",
    "                    day=day,\n",
    "                    file_name=file_name,\n",
    "                )\n",
    "    \n",
    "    return None\n",
    "\n",
    "\n",
    "uuid_to_search = str(point['model_uuid'])\n",
    "file_path = initial_path + '/saved/results.csv'\n",
    "results = get_results_from_uuid(uuid_to_search, file_path)"
   ]
  },
  {
   "cell_type": "code",
   "execution_count": 28,
   "metadata": {},
   "outputs": [
    {
     "data": {
      "text/plain": [
       "<All keys matched successfully>"
      ]
     },
     "execution_count": 28,
     "metadata": {},
     "output_type": "execute_result"
    }
   ],
   "source": [
    "sweep_point = point\n",
    "\n",
    "# -- QUANTUM BLOCK -- #\n",
    "n_qubits = 6\n",
    "quantum_layer = q.circuit(\n",
    "    n_qubits = n_qubits, \n",
    "    device = \"default.qubit.torch\",\n",
    "    device_options = {'shots': None},\n",
    "    embedding = q.parts.AngleEmbedding,\n",
    "    embedding_ansatz = sweep_point['ansatz'],\n",
    "    block_ansatz = sweep_point['ansatz'],\n",
    "    final_ansatz = sweep_point['ansatz'], \n",
    "    measurement = q.parts.Measurement('Z', 'all'),\n",
    "    embedding_n_layers = sweep_point['embedding_n_layers'],\n",
    "    different_inputs_per_layer = False,\n",
    "    block_n_layers = sweep_point['block_n_layers'],\n",
    "    # wrapper_qlayer = pw.QLayerEmpty,\n",
    ")\n",
    "\n",
    "# -- MODEL -- #                    \n",
    "class Model(m.Model):\n",
    "    def __init__(self):\n",
    "        super(Model, self).__init__()\n",
    "        self.fc1 = m.nn.Embedding(num_embeddings=19, embedding_dim=1)\n",
    "        self.fc2 = m.Reshape()\n",
    "        self.fc3 = quantum_layer()            \n",
    "        self.fc4 = m.nn.Linear(n_qubits, 1)\n",
    "\n",
    "    def forward(self, x):\n",
    "        for i in [3,4]:\n",
    "            x = getattr(self, 'fc{}'.format(i))(x)\n",
    "        return x\n",
    "\n",
    "model = Model()\n",
    "\n",
    "model.load_state_dict(results.parameters_epoch.best)"
   ]
  },
  {
   "cell_type": "code",
   "execution_count": 37,
   "metadata": {},
   "outputs": [
    {
     "data": {
      "text/plain": [
       "tensor([-6.1444], grad_fn=<AddBackward0>)"
      ]
     },
     "execution_count": 37,
     "metadata": {},
     "output_type": "execute_result"
    }
   ],
   "source": [
    "model(m.torch.tensor([0, 1, 2, 3, 4, 5], dtype=m.torch.float64))"
   ]
  },
  {
   "cell_type": "code",
   "execution_count": 92,
   "metadata": {},
   "outputs": [
    {
     "name": "stdout",
     "output_type": "stream",
     "text": [
      "final x: [6.211109128538519, 6.2566082177873215, 6.569927409196771, 0.034143888610483425, 5.675355706119033, 0.43927100766416416]\n",
      "final loss: -25.942463128786645\n"
     ]
    }
   ],
   "source": [
    "x = m.nn.Parameter(m.torch.randint(0, 18, (n_qubits,), dtype=m.torch.float64) / 18 * 2 * np.pi)\n",
    "\n",
    "#optime x\n",
    "\n",
    "n_iter = 1000\n",
    "\n",
    "optimizer = m.torch.optim.Adam([x], lr=0.5)\n",
    "\n",
    "model.eval()\n",
    "last_loss = model(x).item()\n",
    "for i in range(n_iter):\n",
    "    optimizer.zero_grad()\n",
    "    loss = model(x)\n",
    "    loss.backward()\n",
    "    optimizer.step()\n",
    "    print(i, loss.item(), end='\\r')\n",
    "    if abs(last_loss - loss.item()) < 1e-4 and i > 10:\n",
    "        break\n",
    "    last_loss = loss.item()\n",
    "\n",
    "print('final x:', x.detach().numpy().tolist())\n",
    "print('final loss:', loss.item())\n",
    "optimized_x = x.detach().numpy().tolist()"
   ]
  },
  {
   "cell_type": "code",
   "execution_count": 99,
   "metadata": {},
   "outputs": [
    {
     "name": "stdout",
     "output_type": "stream",
     "text": [
      "[0.04186966832440037, 0.8625206079326421, 0.9113939180607428, 1.147475523612655, 1.2197345488204578, 1.3078661788176176, 1.3364915961807058, 1.4967349254669495, 1.5313233973379663, 1.5400876805708092, 1.5746278626857533, 1.647315328843031, 4.514381080063097, 4.547593255735803, 4.712198384658065, 4.996700340670205, 5.061909914648007, 5.4714257206792185, 5.545847383622145]\n"
     ]
    }
   ],
   "source": [
    "def to_unique_angles(x):\n",
    "    return x % (2 * np.pi)\n",
    "\n",
    "values_embedding = to_unique_angles(model.state_dict()['fc1.weight'].flatten().detach().numpy())\n",
    "dict_values = dict(zip(values_embedding, list(range(19))))\n",
    "values_embedding = sorted(values_embedding)\n",
    "print(values_embedding)"
   ]
  },
  {
   "cell_type": "code",
   "execution_count": 100,
   "metadata": {},
   "outputs": [
    {
     "name": "stdout",
     "output_type": "stream",
     "text": [
      "[6.21110913 6.25660822 5.99644321 0.03414389 5.67535571 0.43927101]\n"
     ]
    }
   ],
   "source": [
    "optimized_x = to_unique_angles(np.array(optimized_x))\n",
    "print(optimized_x)"
   ]
  },
  {
   "cell_type": "code",
   "execution_count": 101,
   "metadata": {},
   "outputs": [],
   "source": [
    "def find_intervals(first_list, second_list):\n",
    "    results = []\n",
    "    for num in second_list:\n",
    "        for i in range(len(first_list) - 1):\n",
    "            if first_list[i] <= num <= first_list[i + 1]:\n",
    "                results.append((first_list[i], first_list[i + 1]))\n",
    "                break\n",
    "        else:\n",
    "            # If no interval is found, add the first and last values of the first list.\n",
    "            results.append((first_list[0], first_list[-1]))\n",
    "    return results\n",
    "\n",
    "first_list = [1,2,3,6,7,7.5,8]\n",
    "second_list = [0.1, 0.5, 6.3, 0.2]\n",
    "\n",
    "intervals = find_intervals(values_embedding, optimized_x)\n",
    "possible_inputs = [(dict_values[i],dict_values[j]) for i,j in intervals]\n"
   ]
  },
  {
   "cell_type": "code",
   "execution_count": 102,
   "metadata": {},
   "outputs": [
    {
     "data": {
      "text/plain": [
       "[(5, 16), (5, 16), (5, 16), (5, 16), (5, 16), (5, 14)]"
      ]
     },
     "execution_count": 102,
     "metadata": {},
     "output_type": "execute_result"
    }
   ],
   "source": [
    "possible_inputs"
   ]
  },
  {
   "cell_type": "code",
   "execution_count": 108,
   "metadata": {},
   "outputs": [
    {
     "data": {
      "text/plain": [
       "[(5, 5, 5, 5, 5, 5),\n",
       " (5, 5, 5, 5, 5, 14),\n",
       " (5, 5, 5, 5, 16, 5),\n",
       " (5, 5, 5, 5, 16, 14),\n",
       " (5, 5, 5, 16, 5, 5),\n",
       " (5, 5, 5, 16, 5, 14),\n",
       " (5, 5, 5, 16, 16, 5),\n",
       " (5, 5, 5, 16, 16, 14),\n",
       " (5, 5, 16, 5, 5, 5),\n",
       " (5, 5, 16, 5, 5, 14),\n",
       " (5, 5, 16, 5, 16, 5),\n",
       " (5, 5, 16, 5, 16, 14),\n",
       " (5, 5, 16, 16, 5, 5),\n",
       " (5, 5, 16, 16, 5, 14),\n",
       " (5, 5, 16, 16, 16, 5),\n",
       " (5, 5, 16, 16, 16, 14),\n",
       " (5, 16, 5, 5, 5, 5),\n",
       " (5, 16, 5, 5, 5, 14),\n",
       " (5, 16, 5, 5, 16, 5),\n",
       " (5, 16, 5, 5, 16, 14),\n",
       " (5, 16, 5, 16, 5, 5),\n",
       " (5, 16, 5, 16, 5, 14),\n",
       " (5, 16, 5, 16, 16, 5),\n",
       " (5, 16, 5, 16, 16, 14),\n",
       " (5, 16, 16, 5, 5, 5),\n",
       " (5, 16, 16, 5, 5, 14),\n",
       " (5, 16, 16, 5, 16, 5),\n",
       " (5, 16, 16, 5, 16, 14),\n",
       " (5, 16, 16, 16, 5, 5),\n",
       " (5, 16, 16, 16, 5, 14),\n",
       " (5, 16, 16, 16, 16, 5),\n",
       " (5, 16, 16, 16, 16, 14),\n",
       " (16, 5, 5, 5, 5, 5),\n",
       " (16, 5, 5, 5, 5, 14),\n",
       " (16, 5, 5, 5, 16, 5),\n",
       " (16, 5, 5, 5, 16, 14),\n",
       " (16, 5, 5, 16, 5, 5),\n",
       " (16, 5, 5, 16, 5, 14),\n",
       " (16, 5, 5, 16, 16, 5),\n",
       " (16, 5, 5, 16, 16, 14),\n",
       " (16, 5, 16, 5, 5, 5),\n",
       " (16, 5, 16, 5, 5, 14),\n",
       " (16, 5, 16, 5, 16, 5),\n",
       " (16, 5, 16, 5, 16, 14),\n",
       " (16, 5, 16, 16, 5, 5),\n",
       " (16, 5, 16, 16, 5, 14),\n",
       " (16, 5, 16, 16, 16, 5),\n",
       " (16, 5, 16, 16, 16, 14),\n",
       " (16, 16, 5, 5, 5, 5),\n",
       " (16, 16, 5, 5, 5, 14),\n",
       " (16, 16, 5, 5, 16, 5),\n",
       " (16, 16, 5, 5, 16, 14),\n",
       " (16, 16, 5, 16, 5, 5),\n",
       " (16, 16, 5, 16, 5, 14),\n",
       " (16, 16, 5, 16, 16, 5),\n",
       " (16, 16, 5, 16, 16, 14),\n",
       " (16, 16, 16, 5, 5, 5),\n",
       " (16, 16, 16, 5, 5, 14),\n",
       " (16, 16, 16, 5, 16, 5),\n",
       " (16, 16, 16, 5, 16, 14),\n",
       " (16, 16, 16, 16, 5, 5),\n",
       " (16, 16, 16, 16, 5, 14),\n",
       " (16, 16, 16, 16, 16, 5),\n",
       " (16, 16, 16, 16, 16, 14)]"
      ]
     },
     "execution_count": 108,
     "metadata": {},
     "output_type": "execute_result"
    }
   ],
   "source": [
    "from itertools import product\n",
    "\n",
    "combinations = list(product(*possible_inputs))\n",
    "combinations"
   ]
  },
  {
   "cell_type": "code",
   "execution_count": 110,
   "metadata": {},
   "outputs": [
    {
     "name": "stdout",
     "output_type": "stream",
     "text": [
      "(5, 5, 5, 5, 5, 5) -6.450100583074978\n",
      "(5, 5, 5, 5, 5, 14) -4.398180885619367\n",
      "(5, 5, 5, 5, 16, 5) 2.9522464996031146\n",
      "(5, 5, 5, 5, 16, 14) 3.832131541372411\n",
      "(5, 5, 5, 16, 5, 5) -4.952148333386784\n",
      "(5, 5, 5, 16, 5, 14) -4.643211829167926\n",
      "(5, 5, 5, 16, 16, 5) 0.5101970471858035\n",
      "(5, 5, 5, 16, 16, 14) 1.374868577581696\n",
      "(5, 5, 16, 5, 5, 5) -3.5819099125452603\n",
      "(5, 5, 16, 5, 5, 14) -1.105972618277581\n",
      "(5, 5, 16, 5, 16, 5) 5.510436338555506\n",
      "(5, 5, 16, 5, 16, 14) 6.390421205601127\n",
      "(5, 5, 16, 16, 5, 5) -5.148461951954429\n",
      "(5, 5, 16, 16, 5, 14) -4.819736661837201\n",
      "(5, 5, 16, 16, 16, 5) 0.4370873505864936\n",
      "(5, 5, 16, 16, 16, 14) 1.341601834745887\n",
      "(5, 16, 5, 5, 5, 5) -3.8712171539076223\n",
      "(5, 16, 5, 5, 5, 14) -2.1184164221090427\n",
      "(5, 16, 5, 5, 16, 5) 6.9359180367055\n",
      "(5, 16, 5, 5, 16, 14) 7.763981005035545\n",
      "(5, 16, 5, 16, 5, 5) -3.0258820276709866\n",
      "(5, 16, 5, 16, 5, 14) -3.1063488166844446\n",
      "(5, 16, 5, 16, 16, 5) 0.955929662013415\n",
      "(5, 16, 5, 16, 16, 14) 1.098181437043745\n",
      "(5, 16, 16, 5, 5, 5) -1.6189147925081693\n",
      "(5, 16, 16, 5, 5, 14) 0.7333667974027973\n",
      "(5, 16, 16, 5, 16, 5) 7.196245080732075\n",
      "(5, 16, 16, 5, 16, 14) 7.62296235820998\n",
      "(5, 16, 16, 16, 5, 5) -2.8463295395599317\n",
      "(5, 16, 16, 16, 5, 14) -2.8613004167051783\n",
      "(5, 16, 16, 16, 16, 5) 0.9179199972423779\n",
      "(5, 16, 16, 16, 16, 14) 1.1915817180299908\n",
      "(16, 5, 5, 5, 5, 5) -9.923839896227003\n",
      "(16, 5, 5, 5, 5, 14) -7.587399431404235\n",
      "(16, 5, 5, 5, 16, 5) 1.2396539782879246\n",
      "(16, 5, 5, 5, 16, 14) 2.087278777182442\n",
      "(16, 5, 5, 16, 5, 5) -7.212570252406643\n",
      "(16, 5, 5, 16, 5, 14) -6.8875712301449035\n",
      "(16, 5, 5, 16, 16, 5) 0.34579833208278066\n",
      "(16, 5, 5, 16, 16, 14) 1.287945200134963\n",
      "(16, 5, 16, 5, 5, 5) -6.4192948013212385\n",
      "(16, 5, 16, 5, 5, 14) -3.778499254789726\n",
      "(16, 5, 16, 5, 16, 5) 3.4084958181521796\n",
      "(16, 5, 16, 5, 16, 14) 4.4026802991925145\n",
      "(16, 5, 16, 16, 5, 5) -7.337066982265835\n",
      "(16, 5, 16, 16, 5, 14) -7.003298015938229\n",
      "(16, 5, 16, 16, 16, 5) 0.22475887280754225\n",
      "(16, 5, 16, 16, 16, 14) 1.1911824650220155\n",
      "(16, 16, 5, 5, 5, 5) -10.362892296466025\n",
      "(16, 16, 5, 5, 5, 14) -8.724618428909825\n",
      "(16, 16, 5, 5, 16, 5) 0.6773497481205824\n",
      "(16, 16, 5, 5, 16, 14) 1.7582669804538287\n",
      "(16, 16, 5, 16, 5, 5) -12.099782118838643\n",
      "(16, 16, 5, 16, 5, 14) -12.082228589704865\n",
      "(16, 16, 5, 16, 16, 5) -7.473295549790686\n",
      "(16, 16, 5, 16, 16, 14) -7.077741739505367\n",
      "(16, 16, 16, 5, 5, 5) -9.020558143312797\n",
      "(16, 16, 16, 5, 5, 14) -6.602138749910519\n",
      "(16, 16, 16, 5, 16, 5) 0.35598938957491155\n",
      "(16, 16, 16, 5, 16, 14) 0.794697327562059\n",
      "(16, 16, 16, 16, 5, 5) -11.926549120593824\n",
      "(16, 16, 16, 16, 5, 14) -11.850837960212088\n",
      "(16, 16, 16, 16, 16, 5) -7.13401569236837\n",
      "(16, 16, 16, 16, 16, 14) -6.622199861711536\n"
     ]
    }
   ],
   "source": [
    "best_combination = None\n",
    "best_value = 0\n",
    "for comb in combinations:\n",
    "    score = model(m.torch.tensor(comb, dtype=m.torch.float64)).item()\n",
    "    if score < best_value:\n",
    "        best_combination = comb\n",
    "        best_value = score\n",
    "    print(comb, score)"
   ]
  },
  {
   "cell_type": "code",
   "execution_count": 111,
   "metadata": {},
   "outputs": [
    {
     "data": {
      "text/plain": [
       "((16, 16, 5, 16, 5, 5), -12.099782118838643)"
      ]
     },
     "execution_count": 111,
     "metadata": {},
     "output_type": "execute_result"
    }
   ],
   "source": [
    "best_combination, best_value"
   ]
  }
 ],
 "metadata": {
  "kernelspec": {
   "display_name": "JL_Pennylane",
   "language": "python",
   "name": "jl_pennylane"
  },
  "language_info": {
   "codemirror_mode": {
    "name": "ipython",
    "version": 3
   },
   "file_extension": ".py",
   "mimetype": "text/x-python",
   "name": "python",
   "nbconvert_exporter": "python",
   "pygments_lexer": "ipython3",
   "version": "3.8.10"
  }
 },
 "nbformat": 4,
 "nbformat_minor": 4
}
