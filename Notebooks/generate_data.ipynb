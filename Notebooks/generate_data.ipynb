{
 "cells": [
  {
   "cell_type": "code",
   "execution_count": 1,
   "metadata": {},
   "outputs": [],
   "source": [
    "initial_path = 'peptide-QML/'\n",
    "# initial_path = '../'"
   ]
  },
  {
   "cell_type": "code",
   "execution_count": 2,
   "metadata": {},
   "outputs": [
    {
     "name": "stderr",
     "output_type": "stream",
     "text": [
      "/usr/lib/python3/dist-packages/requests/__init__.py:89: RequestsDependencyWarning: urllib3 (2.0.4) or chardet (3.0.4) doesn't match a supported version!\n",
      "  warnings.warn(\"urllib3 ({}) or chardet ({}) doesn't match a supported \"\n"
     ]
    }
   ],
   "source": [
    "import sys\n",
    "sys.path.append(initial_path)\n",
    "\n",
    "%load_ext autoreload\n",
    "%autoreload 2\n",
    "from my_code import functions as f"
   ]
  },
  {
   "cell_type": "code",
   "execution_count": 12,
   "metadata": {},
   "outputs": [],
   "source": [
    "n_samples = 10000\n",
    "n_amino_acids = [4, 6, 8, 10, 12]\n",
    "only_single_energies = False\n",
    "only_pair_energies   = True\n",
    "\n",
    "if only_single_energies: str_energies = '_Single'\n",
    "elif only_pair_energies: str_energies = '_Pair'\n",
    "else:                    str_energies = ''\n",
    "\n",
    "for n_aa in n_amino_acids:\n",
    "    f.generate_random_data_from_energies(\n",
    "        file_single_path     = initial_path+'data/Scores/PET/data/bb14/SingleEnergy.txt', \n",
    "        file_pair_path       = initial_path+'data/Scores/PET/data/bb14/PairwiseEnergy.txt', \n",
    "        file_out_path        = initial_path+'data/Scores/PET/generated/bb14_Strings_Energies{}_{}_000_{}_aa.txt'.format(str_energies, n_samples//1000, n_aa),\n",
    "        n_samples            = n_samples, \n",
    "        n_amino_acids        = n_aa,\n",
    "        only_single_energies = only_single_energies,\n",
    "        only_pair_energies   = only_pair_energies\n",
    "    )"
   ]
  }
 ],
 "metadata": {
  "kernelspec": {
   "display_name": "JL_Pennylane",
   "language": "python",
   "name": "jl_pennylane"
  },
  "orig_nbformat": 4
 },
 "nbformat": 4,
 "nbformat_minor": 2
}
