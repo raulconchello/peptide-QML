{
 "cells": [
  {
   "cell_type": "code",
   "execution_count": 1,
   "metadata": {},
   "outputs": [],
   "source": [
    "initial_path = 'peptide-QML'\n",
    "# initial_path = '..'"
   ]
  },
  {
   "cell_type": "code",
   "execution_count": 2,
   "metadata": {},
   "outputs": [],
   "source": [
    "import sys\n",
    "sys.path.append(initial_path)\n",
    "\n",
    "%load_ext autoreload\n",
    "%autoreload 2\n",
    "from my_code import helper_classes as c\n",
    "from my_code import pytorch_model as m\n",
    "from my_code import quantum_nodes as q"
   ]
  },
  {
   "cell_type": "code",
   "execution_count": 3,
   "metadata": {},
   "outputs": [],
   "source": [
    "# name of the notebook\n",
    "name_notebook = \"sweep_12h_er_Xqm_v3\""
   ]
  },
  {
   "cell_type": "code",
   "execution_count": 4,
   "metadata": {},
   "outputs": [],
   "source": [
    "# sweep = c.Sweep(\n",
    "#     name_notebook, \n",
    "#     initial_path=initial_path,\n",
    "#     description=\"Try to find the best measurement and number of layers for the quantum block using Angle Encoding (repeating embedding with different inputs) and embedding.\",\n",
    "#     repetitions=list(range(1, 3)),\n",
    "#     embedding_dim=[3,5],\n",
    "# )"
   ]
  },
  {
   "cell_type": "code",
   "execution_count": 5,
   "metadata": {},
   "outputs": [],
   "source": [
    "# sweep.save()"
   ]
  },
  {
   "cell_type": "code",
   "execution_count": 6,
   "metadata": {},
   "outputs": [],
   "source": [
    "sweep = c.Sweep.load(file_name=name_notebook+\"-2\", day='0921', initial_path=initial_path)"
   ]
  },
  {
   "cell_type": "code",
   "execution_count": 7,
   "metadata": {},
   "outputs": [
    {
     "name": "stdout",
     "output_type": "stream",
     "text": [
      "\n",
      "\n",
      " --- SWEEP POINT 4/4: (2, 5) ---\n",
      " --- time reamining: 33:19:19.37 \n",
      "\n"
     ]
    }
   ],
   "source": [
    "for sweep_point in sweep.points_left:\n",
    "\n",
    "    if sweep_point['embedding_dim'] == 6:\n",
    "        continue\n",
    "\n",
    "    # print the point of the sweep\n",
    "    sweep.print_sweep_status(sweep_point['idx'])\n",
    "\n",
    "    # -- QUANTUM BLOCK -- #\n",
    "    n_qubits = 6\n",
    "    quantum_layer = q.circuit(\n",
    "        n_qubits = n_qubits, \n",
    "        device = \"default.qubit.torch\",\n",
    "        device_options = {'shots': None},\n",
    "        embedding = q.parts.AngleEmbedding, \n",
    "        embedding_ansatz = q.parts.Ansatz_11,\n",
    "        block_ansatz = q.parts.Ansatz_11,\n",
    "        final_ansatz = q.parts.Ansatz_11, # TODO CHECK IF THIS IS THE BEST OPTION\n",
    "        measurement = q.parts.Measurement('Z', 'all'),\n",
    "        embedding_n_layers = sweep_point['embedding_dim']*2-1,\n",
    "        different_inputs_per_layer = True,\n",
    "        block_n_layers = 10,\n",
    "        # wrapper_qlayer = pw.QLayerEmpty,\n",
    "    )\n",
    "\n",
    "    # -- MODEL -- #                    \n",
    "    class Model(m.Model):\n",
    "        def __init__(self):\n",
    "            super(Model, self).__init__()\n",
    "            self.fc1 = m.nn.Embedding(num_embeddings=19, embedding_dim=sweep_point['embedding_dim'])\n",
    "            self.fc2 = m.Reshape()\n",
    "            self.fc3 = quantum_layer()            \n",
    "            self.fc4 = m.nn.Sequential(*[m.nn.Linear(6, 6), m.nn.Sigmoid(), m.nn.Linear(6, 1)])\n",
    "\n",
    "        def forward(self, x):\n",
    "            for i in range(1,5):\n",
    "                x = getattr(self, 'fc{}'.format(i))(x)\n",
    "            return x\n",
    "\n",
    "    model = Model()\n",
    "\n",
    "    # set quantum layer\n",
    "    model.set_quantum_layer(quantum_layer)\n",
    "\n",
    "    # set the name and path of the model\n",
    "    model.set_name_and_path(name_notebook, initial_path)\n",
    "\n",
    "    #set sweep point\n",
    "    model.set_sweep_point(\n",
    "        sweep_uuid = sweep.uuid,\n",
    "        sweep_point = sweep_point,\n",
    "        day=sweep.day\n",
    "    )\n",
    "\n",
    "    # -- TRAIN -- #\n",
    "    model.optimize_params(\n",
    "        #save info\n",
    "        save_model_info = True,\n",
    "        description = 'sweep with 12 amino acids and {} qubits using Angle Encoding (repeating embedding) and classical Embedding'.format(n_qubits),    \n",
    "        #data\n",
    "        data=c.Data.load(initial_path=initial_path, file_name='PET_SCORES_12_Numbers_int'),\n",
    "        # train options\n",
    "        optimizer = m.optim.Adam,\n",
    "        optimizer_options = {'lr': 0.01},\n",
    "        num_epochs = 2,                \n",
    "        batch_size = 32,\n",
    "        # early stopping options\n",
    "        stop_training_options = {\n",
    "            'lookback_epochs': 5, \n",
    "            'threshold_slope': 0.001,\n",
    "            'threshold_std_dev': 0.2\n",
    "        },\n",
    "        # metadata\n",
    "        metadata = {}\n",
    "    )\n",
    "\n",
    "    # -- VALIDATION and PLOTS -- #\n",
    "    model.plot_losses(fig_size=(6,6))\n",
    "    model.validate(\n",
    "        pct=1,\n",
    "        add_to_results=True,\n",
    "        plot=True,\n",
    "        print_items=False\n",
    "    )\n",
    "\n",
    "    # -- SAVE RESULTS -- #\n",
    "    model.save_results()\n",
    "\n",
    "    # -- ADD DATA GENERATED TO SWEEP -- #\n",
    "    sweep.add_data(\n",
    "        idx=sweep_point['idx'],\n",
    "        model_uuid=model.uuid,\n",
    "        best_loss_train=model.results.loss_epoch.best,\n",
    "        best_loss_test=model.results.loss_validation_epoch.best,\n",
    "        loss_validation=model.mean_loss_validation,\n",
    "        n_parameters=model.n_parameters,\n",
    "        time_train=model.results.time_epoch.last,x\n",
    "    )\n",
    "    sweep.save(csv=False) #TODO: save csv=False automatically when sweep is already saved ion csv\n",
    "\n",
    "    "
   ]
  },
  {
   "cell_type": "code",
   "execution_count": null,
   "metadata": {},
   "outputs": [],
   "source": []
  }
 ],
 "metadata": {
  "kernelspec": {
   "display_name": "JL_Pennylane",
   "language": "python",
   "name": "jl_pennylane"
  },
  "language_info": {
   "codemirror_mode": {
    "name": "ipython",
    "version": 3
   },
   "file_extension": ".py",
   "mimetype": "text/x-python",
   "name": "python",
   "nbconvert_exporter": "python",
   "pygments_lexer": "ipython3",
   "version": "3.8.10"
  }
 },
 "nbformat": 4,
 "nbformat_minor": 4
}
