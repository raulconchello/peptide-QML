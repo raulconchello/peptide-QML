{
 "cells": [
  {
   "cell_type": "code",
   "execution_count": null,
   "metadata": {},
   "outputs": [],
   "source": [
    "'0830-sh_em_1qm_loop'\n",
    "'0830-mh_em_1qm_loop'\n",
    "'0830-nh_em_1qm_loop'"
   ]
  }
 ],
 "metadata": {
  "language_info": {
   "name": "python"
  },
  "orig_nbformat": 4
 },
 "nbformat": 4,
 "nbformat_minor": 2
}
