{
 "cells": [
  {
   "cell_type": "code",
   "execution_count": 1,
   "metadata": {},
   "outputs": [
    {
     "name": "stdout",
     "output_type": "stream",
     "text": [
      "\u001b[?1h\u001b="
     ]
    },
    {
     "name": "stdout",
     "output_type": "stream",
     "text": [
      "\u001b[H\u001b[2J\u001b[mtop - 17:13:53 up 178 days,  1:44,  1 user,  load average: 0.23, 0.15, 0.10\u001b[m\u001b[m\u001b[m\u001b[m\u001b[K\n",
      "Tasks:\u001b[m\u001b[m\u001b[1m 549 \u001b[m\u001b[mtotal,\u001b[m\u001b[m\u001b[1m   1 \u001b[m\u001b[mrunning,\u001b[m\u001b[m\u001b[1m 543 \u001b[m\u001b[msleeping,\u001b[m\u001b[m\u001b[1m   4 \u001b[m\u001b[mstopped,\u001b[m\u001b[m\u001b[1m   1 \u001b[m\u001b[mzombie\u001b[m\u001b[m\u001b[m\u001b[m\u001b[K\n",
      "%Cpu(s):\u001b[m\u001b[m\u001b[1m  0.7 \u001b[m\u001b[mus,\u001b[m\u001b[m\u001b[1m  0.5 \u001b[m\u001b[msy,\u001b[m\u001b[m\u001b[1m  0.0 \u001b[m\u001b[mni,\u001b[m\u001b[m\u001b[1m 98.9 \u001b[m\u001b[mid,\u001b[m\u001b[m\u001b[1m  0.0 \u001b[m\u001b[mwa,\u001b[m\u001b[m\u001b[1m  0.0 \u001b[m\u001b[mhi,\u001b[m\u001b[m\u001b[1m  0.0 \u001b[m\u001b[msi,\u001b[m\u001b[m\u001b[1m  0.0 \u001b[m\u001b[mst\u001b[m\u001b[m\u001b[m\u001b[m\u001b[K\n",
      "MiB Mem :\u001b[m\u001b[m\u001b[1m 257430.5 \u001b[m\u001b[mtotal,\u001b[m\u001b[m\u001b[1m  54814.0 \u001b[m\u001b[mfree,\u001b[m\u001b[m\u001b[1m  45483.6 \u001b[m\u001b[mused,\u001b[m\u001b[m\u001b[1m 157132.9 \u001b[m\u001b[mbuff/cache\u001b[m\u001b[m\u001b[m\u001b[m\u001b[K\n",
      "MiB Swap:\u001b[m\u001b[m\u001b[1m   2048.0 \u001b[m\u001b[mtotal,\u001b[m\u001b[m\u001b[1m   2044.5 \u001b[m\u001b[mfree,\u001b[m\u001b[m\u001b[1m      3.5 \u001b[m\u001b[mused.\u001b[m\u001b[m\u001b[1m 209646.4 \u001b[m\u001b[mavail Mem \u001b[m\u001b[m\u001b[m\u001b[m\u001b[K\n",
      "\u001b[K\n",
      "\u001b[7m    PID USER      PR  NI    VIRT    RES    SHR S  %CPU  %MEM     TIME+ COMMAND  \u001b[m\u001b[m\u001b[K\n",
      "\u001b[m1576165 raul      20   0  549800  81832  16164 S  11.8   0.0  10:36.83 python   \u001b[m\u001b[m\u001b[K\n",
      "\u001b[m\u001b[1m1576957 raul      20   0    9652   4260   3224 R   5.9   0.0   0:00.02 top      \u001b[m\u001b[m\u001b[K\n",
      "\u001b[m      1 root      20   0  172652  14324   7984 S   0.0   0.0   4:38.39 systemd  \u001b[m\u001b[m\u001b[K\n",
      "\u001b[m      2 root      20   0       0      0      0 S   0.0   0.0   0:02.20 kthreadd \u001b[m\u001b[m\u001b[K\n",
      "\u001b[m      3 root       0 -20       0      0      0 I   0.0   0.0   0:00.00 rcu_gp   \u001b[m\u001b[m\u001b[K\n",
      "\u001b[m      4 root       0 -20       0      0      0 I   0.0   0.0   0:00.00 rcu_par+ \u001b[m\u001b[m\u001b[K\n",
      "\u001b[m      5 root       0 -20       0      0      0 I   0.0   0.0   0:00.00 slub_fl+ \u001b[m\u001b[m\u001b[K\n",
      "\u001b[m      6 root       0 -20       0      0      0 I   0.0   0.0   0:00.00 netns    \u001b[m\u001b[m\u001b[K\n",
      "\u001b[m      8 root       0 -20       0      0      0 I   0.0   0.0   0:00.00 kworker+ \u001b[m\u001b[m\u001b[K\n",
      "\u001b[m     10 root       0 -20       0      0      0 I   0.0   0.0   0:00.00 mm_perc+ \u001b[m\u001b[m\u001b[K\n",
      "\u001b[m     11 root      20   0       0      0      0 S   0.0   0.0   0:00.00 rcu_tas+ \u001b[m\u001b[m\u001b[K\n",
      "\u001b[m     12 root      20   0       0      0      0 S   0.0   0.0   0:00.00 rcu_tas+ \u001b[m\u001b[m\u001b[K\n",
      "\u001b[m     13 root      20   0       0      0      0 S   0.0   0.0   2:28.96 ksoftir+ \u001b[m\u001b[m\u001b[K\n",
      "\u001b[m     14 root      20   0       0      0      0 I   0.0   0.0 524:41.04 rcu_sch+ \u001b[m\u001b[m\u001b[K\n",
      "\u001b[m     15 root      rt   0       0      0      0 S   0.0   0.0   1:04.66 migrati+ \u001b[m\u001b[m\u001b[K\n",
      "\u001b[m     16 root     -51   0       0      0      0 S   0.0   0.0   0:00.00 idle_in+ \u001b[m\u001b[m\u001b[K\n",
      "\u001b[m     18 root      20   0       0      0      0 S   0.0   0.0   0:00.00 cpuhp/0  \u001b[m\u001b[m\u001b[K\u001b[H\u001b[mtop - 17:13:56 up 178 days,  1:44,  1 user,  load average: 0.23, 0.15, 0.10\u001b[m\u001b[m\u001b[m\u001b[m\u001b[K\n",
      "\n",
      "%Cpu(s):\u001b[m\u001b[m\u001b[1m  0.6 \u001b[m\u001b[mus,\u001b[m\u001b[m\u001b[1m  0.4 \u001b[m\u001b[msy,\u001b[m\u001b[m\u001b[1m  0.0 \u001b[m\u001b[mni,\u001b[m\u001b[m\u001b[1m 99.0 \u001b[m\u001b[mid,\u001b[m\u001b[m\u001b[1m  0.0 \u001b[m\u001b[mwa,\u001b[m\u001b[m\u001b[1m  0.0 \u001b[m\u001b[mhi,\u001b[m\u001b[m\u001b[1m  0.0 \u001b[m\u001b[msi,\u001b[m\u001b[m\u001b[1m  0.0 \u001b[m\u001b[mst\u001b[m\u001b[m\u001b[m\u001b[m\u001b[K\n",
      "MiB Mem :\u001b[m\u001b[m\u001b[1m 257430.5 \u001b[m\u001b[mtotal,\u001b[m\u001b[m\u001b[1m  54817.4 \u001b[m\u001b[mfree,\u001b[m\u001b[m\u001b[1m  45480.1 \u001b[m\u001b[mused,\u001b[m\u001b[m\u001b[1m 157132.9 \u001b[m\u001b[mbuff/cache\u001b[m\u001b[m\u001b[m\u001b[m\u001b[K\n",
      "MiB Swap:\u001b[m\u001b[m\u001b[1m   2048.0 \u001b[m\u001b[mtotal,\u001b[m\u001b[m\u001b[1m   2044.5 \u001b[m\u001b[mfree,\u001b[m\u001b[m\u001b[1m      3.5 \u001b[m\u001b[mused.\u001b[m\u001b[m\u001b[1m 209649.8 \u001b[m\u001b[mavail Mem \u001b[m\u001b[m\u001b[m\u001b[m\u001b[K\n",
      "\u001b[K\n",
      "\n",
      "\u001b[m1576165 raul      20   0  549808  81972  16164 S  11.6   0.0  10:37.18 python   \u001b[m\u001b[m\u001b[K\n",
      "\u001b[m1576946 raul      20   0  530272  62148  15964 S   2.6   0.0   0:00.76 python   \u001b[m\u001b[m\u001b[K\n",
      "\u001b[m 328079 abdul     20   0   27948  20548   3832 S   1.3   0.0   2153:34 nvtop    \u001b[m\u001b[m\u001b[K\n",
      "\u001b[m 302243 abdul     20   0   25800  18680   3976 S   1.0   0.0   2115:20 nvtop    \u001b[m\u001b[m\u001b[K\n",
      "\u001b[m 317369 abdul     20   0   28592  21476   3924 S   1.0   0.0   2169:52 nvtop    \u001b[m\u001b[m\u001b[K\n",
      "\u001b[m 607233 abdul     20   0   29556  22320   4020 S   1.0   0.0   1830:23 nvtop    \u001b[m\u001b[m\u001b[K\n",
      "\u001b[m 256242 benjamin  20   0 1339844 955336  14552 S   0.7   0.4   2573:20 jupyter+ \u001b[m\u001b[m\u001b[K\n",
      "\u001b[m 372165 abdul     20   0   28788  21644   3976 S   0.7   0.0   2112:44 nvtop    \u001b[m\u001b[m\u001b[K\n",
      "\u001b[m1559869 raul      20   0 1763220   1.4g  16048 S   0.7   0.5  20:13.89 jupyter+ \u001b[m\u001b[m\u001b[K\n",
      "\u001b[m1564018 raul      20   0    9796   4412   3184 S   0.7   0.0  33:49.09 top      \u001b[m\u001b[m\u001b[K\n",
      "\u001b[m1576545 raul      20   0    9652   4260   3224 S   0.7   0.0   0:56.64 top      \u001b[m\u001b[m\u001b[K\n",
      "\u001b[m\u001b[1m1576957 raul      20   0    9652   4260   3224 R   0.7   0.0   0:00.04 top      \u001b[m\u001b[m\u001b[K\n",
      "\u001b[m   1126 root      20   0  261644  68932  42688 S   0.3   0.0 149:47.18 Xorg     \u001b[m\u001b[m\u001b[K\n",
      "\u001b[m 722026 akshay    20   0 2220760 160468  93736 S   0.3   0.1  62:54.62 megasync \u001b[m\u001b[m\u001b[K\n",
      "\u001b[m1559825 gdm       20   0 2356316  45728  29800 S   0.3   0.0  37:50.13 anydesk  \u001b[m\u001b[m\u001b[K\n",
      "\u001b[m1576179 raul      20   0   10.7g 506632 184628 S   0.3   0.2  27:10.13 python   \u001b[m\u001b[m\u001b[K\n",
      "\u001b[m      1 root      20   0  172652  14324   7984 S   0.0   0.0   4:38.39 systemd  \u001b[m\u001b[m\u001b[K\u001b[H\u001b[mtop - 17:13:59 up 178 days,  1:44,  1 user,  load average: 0.22, 0.15, 0.10\u001b[m\u001b[m\u001b[m\u001b[m\u001b[K\n",
      "\n",
      "\n",
      "MiB Mem :\u001b[m\u001b[m\u001b[1m 257430.5 \u001b[m\u001b[mtotal,\u001b[m\u001b[m\u001b[1m  54819.7 \u001b[m\u001b[mfree,\u001b[m\u001b[m\u001b[1m  45477.9 \u001b[m\u001b[mused,\u001b[m\u001b[m\u001b[1m 157132.9 \u001b[m\u001b[mbuff/cache\u001b[m\u001b[m\u001b[m\u001b[m\u001b[K\n",
      "MiB Swap:\u001b[m\u001b[m\u001b[1m   2048.0 \u001b[m\u001b[mtotal,\u001b[m\u001b[m\u001b[1m   2044.5 \u001b[m\u001b[mfree,\u001b[m\u001b[m\u001b[1m      3.5 \u001b[m\u001b[mused.\u001b[m\u001b[m\u001b[1m 209652.2 \u001b[m\u001b[mavail Mem \u001b[m\u001b[m\u001b[m\u001b[m\u001b[K\n",
      "\u001b[K\n",
      "\n",
      "\u001b[m1576165 raul      20   0  549816  81976  16164 S  11.3   0.0  10:37.52 python   \u001b[m\u001b[m\u001b[K\n",
      "\u001b[m1576946 raul      20   0  530272  62148  15964 S   2.3   0.0   0:00.83 python   \u001b[m\u001b[m\u001b[K\n",
      "\u001b[m 302243 abdul     20   0   25800  18680   3976 S   1.3   0.0   2115:20 nvtop    \u001b[m\u001b[m\u001b[K\n",
      "\u001b[m 372165 abdul     20   0   28788  21644   3976 S   1.3   0.0   2112:44 nvtop    \u001b[m\u001b[m\u001b[K\n",
      "\n",
      "\u001b[m 328079 abdul     20   0   27948  20548   3832 S   1.0   0.0   2153:34 nvtop    \u001b[m\u001b[m\u001b[K\n",
      "\u001b[m 607233 abdul     20   0   29556  22320   4020 S   1.0   0.0   1830:23 nvtop    \u001b[m\u001b[m\u001b[K\n",
      "\u001b[m1559825 gdm       20   0 2356316  45728  29800 S   0.7   0.0  37:50.15 anydesk  \u001b[m\u001b[m\u001b[K\n",
      "\u001b[m1564018 raul      20   0    9796   4412   3184 S   0.7   0.0  33:49.11 top      \u001b[m\u001b[m\u001b[K\n",
      "\u001b[m1576545 raul      20   0    9652   4260   3224 S   0.7   0.0   0:56.66 top      \u001b[m\u001b[m\u001b[K\n",
      "\u001b[m\u001b[1m1576957 raul      20   0    9652   4260   3224 R   0.7   0.0   0:00.06 top      \u001b[m\u001b[m\u001b[K\n",
      "\u001b[m     14 root      20   0       0      0      0 I   0.3   0.0 524:41.05 rcu_sch+ \u001b[m\u001b[m\u001b[K\n",
      "\u001b[m   8361 abdul     20   0   10.4g  10.1g  14924 S   0.3   4.0 426:09.55 jupyter+ \u001b[m\u001b[m\u001b[K\n",
      "\u001b[m  53510 akshay    20   0  460140  10464   9044 S   0.3   0.0   4:21.15 xdg-des+ \u001b[m\u001b[m\u001b[K\n",
      "\u001b[m 256242 benjamin  20   0 1339844 955336  14552 S   0.3   0.4   2573:20 jupyter+ \u001b[m\u001b[m\u001b[K\n",
      "\u001b[m 722026 akshay    20   0 2220760 160468  93736 S   0.3   0.1  62:54.63 megasync \u001b[m\u001b[m\u001b[K\n",
      "\u001b[m1559499 root      20   0       0      0      0 I   0.3   0.0   0:04.36 kworker+ \u001b[m\u001b[m\u001b[K\u001b[?1l\u001b>\u001b[25;1H\n",
      "\u001b[K"
     ]
    }
   ],
   "source": [
    "!top"
   ]
  },
  {
   "cell_type": "code",
   "execution_count": 2,
   "metadata": {},
   "outputs": [
    {
     "name": "stdout",
     "output_type": "stream",
     "text": [
      "remote: Enumerating objects: 25, done.\u001b[K\n",
      "remote: Counting objects: 100% (25/25), done.\u001b[K\n",
      "remote: Compressing objects: 100% (7/7), done.\u001b[K\n",
      "remote: Total 17 (delta 10), reused 17 (delta 10), pack-reused 0\u001b[K\n",
      "Unpacking objects: 100% (17/17), 595.56 KiB | 3.04 MiB/s, done.\n",
      "From github.com:raulconchello/peptide-QML\n",
      "   78465b3..75ded3b  main       -> origin/main\n",
      "Updating 78465b3..75ded3b\n",
      "Fast-forward\n",
      " Notebooks/0727-connection-test.ipynb               | 37245 \u001b[32m++++++++++++++++++\u001b[m\u001b[31m-\u001b[m\n",
      " Notebooks/0731-small_hybrid_model_1qm_shots.ipynb  |  2335 \u001b[32m+\u001b[m\u001b[31m-\u001b[m\n",
      " .../0731-small_hybrid_model_Allqm_shots.ipynb      |  2271 \u001b[32m+\u001b[m\u001b[31m-\u001b[m\n",
      " Notebooks/0801-small_hybrid_model_1qm_shots.ipynb  |  1527 \u001b[32m+\u001b[m\n",
      " .../0731-small_hybrid_model_Allqm_shots_v0.pdf     |   Bin \u001b[31m0\u001b[m -> \u001b[32m271615\u001b[m bytes\n",
      " my_code/pytorch_model.py                           |   229 \u001b[32m+\u001b[m\n",
      " 6 files changed, 41324 insertions(+), 2283 deletions(-)\n",
      " create mode 100644 Notebooks/0801-small_hybrid_model_1qm_shots.ipynb\n",
      " create mode 100644 Notebooks/results/0731/0731-small_hybrid_model_Allqm_shots_v0.pdf\n",
      " create mode 100644 my_code/pytorch_model.py\n"
     ]
    }
   ],
   "source": [
    "# pull changes (git)\n",
    "!cd peptide-QML && git fetch && git pull"
   ]
  },
  {
   "cell_type": "code",
   "execution_count": null,
   "metadata": {},
   "outputs": [],
   "source": [
    "# push changes (git)\n",
    "!cd peptide-QML && git add . && git commit -m \"data trained model\" && git push"
   ]
  }
 ],
 "metadata": {
  "kernelspec": {
   "display_name": "JL_Pennylane",
   "language": "python",
   "name": "jl_pennylane"
  },
  "language_info": {
   "codemirror_mode": {
    "name": "ipython",
    "version": 3
   },
   "file_extension": ".py",
   "mimetype": "text/x-python",
   "name": "python",
   "nbconvert_exporter": "python",
   "pygments_lexer": "ipython3",
   "version": "3.8.10"
  },
  "orig_nbformat": 4
 },
 "nbformat": 4,
 "nbformat_minor": 2
}
