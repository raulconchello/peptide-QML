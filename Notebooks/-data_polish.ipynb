{
 "cells": [
  {
   "cell_type": "code",
   "execution_count": 2,
   "metadata": {},
   "outputs": [
    {
     "name": "stderr",
     "output_type": "stream",
     "text": [
      "C:\\Users\\RaulConchello\\AppData\\Local\\Temp\\ipykernel_19924\\554146590.py:4: ParserWarning: Falling back to the 'python' engine because the 'c' engine does not support regex separators (separators > 1 char and different from '\\s+' are interpreted as regex); you can avoid this warning by specifying engine='python'.\n",
      "  df = pd.read_csv('../data/Scores/PET/PET_SCORES.csv', delimiter=', ')\n"
     ]
    }
   ],
   "source": [
    "import pandas as pd\n",
    "\n",
    "# Read the CSV into a DataFrame\n",
    "df = pd.read_csv('../data/Scores/PET/PET_SCORES.csv', delimiter=', ')\n",
    "\n",
    "# Sort by 'Short Sequence' and 'NET_E' (in descending order)\n",
    "df = df.sort_values(by=['Short Sequence', 'NET_E'], ascending=[True, True])\n",
    "\n",
    "# Drop duplicates based on 'Short Sequence', keeping the first occurrence\n",
    "df = df.drop_duplicates(subset='Short Sequence', keep='first')\n",
    "\n",
    "# Write the resulting DataFrame back to a CSV\n",
    "df.to_csv('output_file.csv', index=False)\n"
   ]
  }
 ],
 "metadata": {
  "kernelspec": {
   "display_name": "PennyLane",
   "language": "python",
   "name": "python3"
  },
  "language_info": {
   "codemirror_mode": {
    "name": "ipython",
    "version": 3
   },
   "file_extension": ".py",
   "mimetype": "text/x-python",
   "name": "python",
   "nbconvert_exporter": "python",
   "pygments_lexer": "ipython3",
   "version": "3.10.12"
  },
  "orig_nbformat": 4
 },
 "nbformat": 4,
 "nbformat_minor": 2
}
