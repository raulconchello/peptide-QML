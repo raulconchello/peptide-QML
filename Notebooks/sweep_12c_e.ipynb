{
 "cells": [
  {
   "cell_type": "code",
   "execution_count": 1,
   "metadata": {},
   "outputs": [],
   "source": [
    "initial_path = 'peptide-QML'\n",
    "# initial_path = '..'"
   ]
  },
  {
   "cell_type": "code",
   "execution_count": 2,
   "metadata": {},
   "outputs": [
    {
     "name": "stderr",
     "output_type": "stream",
     "text": [
      "/usr/lib/python3/dist-packages/requests/__init__.py:89: RequestsDependencyWarning: urllib3 (2.0.4) or chardet (3.0.4) doesn't match a supported version!\n",
      "  warnings.warn(\"urllib3 ({}) or chardet ({}) doesn't match a supported \"\n"
     ]
    }
   ],
   "source": [
    "import sys\n",
    "sys.path.append(initial_path)\n",
    "\n",
    "%load_ext autoreload\n",
    "%autoreload 2\n",
    "from my_code import helper_classes as c\n",
    "from my_code import pytorch_model as m\n",
    "from my_code import quantum_nodes as q"
   ]
  },
  {
   "cell_type": "code",
   "execution_count": 3,
   "metadata": {},
   "outputs": [],
   "source": [
    "# name of the notebook\n",
    "name_notebook = \"sweep_12c_e\""
   ]
  },
  {
   "cell_type": "code",
   "execution_count": 4,
   "metadata": {},
   "outputs": [],
   "source": [
    "sweep = c.Sweep(\n",
    "    name_notebook, \n",
    "    initial_path=initial_path,\n",
    "    description=\"To compare with sweep_12h_e_Am_Xqm with a classical model with the same number of parameters.\",\n",
    "    repetitions=list(range(1, 3)),\n",
    "    n_layers_block=[1,2,5,12,20],\n",
    "    embedding_dim=[1,5],\n",
    ")"
   ]
  },
  {
   "cell_type": "code",
   "execution_count": 5,
   "metadata": {},
   "outputs": [],
   "source": [
    "sweep.save()"
   ]
  },
  {
   "cell_type": "code",
   "execution_count": 6,
   "metadata": {},
   "outputs": [],
   "source": [
    "# sweep = c.Sweep.load(file_name=name_notebook+\"-1\", day='0912', initial_path=initial_path)"
   ]
  },
  {
   "cell_type": "code",
   "execution_count": 7,
   "metadata": {},
   "outputs": [
    {
     "name": "stdout",
     "output_type": "stream",
     "text": [
      "\n",
      "\n",
      " --- SWEEP POINT 1/40: (1, 1, 4, 1) ---\n",
      " --- parameters sweeping: ['repetitions', 'n_layers_quantum_block', 'n_qubits', 'qubits_measurement'] \n",
      "\n",
      "Epoch [0/2], Loss epoch: 0.3548, Loss validation: 0.3554\n",
      " - Epoch [1/2], i: [128/397780], Loss: 0.2368\r"
     ]
    },
    {
     "name": "stderr",
     "output_type": "stream",
     "text": [
      "/usr/lib/python3/dist-packages/torch/autograd/__init__.py:147: UserWarning: Casting complex values to real discards the imaginary part (Triggered internally at  ../aten/src/ATen/native/Copy.cpp:240.)\n",
      "  Variable._execution_engine.run_backward(\n"
     ]
    },
    {
     "name": "stdout",
     "output_type": "stream",
     "text": [
      "\t Validation string, \t i: 3173; \t prediction: -0.1521, \t target: -0.2330, \t loss: 0.0065\n",
      "\t Validation string, \t i: 1610; \t prediction: -0.4016, \t target: -0.4729, \t loss: 0.0051\n",
      "\t Validation string, \t i: 3676; \t prediction: -0.2794, \t target: -0.1398, \t loss: 0.0195\n",
      "Epoch [1/2], Loss epoch: 0.0138, Loss validation: 0.0129, Time remaining: ~0.0h 5.0m 45s\n",
      " - Epoch [2/2], i: [110592/397780], Loss: 0.0116\r"
     ]
    }
   ],
   "source": [
    "for sweep_point in sweep:\n",
    "\n",
    "    # print the point of the sweep\n",
    "    sweep.print_sweep_status(sweep_point['idx'])\n",
    "\n",
    "    # -- MODEL -- #\n",
    "                    \n",
    "    class Model(m.Model):\n",
    "        def __init__(self):\n",
    "            super(Model, self).__init__()\n",
    "            self.fc1 = m.nn.Embedding(num_embeddings=19, embedding_dim=sweep_point['embedding_dim'])\n",
    "            self.fc2 = m.Reshape()\n",
    "            block = [m.nn.Linear(12*sweep_point['embedding_dim'], 12*sweep_point['embedding_dim']), m.nn.Sigmoid()] * sweep_point['n_layers_block']\n",
    "            self.fc3 = m.nn.Sequential(*block)\n",
    "            self.fc4 = m.nn.Linear(12*sweep_point['embedding_dim'], 1) \n",
    "\n",
    "        def forward(self, x):\n",
    "            x = self.fc1(x)\n",
    "            x = self.fc2(x)\n",
    "            x = self.fc3(x)\n",
    "            x = self.fc4(x)\n",
    "            return x\n",
    "\n",
    "    model = Model()\n",
    "\n",
    "    # set quantum layer\n",
    "    model.set_quantum_layer(quantum_layer)\n",
    "\n",
    "    # set the name and path of the model\n",
    "    model.set_name_and_path(name_notebook, initial_path)\n",
    "\n",
    "    #set sweep point\n",
    "    model.set_sweep_point(\n",
    "        sweep_uuid = sweep.uuid,\n",
    "        sweep_point = sweep_point,\n",
    "        day=sweep.day\n",
    "    )\n",
    "\n",
    "    # -- TRAIN -- #\n",
    "    model.optimize_params(\n",
    "        #save info\n",
    "        save_model_info = True,\n",
    "        description = 'sweep with 12 amino acids and {} qubits using Amplitude Encoding and classical Embedding'.format(n_qubits),    \n",
    "        #data\n",
    "        data=c.Data.load(initial_path=initial_path, file_name='PET_SCORES_12_Numbers_int'),\n",
    "        # train options\n",
    "        optimizer = m.optim.Adam,\n",
    "        optimizer_options = {'lr': 0.01},\n",
    "        num_epochs = 2,                \n",
    "        batch_size = 32,\n",
    "        # early stopping options\n",
    "        stop_training_options = {\n",
    "            'lookback_epochs': 5, \n",
    "            'threshold_slope': 0.001,\n",
    "            'threshold_std_dev': 0.2\n",
    "        },\n",
    "        # metadata\n",
    "        metadata = {}\n",
    "    )\n",
    "\n",
    "    # -- VALIDATION and PLOTS -- #\n",
    "    model.plot_losses(fig_size=(6,6))\n",
    "    model.validate(\n",
    "        pct=1,\n",
    "        add_to_results=True,\n",
    "        plot=True,\n",
    "        print_items=False\n",
    "    )\n",
    "\n",
    "    # -- SAVE RESULTS -- #\n",
    "    model.save_results()\n",
    "\n",
    "    # -- ADD DATA GENERATED TO SWEEP -- #\n",
    "    sweep.add_data(\n",
    "        idx=sweep_point['idx'],\n",
    "        model_uuid=model.uuid,\n",
    "        best_loss_train=model.results.loss_epoch.best,\n",
    "        best_loss_test=model.results.loss_validation_epoch.best,\n",
    "        loss_validation=model.mean_loss_validation,\n",
    "        time_train=model.results.time_epoch.last,\n",
    "    )\n",
    "    sweep.save(csv=False) #TODO: save csv=False automatically when sweep is already saved ion csv\n",
    "\n",
    "    "
   ]
  },
  {
   "cell_type": "code",
   "execution_count": null,
   "metadata": {},
   "outputs": [],
   "source": []
  }
 ],
 "metadata": {
  "kernelspec": {
   "display_name": "JL_Pennylane",
   "language": "python",
   "name": "jl_pennylane"
  },
  "language_info": {
   "codemirror_mode": {
    "name": "ipython",
    "version": 3
   },
   "file_extension": ".py",
   "mimetype": "text/x-python",
   "name": "python",
   "nbconvert_exporter": "python",
   "pygments_lexer": "ipython3",
   "version": "3.8.10"
  }
 },
 "nbformat": 4,
 "nbformat_minor": 4
}
