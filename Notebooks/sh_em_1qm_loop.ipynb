{
 "cells": [
  {
   "cell_type": "code",
   "execution_count": 1,
   "metadata": {},
   "outputs": [],
   "source": [
    "initial_path = 'peptide-QML/'\n",
    "# initial_path = '../'"
   ]
  },
  {
   "cell_type": "code",
   "execution_count": 2,
   "metadata": {},
   "outputs": [],
   "source": [
    "day = \"0829\"\n",
    "name_notebook = day + \"-sh_em_1qm.ipynb\"\n",
    "\n",
    "#ask the user if that is correct, if he says yes kkep going, otherwise stop\n",
    "import sys\n",
    "answer = input(\"{} is the name of the notebook | Is that correct? (y/n): \".format(name_notebook))\n",
    "if answer != \"y\":\n",
    "    print(\"Please, change the name of the notebook\")\n",
    "    sys.exit()"
   ]
  },
  {
   "cell_type": "code",
   "execution_count": 3,
   "metadata": {},
   "outputs": [],
   "source": [
    "import numpy as np"
   ]
  },
  {
   "cell_type": "code",
   "execution_count": 4,
   "metadata": {},
   "outputs": [],
   "source": [
    "import sys\n",
    "sys.path.append(initial_path)\n",
    "\n",
    "%load_ext autoreload\n",
    "%autoreload 2\n",
    "from my_code import functions as f\n",
    "from my_code import pytorch_model as ptm\n",
    "from my_code import quantum_nodes as qn\n",
    "from my_code import pytorch_wrappers as pw"
   ]
  },
  {
   "cell_type": "markdown",
   "metadata": {},
   "source": [
    "# Data"
   ]
  },
  {
   "cell_type": "code",
   "execution_count": 5,
   "metadata": {},
   "outputs": [],
   "source": [
    "data_file_path = initial_path + 'data/Scores/PET/generated/bb14_Strings_Energies_10_000_4_aa.txt'  # Replace with the actual path to your 'data.txt' file\n",
    "string_list, number_list = f.read_data_file(data_file_path)\n",
    "score_list = np.array(number_list)/1000\n",
    "vector_list = np.array([f.string_to_numbers(string) for string in string_list]) # one hot encoding"
   ]
  },
  {
   "cell_type": "code",
   "execution_count": 6,
   "metadata": {},
   "outputs": [],
   "source": [
    "X, Y, X_validation, Y_validation = f.create_validating_set(vector_list, score_list, percentage=0.1)"
   ]
  },
  {
   "cell_type": "code",
   "execution_count": 7,
   "metadata": {},
   "outputs": [],
   "source": [
    "# Define the dataset\n",
    "input_data = ptm.torch.tensor(X) \n",
    "target_data = ptm.torch.tensor(Y).view(-1, 1)\n",
    "\n",
    "# Define the validation set\n",
    "input_validation = ptm.torch.tensor(X_validation)\n",
    "target_validation = ptm.torch.tensor(Y_validation).view(-1, 1)"
   ]
  },
  {
   "cell_type": "code",
   "execution_count": 8,
   "metadata": {},
   "outputs": [
    {
     "data": {
      "text/plain": [
       "(torch.Size([9000, 4]),\n",
       " torch.Size([9000, 1]),\n",
       " torch.Size([1000, 4]),\n",
       " torch.Size([1000, 1]))"
      ]
     },
     "execution_count": 8,
     "metadata": {},
     "output_type": "execute_result"
    }
   ],
   "source": [
    "input_data.shape, target_data.shape, input_validation.shape, target_validation.shape"
   ]
  },
  {
   "cell_type": "markdown",
   "metadata": {},
   "source": [
    "# Quantum node"
   ]
  },
  {
   "cell_type": "code",
   "execution_count": 9,
   "metadata": {},
   "outputs": [],
   "source": [
    "n_aminoacids = len(string_list[0])"
   ]
  },
  {
   "cell_type": "code",
   "execution_count": 10,
   "metadata": {},
   "outputs": [],
   "source": [
    "for iii in range(10):\n",
    "\n",
    "    for block_n_layers in [5, 10, 20, 30, 40, 50, 60, 70, 80, 90, 100]:\n",
    "        print(iii, \" # ------- block_n_layers: \", block_n_layers, \" ------- #\")\n",
    "        print(\"\")\n",
    "        print(\"\")\n",
    "\n",
    "        # -- QUANTUM NODE -- #\n",
    "\n",
    "        n_aminoacids = len(string_list[0])\n",
    "\n",
    "        quantum_layer = qn.circuit(\n",
    "            n_qubits = n_aminoacids, \n",
    "            device = \"default.qubit.torch\",\n",
    "            device_options = {'shots': None},\n",
    "            embedding = qn.parts.AngleEmbedding, \n",
    "            # embedding_ansatz = qn.parts.Ansatz_11,\n",
    "            block_ansatz = qn.parts.Ansatz_11,\n",
    "            final_ansatz = qn.parts.Ansatz_final_11,\n",
    "            measurement = qn.parts.Measurement('Z', (n_aminoacids-1)//2),\n",
    "            # embedding_n_layers = 4,\n",
    "            # different_inputs_per_layer = True,\n",
    "            block_n_layers = block_n_layers,\n",
    "            # wrapper_qlayer = pw.QLayerEmpty,\n",
    "        )\n",
    "\n",
    "        # -- HYBRID MODEL -- #\n",
    "        input_dim = input_data.size(1)\n",
    "\n",
    "        n_pre_classical_layers = 4\n",
    "        layers_dim = np.linspace(n_aminoacids, input_dim, 4).astype(int)\n",
    "\n",
    "        import torch.nn as nn\n",
    "        import torch\n",
    "            \n",
    "        class Reshape(nn.Module):\n",
    "            def __init__(self):\n",
    "                super(Reshape, self).__init__()\n",
    "\n",
    "            def forward(self, x):\n",
    "                dims = len(x.shape)\n",
    "                return torch.transpose(x, dims-2, dims-1).reshape(x.shape[-3] if dims==3 else 1, x.shape[-2]*x.shape[-1]).squeeze()\n",
    "\n",
    "        layers =  [ptm.nn.Embedding(num_embeddings=19, embedding_dim=quantum_layer.input_shape[0]//n_aminoacids), Reshape()]\n",
    "        layers += [quantum_layer(), ptm.nn.Linear(1,1)]\n",
    "\n",
    "        # Create model and set data:\n",
    "        model = ptm.pytorch_model(\n",
    "            layers,    \n",
    "            save_options = {'initial_path': initial_path, 'name_notebook': name_notebook},\n",
    "        )\n",
    "        model.set_data(\n",
    "            data_X=input_data, \n",
    "            data_Y=target_data, \n",
    "            data_X_validation=input_validation,\n",
    "            data_Y_validation=target_validation\n",
    "        )\n",
    "        model.keep_track_params=False,\n",
    "\n",
    "\n",
    "        # -- TRAINING -- #\n",
    "        import torch.optim as optim\n",
    "\n",
    "        # train the model\n",
    "        model.train(\n",
    "            optimizer= optim.SGD,\n",
    "            optimizer_options={'lr': 0.1},\n",
    "            num_epochs = 50,                \n",
    "            batch_size = 32,\n",
    "        )\n",
    "\n",
    "        # save string of the model\n",
    "        model.save_str(\n",
    "            metadata={\n",
    "                \"data_file_path\": data_file_path,\n",
    "                \"Quantum_circuit\": quantum_layer.__str__(),\n",
    "            }\n",
    "        )\n",
    "\n",
    "        # plot the losses of the trainig loop and save the figures\n",
    "        model.plot_losses(save=True, save_txt=True)\n",
    "\n",
    "        #save all the parameters of the model and the intermediate parameters of the model\n",
    "        model.save_state_dict(intermediate=False)\n",
    "\n",
    "        # plot the validation and save it\n",
    "        model.plot_validation(save=True, fig_size=(9,9), percentatge=1)\n",
    "\n",
    "        # print validation and save it\n",
    "        model.print_validation(save=True, precision=4, percentatge=1)"
   ]
  },
  {
   "cell_type": "code",
   "execution_count": null,
   "metadata": {},
   "outputs": [
    {
     "name": "stdout",
     "output_type": "stream",
     "text": [
      "[main 5e76f65c] data trained model\n",
      " 14 files changed, 1042 insertions(+), 1 deletion(-)\n",
      " create mode 100644 checkpoints/0809/models/0809-sh_em_1qm_v2_3.pth\n",
      " create mode 100644 checkpoints/0809/plots/0809-sh_em_1qm_v2_losses_batches_3.png\n",
      " create mode 100644 checkpoints/0809/plots/0809-sh_em_1qm_v2_losses_epoch_3.png\n",
      " create mode 100644 checkpoints/0809/plots/0809-sh_em_1qm_v2_losses_epoch_validation_3.png\n",
      " create mode 100644 checkpoints/0809/plots/0809-sh_em_1qm_v2_parameter_0.weight_None_3.png\n",
      " create mode 100644 checkpoints/0809/plots/0809-sh_em_1qm_v2_parameter_2.block_weights_None_3.png\n",
      " create mode 100644 checkpoints/0809/plots/0809-sh_em_1qm_v2_parameter_2.embedding_weights_None_3.png\n",
      " create mode 100644 checkpoints/0809/plots/0809-sh_em_1qm_v2_parameter_3.bias_None_3.png\n",
      " create mode 100644 checkpoints/0809/plots/0809-sh_em_1qm_v2_parameter_3.weight_None_3.png\n",
      " create mode 100644 checkpoints/0809/plots/0809-sh_em_1qm_v2_validation_2.png\n",
      " create mode 100644 checkpoints/0809/plots/0809-sh_em_1qm_v2_validation_3.png\n",
      " create mode 100644 checkpoints/0809/txts/0809-sh_em_1qm_v2_model_str_3.txt\n",
      " create mode 100644 checkpoints/0809/txts/0809-sh_em_1qm_v2_validation_3.txt\n",
      "Enumerating objects: 27, done.\n",
      "Counting objects: 100% (27/27), done.\n",
      "Delta compression using up to 24 threads\n",
      "Compressing objects: 100% (20/20), done.\n",
      "Writing objects: 100% (20/20), 244.71 KiB | 9.41 MiB/s, done.\n",
      "Total 20 (delta 6), reused 0 (delta 0)\n",
      "remote: Resolving deltas: 100% (6/6), completed with 6 local objects.\u001b[K\n",
      "To github.com:raulconchello/peptide-QML.git\n",
      "   09009754..5e76f65c  main -> main\n"
     ]
    }
   ],
   "source": [
    "# push changes to git\n",
    "if initial_path != '../':\n",
    "    !cd peptide-QML && git add . && git commit -m \"data trained model\" && git push"
   ]
  },
  {
   "cell_type": "code",
   "execution_count": null,
   "metadata": {},
   "outputs": [],
   "source": []
  }
 ],
 "metadata": {
  "kernelspec": {
   "display_name": "JL_Pennylane",
   "language": "python",
   "name": "jl_pennylane"
  },
  "language_info": {
   "codemirror_mode": {
    "name": "ipython",
    "version": 3
   },
   "file_extension": ".py",
   "mimetype": "text/x-python",
   "name": "python",
   "nbconvert_exporter": "python",
   "pygments_lexer": "ipython3",
   "version": "3.8.10"
  },
  "orig_nbformat": 4
 },
 "nbformat": 4,
 "nbformat_minor": 2
}
