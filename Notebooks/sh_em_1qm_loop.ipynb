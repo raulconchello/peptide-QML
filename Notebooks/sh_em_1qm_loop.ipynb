{
 "cells": [
  {
   "cell_type": "code",
   "execution_count": 1,
   "metadata": {},
   "outputs": [],
   "source": [
    "initial_path = 'peptide-QML/'\n",
    "# initial_path = '../'"
   ]
  },
  {
   "cell_type": "code",
   "execution_count": 2,
   "metadata": {},
   "outputs": [],
   "source": [
    "day = \"0830\"\n",
    "name_notebook = day + \"-sh_em_1qm_loop_v2.ipynb\"\n",
    "\n",
    "#ask the user if that is correct, if he says yes kkep going, otherwise stop\n",
    "import sys\n",
    "answer = input(\"{} is the name of the notebook | Is that correct? (y/n): \".format(name_notebook))\n",
    "if answer != \"y\":\n",
    "    print(\"Please, change the name of the notebook\")\n",
    "    sys.exit()"
   ]
  },
  {
   "cell_type": "code",
   "execution_count": 3,
   "metadata": {},
   "outputs": [],
   "source": [
    "import numpy as np"
   ]
  },
  {
   "cell_type": "code",
   "execution_count": 4,
   "metadata": {},
   "outputs": [
    {
     "name": "stderr",
     "output_type": "stream",
     "text": [
      "/usr/lib/python3/dist-packages/requests/__init__.py:89: RequestsDependencyWarning: urllib3 (2.0.4) or chardet (3.0.4) doesn't match a supported version!\n",
      "  warnings.warn(\"urllib3 ({}) or chardet ({}) doesn't match a supported \"\n"
     ]
    }
   ],
   "source": [
    "import sys\n",
    "sys.path.append(initial_path)\n",
    "\n",
    "%load_ext autoreload\n",
    "%autoreload 2\n",
    "from my_code import functions as f\n",
    "from my_code import pytorch_model as ptm\n",
    "from my_code import quantum_nodes as qn\n",
    "from my_code import pytorch_wrappers as pw"
   ]
  },
  {
   "cell_type": "markdown",
   "metadata": {},
   "source": [
    "# Data"
   ]
  },
  {
   "cell_type": "code",
   "execution_count": 5,
   "metadata": {},
   "outputs": [],
   "source": [
    "data_file_path = initial_path + 'data/Scores/PET/generated/bb14_Strings_Energies_10_000_4_aa.txt'  # Replace with the actual path to your 'data.txt' file\n",
    "string_list, number_list = f.read_data_file(data_file_path)\n",
    "score_list = np.array(number_list)/1000\n",
    "vector_list = np.array([f.string_to_numbers(string) for string in string_list]) # one hot encoding"
   ]
  },
  {
   "cell_type": "code",
   "execution_count": 6,
   "metadata": {},
   "outputs": [],
   "source": [
    "X, Y, X_validation, Y_validation = f.create_validating_set(vector_list, score_list, percentage=0.1)"
   ]
  },
  {
   "cell_type": "code",
   "execution_count": 7,
   "metadata": {},
   "outputs": [],
   "source": [
    "# Define the dataset\n",
    "input_data = ptm.torch.tensor(X) \n",
    "target_data = ptm.torch.tensor(Y).view(-1, 1)\n",
    "\n",
    "# Define the validation set\n",
    "input_validation = ptm.torch.tensor(X_validation)\n",
    "target_validation = ptm.torch.tensor(Y_validation).view(-1, 1)"
   ]
  },
  {
   "cell_type": "code",
   "execution_count": 8,
   "metadata": {},
   "outputs": [
    {
     "data": {
      "text/plain": [
       "(torch.Size([9000, 4]),\n",
       " torch.Size([9000, 1]),\n",
       " torch.Size([1000, 4]),\n",
       " torch.Size([1000, 1]))"
      ]
     },
     "execution_count": 8,
     "metadata": {},
     "output_type": "execute_result"
    }
   ],
   "source": [
    "input_data.shape, target_data.shape, input_validation.shape, target_validation.shape"
   ]
  },
  {
   "cell_type": "markdown",
   "metadata": {},
   "source": [
    "# Training"
   ]
  },
  {
   "cell_type": "code",
   "execution_count": 9,
   "metadata": {},
   "outputs": [
    {
     "name": "stdout",
     "output_type": "stream",
     "text": [
      "0  # ------- block_n_layers:  1  ------- #\n",
      "\n",
      "\n",
      "Epoch [0/100], Loss: 2.2519, Loss validation: 2.2985\n",
      "- Epoch [1/100], i: [224/9000], Loss: 0.7992\r"
     ]
    },
    {
     "name": "stderr",
     "output_type": "stream",
     "text": [
      "/usr/lib/python3/dist-packages/torch/autograd/__init__.py:147: UserWarning: CUDA initialization: Unexpected error from cudaGetDeviceCount(). Did you run some cuda functions before calling NumCudaDevices() that might have already set an error? Error 804: forward compatibility was attempted on non supported HW (Triggered internally at  ../c10/cuda/CUDAFunctions.cpp:115.)\n",
      "  Variable._execution_engine.run_backward(\n"
     ]
    },
    {
     "name": "stdout",
     "output_type": "stream",
     "text": [
      "\t Validation string, \t i: 0; \t prediction: 0.0517, \t target: 0.0457, \t loss: 0.1292\n",
      "\t Validation string, \t i: 1; \t prediction: 0.0333, \t target: -0.0040, \t loss: 9.2233\n",
      "\t Validation string, \t i: 2; \t prediction: -0.0359, \t target: 0.0494, \t loss: 1.7283\n",
      "Epoch [1/100], Loss: 0.5624, Loss validation: 0.3950, Time remaining: ~0.0h 8.0m 53s\n",
      "\t Validation string, \t i: 0; \t prediction: 0.0464, \t target: 0.0457, \t loss: 0.0143\n",
      "\t Validation string, \t i: 1; \t prediction: 0.0585, \t target: -0.0040, \t loss: 15.4541\n",
      "\t Validation string, \t i: 2; \t prediction: -0.0617, \t target: 0.0494, \t loss: 2.2499\n",
      "Epoch [2/100], Loss: 0.4006, Loss validation: 0.4119, Time remaining: ~0.0h 8.0m 17s\n",
      "\t Validation string, \t i: 0; \t prediction: 0.0924, \t target: 0.0457, \t loss: 1.0208\n",
      "\t Validation string, \t i: 1; \t prediction: 0.0594, \t target: -0.0040, \t loss: 15.6628\n",
      "\t Validation string, \t i: 2; \t prediction: -0.0572, \t target: 0.0494, \t loss: 2.1580\n",
      "Epoch [3/100], Loss: 0.4058, Loss validation: 0.4137, Time remaining: ~0.0h 7.0m 59s\n",
      "\t Validation string, \t i: 0; \t prediction: 0.0647, \t target: 0.0457, \t loss: 0.4137\n",
      "\t Validation string, \t i: 1; \t prediction: 0.0571, \t target: -0.0040, \t loss: 15.1063\n",
      "\t Validation string, \t i: 2; \t prediction: -0.0741, \t target: 0.0494, \t loss: 2.5017\n",
      "Epoch [4/100], Loss: 0.4090, Loss validation: 0.3756, Time remaining: ~0.0h 7.0m 50s\n",
      "\t Validation string, \t i: 0; \t prediction: 0.0551, \t target: 0.0457, \t loss: 0.2034\n",
      "\t Validation string, \t i: 1; \t prediction: 0.0421, \t target: -0.0040, \t loss: 11.4056\n",
      "\t Validation string, \t i: 2; \t prediction: -0.0581, \t target: 0.0494, \t loss: 2.1780\n",
      "Epoch [5/100], Loss: 0.4013, Loss validation: 0.3804, Time remaining: ~0.0h 7.0m 42s\n",
      "\t Validation string, \t i: 0; \t prediction: 0.0749, \t target: 0.0457, \t loss: 0.6377\n",
      "\t Validation string, \t i: 1; \t prediction: 0.0588, \t target: -0.0040, \t loss: 15.5269\n",
      "\t Validation string, \t i: 2; \t prediction: -0.0663, \t target: 0.0494, \t loss: 2.3426\n",
      "Epoch [6/100], Loss: 0.4046, Loss validation: 0.3989, Time remaining: ~0.0h 7.0m 35s\n",
      "\t Validation string, \t i: 0; \t prediction: 0.0671, \t target: 0.0457, \t loss: 0.4665\n",
      "\t Validation string, \t i: 1; \t prediction: 0.0632, \t target: -0.0040, \t loss: 16.6015\n",
      "\t Validation string, \t i: 2; \t prediction: -0.0816, \t target: 0.0494, \t loss: 2.6523\n",
      "Epoch [7/100], Loss: 0.3965, Loss validation: 0.3895, Time remaining: ~0.0h 7.0m 28s\n",
      "\t Validation string, \t i: 0; \t prediction: 0.0845, \t target: 0.0457, \t loss: 0.8472\n",
      "\t Validation string, \t i: 1; \t prediction: 0.0485, \t target: -0.0040, \t loss: 12.9720\n",
      "\t Validation string, \t i: 2; \t prediction: -0.0479, \t target: 0.0494, \t loss: 1.9709\n",
      "Epoch [8/100], Loss: 0.4041, Loss validation: 0.3855, Time remaining: ~0.0h 7.0m 21s\n",
      "\t Validation string, \t i: 0; \t prediction: 0.0630, \t target: 0.0457, \t loss: 0.3770\n",
      "\t Validation string, \t i: 1; \t prediction: 0.0164, \t target: -0.0040, \t loss: 5.0399\n",
      "\t Validation string, \t i: 2; \t prediction: -0.0300, \t target: 0.0494, \t loss: 1.6071\n",
      "Epoch [9/100], Loss: 0.4096, Loss validation: 0.3948, Time remaining: ~0.0h 7.0m 15s\n",
      "\t Validation string, \t i: 0; \t prediction: 0.0387, \t target: 0.0457, \t loss: 0.1548\n",
      "\t Validation string, \t i: 1; \t prediction: 0.0148, \t target: -0.0040, \t loss: 4.6601\n",
      "\t Validation string, \t i: 2; \t prediction: -0.0421, \t target: 0.0494, \t loss: 1.8525\n",
      "Epoch [10/100], Loss: 0.4010, Loss validation: 0.3735, Time remaining: ~0.0h 7.0m 9s\n",
      "\t Validation string, \t i: 0; \t prediction: 0.0548, \t target: 0.0457, \t loss: 0.1975\n",
      "\t Validation string, \t i: 1; \t prediction: 0.0409, \t target: -0.0040, \t loss: 11.1007\n",
      "\t Validation string, \t i: 2; \t prediction: -0.0545, \t target: 0.0494, \t loss: 2.1032\n",
      "Epoch [11/100], Loss: 0.4015, Loss validation: 0.3797, Time remaining: ~0.0h 7.0m 4s\n",
      "\t Validation string, \t i: 0; \t prediction: 0.0454, \t target: 0.0457, \t loss: 0.0085\n",
      "\t Validation string, \t i: 1; \t prediction: 0.0166, \t target: -0.0040, \t loss: 5.1074\n",
      "\t Validation string, \t i: 2; \t prediction: -0.0710, \t target: 0.0494, \t loss: 2.4381\n",
      "Epoch [12/100], Loss: 0.4071, Loss validation: 0.3856, Time remaining: ~0.0h 6.0m 58s\n",
      "\t Validation string, \t i: 0; \t prediction: 0.0827, \t target: 0.0457, \t loss: 0.8068\n",
      "\t Validation string, \t i: 1; \t prediction: 0.0705, \t target: -0.0040, \t loss: 18.4134\n",
      "\t Validation string, \t i: 2; \t prediction: -0.0369, \t target: 0.0494, \t loss: 1.7475\n",
      "Epoch [13/100], Loss: 0.3988, Loss validation: 0.3796, Time remaining: ~0.0h 6.0m 53s\n",
      "\t Validation string, \t i: 0; \t prediction: 0.0614, \t target: 0.0457, \t loss: 0.3430\n",
      "\t Validation string, \t i: 1; \t prediction: 0.0358, \t target: -0.0040, \t loss: 9.8277\n",
      "\t Validation string, \t i: 2; \t prediction: -0.0250, \t target: 0.0494, \t loss: 1.5060\n",
      "Epoch [14/100], Loss: 0.4041, Loss validation: 0.4398, Time remaining: ~0.0h 6.0m 47s\n",
      "\t Validation string, \t i: 0; \t prediction: 0.0960, \t target: 0.0457, \t loss: 1.0980\n",
      "\t Validation string, \t i: 1; \t prediction: 0.0793, \t target: -0.0040, \t loss: 20.5700\n",
      "\t Validation string, \t i: 2; \t prediction: -0.0440, \t target: 0.0494, \t loss: 1.8915\n",
      "Epoch [15/100], Loss: 0.4047, Loss validation: 0.3969, Time remaining: ~0.0h 6.0m 43s\n",
      "\t Validation string, \t i: 0; \t prediction: 0.0291, \t target: 0.0457, \t loss: 0.3645\n",
      "\t Validation string, \t i: 1; \t prediction: 0.0081, \t target: -0.0040, \t loss: 3.0027\n",
      "\t Validation string, \t i: 2; \t prediction: -0.0585, \t target: 0.0494, \t loss: 2.1851\n",
      "Epoch [16/100], Loss: 0.4028, Loss validation: 0.3987, Time remaining: ~0.0h 6.0m 37s\n",
      "\t Validation string, \t i: 0; \t prediction: 0.0358, \t target: 0.0457, \t loss: 0.2184\n",
      "\t Validation string, \t i: 1; \t prediction: 0.0195, \t target: -0.0040, \t loss: 5.8196\n",
      "\t Validation string, \t i: 2; \t prediction: -0.0318, \t target: 0.0494, \t loss: 1.6443\n",
      "Epoch [17/100], Loss: 0.4061, Loss validation: 0.4616, Time remaining: ~0.0h 6.0m 32s\n",
      "\t Validation string, \t i: 0; \t prediction: 0.0728, \t target: 0.0457, \t loss: 0.5917\n",
      "\t Validation string, \t i: 1; \t prediction: 0.0386, \t target: -0.0040, \t loss: 10.5394\n",
      "\t Validation string, \t i: 2; \t prediction: -0.0538, \t target: 0.0494, \t loss: 2.0895\n",
      "Epoch [18/100], Loss: 0.3989, Loss validation: 0.4066, Time remaining: ~0.0h 6.0m 27s\n",
      "\t Validation string, \t i: 0; \t prediction: 0.0749, \t target: 0.0457, \t loss: 0.6369\n",
      "\t Validation string, \t i: 1; \t prediction: 0.0560, \t target: -0.0040, \t loss: 14.8360\n",
      "\t Validation string, \t i: 2; \t prediction: -0.0220, \t target: 0.0494, \t loss: 1.4466\n",
      "Epoch [19/100], Loss: 0.4070, Loss validation: 0.4171, Time remaining: ~0.0h 6.0m 22s\n",
      "\t Validation string, \t i: 0; \t prediction: 0.0455, \t target: 0.0457, \t loss: 0.0045\n",
      "\t Validation string, \t i: 1; \t prediction: 0.0232, \t target: -0.0040, \t loss: 6.7386\n",
      "\t Validation string, \t i: 2; \t prediction: -0.0404, \t target: 0.0494, \t loss: 1.8192\n",
      "Epoch [20/100], Loss: 0.4019, Loss validation: 0.3754, Time remaining: ~0.0h 6.0m 18s\n",
      "\t Validation string, \t i: 0; \t prediction: 0.0796, \t target: 0.0457, \t loss: 0.7411\n",
      "\t Validation string, \t i: 1; \t prediction: 0.0515, \t target: -0.0040, \t loss: 13.7141\n",
      "\t Validation string, \t i: 2; \t prediction: -0.0662, \t target: 0.0494, \t loss: 2.3405\n",
      "Epoch [21/100], Loss: 0.4061, Loss validation: 0.3736, Time remaining: ~0.0h 6.0m 13s\n",
      "\t Validation string, \t i: 0; \t prediction: 0.0033, \t target: 0.0457, \t loss: 0.9283\n",
      "\t Validation string, \t i: 1; \t prediction: -0.0192, \t target: -0.0040, \t loss: 3.7434\n",
      "\t Validation string, \t i: 2; \t prediction: -0.0986, \t target: 0.0494, \t loss: 2.9982\n",
      "Epoch [22/100], Loss: 0.4109, Loss validation: 0.4775, Time remaining: ~0.0h 6.0m 8s\n",
      "\t Validation string, \t i: 0; \t prediction: 0.0444, \t target: 0.0457, \t loss: 0.0289\n",
      "\t Validation string, \t i: 1; \t prediction: 0.0162, \t target: -0.0040, \t loss: 5.0107\n",
      "\t Validation string, \t i: 2; \t prediction: -0.0696, \t target: 0.0494, \t loss: 2.4110\n",
      "Epoch [23/100], Loss: 0.4091, Loss validation: 0.3781, Time remaining: ~0.0h 6.0m 3s\n",
      "\t Validation string, \t i: 0; \t prediction: 0.0370, \t target: 0.0457, \t loss: 0.1914\n",
      "\t Validation string, \t i: 1; \t prediction: 0.0098, \t target: -0.0040, \t loss: 3.4095\n",
      "\t Validation string, \t i: 2; \t prediction: -0.0623, \t target: 0.0494, \t loss: 2.2617\n",
      "Epoch [24/100], Loss: 0.4001, Loss validation: 0.4285, Time remaining: ~0.0h 5.0m 58s\n",
      "- Epoch [25/100], i: [4192/9000], Loss: 0.4276\r"
     ]
    },
    {
     "ename": "KeyboardInterrupt",
     "evalue": "",
     "output_type": "error",
     "traceback": [
      "\u001b[0;31m---------------------------------------------------------------------------\u001b[0m",
      "\u001b[0;31mKeyboardInterrupt\u001b[0m                         Traceback (most recent call last)",
      "\u001b[0;32m<ipython-input-9-d85873e2d0ce>\u001b[0m in \u001b[0;36m<module>\u001b[0;34m\u001b[0m\n\u001b[1;32m     63\u001b[0m \u001b[0;34m\u001b[0m\u001b[0m\n\u001b[1;32m     64\u001b[0m         \u001b[0;31m# train the model\u001b[0m\u001b[0;34m\u001b[0m\u001b[0;34m\u001b[0m\u001b[0;34m\u001b[0m\u001b[0m\n\u001b[0;32m---> 65\u001b[0;31m         model.train(\n\u001b[0m\u001b[1;32m     66\u001b[0m             \u001b[0moptimizer\u001b[0m\u001b[0;34m=\u001b[0m \u001b[0moptim\u001b[0m\u001b[0;34m.\u001b[0m\u001b[0mAdam\u001b[0m\u001b[0;34m,\u001b[0m\u001b[0;34m\u001b[0m\u001b[0;34m\u001b[0m\u001b[0m\n\u001b[1;32m     67\u001b[0m             \u001b[0moptimizer_options\u001b[0m\u001b[0;34m=\u001b[0m\u001b[0;34m{\u001b[0m\u001b[0;34m'lr'\u001b[0m\u001b[0;34m:\u001b[0m \u001b[0;36m0.05\u001b[0m\u001b[0;34m}\u001b[0m\u001b[0;34m,\u001b[0m\u001b[0;34m\u001b[0m\u001b[0;34m\u001b[0m\u001b[0m\n",
      "\u001b[0;32m~/peptide-QML/my_code/pytorch_model.py\u001b[0m in \u001b[0;36mtrain\u001b[0;34m(self, loss_function, optimizer, optimizer_options, initialization_options, num_epochs, batch_size, print_batch, validation, n_validation, n_print_validation, time)\u001b[0m\n\u001b[1;32m    155\u001b[0m \u001b[0;34m\u001b[0m\u001b[0m\n\u001b[1;32m    156\u001b[0m                 \u001b[0;31m# Forward pass\u001b[0m\u001b[0;34m\u001b[0m\u001b[0;34m\u001b[0m\u001b[0;34m\u001b[0m\u001b[0m\n\u001b[0;32m--> 157\u001b[0;31m                 \u001b[0moutputs\u001b[0m \u001b[0;34m=\u001b[0m \u001b[0mself\u001b[0m\u001b[0;34m.\u001b[0m\u001b[0mmodel\u001b[0m\u001b[0;34m(\u001b[0m\u001b[0minputs\u001b[0m\u001b[0;34m)\u001b[0m\u001b[0;34m\u001b[0m\u001b[0;34m\u001b[0m\u001b[0m\n\u001b[0m\u001b[1;32m    158\u001b[0m \u001b[0;34m\u001b[0m\u001b[0m\n\u001b[1;32m    159\u001b[0m                 \u001b[0;31m# Compute the loss\u001b[0m\u001b[0;34m\u001b[0m\u001b[0;34m\u001b[0m\u001b[0;34m\u001b[0m\u001b[0m\n",
      "\u001b[0;32m/usr/lib/python3/dist-packages/torch/nn/modules/module.py\u001b[0m in \u001b[0;36m_call_impl\u001b[0;34m(self, *input, **kwargs)\u001b[0m\n\u001b[1;32m   1049\u001b[0m         if not (self._backward_hooks or self._forward_hooks or self._forward_pre_hooks or _global_backward_hooks\n\u001b[1;32m   1050\u001b[0m                 or _global_forward_hooks or _global_forward_pre_hooks):\n\u001b[0;32m-> 1051\u001b[0;31m             \u001b[0;32mreturn\u001b[0m \u001b[0mforward_call\u001b[0m\u001b[0;34m(\u001b[0m\u001b[0;34m*\u001b[0m\u001b[0minput\u001b[0m\u001b[0;34m,\u001b[0m \u001b[0;34m**\u001b[0m\u001b[0mkwargs\u001b[0m\u001b[0;34m)\u001b[0m\u001b[0;34m\u001b[0m\u001b[0;34m\u001b[0m\u001b[0m\n\u001b[0m\u001b[1;32m   1052\u001b[0m         \u001b[0;31m# Do not call functions when jit is used\u001b[0m\u001b[0;34m\u001b[0m\u001b[0;34m\u001b[0m\u001b[0;34m\u001b[0m\u001b[0m\n\u001b[1;32m   1053\u001b[0m         \u001b[0mfull_backward_hooks\u001b[0m\u001b[0;34m,\u001b[0m \u001b[0mnon_full_backward_hooks\u001b[0m \u001b[0;34m=\u001b[0m \u001b[0;34m[\u001b[0m\u001b[0;34m]\u001b[0m\u001b[0;34m,\u001b[0m \u001b[0;34m[\u001b[0m\u001b[0;34m]\u001b[0m\u001b[0;34m\u001b[0m\u001b[0;34m\u001b[0m\u001b[0m\n",
      "\u001b[0;32m/usr/lib/python3/dist-packages/torch/nn/modules/container.py\u001b[0m in \u001b[0;36mforward\u001b[0;34m(self, input)\u001b[0m\n\u001b[1;32m    137\u001b[0m     \u001b[0;32mdef\u001b[0m \u001b[0mforward\u001b[0m\u001b[0;34m(\u001b[0m\u001b[0mself\u001b[0m\u001b[0;34m,\u001b[0m \u001b[0minput\u001b[0m\u001b[0;34m)\u001b[0m\u001b[0;34m:\u001b[0m\u001b[0;34m\u001b[0m\u001b[0;34m\u001b[0m\u001b[0m\n\u001b[1;32m    138\u001b[0m         \u001b[0;32mfor\u001b[0m \u001b[0mmodule\u001b[0m \u001b[0;32min\u001b[0m \u001b[0mself\u001b[0m\u001b[0;34m:\u001b[0m\u001b[0;34m\u001b[0m\u001b[0;34m\u001b[0m\u001b[0m\n\u001b[0;32m--> 139\u001b[0;31m             \u001b[0minput\u001b[0m \u001b[0;34m=\u001b[0m \u001b[0mmodule\u001b[0m\u001b[0;34m(\u001b[0m\u001b[0minput\u001b[0m\u001b[0;34m)\u001b[0m\u001b[0;34m\u001b[0m\u001b[0;34m\u001b[0m\u001b[0m\n\u001b[0m\u001b[1;32m    140\u001b[0m         \u001b[0;32mreturn\u001b[0m \u001b[0minput\u001b[0m\u001b[0;34m\u001b[0m\u001b[0;34m\u001b[0m\u001b[0m\n\u001b[1;32m    141\u001b[0m \u001b[0;34m\u001b[0m\u001b[0m\n",
      "\u001b[0;32m/usr/lib/python3/dist-packages/torch/nn/modules/module.py\u001b[0m in \u001b[0;36m_call_impl\u001b[0;34m(self, *input, **kwargs)\u001b[0m\n\u001b[1;32m   1049\u001b[0m         if not (self._backward_hooks or self._forward_hooks or self._forward_pre_hooks or _global_backward_hooks\n\u001b[1;32m   1050\u001b[0m                 or _global_forward_hooks or _global_forward_pre_hooks):\n\u001b[0;32m-> 1051\u001b[0;31m             \u001b[0;32mreturn\u001b[0m \u001b[0mforward_call\u001b[0m\u001b[0;34m(\u001b[0m\u001b[0;34m*\u001b[0m\u001b[0minput\u001b[0m\u001b[0;34m,\u001b[0m \u001b[0;34m**\u001b[0m\u001b[0mkwargs\u001b[0m\u001b[0;34m)\u001b[0m\u001b[0;34m\u001b[0m\u001b[0;34m\u001b[0m\u001b[0m\n\u001b[0m\u001b[1;32m   1052\u001b[0m         \u001b[0;31m# Do not call functions when jit is used\u001b[0m\u001b[0;34m\u001b[0m\u001b[0;34m\u001b[0m\u001b[0;34m\u001b[0m\u001b[0m\n\u001b[1;32m   1053\u001b[0m         \u001b[0mfull_backward_hooks\u001b[0m\u001b[0;34m,\u001b[0m \u001b[0mnon_full_backward_hooks\u001b[0m \u001b[0;34m=\u001b[0m \u001b[0;34m[\u001b[0m\u001b[0;34m]\u001b[0m\u001b[0;34m,\u001b[0m \u001b[0;34m[\u001b[0m\u001b[0;34m]\u001b[0m\u001b[0;34m\u001b[0m\u001b[0;34m\u001b[0m\u001b[0m\n",
      "\u001b[0;32m~/.local/lib/python3.8/site-packages/pennylane/qnn/torch.py\u001b[0m in \u001b[0;36mforward\u001b[0;34m(self, inputs)\u001b[0m\n\u001b[1;32m    406\u001b[0m         \u001b[0;32melse\u001b[0m\u001b[0;34m:\u001b[0m\u001b[0;34m\u001b[0m\u001b[0;34m\u001b[0m\u001b[0m\n\u001b[1;32m    407\u001b[0m             \u001b[0;31m# calculate the forward pass as usual\u001b[0m\u001b[0;34m\u001b[0m\u001b[0;34m\u001b[0m\u001b[0;34m\u001b[0m\u001b[0m\n\u001b[0;32m--> 408\u001b[0;31m             \u001b[0mresults\u001b[0m \u001b[0;34m=\u001b[0m \u001b[0mself\u001b[0m\u001b[0;34m.\u001b[0m\u001b[0m_evaluate_qnode\u001b[0m\u001b[0;34m(\u001b[0m\u001b[0minputs\u001b[0m\u001b[0;34m)\u001b[0m\u001b[0;34m\u001b[0m\u001b[0;34m\u001b[0m\u001b[0m\n\u001b[0m\u001b[1;32m    409\u001b[0m \u001b[0;34m\u001b[0m\u001b[0m\n\u001b[1;32m    410\u001b[0m         \u001b[0;31m# reshape to the correct number of batch dims\u001b[0m\u001b[0;34m\u001b[0m\u001b[0;34m\u001b[0m\u001b[0;34m\u001b[0m\u001b[0m\n",
      "\u001b[0;32m~/.local/lib/python3.8/site-packages/pennylane/qnn/torch.py\u001b[0m in \u001b[0;36m_evaluate_qnode\u001b[0;34m(self, x)\u001b[0m\n\u001b[1;32m    427\u001b[0m             \u001b[0;34m**\u001b[0m\u001b[0;34m{\u001b[0m\u001b[0marg\u001b[0m\u001b[0;34m:\u001b[0m \u001b[0mweight\u001b[0m\u001b[0;34m.\u001b[0m\u001b[0mto\u001b[0m\u001b[0;34m(\u001b[0m\u001b[0mx\u001b[0m\u001b[0;34m)\u001b[0m \u001b[0;32mfor\u001b[0m \u001b[0marg\u001b[0m\u001b[0;34m,\u001b[0m \u001b[0mweight\u001b[0m \u001b[0;32min\u001b[0m \u001b[0mself\u001b[0m\u001b[0;34m.\u001b[0m\u001b[0mqnode_weights\u001b[0m\u001b[0;34m.\u001b[0m\u001b[0mitems\u001b[0m\u001b[0;34m(\u001b[0m\u001b[0;34m)\u001b[0m\u001b[0;34m}\u001b[0m\u001b[0;34m,\u001b[0m\u001b[0;34m\u001b[0m\u001b[0;34m\u001b[0m\u001b[0m\n\u001b[1;32m    428\u001b[0m         }\n\u001b[0;32m--> 429\u001b[0;31m         \u001b[0mres\u001b[0m \u001b[0;34m=\u001b[0m \u001b[0mself\u001b[0m\u001b[0;34m.\u001b[0m\u001b[0mqnode\u001b[0m\u001b[0;34m(\u001b[0m\u001b[0;34m**\u001b[0m\u001b[0mkwargs\u001b[0m\u001b[0;34m)\u001b[0m\u001b[0;34m\u001b[0m\u001b[0;34m\u001b[0m\u001b[0m\n\u001b[0m\u001b[1;32m    430\u001b[0m \u001b[0;34m\u001b[0m\u001b[0m\n\u001b[1;32m    431\u001b[0m         \u001b[0;32mif\u001b[0m \u001b[0misinstance\u001b[0m\u001b[0;34m(\u001b[0m\u001b[0mres\u001b[0m\u001b[0;34m,\u001b[0m \u001b[0mtorch\u001b[0m\u001b[0;34m.\u001b[0m\u001b[0mTensor\u001b[0m\u001b[0;34m)\u001b[0m\u001b[0;34m:\u001b[0m\u001b[0;34m\u001b[0m\u001b[0;34m\u001b[0m\u001b[0m\n",
      "\u001b[0;32m~/.local/lib/python3.8/site-packages/pennylane/qnode.py\u001b[0m in \u001b[0;36m__call__\u001b[0;34m(self, *args, **kwargs)\u001b[0m\n\u001b[1;32m    948\u001b[0m                 \u001b[0mself\u001b[0m\u001b[0;34m.\u001b[0m\u001b[0mexecute_kwargs\u001b[0m\u001b[0;34m.\u001b[0m\u001b[0mpop\u001b[0m\u001b[0;34m(\u001b[0m\u001b[0;34m\"mode\"\u001b[0m\u001b[0;34m)\u001b[0m\u001b[0;34m\u001b[0m\u001b[0;34m\u001b[0m\u001b[0m\n\u001b[1;32m    949\u001b[0m             \u001b[0;31m# pylint: disable=unexpected-keyword-arg\u001b[0m\u001b[0;34m\u001b[0m\u001b[0;34m\u001b[0m\u001b[0;34m\u001b[0m\u001b[0m\n\u001b[0;32m--> 950\u001b[0;31m             res = qml.execute(\n\u001b[0m\u001b[1;32m    951\u001b[0m                 \u001b[0;34m[\u001b[0m\u001b[0mself\u001b[0m\u001b[0;34m.\u001b[0m\u001b[0mtape\u001b[0m\u001b[0;34m]\u001b[0m\u001b[0;34m,\u001b[0m\u001b[0;34m\u001b[0m\u001b[0;34m\u001b[0m\u001b[0m\n\u001b[1;32m    952\u001b[0m                 \u001b[0mdevice\u001b[0m\u001b[0;34m=\u001b[0m\u001b[0mself\u001b[0m\u001b[0;34m.\u001b[0m\u001b[0mdevice\u001b[0m\u001b[0;34m,\u001b[0m\u001b[0;34m\u001b[0m\u001b[0;34m\u001b[0m\u001b[0m\n",
      "\u001b[0;32m~/.local/lib/python3.8/site-packages/pennylane/interfaces/execution.py\u001b[0m in \u001b[0;36mexecute\u001b[0;34m(tapes, device, gradient_fn, interface, grad_on_execution, gradient_kwargs, cache, cachesize, max_diff, override_shots, expand_fn, max_expansion, device_batch_transform)\u001b[0m\n\u001b[1;32m    509\u001b[0m             \u001b[0mpass_kwargs\u001b[0m\u001b[0;34m=\u001b[0m\u001b[0mnew_device_interface\u001b[0m\u001b[0;34m,\u001b[0m\u001b[0;34m\u001b[0m\u001b[0;34m\u001b[0m\u001b[0m\n\u001b[1;32m    510\u001b[0m         )\n\u001b[0;32m--> 511\u001b[0;31m         \u001b[0mresults\u001b[0m \u001b[0;34m=\u001b[0m \u001b[0mcached_execute_fn\u001b[0m\u001b[0;34m(\u001b[0m\u001b[0mtapes\u001b[0m\u001b[0;34m,\u001b[0m \u001b[0mexecution_config\u001b[0m\u001b[0;34m=\u001b[0m\u001b[0mconfig\u001b[0m\u001b[0;34m)\u001b[0m\u001b[0;34m\u001b[0m\u001b[0;34m\u001b[0m\u001b[0m\n\u001b[0m\u001b[1;32m    512\u001b[0m         \u001b[0;32mreturn\u001b[0m \u001b[0mbatch_fn\u001b[0m\u001b[0;34m(\u001b[0m\u001b[0mresults\u001b[0m\u001b[0;34m)\u001b[0m\u001b[0;34m\u001b[0m\u001b[0;34m\u001b[0m\u001b[0m\n\u001b[1;32m    513\u001b[0m \u001b[0;34m\u001b[0m\u001b[0m\n",
      "\u001b[0;32m~/.local/lib/python3.8/site-packages/pennylane/interfaces/execution.py\u001b[0m in \u001b[0;36mwrapper\u001b[0;34m(tapes, **kwargs)\u001b[0m\n\u001b[1;32m    285\u001b[0m             \u001b[0;31m# execute all unique tapes that do not exist in the cache\u001b[0m\u001b[0;34m\u001b[0m\u001b[0;34m\u001b[0m\u001b[0;34m\u001b[0m\u001b[0m\n\u001b[1;32m    286\u001b[0m             \u001b[0;31m# convert to list as new device interface returns a tuple\u001b[0m\u001b[0;34m\u001b[0m\u001b[0;34m\u001b[0m\u001b[0;34m\u001b[0m\u001b[0m\n\u001b[0;32m--> 287\u001b[0;31m             \u001b[0mres\u001b[0m \u001b[0;34m=\u001b[0m \u001b[0mlist\u001b[0m\u001b[0;34m(\u001b[0m\u001b[0mfn\u001b[0m\u001b[0;34m(\u001b[0m\u001b[0mexecution_tapes\u001b[0m\u001b[0;34m.\u001b[0m\u001b[0mvalues\u001b[0m\u001b[0;34m(\u001b[0m\u001b[0;34m)\u001b[0m\u001b[0;34m,\u001b[0m \u001b[0;34m**\u001b[0m\u001b[0mkwargs\u001b[0m\u001b[0;34m)\u001b[0m\u001b[0;34m)\u001b[0m\u001b[0;34m\u001b[0m\u001b[0;34m\u001b[0m\u001b[0m\n\u001b[0m\u001b[1;32m    288\u001b[0m \u001b[0;34m\u001b[0m\u001b[0m\n\u001b[1;32m    289\u001b[0m         \u001b[0mfinal_res\u001b[0m \u001b[0;34m=\u001b[0m \u001b[0;34m[\u001b[0m\u001b[0;34m]\u001b[0m\u001b[0;34m\u001b[0m\u001b[0;34m\u001b[0m\u001b[0m\n",
      "\u001b[0;32m~/.local/lib/python3.8/site-packages/pennylane/interfaces/execution.py\u001b[0m in \u001b[0;36mfn\u001b[0;34m(tapes, **kwargs)\u001b[0m\n\u001b[1;32m    208\u001b[0m         \u001b[0;32mdef\u001b[0m \u001b[0mfn\u001b[0m\u001b[0;34m(\u001b[0m\u001b[0mtapes\u001b[0m\u001b[0;34m:\u001b[0m \u001b[0mSequence\u001b[0m\u001b[0;34m[\u001b[0m\u001b[0mQuantumTape\u001b[0m\u001b[0;34m]\u001b[0m\u001b[0;34m,\u001b[0m \u001b[0;34m**\u001b[0m\u001b[0mkwargs\u001b[0m\u001b[0;34m)\u001b[0m\u001b[0;34m:\u001b[0m  \u001b[0;31m# pylint: disable=function-redefined\u001b[0m\u001b[0;34m\u001b[0m\u001b[0;34m\u001b[0m\u001b[0m\n\u001b[1;32m    209\u001b[0m             \u001b[0mtapes\u001b[0m \u001b[0;34m=\u001b[0m \u001b[0;34m[\u001b[0m\u001b[0mexpand_fn\u001b[0m\u001b[0;34m(\u001b[0m\u001b[0mtape\u001b[0m\u001b[0;34m)\u001b[0m \u001b[0;32mfor\u001b[0m \u001b[0mtape\u001b[0m \u001b[0;32min\u001b[0m \u001b[0mtapes\u001b[0m\u001b[0;34m]\u001b[0m\u001b[0;34m\u001b[0m\u001b[0;34m\u001b[0m\u001b[0m\n\u001b[0;32m--> 210\u001b[0;31m             \u001b[0;32mreturn\u001b[0m \u001b[0moriginal_fn\u001b[0m\u001b[0;34m(\u001b[0m\u001b[0mtapes\u001b[0m\u001b[0;34m,\u001b[0m \u001b[0;34m**\u001b[0m\u001b[0mkwargs\u001b[0m\u001b[0;34m)\u001b[0m\u001b[0;34m\u001b[0m\u001b[0;34m\u001b[0m\u001b[0m\n\u001b[0m\u001b[1;32m    211\u001b[0m \u001b[0;34m\u001b[0m\u001b[0m\n\u001b[1;32m    212\u001b[0m     \u001b[0;34m@\u001b[0m\u001b[0mwraps\u001b[0m\u001b[0;34m(\u001b[0m\u001b[0mfn\u001b[0m\u001b[0;34m)\u001b[0m\u001b[0;34m\u001b[0m\u001b[0;34m\u001b[0m\u001b[0m\n",
      "\u001b[0;32m/usr/lib/python3.8/contextlib.py\u001b[0m in \u001b[0;36minner\u001b[0;34m(*args, **kwds)\u001b[0m\n\u001b[1;32m     73\u001b[0m         \u001b[0;32mdef\u001b[0m \u001b[0minner\u001b[0m\u001b[0;34m(\u001b[0m\u001b[0;34m*\u001b[0m\u001b[0margs\u001b[0m\u001b[0;34m,\u001b[0m \u001b[0;34m**\u001b[0m\u001b[0mkwds\u001b[0m\u001b[0;34m)\u001b[0m\u001b[0;34m:\u001b[0m\u001b[0;34m\u001b[0m\u001b[0;34m\u001b[0m\u001b[0m\n\u001b[1;32m     74\u001b[0m             \u001b[0;32mwith\u001b[0m \u001b[0mself\u001b[0m\u001b[0;34m.\u001b[0m\u001b[0m_recreate_cm\u001b[0m\u001b[0;34m(\u001b[0m\u001b[0;34m)\u001b[0m\u001b[0;34m:\u001b[0m\u001b[0;34m\u001b[0m\u001b[0;34m\u001b[0m\u001b[0m\n\u001b[0;32m---> 75\u001b[0;31m                 \u001b[0;32mreturn\u001b[0m \u001b[0mfunc\u001b[0m\u001b[0;34m(\u001b[0m\u001b[0;34m*\u001b[0m\u001b[0margs\u001b[0m\u001b[0;34m,\u001b[0m \u001b[0;34m**\u001b[0m\u001b[0mkwds\u001b[0m\u001b[0;34m)\u001b[0m\u001b[0;34m\u001b[0m\u001b[0;34m\u001b[0m\u001b[0m\n\u001b[0m\u001b[1;32m     76\u001b[0m         \u001b[0;32mreturn\u001b[0m \u001b[0minner\u001b[0m\u001b[0;34m\u001b[0m\u001b[0;34m\u001b[0m\u001b[0m\n\u001b[1;32m     77\u001b[0m \u001b[0;34m\u001b[0m\u001b[0m\n",
      "\u001b[0;32m~/.local/lib/python3.8/site-packages/pennylane/_qubit_device.py\u001b[0m in \u001b[0;36mbatch_execute\u001b[0;34m(self, circuits)\u001b[0m\n\u001b[1;32m    601\u001b[0m             \u001b[0mself\u001b[0m\u001b[0;34m.\u001b[0m\u001b[0mreset\u001b[0m\u001b[0;34m(\u001b[0m\u001b[0;34m)\u001b[0m\u001b[0;34m\u001b[0m\u001b[0;34m\u001b[0m\u001b[0m\n\u001b[1;32m    602\u001b[0m \u001b[0;34m\u001b[0m\u001b[0m\n\u001b[0;32m--> 603\u001b[0;31m             \u001b[0mres\u001b[0m \u001b[0;34m=\u001b[0m \u001b[0mself\u001b[0m\u001b[0;34m.\u001b[0m\u001b[0mexecute\u001b[0m\u001b[0;34m(\u001b[0m\u001b[0mcircuit\u001b[0m\u001b[0;34m)\u001b[0m\u001b[0;34m\u001b[0m\u001b[0;34m\u001b[0m\u001b[0m\n\u001b[0m\u001b[1;32m    604\u001b[0m             \u001b[0mresults\u001b[0m\u001b[0;34m.\u001b[0m\u001b[0mappend\u001b[0m\u001b[0;34m(\u001b[0m\u001b[0mres\u001b[0m\u001b[0;34m)\u001b[0m\u001b[0;34m\u001b[0m\u001b[0;34m\u001b[0m\u001b[0m\n\u001b[1;32m    605\u001b[0m \u001b[0;34m\u001b[0m\u001b[0m\n",
      "\u001b[0;32m~/.local/lib/python3.8/site-packages/pennylane/devices/default_qubit_torch.py\u001b[0m in \u001b[0;36mexecute\u001b[0;34m(self, circuit, **kwargs)\u001b[0m\n\u001b[1;32m    230\u001b[0m                     )\n\u001b[1;32m    231\u001b[0m \u001b[0;34m\u001b[0m\u001b[0m\n\u001b[0;32m--> 232\u001b[0;31m         \u001b[0;32mreturn\u001b[0m \u001b[0msuper\u001b[0m\u001b[0;34m(\u001b[0m\u001b[0;34m)\u001b[0m\u001b[0;34m.\u001b[0m\u001b[0mexecute\u001b[0m\u001b[0;34m(\u001b[0m\u001b[0mcircuit\u001b[0m\u001b[0;34m,\u001b[0m \u001b[0;34m**\u001b[0m\u001b[0mkwargs\u001b[0m\u001b[0;34m)\u001b[0m\u001b[0;34m\u001b[0m\u001b[0;34m\u001b[0m\u001b[0m\n\u001b[0m\u001b[1;32m    233\u001b[0m \u001b[0;34m\u001b[0m\u001b[0m\n\u001b[1;32m    234\u001b[0m     \u001b[0;32mdef\u001b[0m \u001b[0m_asarray\u001b[0m\u001b[0;34m(\u001b[0m\u001b[0mself\u001b[0m\u001b[0;34m,\u001b[0m \u001b[0ma\u001b[0m\u001b[0;34m,\u001b[0m \u001b[0mdtype\u001b[0m\u001b[0;34m=\u001b[0m\u001b[0;32mNone\u001b[0m\u001b[0;34m)\u001b[0m\u001b[0;34m:\u001b[0m\u001b[0;34m\u001b[0m\u001b[0;34m\u001b[0m\u001b[0m\n",
      "\u001b[0;32m~/.local/lib/python3.8/site-packages/pennylane/_qubit_device.py\u001b[0m in \u001b[0;36mexecute\u001b[0;34m(self, circuit, **kwargs)\u001b[0m\n\u001b[1;32m    318\u001b[0m \u001b[0;34m\u001b[0m\u001b[0m\n\u001b[1;32m    319\u001b[0m         \u001b[0;31m# apply all circuit operations\u001b[0m\u001b[0;34m\u001b[0m\u001b[0;34m\u001b[0m\u001b[0;34m\u001b[0m\u001b[0m\n\u001b[0;32m--> 320\u001b[0;31m         \u001b[0mself\u001b[0m\u001b[0;34m.\u001b[0m\u001b[0mapply\u001b[0m\u001b[0;34m(\u001b[0m\u001b[0mcircuit\u001b[0m\u001b[0;34m.\u001b[0m\u001b[0moperations\u001b[0m\u001b[0;34m,\u001b[0m \u001b[0mrotations\u001b[0m\u001b[0;34m=\u001b[0m\u001b[0mself\u001b[0m\u001b[0;34m.\u001b[0m\u001b[0m_get_diagonalizing_gates\u001b[0m\u001b[0;34m(\u001b[0m\u001b[0mcircuit\u001b[0m\u001b[0;34m)\u001b[0m\u001b[0;34m,\u001b[0m \u001b[0;34m**\u001b[0m\u001b[0mkwargs\u001b[0m\u001b[0;34m)\u001b[0m\u001b[0;34m\u001b[0m\u001b[0;34m\u001b[0m\u001b[0m\n\u001b[0m\u001b[1;32m    321\u001b[0m \u001b[0;34m\u001b[0m\u001b[0m\n\u001b[1;32m    322\u001b[0m         \u001b[0;31m# generate computational basis samples\u001b[0m\u001b[0;34m\u001b[0m\u001b[0;34m\u001b[0m\u001b[0;34m\u001b[0m\u001b[0m\n",
      "\u001b[0;32m~/.local/lib/python3.8/site-packages/pennylane/devices/default_qubit.py\u001b[0m in \u001b[0;36mapply\u001b[0;34m(self, operations, rotations, **kwargs)\u001b[0m\n\u001b[1;32m    291\u001b[0m                 \u001b[0mself\u001b[0m\u001b[0;34m.\u001b[0m\u001b[0m_state\u001b[0m \u001b[0;34m=\u001b[0m \u001b[0mself\u001b[0m\u001b[0;34m.\u001b[0m\u001b[0m_apply_parametrized_evolution\u001b[0m\u001b[0;34m(\u001b[0m\u001b[0mself\u001b[0m\u001b[0;34m.\u001b[0m\u001b[0m_state\u001b[0m\u001b[0;34m,\u001b[0m \u001b[0moperation\u001b[0m\u001b[0;34m)\u001b[0m\u001b[0;34m\u001b[0m\u001b[0;34m\u001b[0m\u001b[0m\n\u001b[1;32m    292\u001b[0m             \u001b[0;32melse\u001b[0m\u001b[0;34m:\u001b[0m\u001b[0;34m\u001b[0m\u001b[0;34m\u001b[0m\u001b[0m\n\u001b[0;32m--> 293\u001b[0;31m                 \u001b[0mself\u001b[0m\u001b[0;34m.\u001b[0m\u001b[0m_state\u001b[0m \u001b[0;34m=\u001b[0m \u001b[0mself\u001b[0m\u001b[0;34m.\u001b[0m\u001b[0m_apply_operation\u001b[0m\u001b[0;34m(\u001b[0m\u001b[0mself\u001b[0m\u001b[0;34m.\u001b[0m\u001b[0m_state\u001b[0m\u001b[0;34m,\u001b[0m \u001b[0moperation\u001b[0m\u001b[0;34m)\u001b[0m\u001b[0;34m\u001b[0m\u001b[0;34m\u001b[0m\u001b[0m\n\u001b[0m\u001b[1;32m    294\u001b[0m \u001b[0;34m\u001b[0m\u001b[0m\n\u001b[1;32m    295\u001b[0m         \u001b[0;31m# store the pre-rotated state\u001b[0m\u001b[0;34m\u001b[0m\u001b[0;34m\u001b[0m\u001b[0;34m\u001b[0m\u001b[0m\n",
      "\u001b[0;32m~/.local/lib/python3.8/site-packages/pennylane/devices/default_qubit.py\u001b[0m in \u001b[0;36m_apply_operation\u001b[0;34m(self, state, operation)\u001b[0m\n\u001b[1;32m    331\u001b[0m             \u001b[0;32mreturn\u001b[0m \u001b[0mself\u001b[0m\u001b[0;34m.\u001b[0m\u001b[0m_apply_ops\u001b[0m\u001b[0;34m[\u001b[0m\u001b[0moperation\u001b[0m\u001b[0;34m.\u001b[0m\u001b[0mname\u001b[0m\u001b[0;34m]\u001b[0m\u001b[0;34m(\u001b[0m\u001b[0mstate\u001b[0m\u001b[0;34m,\u001b[0m \u001b[0maxes\u001b[0m\u001b[0;34m)\u001b[0m\u001b[0;34m\u001b[0m\u001b[0;34m\u001b[0m\u001b[0m\n\u001b[1;32m    332\u001b[0m \u001b[0;34m\u001b[0m\u001b[0m\n\u001b[0;32m--> 333\u001b[0;31m         \u001b[0mmatrix\u001b[0m \u001b[0;34m=\u001b[0m \u001b[0mself\u001b[0m\u001b[0;34m.\u001b[0m\u001b[0m_asarray\u001b[0m\u001b[0;34m(\u001b[0m\u001b[0mself\u001b[0m\u001b[0;34m.\u001b[0m\u001b[0m_get_unitary_matrix\u001b[0m\u001b[0;34m(\u001b[0m\u001b[0moperation\u001b[0m\u001b[0;34m)\u001b[0m\u001b[0;34m,\u001b[0m \u001b[0mdtype\u001b[0m\u001b[0;34m=\u001b[0m\u001b[0mself\u001b[0m\u001b[0;34m.\u001b[0m\u001b[0mC_DTYPE\u001b[0m\u001b[0;34m)\u001b[0m\u001b[0;34m\u001b[0m\u001b[0;34m\u001b[0m\u001b[0m\n\u001b[0m\u001b[1;32m    334\u001b[0m \u001b[0;34m\u001b[0m\u001b[0m\n\u001b[1;32m    335\u001b[0m         \u001b[0;32mif\u001b[0m \u001b[0moperation\u001b[0m \u001b[0;32min\u001b[0m \u001b[0mdiagonal_in_z_basis\u001b[0m\u001b[0;34m:\u001b[0m\u001b[0;34m\u001b[0m\u001b[0;34m\u001b[0m\u001b[0m\n",
      "\u001b[0;32m~/.local/lib/python3.8/site-packages/pennylane/devices/default_qubit_torch.py\u001b[0m in \u001b[0;36m_get_unitary_matrix\u001b[0;34m(self, unitary)\u001b[0m\n\u001b[1;32m    302\u001b[0m         \u001b[0;32mif\u001b[0m \u001b[0munitary\u001b[0m \u001b[0;32min\u001b[0m \u001b[0mdiagonal_in_z_basis\u001b[0m\u001b[0;34m:\u001b[0m\u001b[0;34m\u001b[0m\u001b[0;34m\u001b[0m\u001b[0m\n\u001b[1;32m    303\u001b[0m             \u001b[0;32mreturn\u001b[0m \u001b[0mself\u001b[0m\u001b[0;34m.\u001b[0m\u001b[0m_asarray\u001b[0m\u001b[0;34m(\u001b[0m\u001b[0munitary\u001b[0m\u001b[0;34m.\u001b[0m\u001b[0meigvals\u001b[0m\u001b[0;34m(\u001b[0m\u001b[0;34m)\u001b[0m\u001b[0;34m,\u001b[0m \u001b[0mdtype\u001b[0m\u001b[0;34m=\u001b[0m\u001b[0mself\u001b[0m\u001b[0;34m.\u001b[0m\u001b[0mC_DTYPE\u001b[0m\u001b[0;34m)\u001b[0m\u001b[0;34m\u001b[0m\u001b[0;34m\u001b[0m\u001b[0m\n\u001b[0;32m--> 304\u001b[0;31m         \u001b[0;32mreturn\u001b[0m \u001b[0mself\u001b[0m\u001b[0;34m.\u001b[0m\u001b[0m_asarray\u001b[0m\u001b[0;34m(\u001b[0m\u001b[0munitary\u001b[0m\u001b[0;34m.\u001b[0m\u001b[0mmatrix\u001b[0m\u001b[0;34m(\u001b[0m\u001b[0;34m)\u001b[0m\u001b[0;34m,\u001b[0m \u001b[0mdtype\u001b[0m\u001b[0;34m=\u001b[0m\u001b[0mself\u001b[0m\u001b[0;34m.\u001b[0m\u001b[0mC_DTYPE\u001b[0m\u001b[0;34m)\u001b[0m\u001b[0;34m\u001b[0m\u001b[0;34m\u001b[0m\u001b[0m\n\u001b[0m\u001b[1;32m    305\u001b[0m \u001b[0;34m\u001b[0m\u001b[0m\n\u001b[1;32m    306\u001b[0m     \u001b[0;32mdef\u001b[0m \u001b[0msample_basis_states\u001b[0m\u001b[0;34m(\u001b[0m\u001b[0mself\u001b[0m\u001b[0;34m,\u001b[0m \u001b[0mnumber_of_states\u001b[0m\u001b[0;34m,\u001b[0m \u001b[0mstate_probability\u001b[0m\u001b[0;34m)\u001b[0m\u001b[0;34m:\u001b[0m\u001b[0;34m\u001b[0m\u001b[0;34m\u001b[0m\u001b[0m\n",
      "\u001b[0;32m~/.local/lib/python3.8/site-packages/pennylane/operation.py\u001b[0m in \u001b[0;36mmatrix\u001b[0;34m(self, wire_order)\u001b[0m\n\u001b[1;32m    746\u001b[0m             \u001b[0mtensor_like\u001b[0m\u001b[0;34m:\u001b[0m \u001b[0mmatrix\u001b[0m \u001b[0mrepresentation\u001b[0m\u001b[0;34m\u001b[0m\u001b[0;34m\u001b[0m\u001b[0m\n\u001b[1;32m    747\u001b[0m         \"\"\"\n\u001b[0;32m--> 748\u001b[0;31m         \u001b[0mcanonical_matrix\u001b[0m \u001b[0;34m=\u001b[0m \u001b[0mself\u001b[0m\u001b[0;34m.\u001b[0m\u001b[0mcompute_matrix\u001b[0m\u001b[0;34m(\u001b[0m\u001b[0;34m*\u001b[0m\u001b[0mself\u001b[0m\u001b[0;34m.\u001b[0m\u001b[0mparameters\u001b[0m\u001b[0;34m,\u001b[0m \u001b[0;34m**\u001b[0m\u001b[0mself\u001b[0m\u001b[0;34m.\u001b[0m\u001b[0mhyperparameters\u001b[0m\u001b[0;34m)\u001b[0m\u001b[0;34m\u001b[0m\u001b[0;34m\u001b[0m\u001b[0m\n\u001b[0m\u001b[1;32m    749\u001b[0m \u001b[0;34m\u001b[0m\u001b[0m\n\u001b[1;32m    750\u001b[0m         \u001b[0;32mif\u001b[0m \u001b[0mwire_order\u001b[0m \u001b[0;32mis\u001b[0m \u001b[0;32mNone\u001b[0m \u001b[0;32mor\u001b[0m \u001b[0mself\u001b[0m\u001b[0;34m.\u001b[0m\u001b[0mwires\u001b[0m \u001b[0;34m==\u001b[0m \u001b[0mWires\u001b[0m\u001b[0;34m(\u001b[0m\u001b[0mwire_order\u001b[0m\u001b[0;34m)\u001b[0m\u001b[0;34m:\u001b[0m\u001b[0;34m\u001b[0m\u001b[0;34m\u001b[0m\u001b[0m\n",
      "\u001b[0;32m~/.local/lib/python3.8/site-packages/pennylane/ops/qubit/parametric_ops_single_qubit.py\u001b[0m in \u001b[0;36mcompute_matrix\u001b[0;34m(theta)\u001b[0m\n\u001b[1;32m    201\u001b[0m         \"\"\"\n\u001b[1;32m    202\u001b[0m \u001b[0;34m\u001b[0m\u001b[0m\n\u001b[0;32m--> 203\u001b[0;31m         \u001b[0mc\u001b[0m \u001b[0;34m=\u001b[0m \u001b[0mqml\u001b[0m\u001b[0;34m.\u001b[0m\u001b[0mmath\u001b[0m\u001b[0;34m.\u001b[0m\u001b[0mcos\u001b[0m\u001b[0;34m(\u001b[0m\u001b[0mtheta\u001b[0m \u001b[0;34m/\u001b[0m \u001b[0;36m2\u001b[0m\u001b[0;34m)\u001b[0m\u001b[0;34m\u001b[0m\u001b[0;34m\u001b[0m\u001b[0m\n\u001b[0m\u001b[1;32m    204\u001b[0m         \u001b[0ms\u001b[0m \u001b[0;34m=\u001b[0m \u001b[0mqml\u001b[0m\u001b[0;34m.\u001b[0m\u001b[0mmath\u001b[0m\u001b[0;34m.\u001b[0m\u001b[0msin\u001b[0m\u001b[0;34m(\u001b[0m\u001b[0mtheta\u001b[0m \u001b[0;34m/\u001b[0m \u001b[0;36m2\u001b[0m\u001b[0;34m)\u001b[0m\u001b[0;34m\u001b[0m\u001b[0;34m\u001b[0m\u001b[0m\n\u001b[1;32m    205\u001b[0m         \u001b[0;32mif\u001b[0m \u001b[0mqml\u001b[0m\u001b[0;34m.\u001b[0m\u001b[0mmath\u001b[0m\u001b[0;34m.\u001b[0m\u001b[0mget_interface\u001b[0m\u001b[0;34m(\u001b[0m\u001b[0mtheta\u001b[0m\u001b[0;34m)\u001b[0m \u001b[0;34m==\u001b[0m \u001b[0;34m\"tensorflow\"\u001b[0m\u001b[0;34m:\u001b[0m\u001b[0;34m\u001b[0m\u001b[0;34m\u001b[0m\u001b[0m\n",
      "\u001b[0;31mKeyboardInterrupt\u001b[0m: "
     ]
    }
   ],
   "source": [
    "for iii in range(5):\n",
    "\n",
    "    for block_n_layers in [1,2,3,4,5,10,20,30]:\n",
    "        print(iii, \" # ------- block_n_layers: \", block_n_layers, \" ------- #\")\n",
    "        print(\"\")\n",
    "        print(\"\")\n",
    "\n",
    "        # -- QUANTUM NODE -- #\n",
    "\n",
    "        n_aminoacids = len(string_list[0])\n",
    "\n",
    "        quantum_layer = qn.circuit(\n",
    "            n_qubits = n_aminoacids, \n",
    "            device = \"default.qubit.torch\",\n",
    "            device_options = {'shots': None},\n",
    "            embedding = qn.parts.AngleEmbedding, \n",
    "            # embedding_ansatz = qn.parts.Ansatz_11,\n",
    "            block_ansatz = qn.parts.Ansatz_11,\n",
    "            final_ansatz = qn.parts.Ansatz_final_11,\n",
    "            measurement = qn.parts.Measurement('Z', (n_aminoacids-1)//2),\n",
    "            # embedding_n_layers = 4,\n",
    "            # different_inputs_per_layer = True,\n",
    "            block_n_layers = block_n_layers,\n",
    "            # wrapper_qlayer = pw.QLayerEmpty,\n",
    "        )\n",
    "\n",
    "        # -- HYBRID MODEL -- #\n",
    "        input_dim = input_data.size(1)\n",
    "\n",
    "        n_pre_classical_layers = 4\n",
    "        layers_dim = np.linspace(n_aminoacids, input_dim, 4).astype(int)\n",
    "\n",
    "        import torch.nn as nn\n",
    "        import torch\n",
    "            \n",
    "        class Reshape(nn.Module):\n",
    "            def __init__(self):\n",
    "                super(Reshape, self).__init__()\n",
    "\n",
    "            def forward(self, x):\n",
    "                dims = len(x.shape)\n",
    "                return torch.transpose(x, dims-2, dims-1).reshape(x.shape[-3] if dims==3 else 1, x.shape[-2]*x.shape[-1]).squeeze()\n",
    "\n",
    "        layers =  [ptm.nn.Embedding(num_embeddings=19, embedding_dim=quantum_layer.input_shape[0]//n_aminoacids), Reshape()]\n",
    "        layers += [quantum_layer(), ptm.nn.Linear(1,1)]\n",
    "\n",
    "        # Create model and set data:\n",
    "        model = ptm.pytorch_model(\n",
    "            layers,    \n",
    "            save_options = {'initial_path': initial_path, 'name_notebook': name_notebook},\n",
    "        )\n",
    "        model.set_data(\n",
    "            data_X=input_data, \n",
    "            data_Y=target_data, \n",
    "            data_X_validation=input_validation,\n",
    "            data_Y_validation=target_validation\n",
    "        )\n",
    "        model.keep_track_params=False\n",
    "\n",
    "\n",
    "        # -- TRAINING -- #\n",
    "        import torch.optim as optim\n",
    "\n",
    "        # train the model\n",
    "        model.train(\n",
    "            optimizer= optim.Adam,\n",
    "            optimizer_options={'lr': 0.05},\n",
    "            num_epochs = 30,                \n",
    "            batch_size = 32,\n",
    "            stop_training_options = {\n",
    "                'lookback_epochs': 5, \n",
    "                'threshold': 0.05\n",
    "            },\n",
    "        )\n",
    "\n",
    "        # save string of the model\n",
    "        model.save_str(\n",
    "            metadata={\n",
    "                \"data_file_path\": data_file_path,\n",
    "                \"Quantum_circuit\": quantum_layer.__str__(),\n",
    "            }\n",
    "        )\n",
    "\n",
    "        # plot the losses of the trainig loop and save the figures\n",
    "        model.plot_losses(save=True, save_txt=True)\n",
    "\n",
    "        #save all the parameters of the model and the intermediate parameters of the model\n",
    "        model.save_state_dict(intermediate=False)\n",
    "\n",
    "        # plot the validation and save it\n",
    "        model.plot_validation(save=True, fig_size=(9,9), percentatge=1)\n",
    "\n",
    "        # print validation and save it\n",
    "        model.print_validation(save=True, precision=4, percentatge=1)"
   ]
  },
  {
   "cell_type": "code",
   "execution_count": null,
   "metadata": {},
   "outputs": [
    {
     "name": "stdout",
     "output_type": "stream",
     "text": [
      "[main 5e76f65c] data trained model\n",
      " 14 files changed, 1042 insertions(+), 1 deletion(-)\n",
      " create mode 100644 checkpoints/0809/models/0809-sh_em_1qm_v2_3.pth\n",
      " create mode 100644 checkpoints/0809/plots/0809-sh_em_1qm_v2_losses_batches_3.png\n",
      " create mode 100644 checkpoints/0809/plots/0809-sh_em_1qm_v2_losses_epoch_3.png\n",
      " create mode 100644 checkpoints/0809/plots/0809-sh_em_1qm_v2_losses_epoch_validation_3.png\n",
      " create mode 100644 checkpoints/0809/plots/0809-sh_em_1qm_v2_parameter_0.weight_None_3.png\n",
      " create mode 100644 checkpoints/0809/plots/0809-sh_em_1qm_v2_parameter_2.block_weights_None_3.png\n",
      " create mode 100644 checkpoints/0809/plots/0809-sh_em_1qm_v2_parameter_2.embedding_weights_None_3.png\n",
      " create mode 100644 checkpoints/0809/plots/0809-sh_em_1qm_v2_parameter_3.bias_None_3.png\n",
      " create mode 100644 checkpoints/0809/plots/0809-sh_em_1qm_v2_parameter_3.weight_None_3.png\n",
      " create mode 100644 checkpoints/0809/plots/0809-sh_em_1qm_v2_validation_2.png\n",
      " create mode 100644 checkpoints/0809/plots/0809-sh_em_1qm_v2_validation_3.png\n",
      " create mode 100644 checkpoints/0809/txts/0809-sh_em_1qm_v2_model_str_3.txt\n",
      " create mode 100644 checkpoints/0809/txts/0809-sh_em_1qm_v2_validation_3.txt\n",
      "Enumerating objects: 27, done.\n",
      "Counting objects: 100% (27/27), done.\n",
      "Delta compression using up to 24 threads\n",
      "Compressing objects: 100% (20/20), done.\n",
      "Writing objects: 100% (20/20), 244.71 KiB | 9.41 MiB/s, done.\n",
      "Total 20 (delta 6), reused 0 (delta 0)\n",
      "remote: Resolving deltas: 100% (6/6), completed with 6 local objects.\u001b[K\n",
      "To github.com:raulconchello/peptide-QML.git\n",
      "   09009754..5e76f65c  main -> main\n"
     ]
    }
   ],
   "source": [
    "# push changes to git\n",
    "if initial_path != '../':\n",
    "    !cd peptide-QML && git add . && git commit -m \"data trained model\" && git push"
   ]
  },
  {
   "cell_type": "code",
   "execution_count": null,
   "metadata": {},
   "outputs": [],
   "source": []
  }
 ],
 "metadata": {
  "kernelspec": {
   "display_name": "JL_Pennylane",
   "language": "python",
   "name": "jl_pennylane"
  },
  "language_info": {
   "codemirror_mode": {
    "name": "ipython",
    "version": 3
   },
   "file_extension": ".py",
   "mimetype": "text/x-python",
   "name": "python",
   "nbconvert_exporter": "python",
   "pygments_lexer": "ipython3",
   "version": "3.8.10"
  },
  "orig_nbformat": 4
 },
 "nbformat": 4,
 "nbformat_minor": 2
}
