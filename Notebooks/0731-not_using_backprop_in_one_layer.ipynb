{
 "cells": [
  {
   "cell_type": "code",
   "execution_count": 3,
   "metadata": {},
   "outputs": [],
   "source": [
    "import torch\n",
    "import torch.nn as nn\n",
    "import torch.optim as optim\n",
    "\n",
    "# Define a simple neural network with two layers\n",
    "class ToyNN(nn.Module):\n",
    "    def __init__(self, input_size, hidden_size, output_size):\n",
    "        super(ToyNN, self).__init__()\n",
    "        self.layer1 = nn.Linear(input_size, hidden_size)\n",
    "        self.layer2 = nn.Linear(hidden_size, output_size)\n",
    "\n",
    "    def forward(self, x):\n",
    "        x = self.layer1(x)\n",
    "        x = self.layer2(x)\n",
    "        return x\n",
    "\n",
    "# Define the SPSA gradient approximation\n",
    "def spsa_gradient(network, loss_fn, input_data, true_output, epsilon=0.01):\n",
    "    original_weight = network.layer1.weight.clone()\n",
    "    \n",
    "    perturbation = (torch.rand_like(original_weight) * 2 - 1) * epsilon\n",
    "    positive_weight = original_weight + perturbation\n",
    "    negative_weight = original_weight - perturbation\n",
    "    \n",
    "    network.layer1.weight.data = positive_weight\n",
    "    loss_positive = loss_fn(network(input_data), true_output)\n",
    "    \n",
    "    network.layer1.weight.data = negative_weight\n",
    "    loss_negative = loss_fn(network(input_data), true_output)\n",
    "    \n",
    "    gradient_estimate = (loss_positive - loss_negative) / (2 * epsilon)\n",
    "    gradient = gradient_estimate * perturbation / epsilon  # Compute gradient using perturbation\n",
    "    network.layer1.weight.data = original_weight  # Reset to original weights\n",
    "    \n",
    "    return gradient\n",
    "\n",
    "# Create the model, loss function, and optimizer\n",
    "model = ToyNN(input_size=5, hidden_size=10, output_size=1)\n",
    "loss_function = nn.MSELoss()\n",
    "optimizer = optim.SGD(model.parameters(), lr=0.01)\n",
    "\n",
    "# Dummy data\n",
    "input_data = torch.rand((1, 5))\n",
    "true_output = torch.tensor([[0.5]])\n",
    "\n",
    "# Forward pass\n",
    "output = model(input_data)\n",
    "loss = loss_function(output, true_output)\n",
    "\n",
    "# Compute gradient for layer1 using SPSA\n",
    "layer1_gradient = spsa_gradient(model, loss_function, input_data, true_output)\n",
    "model.layer1.weight.grad = layer1_gradient\n",
    "\n",
    "# Backward pass for layer2\n",
    "loss.backward(retain_graph=True)  # This will compute gradient for layer2 using backpropagation\n",
    "\n",
    "# Update weights\n",
    "optimizer.step()\n"
   ]
  },
  {
   "cell_type": "code",
   "execution_count": null,
   "metadata": {},
   "outputs": [],
   "source": []
  }
 ],
 "metadata": {
  "kernelspec": {
   "display_name": "PennyLane",
   "language": "python",
   "name": "python3"
  },
  "language_info": {
   "codemirror_mode": {
    "name": "ipython",
    "version": 3
   },
   "file_extension": ".py",
   "mimetype": "text/x-python",
   "name": "python",
   "nbconvert_exporter": "python",
   "pygments_lexer": "ipython3",
   "version": "3.10.12"
  },
  "orig_nbformat": 4
 },
 "nbformat": 4,
 "nbformat_minor": 2
}
