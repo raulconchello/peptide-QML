{
 "cells": [
  {
   "cell_type": "code",
   "execution_count": 1,
   "metadata": {},
   "outputs": [],
   "source": [
    "initial_path = 'peptide-QML'\n",
    "initial_path = '..'"
   ]
  },
  {
   "cell_type": "code",
   "execution_count": 2,
   "metadata": {},
   "outputs": [],
   "source": [
    "import sys\n",
    "sys.path.append(initial_path)\n",
    "\n",
    "%load_ext autoreload\n",
    "%autoreload 2\n",
    "from my_code import helper_classes as c\n",
    "from my_code import pytorch_model as m\n",
    "from my_code import quantum_nodes as q"
   ]
  },
  {
   "cell_type": "code",
   "execution_count": 15,
   "metadata": {},
   "outputs": [
    {
     "data": {},
     "metadata": {},
     "output_type": "display_data"
    }
   ],
   "source": [
    "\n",
    "\n",
    "# -- QUANTUM BLOCK -- #\n",
    "n_qubits = 6\n",
    "quantum_layer = q.circuit(\n",
    "    n_qubits = n_qubits, \n",
    "    device = \"default.qubit.torch\",\n",
    "    device_options = {'shots': None},\n",
    "    embedding = q.parts.IQPEmbedding({\n",
    "        'n_repeats': 3,\n",
    "        'pattern': [[0,1], [2,3], [4,5], [1,2], [3,4], [5,0]]\n",
    "    }),\n",
    "    # embedding_ansatz = q.parts.Ansatz_11,\n",
    "    block_ansatz = q.parts.Ansatz_11,\n",
    "    final_ansatz = q.parts.Ansatz_11, # TODO CHECK IF THIS IS THE BEST OPTION\n",
    "    measurement = q.parts.Measurement('Z', 'all'),\n",
    "    # embedding_n_layers = sweep_point['embedding_n_layers'],\n",
    "    # different_inputs_per_layer = True,\n",
    "    block_n_layers = 5,\n",
    "    # wrapper_qlayer = pw.QLayerEmpty,\n",
    ")\n",
    "\n",
    "quantum_layer.draw(size=(50, 10))\n",
    "\n"
   ]
  },
  {
   "cell_type": "code",
   "execution_count": 18,
   "metadata": {},
   "outputs": [
    {
     "name": "stdout",
     "output_type": "stream",
     "text": [
      "QLayer(\n",
      "\t\tn_qubits: 6\n",
      "\t\tembedding: IQPEmbedding({'n_repeats': 3, 'pattern': [[0, 1], [2, 3], [4, 5], [1, 2], [3, 4], [5, 0]]})\n",
      "\t\tembedding_ansatz: None\n",
      "\t\tblock_ansatz: Ansatz_11\n",
      "\t\tfinal_ansatz: Ansatz_11\n",
      "\t\tmeasurement: Measurement('Z', all)\n",
      "\t\tembedding_n_layers: 0\n",
      "\t\tdifferent_inputs_per_layer: False\n",
      "\t\tblock_n_layers: 5\n",
      "\t\twrapper_qlayer: None\n",
      "\t\tdevice: \n",
      "\t\t\tDefault qubit (Torch) PennyLane plugin\n",
      "\t\t\tShort name: default.qubit.torch\n",
      "\t\t\tPackage: pennylane\n",
      "\t\t\tPlugin version: 0.31.0\n",
      "\t\t\tAuthor: Xanadu Inc.\n",
      "\t\t\tWires: 6\n",
      "\t\t\tShots: None\n",
      ")\n"
     ]
    }
   ],
   "source": [
    "print(str(quantum_layer))"
   ]
  }
 ],
 "metadata": {
  "kernelspec": {
   "display_name": "PennyLane",
   "language": "python",
   "name": "python3"
  },
  "language_info": {
   "codemirror_mode": {
    "name": "ipython",
    "version": 3
   },
   "file_extension": ".py",
   "mimetype": "text/x-python",
   "name": "python",
   "nbconvert_exporter": "python",
   "pygments_lexer": "ipython3",
   "version": "3.10.12"
  }
 },
 "nbformat": 4,
 "nbformat_minor": 4
}
