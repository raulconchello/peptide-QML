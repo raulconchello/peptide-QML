{
 "cells": [
  {
   "cell_type": "markdown",
   "metadata": {},
   "source": [
    "# ab_c_d_x.ipynb\n",
    "\n",
    "a ->\n",
    "\n",
    "    - s: small (4)\n",
    "    - m: medium (8)\n",
    "    - n: normal (12)\n",
    "\n",
    "b -> \n",
    "\n",
    "    - c: classic\n",
    "    - h: hybrid\n",
    "    - q: quantum\n",
    "\n",
    "c ->\n",
    "\n",
    "    - _Nothing_\n",
    "    - e: embedding\n",
    "    - em: embedding that requires an input longer than n_qubits\n",
    "\n",
    "d ->\n",
    "\n",
    "    - _nothing_: AngleEmbedding\n",
    "    - Am: AmplitudeEmbedding\n",
    "\n",
    "x ->\n",
    "\n",
    "    - 1qm: 1-qubit measurement\n",
    "    - Aqm: All-qubit measurement\n",
    "\n"
   ]
  }
 ],
 "metadata": {
  "language_info": {
   "name": "python"
  },
  "orig_nbformat": 4
 },
 "nbformat": 4,
 "nbformat_minor": 2
}
