{
 "cells": [
  {
   "cell_type": "code",
   "execution_count": 4,
   "metadata": {},
   "outputs": [
    {
     "name": "stdout",
     "output_type": "stream",
     "text": [
      "On branch main\n",
      "Your branch is up to date with 'origin/main'.\n",
      "\n",
      "Changes not staged for commit:\n",
      "\tmodified:   ../Notebooks/Connection.ipynb\n",
      "\tmodified:   ../Notebooks/sq_1qm.ipynb\n",
      "\tmodified:   ../my_code/functions.py\n",
      "\tmodified:   ../my_code/pytorch_model.py\n",
      "\n",
      "Untracked files:\n",
      "\t../Notebooks/push checkpoints.ipynb\n",
      "\n",
      "no changes added to commit\n"
     ]
    }
   ],
   "source": [
    "!cd ../checkpoints && git add . && git commit -m \"push checkpoints\" && git push && cd ../Notebooks"
   ]
  },
  {
   "cell_type": "code",
   "execution_count": 5,
   "metadata": {},
   "outputs": [
    {
     "name": "stdout",
     "output_type": "stream",
     "text": [
      "d:\\Raul\\OneDrive - Cornell University\\Code\\peptide-QML\\Notebooks\n"
     ]
    }
   ],
   "source": [
    "!cd"
   ]
  }
 ],
 "metadata": {
  "kernelspec": {
   "display_name": "PennyLane",
   "language": "python",
   "name": "python3"
  },
  "language_info": {
   "codemirror_mode": {
    "name": "ipython",
    "version": 3
   },
   "file_extension": ".py",
   "mimetype": "text/x-python",
   "name": "python",
   "nbconvert_exporter": "python",
   "pygments_lexer": "ipython3",
   "version": "3.10.12"
  },
  "orig_nbformat": 4
 },
 "nbformat": 4,
 "nbformat_minor": 2
}
