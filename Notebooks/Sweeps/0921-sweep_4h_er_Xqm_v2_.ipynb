{
 "cells": [
  {
   "cell_type": "code",
   "execution_count": 8,
   "metadata": {},
   "outputs": [],
   "source": [
    "initial_path = 'peptide-QML'\n",
    "# initial_path = '..'"
   ]
  },
  {
   "cell_type": "code",
   "execution_count": 9,
   "metadata": {},
   "outputs": [
    {
     "name": "stdout",
     "output_type": "stream",
     "text": [
      "The autoreload extension is already loaded. To reload it, use:\n",
      "  %reload_ext autoreload\n"
     ]
    }
   ],
   "source": [
    "import sys\n",
    "sys.path.append(initial_path)\n",
    "\n",
    "%load_ext autoreload\n",
    "%autoreload 2\n",
    "from my_code import helper_classes as c\n",
    "from my_code import pytorch_model as m\n",
    "from my_code import quantum_nodes as q"
   ]
  },
  {
   "cell_type": "code",
   "execution_count": 10,
   "metadata": {},
   "outputs": [],
   "source": [
    "# name of the notebook\n",
    "name_notebook = \"sweep_4h_er_Xqm_v2\""
   ]
  },
  {
   "cell_type": "code",
   "execution_count": 11,
   "metadata": {},
   "outputs": [],
   "source": [
    "# sweep = c.Sweep(\n",
    "#     name_notebook, \n",
    "#     initial_path=initial_path,\n",
    "#     description=\"4aa (8qubits) Try to find the best measurement and number of layers for the quantum block using Angle Encoding and embedding dim=2.\",\n",
    "#     repetitions=list(range(1, 4)),\n",
    "#     quantum_n_layers=[1,3,5,10,20],\n",
    "#     quantum_measurement=[1,'all'],\n",
    "#     embedding_n_layers=[0,1,2,4,6],\n",
    "# )"
   ]
  },
  {
   "cell_type": "code",
   "execution_count": 12,
   "metadata": {},
   "outputs": [],
   "source": [
    "# sweep.save()"
   ]
  },
  {
   "cell_type": "code",
   "execution_count": 13,
   "metadata": {},
   "outputs": [],
   "source": [
    "sweep = c.Sweep.load(file_name=name_notebook+\"-2\", day='0921', initial_path=initial_path)"
   ]
  },
  {
   "cell_type": "code",
   "execution_count": 14,
   "metadata": {},
   "outputs": [],
   "source": [
    "for sweep_point in sweep.points_left:\n",
    "\n",
    "    # print the point of the sweep\n",
    "    sweep.print_sweep_status(sweep_point['idx'])\n",
    "\n",
    "    # -- QUANTUM BLOCK -- #\n",
    "    n_qubits = 8\n",
    "    quantum_layer = q.circuit(\n",
    "        n_qubits = n_qubits, \n",
    "        device = \"default.qubit.torch\",\n",
    "        device_options = {'shots': None},\n",
    "        embedding = q.parts.AngleEmbedding, \n",
    "        embedding_ansatz = q.parts.Ansatz_11,\n",
    "        block_ansatz = q.parts.Ansatz_11,\n",
    "        final_ansatz = q.parts.Ansatz_11, # TODO CHECK IF THIS IS THE BEST OPTION\n",
    "        measurement = q.parts.Measurement('Z', sweep_point['quantum_measurement']),\n",
    "        embedding_n_layers = sweep_point['embedding_n_layers'],\n",
    "        different_inputs_per_layer = False,\n",
    "        block_n_layers = sweep_point['quantum_n_layers'],\n",
    "        # wrapper_qlayer = pw.QLayerEmpty,\n",
    "    )\n",
    "\n",
    "    # -- MODEL -- #                    \n",
    "    class Model(m.Model):\n",
    "        def __init__(self):\n",
    "            super(Model, self).__init__()\n",
    "            self.fc1 = m.nn.Embedding(num_embeddings=19, embedding_dim=2)\n",
    "            self.fc2 = m.Reshape()\n",
    "            self.fc3 = quantum_layer()     \n",
    "            if sweep_point['quantum_measurement'] == 'all':     \n",
    "                self.fc4 = m.nn.Linear(n_qubits, 1)\n",
    "            else:\n",
    "                self.fc4 = m.nn.Linear(1, 1)\n",
    "\n",
    "        def forward(self, x):\n",
    "            for i in range(1,5):\n",
    "                x = getattr(self, 'fc{}'.format(i))(x)\n",
    "            return x\n",
    "\n",
    "    model = Model()\n",
    "\n",
    "    # set quantum layer\n",
    "    model.set_quantum_layer(quantum_layer)\n",
    "\n",
    "    # set the name and path of the model\n",
    "    model.set_name_and_path(name_notebook, initial_path)\n",
    "\n",
    "    #set sweep point\n",
    "    model.set_sweep_point(\n",
    "        sweep_uuid = sweep.uuid,\n",
    "        sweep_point = sweep_point,\n",
    "        day=sweep.day\n",
    "    )\n",
    "\n",
    "    # -- TRAIN -- #\n",
    "    model.optimize_params(\n",
    "        #save info\n",
    "        save_model_info = True,\n",
    "        description = 'sweep with 4 amino acids and 4 qubits using Angle Encoding (repeating embedding) and classical Embedding',    \n",
    "        #data\n",
    "        data=c.Data.load(initial_path=initial_path, file_name='PE_SCORES_4_Numbers'),\n",
    "        # train options\n",
    "        optimizer = m.optim.Adam,\n",
    "        optimizer_options = {'lr': 0.01},\n",
    "        num_epochs = 10,                \n",
    "        batch_size = 32,\n",
    "        # early stopping options\n",
    "        stop_training_options = {\n",
    "            'lookback_epochs': 3, \n",
    "            'threshold_slope': 0.001,\n",
    "            'threshold_std_dev': 0.2\n",
    "        },\n",
    "        # metadata\n",
    "        metadata = {}\n",
    "    )\n",
    "\n",
    "    # -- VALIDATION and PLOTS -- #\n",
    "    model.plot_losses(fig_size=(6,6))\n",
    "    model.validate(\n",
    "        pct=1,\n",
    "        add_to_results=True,\n",
    "        plot=True,\n",
    "        print_items=False\n",
    "    )\n",
    "\n",
    "    # -- SAVE RESULTS -- #\n",
    "    model.save_results()\n",
    "\n",
    "    # -- ADD DATA GENERATED TO SWEEP -- #\n",
    "    sweep.add_data(\n",
    "        idx=sweep_point['idx'],\n",
    "        model_uuid=model.uuid,\n",
    "        best_loss_train=model.results.loss_epoch.best,\n",
    "        best_loss_test=model.results.loss_validation_epoch.best,\n",
    "        loss_validation=model.mean_loss_validation,\n",
    "        n_parameters=model.n_parameters,\n",
    "        time_train=model.results.time_epoch.last,\n",
    "    )\n",
    "    sweep.save(csv=False) #TODO: save csv=False automatically when sweep is already saved ion csv\n",
    "\n",
    "    "
   ]
  }
 ],
 "metadata": {
  "kernelspec": {
   "display_name": "JL_Pennylane",
   "language": "python",
   "name": "jl_pennylane"
  },
  "language_info": {
   "codemirror_mode": {
    "name": "ipython",
    "version": 3
   },
   "file_extension": ".py",
   "mimetype": "text/x-python",
   "name": "python",
   "nbconvert_exporter": "python",
   "pygments_lexer": "ipython3",
   "version": "3.8.10"
  }
 },
 "nbformat": 4,
 "nbformat_minor": 4
}
