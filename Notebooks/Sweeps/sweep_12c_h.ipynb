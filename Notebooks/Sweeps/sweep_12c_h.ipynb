{
 "cells": [
  {
   "cell_type": "code",
   "execution_count": null,
   "metadata": {},
   "outputs": [],
   "source": [
    "initial_path = 'peptide-QML'\n",
    "# initial_path = '..'"
   ]
  },
  {
   "cell_type": "code",
   "execution_count": null,
   "metadata": {},
   "outputs": [],
   "source": [
    "import sys\n",
    "sys.path.append(initial_path)\n",
    "\n",
    "%load_ext autoreload\n",
    "%autoreload 2\n",
    "from my_code import helper_classes as c\n",
    "from my_code import pytorch_model as m"
   ]
  },
  {
   "cell_type": "code",
   "execution_count": null,
   "metadata": {},
   "outputs": [],
   "source": [
    "# name of the notebook\n",
    "name_notebook = \"sweep_12c_h\""
   ]
  },
  {
   "cell_type": "code",
   "execution_count": null,
   "metadata": {},
   "outputs": [],
   "source": [
    "sweep = c.Sweep(\n",
    "    name_notebook, \n",
    "    initial_path=initial_path,\n",
    "    description=\"hot encoding classical network of 3 layers\",\n",
    "    optimizer=[m.optim.Adam, m.optim.SGD],\n",
    "    lr=[1e-1, 5e-2, 1e-2, 5e-3, 1e-3, 5e-4, 1e-4, 5e-5],\n",
    ")"
   ]
  },
  {
   "cell_type": "code",
   "execution_count": null,
   "metadata": {},
   "outputs": [],
   "source": [
    "sweep.save()"
   ]
  },
  {
   "cell_type": "code",
   "execution_count": null,
   "metadata": {},
   "outputs": [],
   "source": [
    "for sweep_point in sweep:\n",
    "\n",
    "    # print the point of the sweep\n",
    "    sweep.print_sweep_status(sweep_point['idx'])\n",
    "\n",
    "    # -- MODEL -- #\n",
    "    class Model(m.Model):\n",
    "        def __init__(self):\n",
    "            super(Model, self).__init__()\n",
    "            self.fc1 = m.nn.Linear(228, 228//2)\n",
    "            self.fc2 = m.nn.Linear(228//2, 12)\n",
    "            self.fc3 = m.nn.Linear(12, 1)\n",
    "\n",
    "        def forward(self, x):\n",
    "            x = m.torch.sigmoid(self.fc1(x))\n",
    "            x = m.torch.sigmoid(self.fc2(x))\n",
    "            x = self.fc3(x)\n",
    "            return x\n",
    "\n",
    "    model = Model()\n",
    "\n",
    "    # set the name and path of the model\n",
    "    model.set_name_and_path(name_notebook, initial_path)\n",
    "\n",
    "    #set sweep point\n",
    "    model.set_sweep_point(\n",
    "        sweep_uuid = sweep.uuid,\n",
    "        sweep_point = sweep_point\n",
    "    )\n",
    "\n",
    "    # -- TRAIN -- #\n",
    "    model.optimize_params(\n",
    "        #save info\n",
    "        save_model_info = True,\n",
    "        description = 'sweep test with 12 amino acids and clasical QML',    \n",
    "        #data\n",
    "        data=c.Data.load(initial_path=initial_path, file_name='PET_SCORES_12'),\n",
    "        # train options\n",
    "        optimizer = sweep_point['optimizer'],\n",
    "        optimizer_options = {'lr': sweep_point['lr']},\n",
    "        num_epochs = 2,                \n",
    "        batch_size = 32,\n",
    "        # early stopping options\n",
    "        stop_training_options = {\n",
    "            'lookback_epochs': 5, \n",
    "            'threshold_slope': 0.001,\n",
    "            'threshold_std_dev': 0.2\n",
    "        },\n",
    "        # metadata\n",
    "        metadata = {}\n",
    "    )\n",
    "\n",
    "    # -- VALIDATION and PLOTS -- #\n",
    "    model.plot_losses(fig_size=(6,6))\n",
    "    model.validate(\n",
    "        pct=1,\n",
    "        add_to_results=True,\n",
    "        plot=True,\n",
    "        print_items=False\n",
    "    )\n",
    "\n",
    "    # -- SAVE RESULTS -- #\n",
    "    model.save_results()\n",
    "\n",
    "    # -- ADD DATA GENERATED TO SWEEP -- #\n",
    "    sweep.add_data(\n",
    "        idx=sweep_point['idx'],\n",
    "        model_uuid=model.uuid,\n",
    "        best_loss_train=model.results.loss_epoch.best,\n",
    "        best_loss_test=model.results.loss_validation_epoch.best,\n",
    "        loss_validation=model.mean_loss_validation,\n",
    "        time_train=model.results.time_epoch.last,\n",
    "    )\n",
    "    sweep.save(csv=False) #TODO: save csv=False automatically when sweep is already saved ion csv\n",
    "\n",
    "    "
   ]
  }
 ],
 "metadata": {
  "kernelspec": {
   "display_name": "JL_Pennylane",
   "language": "python",
   "name": "jl_pennylane"
  },
  "language_info": {
   "codemirror_mode": {
    "name": "ipython",
    "version": 3
   },
   "file_extension": ".py",
   "mimetype": "text/x-python",
   "name": "python",
   "nbconvert_exporter": "python",
   "pygments_lexer": "ipython3",
   "version": "3.8.10"
  }
 },
 "nbformat": 4,
 "nbformat_minor": 4
}
