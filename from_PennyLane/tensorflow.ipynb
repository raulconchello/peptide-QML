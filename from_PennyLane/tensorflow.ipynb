{
 "cells": [
  {
   "cell_type": "code",
   "execution_count": 1,
   "metadata": {},
   "outputs": [],
   "source": [
    "import pennylane as qml\n",
    "import tensorflow as tf"
   ]
  },
  {
   "cell_type": "code",
   "execution_count": 2,
   "metadata": {},
   "outputs": [
    {
     "ename": "ImportError",
     "evalue": "cannot import name 'should_record' from 'tensorflow.python.eager.tape' (d:\\Raul\\Programs\\envs\\PennyLane\\lib\\site-packages\\tensorflow\\python\\eager\\tape.py)",
     "output_type": "error",
     "traceback": [
      "\u001b[1;31m---------------------------------------------------------------------------\u001b[0m",
      "\u001b[1;31mImportError\u001b[0m                               Traceback (most recent call last)",
      "File \u001b[1;32md:\\Raul\\Programs\\envs\\PennyLane\\lib\\site-packages\\pennylane\\math\\utils.py:456\u001b[0m, in \u001b[0;36mrequires_grad\u001b[1;34m(tensor, interface)\u001b[0m\n\u001b[0;32m    455\u001b[0m \u001b[39mtry\u001b[39;00m:\n\u001b[1;32m--> 456\u001b[0m     \u001b[39mfrom\u001b[39;00m \u001b[39mtensorflow\u001b[39;00m\u001b[39m.\u001b[39;00m\u001b[39mpython\u001b[39;00m\u001b[39m.\u001b[39;00m\u001b[39meager\u001b[39;00m\u001b[39m.\u001b[39;00m\u001b[39mtape\u001b[39;00m \u001b[39mimport\u001b[39;00m should_record_backprop\n\u001b[0;32m    457\u001b[0m \u001b[39mexcept\u001b[39;00m \u001b[39mImportError\u001b[39;00m:  \u001b[39m# pragma: no cover\u001b[39;00m\n",
      "\u001b[1;31mImportError\u001b[0m: cannot import name 'should_record_backprop' from 'tensorflow.python.eager.tape' (d:\\Raul\\Programs\\envs\\PennyLane\\lib\\site-packages\\tensorflow\\python\\eager\\tape.py)",
      "\nDuring handling of the above exception, another exception occurred:\n",
      "\u001b[1;31mImportError\u001b[0m                               Traceback (most recent call last)",
      "Cell \u001b[1;32mIn[2], line 16\u001b[0m\n\u001b[0;32m     12\u001b[0m theta \u001b[39m=\u001b[39m tf\u001b[39m.\u001b[39mVariable(\u001b[39m0.2\u001b[39m)\n\u001b[0;32m     14\u001b[0m \u001b[39mwith\u001b[39;00m tf\u001b[39m.\u001b[39mGradientTape() \u001b[39mas\u001b[39;00m tape:\n\u001b[0;32m     15\u001b[0m     \u001b[39m# Use the circuit to calculate the loss value\u001b[39;00m\n\u001b[1;32m---> 16\u001b[0m     loss \u001b[39m=\u001b[39m circuit(phi, theta)\n\u001b[0;32m     18\u001b[0m phi_grad, theta_grad \u001b[39m=\u001b[39m tape\u001b[39m.\u001b[39mgradient(loss, [phi, theta])\n",
      "File \u001b[1;32md:\\Raul\\Programs\\envs\\PennyLane\\lib\\site-packages\\pennylane\\qnode.py:936\u001b[0m, in \u001b[0;36mQNode.__call__\u001b[1;34m(self, *args, **kwargs)\u001b[0m\n\u001b[0;32m    933\u001b[0m             kwargs[\u001b[39m\"\u001b[39m\u001b[39mshots\u001b[39m\u001b[39m\"\u001b[39m] \u001b[39m=\u001b[39m \u001b[39mNone\u001b[39;00m\n\u001b[0;32m    935\u001b[0m \u001b[39m# construct the tape\u001b[39;00m\n\u001b[1;32m--> 936\u001b[0m \u001b[39mself\u001b[39;49m\u001b[39m.\u001b[39;49mconstruct(args, kwargs)\n\u001b[0;32m    938\u001b[0m cache \u001b[39m=\u001b[39m \u001b[39mself\u001b[39m\u001b[39m.\u001b[39mexecute_kwargs\u001b[39m.\u001b[39mget(\u001b[39m\"\u001b[39m\u001b[39mcache\u001b[39m\u001b[39m\"\u001b[39m, \u001b[39mFalse\u001b[39;00m)\n\u001b[0;32m    939\u001b[0m using_custom_cache \u001b[39m=\u001b[39m (\n\u001b[0;32m    940\u001b[0m     \u001b[39mhasattr\u001b[39m(cache, \u001b[39m\"\u001b[39m\u001b[39m__getitem__\u001b[39m\u001b[39m\"\u001b[39m)\n\u001b[0;32m    941\u001b[0m     \u001b[39mand\u001b[39;00m \u001b[39mhasattr\u001b[39m(cache, \u001b[39m\"\u001b[39m\u001b[39m__setitem__\u001b[39m\u001b[39m\"\u001b[39m)\n\u001b[0;32m    942\u001b[0m     \u001b[39mand\u001b[39;00m \u001b[39mhasattr\u001b[39m(cache, \u001b[39m\"\u001b[39m\u001b[39m__delitem__\u001b[39m\u001b[39m\"\u001b[39m)\n\u001b[0;32m    943\u001b[0m )\n",
      "File \u001b[1;32md:\\Raul\\Programs\\envs\\PennyLane\\lib\\site-packages\\pennylane\\qnode.py:831\u001b[0m, in \u001b[0;36mQNode.construct\u001b[1;34m(self, args, kwargs)\u001b[0m\n\u001b[0;32m    828\u001b[0m \u001b[39mself\u001b[39m\u001b[39m.\u001b[39m_qfunc_output \u001b[39m=\u001b[39m \u001b[39mself\u001b[39m\u001b[39m.\u001b[39mtape\u001b[39m.\u001b[39m_qfunc_output\n\u001b[0;32m    830\u001b[0m params \u001b[39m=\u001b[39m \u001b[39mself\u001b[39m\u001b[39m.\u001b[39mtape\u001b[39m.\u001b[39mget_parameters(trainable_only\u001b[39m=\u001b[39m\u001b[39mFalse\u001b[39;00m)\n\u001b[1;32m--> 831\u001b[0m \u001b[39mself\u001b[39m\u001b[39m.\u001b[39mtape\u001b[39m.\u001b[39mtrainable_params \u001b[39m=\u001b[39m qml\u001b[39m.\u001b[39;49mmath\u001b[39m.\u001b[39;49mget_trainable_indices(params)\n\u001b[0;32m    833\u001b[0m \u001b[39mif\u001b[39;00m \u001b[39many\u001b[39m(\u001b[39misinstance\u001b[39m(m, CountsMP) \u001b[39mfor\u001b[39;00m m \u001b[39min\u001b[39;00m \u001b[39mself\u001b[39m\u001b[39m.\u001b[39mtape\u001b[39m.\u001b[39mmeasurements) \u001b[39mand\u001b[39;00m \u001b[39many\u001b[39m(\n\u001b[0;32m    834\u001b[0m     qml\u001b[39m.\u001b[39mmath\u001b[39m.\u001b[39mis_abstract(a) \u001b[39mfor\u001b[39;00m a \u001b[39min\u001b[39;00m args\n\u001b[0;32m    835\u001b[0m ):\n\u001b[0;32m    836\u001b[0m     \u001b[39mraise\u001b[39;00m qml\u001b[39m.\u001b[39mQuantumFunctionError(\u001b[39m\"\u001b[39m\u001b[39mCan\u001b[39m\u001b[39m'\u001b[39m\u001b[39mt JIT a quantum function that returns counts.\u001b[39m\u001b[39m\"\u001b[39m)\n",
      "File \u001b[1;32md:\\Raul\\Programs\\envs\\PennyLane\\lib\\site-packages\\pennylane\\math\\multi_dispatch.py:151\u001b[0m, in \u001b[0;36mmulti_dispatch.<locals>.decorator.<locals>.wrapper\u001b[1;34m(*args, **kwargs)\u001b[0m\n\u001b[0;32m    148\u001b[0m interface \u001b[39m=\u001b[39m interface \u001b[39mor\u001b[39;00m get_interface(\u001b[39m*\u001b[39mdispatch_args)\n\u001b[0;32m    149\u001b[0m kwargs[\u001b[39m\"\u001b[39m\u001b[39mlike\u001b[39m\u001b[39m\"\u001b[39m] \u001b[39m=\u001b[39m interface\n\u001b[1;32m--> 151\u001b[0m \u001b[39mreturn\u001b[39;00m fn(\u001b[39m*\u001b[39margs, \u001b[39m*\u001b[39m\u001b[39m*\u001b[39mkwargs)\n",
      "File \u001b[1;32md:\\Raul\\Programs\\envs\\PennyLane\\lib\\site-packages\\pennylane\\math\\multi_dispatch.py:418\u001b[0m, in \u001b[0;36mget_trainable_indices\u001b[1;34m(values, like)\u001b[0m\n\u001b[0;32m    415\u001b[0m trainable_params \u001b[39m=\u001b[39m \u001b[39mset\u001b[39m()\n\u001b[0;32m    417\u001b[0m \u001b[39mfor\u001b[39;00m idx, p \u001b[39min\u001b[39;00m \u001b[39menumerate\u001b[39m(values):\n\u001b[1;32m--> 418\u001b[0m     \u001b[39mif\u001b[39;00m requires_grad(p, interface\u001b[39m=\u001b[39;49mlike):\n\u001b[0;32m    419\u001b[0m         trainable_params\u001b[39m.\u001b[39madd(idx)\n\u001b[0;32m    421\u001b[0m \u001b[39mreturn\u001b[39;00m trainable_params\n",
      "File \u001b[1;32md:\\Raul\\Programs\\envs\\PennyLane\\lib\\site-packages\\pennylane\\math\\utils.py:458\u001b[0m, in \u001b[0;36mrequires_grad\u001b[1;34m(tensor, interface)\u001b[0m\n\u001b[0;32m    456\u001b[0m         \u001b[39mfrom\u001b[39;00m \u001b[39mtensorflow\u001b[39;00m\u001b[39m.\u001b[39;00m\u001b[39mpython\u001b[39;00m\u001b[39m.\u001b[39;00m\u001b[39meager\u001b[39;00m\u001b[39m.\u001b[39;00m\u001b[39mtape\u001b[39;00m \u001b[39mimport\u001b[39;00m should_record_backprop\n\u001b[0;32m    457\u001b[0m     \u001b[39mexcept\u001b[39;00m \u001b[39mImportError\u001b[39;00m:  \u001b[39m# pragma: no cover\u001b[39;00m\n\u001b[1;32m--> 458\u001b[0m         \u001b[39mfrom\u001b[39;00m \u001b[39mtensorflow\u001b[39;00m\u001b[39m.\u001b[39;00m\u001b[39mpython\u001b[39;00m\u001b[39m.\u001b[39;00m\u001b[39meager\u001b[39;00m\u001b[39m.\u001b[39;00m\u001b[39mtape\u001b[39;00m \u001b[39mimport\u001b[39;00m should_record \u001b[39mas\u001b[39;00m should_record_backprop\n\u001b[0;32m    460\u001b[0m     \u001b[39mreturn\u001b[39;00m should_record_backprop([tf\u001b[39m.\u001b[39mconvert_to_tensor(tensor)])\n\u001b[0;32m    462\u001b[0m \u001b[39mif\u001b[39;00m interface \u001b[39m==\u001b[39m \u001b[39m\"\u001b[39m\u001b[39mautograd\u001b[39m\u001b[39m\"\u001b[39m:\n",
      "\u001b[1;31mImportError\u001b[0m: cannot import name 'should_record' from 'tensorflow.python.eager.tape' (d:\\Raul\\Programs\\envs\\PennyLane\\lib\\site-packages\\tensorflow\\python\\eager\\tape.py)"
     ]
    }
   ],
   "source": [
    "dev = qml.device('default.qubit', wires=2)\n",
    "\n",
    "@qml.qnode(dev, interface='tf')\n",
    "def circuit(phi, theta):\n",
    "    qml.RX(phi[0], wires=0)\n",
    "    qml.RY(phi[1], wires=1)\n",
    "    qml.CNOT(wires=[0, 1])\n",
    "    qml.PhaseShift(theta, wires=0)\n",
    "    return qml.expval(qml.PauliZ(0))\n",
    "\n",
    "phi = tf.Variable([0.5, 0.1])\n",
    "theta = tf.Variable(0.2)\n",
    "\n",
    "with tf.GradientTape() as tape:\n",
    "    # Use the circuit to calculate the loss value\n",
    "    loss = circuit(phi, theta)\n",
    "\n",
    "phi_grad, theta_grad = tape.gradient(loss, [phi, theta])"
   ]
  },
  {
   "cell_type": "code",
   "execution_count": null,
   "metadata": {},
   "outputs": [],
   "source": []
  }
 ],
 "metadata": {
  "kernelspec": {
   "display_name": "PennyLane",
   "language": "python",
   "name": "python3"
  },
  "language_info": {
   "codemirror_mode": {
    "name": "ipython",
    "version": 3
   },
   "file_extension": ".py",
   "mimetype": "text/x-python",
   "name": "python",
   "nbconvert_exporter": "python",
   "pygments_lexer": "ipython3",
   "version": "3.10.12"
  },
  "orig_nbformat": 4
 },
 "nbformat": 4,
 "nbformat_minor": 2
}
